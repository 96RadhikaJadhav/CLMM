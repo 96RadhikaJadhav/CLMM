{
 "cells": [
  {
   "cell_type": "code",
   "execution_count": null,
   "metadata": {},
   "outputs": [],
   "source": [
    "import sys \n",
    "import numpy as np\n",
    "import colossus.cosmology.cosmology as Cosmology\n",
    "import matplotlib.pyplot as plt\n",
    "from astropy.table import Table"
   ]
  },
  {
   "cell_type": "markdown",
   "metadata": {},
   "source": [
    "### Import mock data module and setup the configuration "
   ]
  },
  {
   "cell_type": "code",
   "execution_count": null,
   "metadata": {},
   "outputs": [],
   "source": [
    "import clmm.mock_data as mock"
   ]
  },
  {
   "cell_type": "code",
   "execution_count": null,
   "metadata": {},
   "outputs": [],
   "source": [
    "config={}\n",
    "config['cluster_m'] = 1.e15\n",
    "config['cluster_z'] = 0.3\n",
    "config['src_z'] = 0.8\n",
    "config['concentration'] = 4\n",
    "config['cosmo'] = 'WMAP7-ML'\n",
    "config['ngals'] = 10000\n",
    "config['mdef'] = '200c'\n",
    "\n",
    "my_data = mock.MockData(config=config)"
   ]
  },
  {
   "cell_type": "markdown",
   "metadata": {},
   "source": [
    "### Generate the mock catalog from the configuration"
   ]
  },
  {
   "cell_type": "code",
   "execution_count": null,
   "metadata": {},
   "outputs": [],
   "source": [
    "my_data.generate()\n",
    "my_data.catalog"
   ]
  },
  {
   "cell_type": "markdown",
   "metadata": {},
   "source": [
    "### Compute and plot shear profile"
   ]
  },
  {
   "cell_type": "code",
   "execution_count": null,
   "metadata": {},
   "outputs": [],
   "source": [
    "from clmm import ShearAzimuthalAverager"
   ]
  },
  {
   "cell_type": "code",
   "execution_count": null,
   "metadata": {},
   "outputs": [],
   "source": [
    "cl_dict = {'z':config['cluster_z'], 'ra':0.0, 'dec': 0.0}\n",
    "saa = ShearAzimuthalAverager(cl_dict,my_data.catalog)\n",
    "saa.compute_shear()\n",
    "shear_prof = saa.make_shear_profile()\n",
    "saa.plot_profile()\n",
    "plt.show()"
   ]
  }
 ],
 "metadata": {
  "kernelspec": {
   "display_name": "desc-clmassmod",
   "language": "python",
   "name": "desc-clmassmod"
  },
  "language_info": {
   "codemirror_mode": {
    "name": "ipython",
    "version": 3
   },
   "file_extension": ".py",
   "mimetype": "text/x-python",
   "name": "python",
   "nbconvert_exporter": "python",
   "pygments_lexer": "ipython3",
   "version": "3.6.2"
  }
 },
 "nbformat": 4,
 "nbformat_minor": 2
}
