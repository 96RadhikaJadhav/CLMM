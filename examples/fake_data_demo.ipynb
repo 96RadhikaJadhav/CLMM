{
 "cells": [
  {
   "cell_type": "markdown",
   "metadata": {},
   "source": [
    "### Author: Celine Combet\n",
    "### Date Created: 5 Oct 2018\n",
    "## This example jupyer notebook uses clmm code to generate mock data with a set of configuration parmeters, producing a catalog of ideal and noisy example data."
   ]
  },
  {
   "cell_type": "code",
   "execution_count": 1,
   "metadata": {
    "collapsed": true
   },
   "outputs": [],
   "source": [
    "import matplotlib.pyplot as plt\n",
    "%matplotlib inline"
   ]
  },
  {
   "cell_type": "markdown",
   "metadata": {},
   "source": [
    "### Import mock data module and setup the configuration "
   ]
  },
  {
   "cell_type": "code",
   "execution_count": 2,
   "metadata": {
    "collapsed": true
   },
   "outputs": [],
   "source": [
    "import clmm.mock_data as mock"
   ]
  },
  {
   "cell_type": "markdown",
   "metadata": {},
   "source": [
    "### Mock data generation requires a config dictionary"
   ]
  },
  {
   "cell_type": "code",
   "execution_count": 3,
   "metadata": {
    "collapsed": true
   },
   "outputs": [],
   "source": [
    "config={}\n",
    "config['cluster_m'] = 1.e15\n",
    "config['cluster_z'] = 0.3\n",
    "config['src_z'] = 0.8\n",
    "config['concentration'] = 4\n",
    "config['cosmo'] = 'WMAP7-ML'\n",
    "config['ngals'] = 10000\n",
    "config['mdef'] = '200c'\n",
    "\n",
    "ideal_data = mock.MockData(config=config)\n",
    "noisy_data = mock.MockData(config=config)\n",
    "noisy_data_z = mock.MockData(config=config)"
   ]
  },
  {
   "cell_type": "markdown",
   "metadata": {},
   "source": [
    "### Generate the mock catalog from the configuration. Consider 3 examples of increasing complexity:\n",
    "* Ideal data, no noise, all galaxies at the same redshift\n",
    "* Noisy data, including shape noise and redshift error, all galaxies at the same redshift\n",
    "* Noisy data, galaxies following redshift distribution, redshift error, shape noise"
   ]
  },
  {
   "cell_type": "code",
   "execution_count": 4,
   "metadata": {
    "collapsed": true
   },
   "outputs": [],
   "source": [
    "ideal_data.generate()\n",
    "noisy_data.generate(is_shapenoise=True, shapenoise=0.005, is_zerr=True)\n",
    "noisy_data_z.generate(is_shapenoise=True, is_zdistribution=True, is_zerr=True)\n"
   ]
  },
  {
   "cell_type": "markdown",
   "metadata": {},
   "source": [
    "#### Ideal catalog first entries: no noise on the shape measurement, all galaxies at z=0.3"
   ]
  },
  {
   "cell_type": "code",
   "execution_count": 5,
   "metadata": {},
   "outputs": [
    {
     "data": {
      "text/html": [
       "<i>Table length=5</i>\n",
       "<table id=\"table46913360055824\" class=\"table-striped table-bordered table-condensed\">\n",
       "<thead><tr><th>id</th><th>ra</th><th>dec</th><th>gamma1</th><th>gamma2</th><th>z</th></tr></thead>\n",
       "<thead><tr><th>int64</th><th>float64</th><th>float64</th><th>float64</th><th>float64</th><th>float64</th></tr></thead>\n",
       "<tr><td>0</td><td>-0.352411738251</td><td>0.343889548001</td><td>-8.66255884861e-05</td><td>-0.00353832004624</td><td>0.8</td></tr>\n",
       "<tr><td>1</td><td>0.264459250493</td><td>0.0915260687199</td><td>-0.00631104092419</td><td>0.00496276994389</td><td>0.8</td></tr>\n",
       "<tr><td>2</td><td>-0.0304992422297</td><td>0.351405403389</td><td>0.00570043830812</td><td>-0.000997017390008</td><td>0.8</td></tr>\n",
       "<tr><td>3</td><td>0.272485886408</td><td>0.278580322018</td><td>0.000110758362651</td><td>0.00500683982067</td><td>0.8</td></tr>\n",
       "<tr><td>4</td><td>-0.351084779076</td><td>0.34520643353</td><td>-5.97620650139e-05</td><td>-0.00353916204532</td><td>0.8</td></tr>\n",
       "</table>"
      ],
      "text/plain": [
       "<Table length=5>\n",
       "  id         ra              dec       ...       gamma2          z   \n",
       "int64     float64          float64     ...      float64       float64\n",
       "----- ---------------- --------------- ... ------------------ -------\n",
       "    0  -0.352411738251  0.343889548001 ...  -0.00353832004624     0.8\n",
       "    1   0.264459250493 0.0915260687199 ...   0.00496276994389     0.8\n",
       "    2 -0.0304992422297  0.351405403389 ... -0.000997017390008     0.8\n",
       "    3   0.272485886408  0.278580322018 ...   0.00500683982067     0.8\n",
       "    4  -0.351084779076   0.34520643353 ...  -0.00353916204532     0.8"
      ]
     },
     "execution_count": 5,
     "metadata": {},
     "output_type": "execute_result"
    }
   ],
   "source": [
    "ideal_data.catalog[0:5]"
   ]
  },
  {
   "cell_type": "markdown",
   "metadata": {},
   "source": [
    "#### More realistic catalog: noise has been added on the shape measurement, galaxies follow some photoz distribution, gaussian pdf for each photoz is also provided (along with corresponding bins)"
   ]
  },
  {
   "cell_type": "code",
   "execution_count": 6,
   "metadata": {},
   "outputs": [
    {
     "data": {
      "text/html": [
       "<i>Table length=2</i>\n",
       "<table id=\"table46912602366248\" class=\"table-striped table-bordered table-condensed\">\n",
       "<thead><tr><th>id</th><th>ra</th><th>dec</th><th>gamma1</th><th>gamma2</th><th>z</th><th>z_pdf [34]</th><th>z_bins [34]</th></tr></thead>\n",
       "<thead><tr><th>int64</th><th>float64</th><th>float64</th><th>float64</th><th>float64</th><th>float64</th><th>float64</th><th>float64</th></tr></thead>\n",
       "<tr><td>0</td><td>0.0312199185857</td><td>-0.149071752887</td><td>0.0222385121112</td><td>-0.009742060797</td><td>2.03354371317</td><td>0.011489630439 .. 0.0142478566251</td><td>1.53354371317 .. 2.52354371317</td></tr>\n",
       "<tr><td>1</td><td>0.293631283764</td><td>0.025579645636</td><td>-0.00249465917144</td><td>0.000437967459643</td><td>2.6753903463</td><td>0.0535981673527 .. 0.0620592341436</td><td>2.1753903463 .. 3.1653903463</td></tr>\n",
       "</table>"
      ],
      "text/plain": [
       "<Table length=2>\n",
       "  id         ra       ...          z_bins [34]          \n",
       "int64     float64     ...            float64            \n",
       "----- --------------- ... ------------------------------\n",
       "    0 0.0312199185857 ... 1.53354371317 .. 2.52354371317\n",
       "    1  0.293631283764 ...   2.1753903463 .. 3.1653903463"
      ]
     },
     "execution_count": 6,
     "metadata": {},
     "output_type": "execute_result"
    }
   ],
   "source": [
    "noisy_data_z.catalog[0:2]"
   ]
  },
  {
   "cell_type": "code",
   "execution_count": 7,
   "metadata": {},
   "outputs": [
    {
     "data": {
      "image/png": "[encoded data removed]",
      "text/plain": [
       "<Figure size 432x288 with 1 Axes>"
      ]
     },
     "metadata": {
      "needs_background": "light"
     },
     "output_type": "display_data"
    }
   ],
   "source": [
    "# Histogram of the redshift distribution of bkg galaxies (starting at z_cluster + 0.1)\n",
    "hist = plt.hist(noisy_data_z.catalog['z'], bins=50)"
   ]
  },
  {
   "cell_type": "code",
   "execution_count": 8,
   "metadata": {},
   "outputs": [
    {
     "data": {
      "text/plain": [
       "[<matplotlib.lines.Line2D at 0x2aaadf7f8278>]"
      ]
     },
     "execution_count": 8,
     "metadata": {},
     "output_type": "execute_result"
    },
    {
     "data": {
      "image/png": "[encoded data removed]",
      "text/plain": [
       "<Figure size 432x288 with 1 Axes>"
      ]
     },
     "metadata": {
      "needs_background": "light"
     },
     "output_type": "display_data"
    }
   ],
   "source": [
    "# pdz for the first galaxy in the catalog\n",
    "plt.plot(noisy_data_z.catalog['z_bins'][0],noisy_data_z.catalog['z_pdf'][0])"
   ]
  },
  {
   "cell_type": "markdown",
   "metadata": {},
   "source": [
    "### Compute and plot shear profile"
   ]
  },
  {
   "cell_type": "code",
   "execution_count": 9,
   "metadata": {
    "collapsed": true
   },
   "outputs": [],
   "source": [
    "from clmm import ShearAzimuthalAverager"
   ]
  },
  {
   "cell_type": "code",
   "execution_count": 10,
   "metadata": {},
   "outputs": [
    {
     "name": "stderr",
     "output_type": "stream",
     "text": [
      "/global/common/cori/software/python/3.6-anaconda-5.2/lib/python3.6/site-packages/astropy/table/row.py:65: FutureWarning: elementwise == comparison failed and returning scalar instead; this will raise an error or perform elementwise comparison in the future.\n",
      "  return self.as_void() == other\n"
     ]
    },
    {
     "name": "stdout",
     "output_type": "stream",
     "text": [
      "read g1, g2 directly\n",
      "read g1, g2 directly\n",
      "read g1, g2 directly\n"
     ]
    },
    {
     "data": {
      "text/html": [
       "<i>Table length=9</i>\n",
       "<table id=\"table46913352724832\" class=\"table-striped table-bordered table-condensed\">\n",
       "<thead><tr><th>radius</th><th>ang_separation</th><th>g_t</th><th>g_x</th><th>g_t_err</th><th>g_x_err</th></tr></thead>\n",
       "<thead><tr><th>Mpc</th><th>rad</th><th></th><th></th><th></th><th></th></tr></thead>\n",
       "<thead><tr><th>float64</th><th>float64</th><th>float64</th><th>float64</th><th>float64</th><th>float64</th></tr></thead>\n",
       "<tr><td>0.88362214629</td><td>0.000961747991228</td><td>0.056837797453</td><td>2.02265075103e-19</td><td>0.0155562787027</td><td>7.33278108829e-18</td></tr>\n",
       "<tr><td>1.11905835013</td><td>0.0012180003917</td><td>0.0462946442651</td><td>6.31246598203e-19</td><td>0.0122606672337</td><td>7.27654269432e-18</td></tr>\n",
       "<tr><td>1.37667641963</td><td>0.00149839587737</td><td>0.0356829133889</td><td>-2.00746808499e-20</td><td>0.00999142125849</td><td>5.79247301255e-18</td></tr>\n",
       "<tr><td>1.6280748581</td><td>0.00177202182055</td><td>0.0307806895675</td><td>-1.15956744545e-19</td><td>0.00921097996119</td><td>5.16796818877e-18</td></tr>\n",
       "<tr><td>1.88004337508</td><td>0.00204626824598</td><td>0.0262463993341</td><td>3.09834503324e-19</td><td>0.00790644951748</td><td>5.17006512212e-18</td></tr>\n",
       "<tr><td>2.12792048396</td><td>0.00231606151966</td><td>0.0230539209921</td><td>-3.28980969166e-20</td><td>0.00704983430551</td><td>3.42742683015e-18</td></tr>\n",
       "<tr><td>2.37371965789</td><td>0.00258359313684</td><td>0.0200138870661</td><td>-2.448198454e-20</td><td>0.00727409652772</td><td>2.47863652688e-18</td></tr>\n",
       "<tr><td>2.62833418257</td><td>0.00286071951793</td><td>0.0175313399938</td><td>-5.5957784199e-20</td><td>0.00685577567971</td><td>3.12548194257e-18</td></tr>\n",
       "<tr><td>2.87004598747</td><td>0.00312380237952</td><td>0.0162719820589</td><td>1.06730950408e-19</td><td>0.00605652699183</td><td>2.81148046904e-18</td></tr>\n",
       "</table>"
      ],
      "text/plain": [
       "<Table length=9>\n",
       "    radius      ang_separation  ...     g_t_err           g_x_err     \n",
       "     Mpc             rad        ...                                   \n",
       "   float64         float64      ...     float64           float64     \n",
       "------------- ----------------- ... ---------------- -----------------\n",
       "0.88362214629 0.000961747991228 ...  0.0155562787027 7.33278108829e-18\n",
       "1.11905835013   0.0012180003917 ...  0.0122606672337 7.27654269432e-18\n",
       "1.37667641963  0.00149839587737 ... 0.00999142125849 5.79247301255e-18\n",
       " 1.6280748581  0.00177202182055 ... 0.00921097996119 5.16796818877e-18\n",
       "1.88004337508  0.00204626824598 ... 0.00790644951748 5.17006512212e-18\n",
       "2.12792048396  0.00231606151966 ... 0.00704983430551 3.42742683015e-18\n",
       "2.37371965789  0.00258359313684 ... 0.00727409652772 2.47863652688e-18\n",
       "2.62833418257  0.00286071951793 ... 0.00685577567971 3.12548194257e-18\n",
       "2.87004598747  0.00312380237952 ... 0.00605652699183 2.81148046904e-18"
      ]
     },
     "execution_count": 10,
     "metadata": {},
     "output_type": "execute_result"
    }
   ],
   "source": [
    "cl_dict = {'z':config['cluster_z'], 'ra':0.0, 'dec': 0.0}\n",
    "\n",
    "saa_ideal = ShearAzimuthalAverager(cl_dict,ideal_data.catalog)\n",
    "saa_noisy = ShearAzimuthalAverager(cl_dict,noisy_data.catalog)\n",
    "saa_noisy_z = ShearAzimuthalAverager(cl_dict,noisy_data_z.catalog)\n",
    "\n",
    "\n",
    "saa_ideal.compute_shear()\n",
    "saa_noisy.compute_shear()\n",
    "saa_noisy_z.compute_shear()\n",
    "\n",
    "saa_ideal.make_shear_profile()\n",
    "saa_noisy.make_shear_profile()\n",
    "saa_noisy_z.make_shear_profile()"
   ]
  },
  {
   "cell_type": "code",
   "execution_count": 11,
   "metadata": {},
   "outputs": [
    {
     "data": {
      "image/png": "[encoded data removed]",
      "text/plain": [
       "<Figure size 432x288 with 1 Axes>"
      ]
     },
     "metadata": {
      "needs_background": "light"
     },
     "output_type": "display_data"
    }
   ],
   "source": [
    "# Ideal data\n",
    "saa_ideal.plot_profile()"
   ]
  },
  {
   "cell_type": "code",
   "execution_count": 12,
   "metadata": {},
   "outputs": [
    {
     "data": {
      "image/png": "[encoded data removed]",
      "text/plain": [
       "<Figure size 432x288 with 1 Axes>"
      ]
     },
     "metadata": {
      "needs_background": "light"
     },
     "output_type": "display_data"
    }
   ],
   "source": [
    "# Noisy data, all galaxies at the same redshift\n",
    "saa_noisy.plot_profile()"
   ]
  },
  {
   "cell_type": "code",
   "execution_count": 13,
   "metadata": {},
   "outputs": [
    {
     "data": {
      "image/png": "[encoded data removed]",
      "text/plain": [
       "<Figure size 432x288 with 1 Axes>"
      ]
     },
     "metadata": {
      "needs_background": "light"
     },
     "output_type": "display_data"
    }
   ],
   "source": [
    "# Noisy data, galaxies following redshift distribution\n",
    "saa_noisy_z.plot_profile()"
   ]
  },
  {
   "cell_type": "code",
   "execution_count": null,
   "metadata": {},
   "outputs": [],
   "source": []
  }
 ],
 "metadata": {
  "anaconda-cloud": {},
  "kernelspec": {
   "display_name": "Python [default]",
   "language": "python",
   "name": "python3"
  },
  "language_info": {
   "codemirror_mode": {
    "name": "ipython",
    "version": 3
   },
   "file_extension": ".py",
   "mimetype": "text/x-python",
   "name": "python",
   "nbconvert_exporter": "python",
   "pygments_lexer": "ipython3",
   "version": "3.6.8"
  }
 },
 "nbformat": 4,
 "nbformat_minor": 2
}
