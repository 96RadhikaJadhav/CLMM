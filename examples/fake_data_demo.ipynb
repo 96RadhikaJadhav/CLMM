{
 "cells": [
  {
   "cell_type": "code",
   "execution_count": null,
   "metadata": {
    "collapsed": true
   },
   "outputs": [],
   "source": [
    "import matplotlib.pyplot as plt"
   ]
  },
  {
   "cell_type": "markdown",
   "metadata": {},
   "source": [
    "### Import mock data module and setup the configuration "
   ]
  },
  {
   "cell_type": "code",
   "execution_count": null,
   "metadata": {
    "collapsed": true
   },
   "outputs": [],
   "source": [
    "import clmm.mock_data as mock"
   ]
  },
  {
   "cell_type": "code",
   "execution_count": null,
   "metadata": {
    "collapsed": true
   },
   "outputs": [],
   "source": [
    "config={}\n",
    "config['cluster_m'] = 1.e15\n",
    "config['cluster_z'] = 0.3\n",
    "config['src_z'] = 0.8\n",
    "config['concentration'] = 4\n",
    "config['cosmo'] = 'WMAP7-ML'\n",
    "config['ngals'] = 10000\n",
    "config['mdef'] = '200c'\n",
    "\n",
    "ideal_data = mock.MockData(config=config)\n",
    "noisy_data = mock.MockData(config=config)"
   ]
  },
  {
   "cell_type": "markdown",
   "metadata": {},
   "source": [
    "### Generate the mock catalog from the configuration\n",
    "* Ideal data\n",
    "* Noisy data, including shape noise and redshift error"
   ]
  },
  {
   "cell_type": "code",
   "execution_count": null,
   "metadata": {
    "collapsed": true
   },
   "outputs": [],
   "source": [
    "ideal_data.generate()\n",
    "noisy_data.generate(is_shapenoise=True, is_zerr=True)"
   ]
  },
  {
   "cell_type": "code",
   "execution_count": null,
   "metadata": {},
   "outputs": [],
   "source": [
    "ideal_data.catalog"
   ]
  },
  {
   "cell_type": "code",
   "execution_count": null,
   "metadata": {
    "collapsed": true
   },
   "outputs": [],
   "source": [
    "#### Noisy data table has"
   ]
  },
  {
   "cell_type": "code",
   "execution_count": null,
   "metadata": {},
   "outputs": [],
   "source": [
    "noisy_data.catalog"
   ]
  },
  {
   "cell_type": "markdown",
   "metadata": {},
   "source": [
    "### Compute and plot shear profile"
   ]
  },
  {
   "cell_type": "code",
   "execution_count": null,
   "metadata": {
    "collapsed": true
   },
   "outputs": [],
   "source": [
    "from clmm import ShearAzimuthalAverager"
   ]
  },
  {
   "cell_type": "code",
   "execution_count": null,
   "metadata": {},
   "outputs": [],
   "source": [
    "cl_dict = {'z':config['cluster_z'], 'ra':0.0, 'dec': 0.0}\n",
    "saa_ideal = ShearAzimuthalAverager(cl_dict,ideal_data.catalog)\n",
    "saa_noisy = ShearAzimuthalAverager(cl_dict,noisy_data.catalog)\n",
    "saa_ideal.compute_shear()\n",
    "saa_noisy.compute_shear()\n",
    "saa_ideal.make_shear_profile()\n",
    "saa_noisy.make_shear_profile()\n",
    "\n",
    "%matplotlib inline\n",
    "saa_ideal.plot_profile()\n"
   ]
  },
  {
   "cell_type": "code",
   "execution_count": null,
   "metadata": {},
   "outputs": [],
   "source": [
    "saa_noisy.plot_profile()"
   ]
  },
  {
   "cell_type": "code",
   "execution_count": null,
   "metadata": {
    "collapsed": true
   },
   "outputs": [],
   "source": []
  }
 ],
 "metadata": {
  "kernelspec": {
   "display_name": "Python 3",
   "language": "python",
   "name": "python3"
  },
  "language_info": {
   "codemirror_mode": {
    "name": "ipython",
    "version": 3
   },
   "file_extension": ".py",
   "mimetype": "text/x-python",
   "name": "python",
   "nbconvert_exporter": "python",
   "pygments_lexer": "ipython3",
   "version": "3.6.3"
  }
 },
 "nbformat": 4,
 "nbformat_minor": 2
}
