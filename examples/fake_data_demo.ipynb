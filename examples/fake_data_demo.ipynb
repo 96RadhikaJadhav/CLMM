{
 "cells": [
  {
   "cell_type": "markdown",
   "metadata": {},
   "source": [
    "### Author: Celine Combet\n",
    "### Date Created: 5 Oct 2018\n",
    "## This example jupyer notebook uses clmm code to generate mock data with a set of configuration parmeters, producing a catalog of ideal and noisy example data."
   ]
  },
  {
   "cell_type": "code",
   "execution_count": 1,
   "metadata": {
    "collapsed": true
   },
   "outputs": [],
   "source": [
    "import matplotlib.pyplot as plt\n",
    "%matplotlib inline"
   ]
  },
  {
   "cell_type": "markdown",
   "metadata": {},
   "source": [
    "### Import mock data module and setup the configuration "
   ]
  },
  {
   "cell_type": "code",
   "execution_count": 2,
   "metadata": {
    "collapsed": true
   },
   "outputs": [],
   "source": [
    "import clmm.mock_data as mock"
   ]
  },
  {
   "cell_type": "markdown",
   "metadata": {},
   "source": [
    "### Mock data generation requires a config dictionary"
   ]
  },
  {
   "cell_type": "code",
   "execution_count": 3,
   "metadata": {
    "collapsed": true
   },
   "outputs": [],
   "source": [
    "config={}\n",
    "config['cluster_m'] = 1.e15\n",
    "config['cluster_z'] = 0.3\n",
    "config['src_z'] = 0.8\n",
    "config['concentration'] = 4\n",
    "config['cosmo'] = 'WMAP7-ML'\n",
    "config['ngals'] = 10000\n",
    "config['mdef'] = '200c'\n",
    "\n",
    "ideal_data = mock.MockData(config=config)\n",
    "noisy_data = mock.MockData(config=config)\n",
    "noisy_data_z = mock.MockData(config=config)"
   ]
  },
  {
   "cell_type": "markdown",
   "metadata": {},
   "source": [
    "### Generate the mock catalog from the configuration. Consider 3 examples of increasing complexity:\n",
    "* Ideal data, no noise, all galaxies at the same redshift\n",
    "* Noisy data, including shape noise and redshift error, all galaxies at the same redshift\n",
    "* Noisy data, galaxies following redshift distribution, redshift error, shape noise"
   ]
  },
  {
   "cell_type": "code",
   "execution_count": 4,
   "metadata": {
    "collapsed": true
   },
   "outputs": [],
   "source": [
    "ideal_data.generate()\n",
    "noisy_data.generate(is_shapenoise=True, shapenoise=0.005, is_zerr=True)\n",
    "noisy_data_z.generate(is_shapenoise=True, is_zdistribution=True, is_zerr=True)\n"
   ]
  },
  {
   "cell_type": "markdown",
   "metadata": {},
   "source": [
    "#### Ideal catalog first entries: no noise on the shape measurement, all galaxies at z=0.3"
   ]
  },
  {
   "cell_type": "code",
   "execution_count": 5,
   "metadata": {},
   "outputs": [
    {
     "data": {
      "text/html": [
       "&lt;Table length=5&gt;\n",
       "<table id=\"table140473421595648\" class=\"table-striped table-bordered table-condensed\">\n",
       "<thead><tr><th>id</th><th>ra</th><th>dec</th><th>gamma1</th><th>gamma2</th><th>z</th></tr></thead>\n",
       "<thead><tr><th>int64</th><th>float64</th><th>float64</th><th>float64</th><th>float64</th><th>float64</th></tr></thead>\n",
       "<tr><td>0</td><td>-0.137526624060256</td><td>-0.13728115104177271</td><td>-2.3398298069120823e-05</td><td>0.013097221728771355</td><td>0.8</td></tr>\n",
       "<tr><td>1</td><td>-0.24305217408610075</td><td>-0.07180064400541425</td><td>-0.007724828099632183</td><td>0.005000398589606323</td><td>0.8</td></tr>\n",
       "<tr><td>2</td><td>0.10644592463689134</td><td>-0.2857112992790776</td><td>0.005385734702422422</td><td>-0.004659880445855005</td><td>0.8</td></tr>\n",
       "<tr><td>3</td><td>-0.0045983296723823034</td><td>-0.17989024610868354</td><td>0.014433592747523339</td><td>0.0007383814811129284</td><td>0.8</td></tr>\n",
       "<tr><td>4</td><td>0.04185467347424008</td><td>0.009825808290706563</td><td>-0.05566649738120958</td><td>0.027661009834693582</td><td>0.8</td></tr>\n",
       "</table>"
      ],
      "text/plain": [
       "<Table length=5>\n",
       "  id            ra           ...         gamma2           z   \n",
       "int64        float64         ...        float64        float64\n",
       "----- ---------------------- ... --------------------- -------\n",
       "    0     -0.137526624060256 ...  0.013097221728771355     0.8\n",
       "    1   -0.24305217408610075 ...  0.005000398589606323     0.8\n",
       "    2    0.10644592463689134 ... -0.004659880445855005     0.8\n",
       "    3 -0.0045983296723823034 ... 0.0007383814811129284     0.8\n",
       "    4    0.04185467347424008 ...  0.027661009834693582     0.8"
      ]
     },
     "execution_count": 5,
     "metadata": {},
     "output_type": "execute_result"
    }
   ],
   "source": [
    "ideal_data.catalog[0:5]"
   ]
  },
  {
   "cell_type": "markdown",
   "metadata": {},
   "source": [
    "#### More realistic catalog: noise has been added on the shape measurement, galaxies follow some photoz distribution, gaussian pdf for each photoz is also provided (along with corresponding bins)"
   ]
  },
  {
   "cell_type": "code",
   "execution_count": 6,
   "metadata": {},
   "outputs": [
    {
     "data": {
      "text/html": [
       "&lt;Table length=2&gt;\n",
       "<table id=\"table140473421559008\" class=\"table-striped table-bordered table-condensed\">\n",
       "<thead><tr><th>id</th><th>ra</th><th>dec</th><th>gamma1</th><th>gamma2</th><th>z</th><th>z_pdf [34]</th><th>z_bins [34]</th></tr></thead>\n",
       "<thead><tr><th>int64</th><th>float64</th><th>float64</th><th>float64</th><th>float64</th><th>float64</th><th>float64</th><th>float64</th></tr></thead>\n",
       "<tr><td>0</td><td>0.2999946793799507</td><td>-0.3291926334024344</td><td>0.0001656234961018439</td><td>-0.001780669117696901</td><td>2.6801395680635154</td><td>0.054042492209141875 .. 0.06255004818640439</td><td>2.1801395680635154 .. 3.170139568063509</td></tr>\n",
       "<tr><td>1</td><td>0.19651731690727836</td><td>0.3429016921342561</td><td>0.0039228728968215745</td><td>0.006695510825471788</td><td>1.2052875596814858</td><td>0.00012400813820371006 .. 0.00018632244016021806</td><td>0.7052875596814858 .. 1.6952875596814867</td></tr>\n",
       "</table>"
      ],
      "text/plain": [
       "<Table length=2>\n",
       "  id           ra         ...               z_bins [34]               \n",
       "int64       float64       ...                 float64                 \n",
       "----- ------------------- ... ----------------------------------------\n",
       "    0  0.2999946793799507 ...  2.1801395680635154 .. 3.170139568063509\n",
       "    1 0.19651731690727836 ... 0.7052875596814858 .. 1.6952875596814867"
      ]
     },
     "execution_count": 6,
     "metadata": {},
     "output_type": "execute_result"
    }
   ],
   "source": [
    "noisy_data_z.catalog[0:2]"
   ]
  },
  {
   "cell_type": "code",
   "execution_count": 7,
   "metadata": {},
   "outputs": [
    {
     "data": {
      "image/png": "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\n",
      "text/plain": [
       "<matplotlib.figure.Figure at 0x7fc20b3d7470>"
      ]
     },
     "metadata": {
      "needs_background": "light"
     },
     "output_type": "display_data"
    }
   ],
   "source": [
    "# Histogram of the redshift distribution of bkg galaxies (starting at z_cluster + 0.1)\n",
    "hist = plt.hist(noisy_data_z.catalog['z'], bins=50)"
   ]
  },
  {
   "cell_type": "code",
   "execution_count": 8,
   "metadata": {},
   "outputs": [
    {
     "data": {
      "text/plain": [
       "[<matplotlib.lines.Line2D at 0x7fc1ffc2e5f8>]"
      ]
     },
     "execution_count": 8,
     "metadata": {},
     "output_type": "execute_result"
    },
    {
     "data": {
      "image/png": "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\n",
      "text/plain": [
       "<matplotlib.figure.Figure at 0x7fc20b2e0080>"
      ]
     },
     "metadata": {
      "needs_background": "light"
     },
     "output_type": "display_data"
    }
   ],
   "source": [
    "# pdz for the first galaxy in the catalog\n",
    "plt.plot(noisy_data_z.catalog['z_bins'][0],noisy_data_z.catalog['z_pdf'][0])"
   ]
  },
  {
   "cell_type": "markdown",
   "metadata": {},
   "source": [
    "### Compute and plot shear profile"
   ]
  },
  {
   "cell_type": "code",
   "execution_count": 9,
   "metadata": {
    "collapsed": true
   },
   "outputs": [],
   "source": [
    "from clmm import ShearAzimuthalAverager"
   ]
  },
  {
   "cell_type": "code",
   "execution_count": 10,
   "metadata": {},
   "outputs": [
    {
     "name": "stderr",
     "output_type": "stream",
     "text": [
      "/pbs/throng/lsst/software/desc/python/miniconda3/lib/python3.6/site-packages/astropy/table/row.py:56: FutureWarning: elementwise == comparison failed and returning scalar instead; this will raise an error or perform elementwise comparison in the future.\n",
      "  return self.as_void() == other\n"
     ]
    },
    {
     "name": "stdout",
     "output_type": "stream",
     "text": [
      "read g1, g2 directly\n",
      "read g1, g2 directly\n",
      "read g1, g2 directly\n"
     ]
    },
    {
     "data": {
      "text/html": [
       "&lt;Table length=9&gt;\n",
       "<table id=\"table140471196852352\" class=\"table-striped table-bordered table-condensed\">\n",
       "<thead><tr><th>radius</th><th>ang_separation</th><th>g_t</th><th>g_x</th><th>g_t_err</th><th>g_x_err</th></tr></thead>\n",
       "<thead><tr><th>Mpc</th><th>rad</th><th></th><th></th><th></th><th></th></tr></thead>\n",
       "<thead><tr><th>float64</th><th>float64</th><th>float64</th><th>float64</th><th>float64</th><th>float64</th></tr></thead>\n",
       "<tr><td>0.9017997886526494</td><td>0.0009815328179217</td><td>0.05496521665440026</td><td>-1.0693092855008135e-19</td><td>0.015363576198034181</td><td>8.104868336097636e-18</td></tr>\n",
       "<tr><td>1.1224195948513358</td><td>0.0012216588223767136</td><td>0.04298439358452623</td><td>-5.561145837102519e-19</td><td>0.012859645382738158</td><td>8.534620722762276e-18</td></tr>\n",
       "<tr><td>1.385509610078188</td><td>0.0015080100582740856</td><td>0.037476749173640855</td><td>3.0169103930031427e-19</td><td>0.009435612583147483</td><td>4.837674950408723e-18</td></tr>\n",
       "<tr><td>1.6295039429714022</td><td>0.0017735772585940298</td><td>0.03054986223993957</td><td>-1.153267935877009e-19</td><td>0.009272621814906042</td><td>5.132912396851467e-18</td></tr>\n",
       "<tr><td>1.8772790335625844</td><td>0.0020432594939847975</td><td>0.026322936538885455</td><td>3.3055638714697236e-20</td><td>0.008964182688860341</td><td>3.1968489557234955e-18</td></tr>\n",
       "<tr><td>2.1311458764869786</td><td>0.002319572086699812</td><td>0.022605158773333477</td><td>-1.4781093204782e-19</td><td>0.008547164658759073</td><td>3.3236686113111236e-18</td></tr>\n",
       "<tr><td>2.3802956328124414</td><td>0.002590750529506956</td><td>0.01974382540453168</td><td>3.3539987305657826e-19</td><td>0.007503745970420468</td><td>3.931585560339606e-18</td></tr>\n",
       "<tr><td>2.6291491836075283</td><td>0.002861606577640057</td><td>0.017631683946714688</td><td>1.1036259899078832e-19</td><td>0.006630963052206451</td><td>3.510123682244467e-18</td></tr>\n",
       "<tr><td>2.884130190142449</td><td>0.0031391318432365993</td><td>0.01564472846996277</td><td>2.5175235284631604e-19</td><td>0.00622210897148345</td><td>2.698953885589535e-18</td></tr>\n",
       "</table>"
      ],
      "text/plain": [
       "<Table length=9>\n",
       "      radius           ang_separation    ...        g_x_err        \n",
       "       Mpc                  rad          ...                       \n",
       "     float64              float64        ...        float64        \n",
       "------------------ --------------------- ... ----------------------\n",
       "0.9017997886526494    0.0009815328179217 ...  8.104868336097636e-18\n",
       "1.1224195948513358 0.0012216588223767136 ...  8.534620722762276e-18\n",
       " 1.385509610078188 0.0015080100582740856 ...  4.837674950408723e-18\n",
       "1.6295039429714022 0.0017735772585940298 ...  5.132912396851467e-18\n",
       "1.8772790335625844 0.0020432594939847975 ... 3.1968489557234955e-18\n",
       "2.1311458764869786  0.002319572086699812 ... 3.3236686113111236e-18\n",
       "2.3802956328124414  0.002590750529506956 ...  3.931585560339606e-18\n",
       "2.6291491836075283  0.002861606577640057 ...  3.510123682244467e-18\n",
       " 2.884130190142449 0.0031391318432365993 ...  2.698953885589535e-18"
      ]
     },
     "execution_count": 10,
     "metadata": {},
     "output_type": "execute_result"
    }
   ],
   "source": [
    "cl_dict = {'z':config['cluster_z'], 'ra':0.0, 'dec': 0.0}\n",
    "\n",
    "saa_ideal = ShearAzimuthalAverager(cl_dict,ideal_data.catalog)\n",
    "saa_noisy = ShearAzimuthalAverager(cl_dict,noisy_data.catalog)\n",
    "saa_noisy_z = ShearAzimuthalAverager(cl_dict,noisy_data_z.catalog)\n",
    "\n",
    "\n",
    "saa_ideal.compute_shear()\n",
    "saa_noisy.compute_shear()\n",
    "saa_noisy_z.compute_shear()\n",
    "\n",
    "saa_ideal.make_shear_profile()\n",
    "saa_noisy.make_shear_profile()\n",
    "saa_noisy_z.make_shear_profile()"
   ]
  },
  {
   "cell_type": "code",
   "execution_count": 11,
   "metadata": {},
   "outputs": [
    {
     "data": {
      "image/png": "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\n",
      "text/plain": [
       "<matplotlib.figure.Figure at 0x7fc1ffc94160>"
      ]
     },
     "metadata": {
      "needs_background": "light"
     },
     "output_type": "display_data"
    }
   ],
   "source": [
    "# Ideal data\n",
    "saa_ideal.plot_profile()"
   ]
  },
  {
   "cell_type": "code",
   "execution_count": 12,
   "metadata": {},
   "outputs": [
    {
     "data": {
      "image/png": "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\n",
      "text/plain": [
       "<matplotlib.figure.Figure at 0x7fc1ffc944a8>"
      ]
     },
     "metadata": {
      "needs_background": "light"
     },
     "output_type": "display_data"
    }
   ],
   "source": [
    "# Noisy data, all galaxies at the same redshift\n",
    "saa_noisy.plot_profile()"
   ]
  },
  {
   "cell_type": "code",
   "execution_count": 13,
   "metadata": {},
   "outputs": [
    {
     "data": {
      "image/png": "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\n",
      "text/plain": [
       "<matplotlib.figure.Figure at 0x7fc1ffa3c208>"
      ]
     },
     "metadata": {
      "needs_background": "light"
     },
     "output_type": "display_data"
    }
   ],
   "source": [
    "# Noisy data, galaxies following redshift distribution\n",
    "saa_noisy_z.plot_profile()"
   ]
  },
  {
   "cell_type": "code",
   "execution_count": null,
   "metadata": {},
   "outputs": [],
   "source": []
  }
 ],
 "metadata": {
  "anaconda-cloud": {},
  "kernelspec": {
   "display_name": "Python [default]",
   "language": "python",
   "name": "python3"
  },
  "language_info": {
   "codemirror_mode": {
    "name": "ipython",
    "version": 3
   },
   "file_extension": ".py",
   "mimetype": "text/x-python",
   "name": "python",
   "nbconvert_exporter": "python",
   "pygments_lexer": "ipython3",
<<<<<<< HEAD
   "version": "3.6.8"
=======
   "version": "3.6.6"
>>>>>>> base/master
  }
 },
 "nbformat": 4,
 "nbformat_minor": 2
}
