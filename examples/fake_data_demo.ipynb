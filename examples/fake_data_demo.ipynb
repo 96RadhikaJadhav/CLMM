{
 "cells": [
  {
   "cell_type": "markdown",
   "metadata": {},
   "source": [
    "### Author: Celine Combet\n",
    "### Date Created: 5 Oct 2018\n",
    "## This example jupyer notebook uses clmm code to generate mock data with a set of configuration parmeters, producing a catalog of ideal and noisy example data."
   ]
  },
  {
   "cell_type": "code",
   "execution_count": null,
   "metadata": {
    "collapsed": true
   },
   "outputs": [],
   "source": [
    "import matplotlib.pyplot as plt\n",
    "%matplotlib inline"
   ]
  },
  {
   "cell_type": "markdown",
   "metadata": {},
   "source": [
    "### Import mock data module and setup the configuration "
   ]
  },
  {
   "cell_type": "code",
   "execution_count": null,
   "metadata": {
    "collapsed": true
   },
   "outputs": [],
   "source": [
    "import clmm.mock_data as mock\n",
    "from clmm import datatypes"
   ]
  },
  {
   "cell_type": "markdown",
   "metadata": {},
   "source": [
    "### Mock data generation requires a config dictionary"
   ]
  },
  {
   "cell_type": "code",
   "execution_count": null,
   "metadata": {
    "collapsed": true
   },
   "outputs": [],
   "source": [
    "config={}\n",
    "config['cluster_m'] = 1.e15\n",
    "config['cluster_z'] = 0.3\n",
    "config['src_z'] = 0.8\n",
    "config['concentration'] = 4\n",
    "config['cosmo'] = 'WMAP7-ML'\n",
    "config['ngals'] = 10000\n",
    "config['mdef'] = '200c'\n",
    "\n",
    "ideal_data = mock.MockData(config=config)\n",
    "noisy_data = mock.MockData(config=config)\n",
    "noisy_data_z = mock.MockData(config=config)"
   ]
  },
  {
   "cell_type": "markdown",
   "metadata": {},
   "source": [
    "### Generate the mock catalog from the configuration. Consider 3 examples of increasing complexity:\n",
    "* Ideal data, no noise, all galaxies at the same redshift\n",
    "* Noisy data, including shape noise and redshift error, all galaxies at the same redshift\n",
    "* Noisy data, galaxies following redshift distribution, redshift error, shape noise"
   ]
  },
  {
   "cell_type": "code",
   "execution_count": null,
   "metadata": {
    "collapsed": true
   },
   "outputs": [],
   "source": [
    "ideal_data.generate()\n",
    "noisy_data.generate(is_shapenoise=True, shapenoise=0.005, is_zerr=True)\n",
    "noisy_data_z.generate(is_shapenoise=True, is_zdistribution=True, is_zerr=True)\n",
    "\n",
    "# Convert the above table into GCData datatype\n",
    "t_ideal = datatypes.GCData('source catalog', {}, ideal_data.catalog)\n",
    "t_noisy = datatypes.GCData('source catalog', {}, noisy_data.catalog)\n",
    "t_noisy_z = datatypes.GCData('source catalog', {}, noisy_data_z.catalog)"
   ]
  },
  {
   "cell_type": "markdown",
   "metadata": {},
   "source": [
    "#### Ideal catalog first entries: no noise on the shape measurement, all galaxies at z=0.3"
   ]
  },
  {
   "cell_type": "code",
   "execution_count": null,
   "metadata": {},
   "outputs": [],
   "source": [
    "t_ideal.values[0:5]"
   ]
  },
  {
   "cell_type": "markdown",
   "metadata": {},
   "source": [
    "#### More realistic catalog: noise has been added on the shape measurement, galaxies follow some photoz distribution, gaussian pdf for each photoz is also provided (along with corresponding bins)"
   ]
  },
  {
   "cell_type": "code",
   "execution_count": null,
   "metadata": {},
   "outputs": [],
   "source": [
    "t_noisy_z.values[0:2]"
   ]
  },
  {
   "cell_type": "code",
   "execution_count": null,
   "metadata": {},
   "outputs": [],
   "source": [
    "# Histogram of the redshift distribution of bkg galaxies (starting at z_cluster + 0.1)\n",
    "hist = plt.hist(t_noisy_z.values['z'], bins=50)"
   ]
  },
  {
   "cell_type": "code",
   "execution_count": null,
   "metadata": {},
   "outputs": [],
   "source": [
    "# pdz for the first galaxy in the catalog\n",
    "plt.plot(noisy_data_z.catalog['z_bins'][0],noisy_data_z.catalog['z_pdf'][0])"
   ]
  },
  {
   "cell_type": "markdown",
   "metadata": {},
   "source": [
    "### Compute and plot shear profile"
   ]
  },
  {
   "cell_type": "code",
   "execution_count": null,
   "metadata": {
    "collapsed": true
   },
   "outputs": [],
   "source": [
    "from clmm import ShearAzimuthalAverager"
   ]
  },
  {
   "cell_type": "code",
   "execution_count": null,
   "metadata": {},
   "outputs": [],
   "source": [
    "cl_dict = {'z':config['cluster_z'], 'ra':0.0, 'dec': 0.0}\n",
    "\n",
    "saa_ideal = ShearAzimuthalAverager(cl_dict,t_ideal)\n",
    "saa_noisy = ShearAzimuthalAverager(cl_dict,t_noisy)\n",
    "saa_noisy_z = ShearAzimuthalAverager(cl_dict,t_noisy_z)\n",
    "\n",
    "\n",
    "saa_ideal.compute_shear()\n",
    "saa_noisy.compute_shear()\n",
    "saa_noisy_z.compute_shear()\n",
    "\n",
    "saa_ideal.make_shear_profile()\n",
    "saa_noisy.make_shear_profile()\n",
    "saa_noisy_z.make_shear_profile()"
   ]
  },
  {
   "cell_type": "code",
   "execution_count": null,
   "metadata": {},
   "outputs": [],
   "source": [
    "# Ideal data\n",
    "saa_ideal.plot_profile()"
   ]
  },
  {
   "cell_type": "code",
   "execution_count": null,
   "metadata": {},
   "outputs": [],
   "source": [
    "# Noisy data, all galaxies at the same redshift\n",
    "saa_noisy.plot_profile()"
   ]
  },
  {
   "cell_type": "code",
   "execution_count": null,
   "metadata": {},
   "outputs": [],
   "source": [
    "# Noisy data, galaxies following redshift distribution\n",
    "saa_noisy_z.plot_profile()"
   ]
  }
 ],
 "metadata": {
  "anaconda-cloud": {},
  "kernelspec": {
   "display_name": "Python 3",
   "language": "python",
   "name": "python3"
  },
  "language_info": {
   "codemirror_mode": {
    "name": "ipython",
    "version": 3
   },
   "file_extension": ".py",
   "mimetype": "text/x-python",
   "name": "python",
   "nbconvert_exporter": "python",
   "pygments_lexer": "ipython3",
   "version": "3.6.3"
  }
 },
 "nbformat": 4,
 "nbformat_minor": 2
}
