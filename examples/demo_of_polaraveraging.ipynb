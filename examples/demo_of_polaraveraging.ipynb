{
 "cells": [
  {
   "cell_type": "markdown",
   "metadata": {},
   "source": [
    "# Notebook to serve as example of how to use polaraveraging\n",
    "### created by Mijin & Marina & the CLMM team\n",
    "################################################################"
   ]
  },
  {
   "cell_type": "code",
   "execution_count": null,
   "metadata": {},
   "outputs": [],
   "source": [
    "import numpy as np\n",
    "import matplotlib.pyplot as plt\n",
    "import clmm.polaraveraging as pa\n",
    "import clmm.galaxycluster as gc"
   ]
  },
  {
   "cell_type": "code",
   "execution_count": null,
   "metadata": {},
   "outputs": [],
   "source": [
    "import sys\n",
    "sys.path.append('./support')\n",
    "import mock_data as mock"
   ]
  },
  {
   "cell_type": "markdown",
   "metadata": {},
   "source": [
    "### Read in the data (here cosmoDC2)"
   ]
  },
  {
   "cell_type": "code",
   "execution_count": null,
   "metadata": {},
   "outputs": [],
   "source": [
    "cosmo_object_type = \"ccl\"\n",
    "try:\n",
    "    import pyccl\n",
    "except:\n",
    "    cosmo_object_type = \"astropy\"\n",
    "    \n",
    "if cosmo_object_type == \"astropy\":\n",
    "    from astropy.cosmology import FlatLambdaCDM\n",
    "\n",
    "elif cosmo_object_type == \"ccl\":\n",
    "    import pyccl as ccl\n"
   ]
  },
  {
   "cell_type": "code",
   "execution_count": null,
   "metadata": {},
   "outputs": [],
   "source": [
    "#define random cosmology\n",
    "if cosmo_object_type == \"astropy\":\n",
    "    astropy_cosmo = FlatLambdaCDM(70., Om0 = 0.3)\n",
    "    cosmo = clmm.cclify_astropy_cosmo(astropy_cosmo)\n",
    "    \n",
    "elif cosmo_object_type == \"ccl\":\n",
    "    cosmo = ccl.Cosmology(Omega_c=0.25, Omega_b = 0.05,h = 0.7,n_s = 0.97, sigma8 = 0.8, Omega_k = 0.)"
   ]
  },
  {
   "cell_type": "markdown",
   "metadata": {},
   "source": [
    "## Generating cluster object with mock data"
   ]
  },
  {
   "cell_type": "markdown",
   "metadata": {},
   "source": [
    "#### Preparing config for mock data generation\n",
    "\n",
    "Mock data will include shape noise, galaxies from redshift distribution and a pdz for each galaxies"
   ]
  },
  {
   "cell_type": "code",
   "execution_count": null,
   "metadata": {},
   "outputs": [],
   "source": [
    "config={}\n",
    "config['cluster_id'] = 'mock cluster'\n",
    "config['cluster_m'] = 1.e15\n",
    "config['cluster_z'] = 0.3\n",
    "config['src_z'] = 0.8\n",
    "config['concentration'] = 4\n",
    "config['ngals'] = 10000\n",
    "config['Delta'] = 200\n",
    "config['cosmo'] = cosmo\n",
    "\n",
    "noisy_data_z = mock.MockData(config=config)\n",
    "noisy_data_z.generate(is_shapenoise=True, is_zdistribution=True, is_zerr=True)"
   ]
  },
  {
   "cell_type": "markdown",
   "metadata": {},
   "source": [
    "#### Loading this into a CLMM cluster object"
   ]
  },
  {
   "cell_type": "code",
   "execution_count": null,
   "metadata": {},
   "outputs": [],
   "source": [
    "# At the moment mock data only allow for a cluster centred on (0,0)\n",
    "cluster_ra = 0.0\n",
    "cluster_dec = 0.0\n",
    "gc_object = gc.GalaxyCluster(config['cluster_id'], cluster_ra, cluster_dec, \n",
    "                             config['cluster_z'], noisy_data_z.catalog)\n",
    "#gc_object.save(\"GC_from_mock_data.pkl\")"
   ]
  },
  {
   "cell_type": "markdown",
   "metadata": {},
   "source": [
    "## Load cluster object"
   ]
  },
  {
   "cell_type": "code",
   "execution_count": null,
   "metadata": {},
   "outputs": [],
   "source": [
    "#the cluster object contains properties of the lens: ra_l, dec_l, z_l and that of the sources : ra_s, dec_s, e1, e1 \n",
    "#cl = gc.load_cluster(\"GC_from_mock_data.pkl\")\n",
    "cl = gc_object\n",
    "print(\"Cluster info = ID:\", cl.unique_id, \"; ra:\", cl.ra, \"; dec:\", cl.dec, \"; z_l :\", cl.z)\n",
    "print (\"The number of source galaxies is :\", len(cl.galcat))"
   ]
  },
  {
   "cell_type": "code",
   "execution_count": null,
   "metadata": {},
   "outputs": [],
   "source": [
    "#plot cluster and galaxy positions\n",
    "plt.scatter(cl.galcat['ra'],cl.galcat['dec'],s= 0.1, alpha=0.5)\n",
    "plt.plot(cl.ra,cl.dec, 'ro')\n",
    "plt.ylabel('dec', fontsize = \"large\")\n",
    "plt.xlabel('ra',fontsize = \"large\");"
   ]
  },
  {
   "cell_type": "code",
   "execution_count": null,
   "metadata": {},
   "outputs": [],
   "source": [
    "#check the ellipticities\n",
    "fig, ax1 = plt.subplots(1,1)\n",
    "\n",
    "ax1.scatter(cl.galcat['e1'],cl.galcat['e2'], s = 1, alpha = 0.2)\n",
    "ax1.set_xlabel('e1')\n",
    "ax1.set_ylabel('e2');\n",
    "ax1.axvline(0, linestyle = 'dotted', color ='black')\n",
    "ax1.axhline(0, linestyle = 'dotted', color ='black')"
   ]
  },
  {
   "cell_type": "markdown",
   "metadata": {},
   "source": [
    "## Compute and plot shear profiles"
   ]
  },
  {
   "cell_type": "code",
   "execution_count": null,
   "metadata": {},
   "outputs": [],
   "source": [
    "# calculate angular separation and tangential shear and cross shear for each source galaxy\n",
    "theta, g_t , g_x = pa.compute_shear(cl, geometry = \"flat\")\n"
   ]
  },
  {
   "cell_type": "code",
   "execution_count": null,
   "metadata": {},
   "outputs": [],
   "source": [
    "#check the shear, now the shear can be accessed through the cluster object\n",
    "fig, ax1 = plt.subplots(1,1)\n",
    "\n",
    "ax1.scatter(cl.galcat['gt'],cl.galcat['gx'], s = 1, alpha = 0.2) \n",
    "ax1.set_xlabel('e1')\n",
    "ax1.set_ylabel('e2');\n",
    "ax1.axvline(0, linestyle = 'dotted', color ='black')\n",
    "ax1.axhline(0, linestyle = 'dotted', color ='black')"
   ]
  },
  {
   "cell_type": "code",
   "execution_count": null,
   "metadata": {},
   "outputs": [],
   "source": [
    "plt.hist(cl.galcat['gt'],bins=20)"
   ]
  },
  {
   "cell_type": "code",
   "execution_count": null,
   "metadata": {},
   "outputs": [],
   "source": [
    "#compute transversal and cross shear profiles in units defined by user, using defaults binning \n",
    "tab = pa.make_shear_profile(cl, \"Mpc\", bins=None, cosmo = cosmo, cosmo_object_type=\"ccl\")"
   ]
  },
  {
   "cell_type": "code",
   "execution_count": null,
   "metadata": {},
   "outputs": [],
   "source": [
    "pa.plot_profiles(cl);"
   ]
  },
  {
   "cell_type": "code",
   "execution_count": null,
   "metadata": {},
   "outputs": [],
   "source": [
    "#define bins\n",
    "new_bins = pa.make_bins(500, 5000,10) \n",
    "\n",
    "#compute transversal and cross shear profiles in units defined by user, using binning defined by user\n",
    "new_tab = pa.make_shear_profile(cl, \"kpc\", bins=new_bins, cosmo = cosmo, cosmo_object_type=\"ccl\")\n",
    "\n",
    "#BE CAREFULL BECAUSE THIS OVERWRITE THE CLUSTER OBJECT (better implementation will be done latter)"
   ]
  },
  {
   "cell_type": "code",
   "execution_count": null,
   "metadata": {},
   "outputs": [],
   "source": [
    "fig, ax = pa.plot_profiles(cl)"
   ]
  },
  {
   "cell_type": "markdown",
   "metadata": {},
   "source": [
    "## You can also access the profiles quantities and play with them"
   ]
  },
  {
   "cell_type": "code",
   "execution_count": null,
   "metadata": {},
   "outputs": [],
   "source": [
    "plt.title('cross shear test')\n",
    "plt.errorbar(new_tab['radius'],new_tab['gx'],new_tab['gx_err'])\n",
    "plt.title('cross shear test')\n",
    "plt.ylim(-0.002,0.002)\n",
    "plt.axhline(0, linestyle = 'dotted', color = 'black')\n",
    "plt.xlabel(\"r\")\n",
    "plt.ylabel('$\\\\gamma_x$');"
   ]
  },
  {
   "cell_type": "code",
   "execution_count": null,
   "metadata": {},
   "outputs": [],
   "source": []
  }
 ],
 "metadata": {
  "kernelspec": {
   "display_name": "Python 3",
   "language": "python3",
   "name": "python3"
  },
  "language_info": {
   "codemirror_mode": {
    "name": "ipython",
    "version": 3
   },
   "file_extension": ".py",
   "mimetype": "text/x-python",
   "name": "python",
   "nbconvert_exporter": "python",
   "pygments_lexer": "ipython3",
   "version": "3.6.8"
  }
 },
 "nbformat": 4,
 "nbformat_minor": 2
}
