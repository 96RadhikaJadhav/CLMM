{
 "cells": [
  {
   "cell_type": "markdown",
   "metadata": {},
   "source": [
    "# Notebook to serve as example of how to use polaraveraging\n",
    "################################################################"
   ]
  },
  {
   "cell_type": "code",
   "execution_count": 1,
   "metadata": {},
   "outputs": [],
   "source": [
    "import numpy as np\n",
    "import matplotlib.pyplot as plt\n",
    "import clmm.polaraveraging as pa\n",
    "import clmm.galaxycluster as gc\n",
    "import clmm.modeling as modeling\n",
    "import clmm "
   ]
  },
  {
   "cell_type": "code",
   "execution_count": 2,
   "metadata": {},
   "outputs": [],
   "source": [
    "# needed for now to import mock_data\n",
    "import sys\n",
    "sys.path.append('./support')\n",
    "import mock_data as mock"
   ]
  },
  {
   "cell_type": "markdown",
   "metadata": {},
   "source": [
    "### Define cosmology object"
   ]
  },
  {
   "cell_type": "code",
   "execution_count": 3,
   "metadata": {},
   "outputs": [],
   "source": [
    "#if pyccl is installed, use it, else, use astropy FlatLambdaDCM object\n",
    "#try:\n",
    "#    import pyccl as ccl\n",
    "#    cosmo = ccl.Cosmology(Omega_c=0.25, Omega_b = 0.05,h = 0.7,n_s = 0.97, sigma8 = 0.8, Omega_k = 0.)\n",
    "#except:\n",
    "#    from astropy.cosmology import FlatLambdaCDM\n",
    "#    cosmo = FlatLambdaCDM(H0=70., Om0=0.3, Ob0=0.025)\n",
    "from astropy.cosmology import FlatLambdaCDM\n",
    "cosmo = FlatLambdaCDM(H0=70., Om0=0.3, Ob0=0.025)"
   ]
  },
  {
   "cell_type": "markdown",
   "metadata": {},
   "source": [
    "## 1) Generate cluster object with mock data"
   ]
  },
  {
   "cell_type": "markdown",
   "metadata": {},
   "source": [
    "#### Preparing config for mock data generation\n",
    "\n",
    "Mock data will include shape noise, galaxies from redshift distribution and a pdz for each galaxies"
   ]
  },
  {
   "cell_type": "code",
   "execution_count": 4,
   "metadata": {},
   "outputs": [],
   "source": [
    "config={}\n",
    "config['cluster_id'] = 'mock cluster'\n",
    "config['cluster_m'] = 1.e15\n",
    "config['cluster_z'] = 0.3\n",
    "config['src_z'] = 0.8\n",
    "config['concentration'] = 4\n",
    "config['ngals'] = 1000\n",
    "config['Delta'] = 200\n",
    "config['cosmo'] = cosmo\n",
    "\n",
    "noisy_data_z = mock.MockData(config=config)\n",
    "noisy_data_z.generate(is_shapenoise=True, is_zdistribution=True, is_zerr=True)"
   ]
  },
  {
   "cell_type": "markdown",
   "metadata": {},
   "source": [
    "#### Loading this into a CLMM cluster object"
   ]
  },
  {
   "cell_type": "code",
   "execution_count": 5,
   "metadata": {},
   "outputs": [],
   "source": [
    "# At the moment mock data only allow for a cluster centred on (0,0)\n",
    "cluster_ra = 0.0\n",
    "cluster_dec = 0.0\n",
    "gc_object = gc.GalaxyCluster(config['cluster_id'], cluster_ra, cluster_dec, \n",
    "                             config['cluster_z'], noisy_data_z.catalog)\n",
    "#gc_object.save(\"GC_from_mock_data.pkl\")"
   ]
  },
  {
   "cell_type": "markdown",
   "metadata": {},
   "source": [
    "## 2) Load cluster object"
   ]
  },
  {
   "cell_type": "code",
   "execution_count": 6,
   "metadata": {},
   "outputs": [
    {
     "name": "stdout",
     "output_type": "stream",
     "text": [
      "Cluster info = ID: mock cluster ; ra: 0.0 ; dec: 0.0 ; z_l : 0.3\n",
      "The number of source galaxies is : 1000\n"
     ]
    }
   ],
   "source": [
    "#the cluster object contains properties of the lens: ra_l, dec_l, z_l and that of the sources : ra_s, dec_s, e1, e1 \n",
    "#cl = gc.load_cluster(\"GC_from_mock_data.pkl\")\n",
    "cl = gc_object\n",
    "print(\"Cluster info = ID:\", cl.unique_id, \"; ra:\", cl.ra, \"; dec:\", cl.dec, \"; z_l :\", cl.z)\n",
    "print (\"The number of source galaxies is :\", len(cl.galcat))"
   ]
  },
  {
   "cell_type": "code",
   "execution_count": 7,
   "metadata": {},
   "outputs": [
    {
     "data": {
      "image/png": "[encoded data removed]",
      "text/plain": [
       "<Figure size 432x288 with 1 Axes>"
      ]
     },
     "metadata": {
      "needs_background": "light"
     },
     "output_type": "display_data"
    }
   ],
   "source": [
    "#plot cluster and galaxy positions\n",
    "cl.galcat['ra'] = cl.galcat['ra']\n",
    "cl.galcat['dec'] = cl.galcat['dec']\n",
    "\n",
    "plt.scatter(cl.galcat['ra'],cl.galcat['dec'] ,color = 'blue',s= 1, alpha=0.3)\n",
    "plt.plot(cl.ra,cl.dec, 'ro')\n",
    "plt.ylabel('dec', fontsize = \"large\")\n",
    "plt.xlabel('ra',fontsize = \"large\");"
   ]
  },
  {
   "cell_type": "code",
   "execution_count": 8,
   "metadata": {},
   "outputs": [
    {
     "data": {
      "text/plain": [
       "<matplotlib.lines.Line2D at 0x7fc54669dc18>"
      ]
     },
     "execution_count": 8,
     "metadata": {},
     "output_type": "execute_result"
    },
    {
     "data": {
      "image/png": "[encoded data removed]",
      "text/plain": [
       "<Figure size 432x288 with 1 Axes>"
      ]
     },
     "metadata": {
      "needs_background": "light"
     },
     "output_type": "display_data"
    }
   ],
   "source": [
    "#check the ellipticities\n",
    "fig, ax1 = plt.subplots(1,1)\n",
    "\n",
    "ax1.scatter(cl.galcat['e1'],cl.galcat['e2'], s = 1, alpha = 0.2)\n",
    "ax1.set_xlabel('e1')\n",
    "ax1.set_ylabel('e2');\n",
    "ax1.axvline(0, linestyle = 'dotted', color ='black')\n",
    "ax1.axhline(0, linestyle = 'dotted', color ='black')"
   ]
  },
  {
   "cell_type": "markdown",
   "metadata": {},
   "source": [
    "## 3) Compute and plot shear profiles"
   ]
  },
  {
   "cell_type": "markdown",
   "metadata": {},
   "source": [
    "#### Compute angular separation, cross and tangential shear for each galaxies"
   ]
  },
  {
   "cell_type": "code",
   "execution_count": 9,
   "metadata": {},
   "outputs": [],
   "source": [
    "# calculate angular separation and tangential shear and cross shear for each source galaxy\n",
    "theta, g_t , g_x = pa.compute_shear(cl, geometry = \"flat\")"
   ]
  },
  {
   "cell_type": "markdown",
   "metadata": {},
   "source": [
    "#### Plot shear distributions for verification"
   ]
  },
  {
   "cell_type": "code",
   "execution_count": 10,
   "metadata": {},
   "outputs": [
    {
     "data": {
      "text/plain": [
       "<matplotlib.lines.Line2D at 0x7fc54661c5f8>"
      ]
     },
     "execution_count": 10,
     "metadata": {},
     "output_type": "execute_result"
    },
    {
     "data": {
      "image/png": "[encoded data removed]",
      "text/plain": [
       "<Figure size 432x288 with 1 Axes>"
      ]
     },
     "metadata": {
      "needs_background": "light"
     },
     "output_type": "display_data"
    }
   ],
   "source": [
    "#check the shear, now the shear can be accessed through the cluster object\n",
    "fig, ax1 = plt.subplots(1,1)\n",
    "\n",
    "ax1.scatter(cl.galcat['gt'],cl.galcat['gx'], s = 1, alpha = 0.2) \n",
    "ax1.set_xlabel('$\\\\gamma_t$')\n",
    "ax1.set_ylabel('$\\\\gamma_x$');\n",
    "ax1.axvline(0, linestyle = 'dotted', color ='black')\n",
    "ax1.axhline(0, linestyle = 'dotted', color ='black')"
   ]
  },
  {
   "cell_type": "markdown",
   "metadata": {},
   "source": [
    "#### Compute transversal and cross shear profiles in units defined by user, using defaults binning "
   ]
  },
  {
   "cell_type": "code",
   "execution_count": 11,
   "metadata": {},
   "outputs": [
    {
     "data": {
      "text/plain": [
       "\u001b[0;31mSignature:\u001b[0m\n",
       "\u001b[0mpa\u001b[0m\u001b[0;34m.\u001b[0m\u001b[0mmake_shear_profile\u001b[0m\u001b[0;34m(\u001b[0m\u001b[0;34m\u001b[0m\n",
       "\u001b[0;34m\u001b[0m    \u001b[0;34m[\u001b[0m\u001b[0;34m'cluster'\u001b[0m\u001b[0;34m,\u001b[0m \u001b[0;34m'angsep_units'\u001b[0m\u001b[0;34m,\u001b[0m \u001b[0;34m'bin_units'\u001b[0m\u001b[0;34m,\u001b[0m \u001b[0;34m'bins=10'\u001b[0m\u001b[0;34m,\u001b[0m \u001b[0;34m'cosmo=None'\u001b[0m\u001b[0;34m,\u001b[0m \u001b[0;34m'add_to_cluster=True'\u001b[0m\u001b[0;34m]\u001b[0m\u001b[0;34m,\u001b[0m\u001b[0;34m\u001b[0m\n",
       "\u001b[0;34m\u001b[0m\u001b[0;34m)\u001b[0m\u001b[0;34m\u001b[0m\u001b[0;34m\u001b[0m\u001b[0m\n",
       "\u001b[0;31mDocstring:\u001b[0m\n",
       "Compute the shear profile of the cluster\n",
       "\n",
       "We assume that the cluster object contains information on the cross and\n",
       "tangential shears and angular separation of the source galaxies\n",
       "\n",
       "This function can be called in two ways using an instance of GalaxyCluster\n",
       "\n",
       "1. Pass an instance of GalaxyCluster into the function::\n",
       "\n",
       "    make_shear_profile(cluster, 'radians', 'radians')\n",
       "\n",
       "2. Call it as a method of a GalaxyCluster instance::\n",
       "\n",
       "    cluster.make_shear_profile('radians', 'radians')\n",
       "\n",
       "Parameters\n",
       "----------\n",
       "cluster : GalaxyCluster\n",
       "    Instance of GalaxyCluster that contains the cross and tangential shears of\n",
       "    each source galaxy in its `galcat`\n",
       "angsep_units : str\n",
       "    Units of the calculated separation of the source galaxies\n",
       "    Allowed Options = [\"radians\"]\n",
       "bin_units : str\n",
       "    Units to use for the radial bins of the shear profile\n",
       "    Allowed Options = [\"radians\", deg\", \"arcmin\", \"arcsec\", kpc\", \"Mpc\"]\n",
       "bins : array_like, optional\n",
       "    User defined bins to use for the shear profile. If a list is provided, use that as \n",
       "    the bin edges. If a scalar is provided, create that many equally spaced bins between\n",
       "    the minimum and maximum angular separations in bin_units. If nothing is provided, \n",
       "    default to 10 equally spaced bins.\n",
       "cosmo: dict, optional\n",
       "    Cosmology parameters to convert angular separations to physical distances\n",
       "add_to_cluster: bool, optional\n",
       "    Attach the profile to the cluster object as `cluster.profile`\n",
       "\n",
       "Returns\n",
       "-------\n",
       "profile : astropy.table.Table\n",
       "    Output table containing the radius grid points, the tangential and cross shear profiles\n",
       "    on that grid, and the errors in the two shear profiles. The errors are defined as the standard errors\n",
       "    in each bin.\n",
       "\u001b[0;31mFile:\u001b[0m      /pbs/throng/lsst/users/mricci/desc/CLMM/clmm/polaraveraging.py\n",
       "\u001b[0;31mType:\u001b[0m      function\n"
      ]
     },
     "metadata": {},
     "output_type": "display_data"
    }
   ],
   "source": [
    "pa.make_shear_profile?"
   ]
  },
  {
   "cell_type": "code",
   "execution_count": 13,
   "metadata": {},
   "outputs": [
    {
     "name": "stderr",
     "output_type": "stream",
     "text": [
      "/pbs/throng/lsst/software/desc/anaconda3/lib/python3.7/site-packages/scipy/stats/_binned_statistic.py:607: FutureWarning: Using a non-tuple sequence for multidimensional indexing is deprecated; use `arr[tuple(seq)]` instead of `arr[seq]`. In the future this will be interpreted as an array index, `arr[np.array(seq)]`, which will result either in an error or a different result.\n",
      "  result = result[core]\n"
     ]
    }
   ],
   "source": [
    "profiles = pa.make_shear_profile(cl, \"radians\", \"kpc\", cosmo = cosmo) "
   ]
  },
  {
   "cell_type": "markdown",
   "metadata": {},
   "source": [
    "#### Use function to plot the profiles"
   ]
  },
  {
   "cell_type": "code",
   "execution_count": 14,
   "metadata": {},
   "outputs": [
    {
     "ename": "AttributeError",
     "evalue": "'GalaxyCluster' object has no attribute 'profile_radius_unit'",
     "output_type": "error",
     "traceback": [
      "\u001b[0;31m\u001b[0m",
      "\u001b[0;31mAttributeError\u001b[0mTraceback (most recent call last)",
      "\u001b[0;32m<ipython-input-14-e6abd9c822a1>\u001b[0m in \u001b[0;36m<module>\u001b[0;34m\u001b[0m\n\u001b[0;32m----> 1\u001b[0;31m \u001b[0mfig\u001b[0m\u001b[0;34m,\u001b[0m \u001b[0max\u001b[0m \u001b[0;34m=\u001b[0m \u001b[0mpa\u001b[0m\u001b[0;34m.\u001b[0m\u001b[0mplot_profiles\u001b[0m\u001b[0;34m(\u001b[0m\u001b[0mcl\u001b[0m\u001b[0;34m)\u001b[0m\u001b[0;34m;\u001b[0m\u001b[0;34m\u001b[0m\u001b[0;34m\u001b[0m\u001b[0m\n\u001b[0m",
      "\u001b[0;32m/pbs/throng/lsst/users/mricci/desc/CLMM/clmm/polaraveraging.py\u001b[0m in \u001b[0;36mplot_profiles\u001b[0;34m(cluster, r_units)\u001b[0m\n\u001b[1;32m    468\u001b[0m             \u001b[0mr_units\u001b[0m \u001b[0;34m=\u001b[0m \u001b[0mcluster\u001b[0m\u001b[0;34m.\u001b[0m\u001b[0mprofile\u001b[0m\u001b[0;34m[\u001b[0m\u001b[0;34m'radius'\u001b[0m\u001b[0;34m]\u001b[0m\u001b[0;34m.\u001b[0m\u001b[0munit\u001b[0m\u001b[0;34m\u001b[0m\u001b[0;34m\u001b[0m\u001b[0m\n\u001b[1;32m    469\u001b[0m     return _plot_profiles(*[cluster.profile[c] for c in ('radius', 'gt', 'gt_err', 'gx', 'gx_err')],\n\u001b[0;32m--> 470\u001b[0;31m                           r_unit=cluster.profile_radius_unit)\n\u001b[0m\u001b[1;32m    471\u001b[0m \u001b[0;34m\u001b[0m\u001b[0m\n\u001b[1;32m    472\u001b[0m \u001b[0;34m\u001b[0m\u001b[0m\n",
      "\u001b[0;31mAttributeError\u001b[0m: 'GalaxyCluster' object has no attribute 'profile_radius_unit'"
     ]
    }
   ],
   "source": [
    "fig, ax = pa.plot_profiles(cl);"
   ]
  },
  {
   "cell_type": "markdown",
   "metadata": {},
   "source": [
    "#### Compute transversal and cross shear profiles in units defined by user, using a new binning"
   ]
  },
  {
   "cell_type": "code",
   "execution_count": 16,
   "metadata": {},
   "outputs": [
    {
     "name": "stderr",
     "output_type": "stream",
     "text": [
      "/pbs/throng/lsst/users/mricci/desc/CLMM/clmm/polaraveraging.py:285: RuntimeWarning: invalid value encountered in true_divide\n",
      "  gt_err = gt_std / gt_counts\n",
      "/pbs/throng/lsst/users/mricci/desc/CLMM/clmm/polaraveraging.py:286: RuntimeWarning: invalid value encountered in true_divide\n",
      "  gx_err = gx_std / gx_counts\n"
     ]
    },
    {
     "ename": "AttributeError",
     "evalue": "'GalaxyCluster' object has no attribute 'profile_radius_unit'",
     "output_type": "error",
     "traceback": [
      "\u001b[0;31m\u001b[0m",
      "\u001b[0;31mAttributeError\u001b[0mTraceback (most recent call last)",
      "\u001b[0;32m<ipython-input-16-720a30838cca>\u001b[0m in \u001b[0;36m<module>\u001b[0;34m\u001b[0m\n\u001b[1;32m      8\u001b[0m \u001b[0;34m\u001b[0m\u001b[0m\n\u001b[1;32m      9\u001b[0m \u001b[0;31m#plot new profiles\u001b[0m\u001b[0;34m\u001b[0m\u001b[0;34m\u001b[0m\u001b[0;34m\u001b[0m\u001b[0m\n\u001b[0;32m---> 10\u001b[0;31m \u001b[0mfig1\u001b[0m\u001b[0;34m,\u001b[0m \u001b[0max1\u001b[0m \u001b[0;34m=\u001b[0m \u001b[0mpa\u001b[0m\u001b[0;34m.\u001b[0m\u001b[0mplot_profiles\u001b[0m\u001b[0;34m(\u001b[0m\u001b[0mcl\u001b[0m\u001b[0;34m,\u001b[0m\u001b[0;34m\"Mpc\"\u001b[0m\u001b[0;34m)\u001b[0m\u001b[0;34m\u001b[0m\u001b[0;34m\u001b[0m\u001b[0m\n\u001b[0m",
      "\u001b[0;32m/pbs/throng/lsst/users/mricci/desc/CLMM/clmm/polaraveraging.py\u001b[0m in \u001b[0;36mplot_profiles\u001b[0;34m(cluster, r_units)\u001b[0m\n\u001b[1;32m    468\u001b[0m             \u001b[0mr_units\u001b[0m \u001b[0;34m=\u001b[0m \u001b[0mcluster\u001b[0m\u001b[0;34m.\u001b[0m\u001b[0mprofile\u001b[0m\u001b[0;34m[\u001b[0m\u001b[0;34m'radius'\u001b[0m\u001b[0;34m]\u001b[0m\u001b[0;34m.\u001b[0m\u001b[0munit\u001b[0m\u001b[0;34m\u001b[0m\u001b[0;34m\u001b[0m\u001b[0m\n\u001b[1;32m    469\u001b[0m     return _plot_profiles(*[cluster.profile[c] for c in ('radius', 'gt', 'gt_err', 'gx', 'gx_err')],\n\u001b[0;32m--> 470\u001b[0;31m                           r_unit=cluster.profile_radius_unit)\n\u001b[0m\u001b[1;32m    471\u001b[0m \u001b[0;34m\u001b[0m\u001b[0m\n\u001b[1;32m    472\u001b[0m \u001b[0;34m\u001b[0m\u001b[0m\n",
      "\u001b[0;31mAttributeError\u001b[0m: 'GalaxyCluster' object has no attribute 'profile_radius_unit'"
     ]
    }
   ],
   "source": [
    "#BE CAREFULL BECAUSE THIS OVERWRITE THE CLUSTER OBJECT (better implementation will be done latter)\n",
    "\n",
    "#define bins\n",
    "new_bins = pa.make_bins(1, 4,20) \n",
    "\n",
    "#compute transversal and cross shear profiles in units defined by user, using binning defined by user\n",
    "new_profiles = pa.make_shear_profile(cl, \"radians\",\"Mpc\", bins=new_bins, cosmo = cosmo)\n",
    "\n",
    "#plot new profiles\n",
    "fig1, ax1 = pa.plot_profiles(cl,\"Mpc\")"
   ]
  },
  {
   "cell_type": "markdown",
   "metadata": {},
   "source": [
    "#### You can also access the profiles quantities and play with them"
   ]
  },
  {
   "cell_type": "code",
   "execution_count": 17,
   "metadata": {},
   "outputs": [
    {
     "data": {
      "image/png": "[encoded data removed]",
      "text/plain": [
       "<Figure size 432x288 with 1 Axes>"
      ]
     },
     "metadata": {
      "needs_background": "light"
     },
     "output_type": "display_data"
    }
   ],
   "source": [
    "plt.title('cross shear test')\n",
    "plt.errorbar(new_profiles['radius'],new_profiles['gx'],new_profiles['gx_err'])\n",
    "plt.title('cross shear test')\n",
    "plt.axhline(0, linestyle = 'dotted', color = 'black')\n",
    "plt.xlabel(\"r\")\n",
    "plt.ylabel('$\\\\gamma_x$');"
   ]
  }
 ],
 "metadata": {
  "kernelspec": {
   "display_name": "Python 3",
   "language": "python",
   "name": "python3"
  },
  "language_info": {
   "codemirror_mode": {
    "name": "ipython",
    "version": 3
   },
   "file_extension": ".py",
   "mimetype": "text/x-python",
   "name": "python",
   "nbconvert_exporter": "python",
   "pygments_lexer": "ipython3",
   "version": "3.7.3"
  }
 },
 "nbformat": 4,
 "nbformat_minor": 2
}
