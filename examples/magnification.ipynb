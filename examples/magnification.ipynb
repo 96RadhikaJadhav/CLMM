{
 "cells": [
  {
   "cell_type": "markdown",
   "metadata": {},
   "source": [
    "## TODO \n",
    "- [ ] check the galaxy counts expected for LSST \n",
    "- [x] find the equations for the effect of magnification on the redshift distriution\n",
    "- [ ] include the redshift information in the model\n",
    "- [ ] check the galaxy counts expected for DESI\n",
    "- [ ] check the problem of radius limit in modelling"
   ]
  },
  {
   "cell_type": "markdown",
   "metadata": {},
   "source": [
    "# Bibio \n",
    "- https://arxiv.org/pdf/astro-ph/9912508.pdf\n",
    "- https://iopscience.iop.org/article/10.1088/0004-637X/772/1/65/pdf\n",
    "- https://arxiv.org/pdf/astro-ph/9511150.pdf\n",
    "- https://arxiv.org/pdf/astro-ph/9406052.pdf\n",
    "- faint end slope https://iopscience.iop.org/article/10.1086/505455/pdf, https://www.aanda.org/articles/aa/pdf/2003/13/aa3018.pdf"
   ]
  },
  {
   "cell_type": "code",
   "execution_count": 8,
   "metadata": {},
   "outputs": [],
   "source": [
    "import numpy as np\n",
    "import matplotlib.pyplot as plt\n",
    "%matplotlib inline"
   ]
  },
  {
   "cell_type": "code",
   "execution_count": 9,
   "metadata": {},
   "outputs": [],
   "source": [
    "import sys\n",
    "sys.path.append('./support')\n",
    "import clmm\n",
    "import clmm.modeling as mod\n",
    "import scipy.integrate as integrate"
   ]
  },
  {
   "cell_type": "code",
   "execution_count": 10,
   "metadata": {},
   "outputs": [],
   "source": [
    "from astropy.cosmology import FlatLambdaCDM\n",
    "astropy_cosmology_object = FlatLambdaCDM(H0=70, Om0=0.27, Ob0=0.045)\n",
    "cosmo_ccl = mod.cclify_astropy_cosmo(astropy_cosmology_object)"
   ]
  },
  {
   "cell_type": "code",
   "execution_count": 11,
   "metadata": {},
   "outputs": [],
   "source": [
    "density_profile_parametrization = 'nfw'\n",
    "mass_Delta = 200\n",
    "cluster_mass = 1.81e14\n",
    "cluster_concentration = 4\n",
    "z_cl = 0.2\n",
    "z_source = 2"
   ]
  },
  {
   "cell_type": "code",
   "execution_count": 12,
   "metadata": {},
   "outputs": [],
   "source": [
    "r3d = np.logspace(-2, 2, 100)"
   ]
  },
  {
   "cell_type": "code",
   "execution_count": 13,
   "metadata": {},
   "outputs": [],
   "source": [
    "rho = mod.get_3d_density(r3d, mdelta=cluster_mass, cdelta=cluster_concentration, \n",
    "                       z_cl=z_cl, cosmo=cosmo_ccl)\n",
    "\n",
    "Sigma = mod.predict_surface_density(r3d, cluster_mass, cluster_concentration, z_cl, cosmo=cosmo_ccl, \n",
    "                                  delta_mdef=mass_Delta, \n",
    "                                  halo_profile_model=density_profile_parametrization)\n",
    "\n",
    "DeltaSigma = mod.predict_excess_surface_density(r3d, cluster_mass, cluster_concentration, z_cl, cosmo=cosmo_ccl, \n",
    "                                              delta_mdef=mass_Delta, \n",
    "                                              halo_profile_model=density_profile_parametrization)\n",
    "\n",
    "Sigmac = mod.get_critical_surface_density(cosmo_ccl, z_cluster=z_cl, z_source=z_source)\n",
    "\n",
    "gammat = mod.predict_tangential_shear(r3d, mdelta=cluster_mass, cdelta=cluster_concentration, z_cluster=z_cl, \n",
    "                                    z_source=z_source, cosmo=cosmo_ccl, delta_mdef=mass_Delta, \n",
    "                                    halo_profile_model=density_profile_parametrization, \n",
    "                                    z_src_model='single_plane')\n",
    "\n",
    "kappa = mod.predict_convergence(r3d, mdelta=cluster_mass, cdelta=cluster_concentration, \n",
    "                               z_cluster=z_cl, z_source=z_source,\n",
    "                               cosmo=cosmo_ccl, delta_mdef=mass_Delta, \n",
    "                               halo_profile_model=density_profile_parametrization, \n",
    "                               z_src_model='single_plane')\n",
    "\n",
    "gt = mod.predict_reduced_tangential_shear(r3d, mdelta=cluster_mass, cdelta=cluster_concentration, \n",
    "                                        z_cluster=z_cl, z_source=z_source, cosmo=cosmo_ccl, \n",
    "                                        delta_mdef=mass_Delta, \n",
    "                                        halo_profile_model=density_profile_parametrization, \n",
    "                                        z_src_model='single_plane')\n",
    "        "
   ]
  },
  {
   "cell_type": "code",
   "execution_count": 14,
   "metadata": {},
   "outputs": [],
   "source": [
    "def plot_profile(r, profile_vals, profile_label='rho', label=None):\n",
    "    plt.loglog(r, profile_vals, label=label)\n",
    "    plt.xlabel('r [Mpc]', fontsize='xx-large')\n",
    "    plt.ylabel(profile_label, fontsize='xx-large')"
   ]
  },
  {
   "cell_type": "markdown",
   "metadata": {},
   "source": [
    "## Magnification definition"
   ]
  },
  {
   "cell_type": "code",
   "execution_count": 15,
   "metadata": {},
   "outputs": [],
   "source": [
    "#without limits\n",
    "\n",
    "def mu(kappa,gamma):\n",
    "    mu = 1 / ((1-kappa)**2-abs(gamma)**2)\n",
    "    return mu"
   ]
  },
  {
   "cell_type": "code",
   "execution_count": 16,
   "metadata": {},
   "outputs": [],
   "source": [
    "#in the WL limit\n",
    "\n",
    "def mu_wl(kappa): \n",
    "    \"magnification with WL approximation\"\n",
    "    mu_wl = 1 + 2*kappa\n",
    "    return mu_wl"
   ]
  },
  {
   "cell_type": "code",
   "execution_count": 17,
   "metadata": {},
   "outputs": [],
   "source": [
    "#arbitrary Wl/SL limit : when the convergence is k>0.1\n",
    "WL_limit_radius= r3d[kappa<0.1][0]"
   ]
  },
  {
   "cell_type": "code",
   "execution_count": 18,
   "metadata": {},
   "outputs": [],
   "source": [
    "magnification = mu(kappa,gammat)\n",
    "magnification_wl = mu_wl(kappa)"
   ]
  },
  {
   "cell_type": "code",
   "execution_count": 19,
   "metadata": {},
   "outputs": [
    {
     "data": {
      "image/png": "[encoded data removed]",
      "text/plain": [
       "<Figure size 432x288 with 1 Axes>"
      ]
     },
     "metadata": {
      "needs_background": "light"
     },
     "output_type": "display_data"
    }
   ],
   "source": [
    "plot_profile(r3d,magnification, '$\\mu$', \"no approx.\")\n",
    "plot_profile(r3d,magnification_wl, '$\\mu$', \"WL approx.\")\n",
    "plt.axvline(WL_limit_radius,color='black', linestyle='dashed', label=\"r inside which $\\\\kappa>0.1$\")\n",
    "plt.legend()\n",
    "plt.yscale('linear')"
   ]
  },
  {
   "cell_type": "markdown",
   "metadata": {},
   "source": [
    "## Magnification bias definition"
   ]
  },
  {
   "cell_type": "code",
   "execution_count": 20,
   "metadata": {},
   "outputs": [],
   "source": [
    "#magnification bias : number of lensed source over the number of unlensed source\n",
    "#beta = slope of the power law luminosity function around the limiting flux of the survey, with N ~ AS^(-beta)\n",
    "\n",
    "def mu_bias(mu,beta):\n",
    "    mu_bias = mu**(beta-1)\n",
    "    return mu_bias"
   ]
  },
  {
   "cell_type": "code",
   "execution_count": 21,
   "metadata": {},
   "outputs": [
    {
     "data": {
      "text/plain": [
       "<matplotlib.lines.Line2D at 0x7f566a440a58>"
      ]
     },
     "execution_count": 21,
     "metadata": {},
     "output_type": "execute_result"
    },
    {
     "data": {
      "image/png": "[encoded data removed]",
      "text/plain": [
       "<Figure size 432x288 with 1 Axes>"
      ]
     },
     "metadata": {
      "needs_background": "light"
     },
     "output_type": "display_data"
    }
   ],
   "source": [
    "#For early type galaxies\n",
    "\n",
    "alpha_ET = 0.50\n",
    "beta_ET = alpha_ET * 2.5\n",
    "\n",
    "plt.plot(r3d, mu_bias(magnification,beta_ET))\n",
    "plt.plot(r3d, mu_bias(magnification_wl,beta_ET))\n",
    "plt.xscale('log')\n",
    "plt.axhline(1,color='black',alpha=0.2)\n",
    "plt.axvline(WL_limit_radius,color='black', linestyle='dashed', label=\"r inside which $\\\\kappa>0.1$\")"
   ]
  },
  {
   "cell_type": "code",
   "execution_count": 22,
   "metadata": {},
   "outputs": [
    {
     "data": {
      "text/plain": [
       "<matplotlib.lines.Line2D at 0x7f566a24f390>"
      ]
     },
     "execution_count": 22,
     "metadata": {},
     "output_type": "execute_result"
    },
    {
     "data": {
      "image/png": "[encoded data removed]",
      "text/plain": [
       "<Figure size 432x288 with 1 Axes>"
      ]
     },
     "metadata": {
      "needs_background": "light"
     },
     "output_type": "display_data"
    }
   ],
   "source": [
    "#For late type galaxies\n",
    "\n",
    "alpha_LT = -1.30\n",
    "beta_LT = alpha_LT * 2.5\n",
    "\n",
    "plt.plot(r3d, mu_bias(magnification,beta_LT))\n",
    "plt.plot(r3d, mu_bias(magnification_wl,beta_LT))\n",
    "plt.xscale('log')\n",
    "plt.axhline(1,color='black',alpha=0.2)\n",
    "plt.axvline(WL_limit_radius,color='black', linestyle='dashed', label=\"r inside which $\\\\kappa>0.1$\")"
   ]
  },
  {
   "cell_type": "markdown",
   "metadata": {},
   "source": [
    "## Magnification bias in redshift distribution"
   ]
  },
  {
   "cell_type": "code",
   "execution_count": 23,
   "metadata": {},
   "outputs": [],
   "source": [
    "#definition of a redshift distribution following Chang et al. 2013 arXiv:1305.0793\n",
    "\n",
    "def pzfxn(z):\n",
    "    \"\"\"Redshift distribution function\"\"\"\n",
    "    alpha, beta, z0 = 1.24, 1.01, 0.51\n",
    "    return (z**alpha)*np.exp(-(z/z0)**beta)"
   ]
  },
  {
   "cell_type": "code",
   "execution_count": 24,
   "metadata": {},
   "outputs": [
    {
     "data": {
      "text/plain": [
       "<matplotlib.legend.Legend at 0x7f566a0e4e10>"
      ]
     },
     "execution_count": 24,
     "metadata": {},
     "output_type": "execute_result"
    },
    {
     "data": {
      "image/png": "[encoded data removed]",
      "text/plain": [
       "<Figure size 432x288 with 1 Axes>"
      ]
     },
     "metadata": {
      "needs_background": "light"
     },
     "output_type": "display_data"
    }
   ],
   "source": [
    "z = np.linspace(0,5)\n",
    "plt.plot(z, pzfxn(z),'k', label ='unlensed')\n",
    "plt.plot(z, pzfxn(z) * mu_bias(magnification[np.argwhere(r3d>0.1)][0],beta_ET),'r', label ='unlensed early type galaxies')\n",
    "plt.plot(z, pzfxn(z) * mu_bias(magnification[np.argwhere(r3d>0.1)][0],beta_LT),'b', label ='lensed late type galaxies')\n",
    "plt.legend()"
   ]
  },
  {
   "cell_type": "code",
   "execution_count": 28,
   "metadata": {},
   "outputs": [],
   "source": [
    "def beta_z(z, beta_0,beta_1):\n",
    "    beta = beta_0 + beta_1 * (1+z)\n",
    "    return beta\n"
   ]
  },
  {
   "cell_type": "code",
   "execution_count": 35,
   "metadata": {},
   "outputs": [],
   "source": [
    "def mu_bias(z, mu, beta_0, beta_1):\n",
    "    mu_bias = mu**(beta_z(z,beta_0, beta_1) -1)\n",
    "    return mu_bias"
   ]
  },
  {
   "cell_type": "code",
   "execution_count": 41,
   "metadata": {},
   "outputs": [
    {
     "data": {
      "text/plain": [
       "array([1.        , 1.00203386, 1.00407185, 1.00611399, 1.00816029,\n",
       "       1.01021074, 1.01226537, 1.01432417, 1.01638716, 1.01845435,\n",
       "       1.02052574, 1.02260135, 1.02468117, 1.02676523, 1.02885352,\n",
       "       1.03094606, 1.03304286, 1.03514392, 1.03724926, 1.03935888,\n",
       "       1.04147279, 1.043591  , 1.04571351, 1.04784034, 1.0499715 ,\n",
       "       1.052107  , 1.05424683, 1.05639102, 1.05853957, 1.06069249,\n",
       "       1.06284979, 1.06501147, 1.06717756, 1.06934804, 1.07152295,\n",
       "       1.07370227, 1.07588603, 1.07807423, 1.08026688, 1.08246399,\n",
       "       1.08466557, 1.08687162, 1.08908216, 1.0912972 , 1.09351675,\n",
       "       1.09574081, 1.09796939, 1.1002025 , 1.10244016, 1.10468236])"
      ]
     },
     "execution_count": 41,
     "metadata": {},
     "output_type": "execute_result"
    }
   ],
   "source": [
    "beta_0, beta_1 = 0.9, 0.1\n",
    "mu_bias(z, magnification[np.argwhere(r3d>0.1)][0], beta_0, beta_1)"
   ]
  },
  {
   "cell_type": "code",
   "execution_count": 42,
   "metadata": {},
   "outputs": [],
   "source": [
    "#mean redshift of the distribution\n",
    "\n",
    "def z_mean(func, a, b):\n",
    "    num = integrate.quad(lambda x: func(x)*x, a, b)\n",
    "    den = integrate.quad(lambda x: func(x), a, b)\n",
    "    return num[0]/den[0]"
   ]
  },
  {
   "cell_type": "code",
   "execution_count": 43,
   "metadata": {},
   "outputs": [
    {
     "data": {
      "text/plain": [
       "1.1199061848352572"
      ]
     },
     "execution_count": 43,
     "metadata": {},
     "output_type": "execute_result"
    }
   ],
   "source": [
    "z_mean(pzfxn, 0, np.inf)"
   ]
  },
  {
   "cell_type": "code",
   "execution_count": 46,
   "metadata": {},
   "outputs": [],
   "source": [
    "def fct(z):\n",
    "    return pzfxn(z)*mu_bias(z, magnification[np.argwhere(r3d>0.1)][0], beta_0, beta_1)"
   ]
  },
  {
   "cell_type": "code",
   "execution_count": 48,
   "metadata": {},
   "outputs": [
    {
     "data": {
      "text/plain": [
       "1.1310539254100362"
      ]
     },
     "execution_count": 48,
     "metadata": {},
     "output_type": "execute_result"
    }
   ],
   "source": [
    "z_mean(fct, 0, np.inf)"
   ]
  }
 ],
 "metadata": {
  "kernelspec": {
   "display_name": "Python 3",
   "language": "python",
   "name": "python3"
  },
  "language_info": {
   "codemirror_mode": {
    "name": "ipython",
    "version": 3
   },
   "file_extension": ".py",
   "mimetype": "text/x-python",
   "name": "python",
   "nbconvert_exporter": "python",
   "pygments_lexer": "ipython3",
   "version": "3.7.3"
  }
 },
 "nbformat": 4,
 "nbformat_minor": 2
}
