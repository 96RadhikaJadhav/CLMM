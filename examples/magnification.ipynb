{
 "cells": [
  {
   "cell_type": "markdown",
   "metadata": {},
   "source": [
    "## TODO \n",
    "- [ ] check the galaxy counts expected for LSST \n",
    "- [x] find the equations for the effect of magnification on the redshift distriution\n",
    "- [ ] include the redshift information in the model\n",
    "- [ ] check the galaxy counts expected for DESI\n",
    "- [ ] check the problem of radius limit in modelling"
   ]
  },
  {
   "cell_type": "markdown",
   "metadata": {},
   "source": [
    "# Bibio \n",
    "- https://arxiv.org/pdf/astro-ph/9912508.pdf\n",
    "- https://iopscience.iop.org/article/10.1088/0004-637X/772/1/65/pdf\n",
    "- https://arxiv.org/pdf/astro-ph/9511150.pdf\n",
    "- https://arxiv.org/pdf/astro-ph/9406052.pdf\n",
    "- faint end slope https://iopscience.iop.org/article/10.1086/505455/pdf, https://www.aanda.org/articles/aa/pdf/2003/13/aa3018.pdf"
   ]
  },
  {
   "cell_type": "code",
   "execution_count": 11,
   "metadata": {},
   "outputs": [],
   "source": [
    "import numpy as np\n",
    "import matplotlib.pyplot as plt\n",
    "%matplotlib inline"
   ]
  },
  {
   "cell_type": "code",
   "execution_count": 12,
   "metadata": {},
   "outputs": [],
   "source": [
    "import sys\n",
    "sys.path.append('./support')\n",
    "import clmm\n",
    "import clmm.modeling as mod\n",
    "import scipy.integrate as integrate\n",
    "import mock_data as mock"
   ]
  },
  {
   "cell_type": "code",
   "execution_count": 13,
   "metadata": {},
   "outputs": [],
   "source": [
    "import GCRCatalogs\n",
    "from GCR import GCRQuery"
   ]
  },
  {
   "cell_type": "code",
   "execution_count": 14,
   "metadata": {},
   "outputs": [],
   "source": [
    "from astropy.cosmology import FlatLambdaCDM\n",
    "astropy_cosmology_object = FlatLambdaCDM(H0=70, Om0=0.27, Ob0=0.045)\n",
    "cosmo_ccl = mod.cclify_astropy_cosmo(astropy_cosmology_object)"
   ]
  },
  {
   "cell_type": "code",
   "execution_count": 15,
   "metadata": {},
   "outputs": [],
   "source": [
    "#catalog = GCRCatalogs.load_catalog('cosmoDC2_v1.1.4_image_photoz_calib')"
   ]
  },
  {
   "cell_type": "code",
   "execution_count": 16,
   "metadata": {},
   "outputs": [],
   "source": [
    "density_profile_parametrization = 'nfw'\n",
    "mass_Delta = 200\n",
    "cluster_mass = 1.5e14\n",
    "cluster_concentration = 4\n",
    "z_cl = 0.2\n",
    "z_source = 2\n",
    "ngals = 1000"
   ]
  },
  {
   "cell_type": "code",
   "execution_count": 17,
   "metadata": {},
   "outputs": [],
   "source": [
    "ideal_with_src_dist = mock.generate_galaxy_catalog(\n",
    "    cluster_mass, z_cl, cluster_concentration, cosmo_ccl, ngals, mass_Delta, 'chang13', zsrc_min=z_cl + 0.2,\n",
    "    zsrc_max=7.0)"
   ]
  },
  {
   "cell_type": "code",
   "execution_count": 45,
   "metadata": {},
   "outputs": [],
   "source": [
    "r3d = np.loadtxt(\"../tests/data/numcosmo/radial_profiles.txt\", dtype = float, usecols=0)"
   ]
  },
  {
   "cell_type": "code",
   "execution_count": 51,
   "metadata": {},
   "outputs": [],
   "source": [
    "r3dA = np.loadtxt(\"../tests/data/numcosmo/radial_profiles.txt\", dtype = float)[:,0]"
   ]
  },
  {
   "cell_type": "code",
   "execution_count": 61,
   "metadata": {},
   "outputs": [
    {
     "data": {
      "text/plain": [
       "dtype('float64')"
      ]
     },
     "execution_count": 61,
     "metadata": {},
     "output_type": "execute_result"
    }
   ],
   "source": [
    "r3dA[1].dtype"
   ]
  },
  {
   "cell_type": "code",
   "execution_count": 62,
   "metadata": {},
   "outputs": [
    {
     "data": {
      "text/plain": [
       "dtype('float64')"
      ]
     },
     "execution_count": 62,
     "metadata": {},
     "output_type": "execute_result"
    }
   ],
   "source": [
    "r3d[1].dtype"
   ]
  },
  {
   "cell_type": "code",
   "execution_count": null,
   "metadata": {},
   "outputs": [],
   "source": [
    "from astropy.io import ascii\n",
    "dat = ascii.read(\"profiles_numcosmo.txt\")\n",
    "\n",
    "r3d = dat['r3d']"
   ]
  },
  {
   "cell_type": "code",
   "execution_count": 20,
   "metadata": {},
   "outputs": [],
   "source": [
    "def plot_profile(r, profile_vals, profile_label='rho', label=None):\n",
    "    plt.loglog(r, profile_vals, label=label)\n",
    "    plt.xlabel('r [Mpc]', fontsize='xx-large')\n",
    "    plt.ylabel(profile_label, fontsize='xx-large')"
   ]
  },
  {
   "cell_type": "raw",
   "metadata": {},
   "source": [
    "r3d = np.logspace(-2, 2, 100)\n",
    "r3d_dat = dat['r3d']\n",
    "#r3d_dat = dat[:,0]"
   ]
  },
  {
   "cell_type": "code",
   "execution_count": 42,
   "metadata": {},
   "outputs": [],
   "source": [
    "rho = mod.get_3d_density(r3d, mdelta=cluster_mass, cdelta=cluster_concentration, \n",
    "                       z_cl=z_cl, cosmo=cosmo_ccl)"
   ]
  },
  {
   "cell_type": "code",
   "execution_count": 43,
   "metadata": {},
   "outputs": [
    {
     "data": {
      "text/plain": [
       "array([ 1.77127618e+16,  0.00000000e+00,  6.02658808e+01,  1.52249322e+04,\n",
       "        1.99324104e+14,  2.49198351e+12, -2.08089304e+15,  1.60306892e+16,\n",
       "        0.00000000e+00,  6.58879972e+01,  1.52608613e+04,  1.99631435e+14,\n",
       "        2.70059939e+12, -1.22447280e+15,  1.44991907e+16,  0.00000000e+00,\n",
       "        7.22214083e+01,  1.53027149e+04,  1.99989052e+14,  2.93283032e+12,\n",
       "       -7.34307967e+14,  1.31049830e+16,  0.00000000e+00,  7.93797167e+01,\n",
       "        1.53514343e+04,  2.00404802e+14,  3.19203208e+12, -4.43257167e+14,\n",
       "        1.18359683e+16,  0.00000000e+00,  8.74983284e+01,  1.54081043e+04,\n",
       "        2.00887683e+14,  3.48212919e+12, -2.66447395e+14,  1.06811292e+16,\n",
       "        0.00000000e+00,  9.67394403e+01,  1.54739754e+04,  2.01448002e+14,\n",
       "        3.80772564e+12, -1.57808404e+14,  9.63043296e+15,  0.00000000e+00,\n",
       "        1.07298091e+02,  1.55504878e+04,  2.02097548e+14,  4.17423959e+12,\n",
       "       -9.10015071e+13,  8.67474341e+15,  0.00000000e+00,  1.19409937e+02,\n",
       "        1.56393009e+04,  2.02849789e+14,  4.58806781e+12, -5.03381717e+13,\n",
       "        7.80574123e+15,  0.00000000e+00,  1.33361068e+02,  1.57423269e+04,\n",
       "        2.03720099e+14,  5.05678699e+12, -2.61626067e+13,  7.01585095e+15,\n",
       "        0.00000000e+00,  1.49500485e+02,  1.58617695e+04,  2.04726005e+14,\n",
       "        5.58940065e+12, -1.23745586e+13,  6.29817426e+15,  0.00000000e+00,\n",
       "        1.68256079e+02,  1.60001706e+04,  2.05887475e+14,  6.19664309e+12,\n",
       "       -5.03948620e+12,  5.64642915e+15,  0.00000000e+00,  1.90155318e+02,\n",
       "        1.61604653e+04,  2.07227239e+14,  6.89135421e+12, -1.57873115e+12,\n",
       "        5.05489425e+15,  0.00000000e+00,  2.15851789e+02,  1.63460462e+04,\n",
       "        2.08771151e+14,  7.68894305e+12, -2.82098891e+11,  4.51835789e+15,\n",
       "        0.00000000e+00,  2.46160041e+02,  1.65608420e+04,  2.10548612e+14,\n",
       "        8.60796211e+12, -6.13692773e+09,  4.03207158e+15,  0.00000000e+00])"
      ]
     },
     "execution_count": 43,
     "metadata": {},
     "output_type": "execute_result"
    }
   ],
   "source": [
    "rho"
   ]
  },
  {
   "cell_type": "code",
   "execution_count": null,
   "metadata": {},
   "outputs": [],
   "source": [
    "plot_profile(r3d, rho, \"$\\\\rho$\", 'CLMM')\n",
    "plot_profile(r3d, dat['rho'], \"$\\\\rho$\", 'numcosmo')"
   ]
  },
  {
   "cell_type": "code",
   "execution_count": null,
   "metadata": {},
   "outputs": [],
   "source": [
    "plt.plot(r3d, (rho-dat['rho'])/rho,'.')\n",
    "plt.xscale('log')"
   ]
  },
  {
   "cell_type": "code",
   "execution_count": null,
   "metadata": {},
   "outputs": [],
   "source": [
    "Sigma = mod.predict_surface_density(r3d, cluster_mass, cluster_concentration, z_cl, cosmo=cosmo_ccl, \n",
    "                                  delta_mdef=mass_Delta, \n",
    "                                  halo_profile_model=density_profile_parametrization)"
   ]
  },
  {
   "cell_type": "code",
   "execution_count": null,
   "metadata": {},
   "outputs": [],
   "source": [
    "plot_profile(r3d, Sigma, \"$\\\\rho$\", 'CLMM')\n",
    "plot_profile(r3d, dat['Sigma'], \"$\\\\rho$\", 'numcosmo')"
   ]
  },
  {
   "cell_type": "code",
   "execution_count": null,
   "metadata": {},
   "outputs": [],
   "source": [
    "plt.plot(r3d, (Sigma-dat['Sigma'])/Sigma,'.')\n",
    "plt.xscale('log')"
   ]
  },
  {
   "cell_type": "code",
   "execution_count": null,
   "metadata": {},
   "outputs": [],
   "source": [
    "DeltaSigma = mod.predict_excess_surface_density(r3d, cluster_mass, cluster_concentration, z_cl, cosmo=cosmo_ccl, \n",
    "                                              delta_mdef=mass_Delta, \n",
    "                                              halo_profile_model=density_profile_parametrization)"
   ]
  },
  {
   "cell_type": "code",
   "execution_count": null,
   "metadata": {},
   "outputs": [],
   "source": [
    "plot_profile(r3d, DeltaSigma, \"$\\\\rho$\", 'CLMM')\n",
    "plot_profile(r3d, dat['DeltaSigma'], \"$\\\\rho$\", 'numcosmo')"
   ]
  },
  {
   "cell_type": "code",
   "execution_count": null,
   "metadata": {},
   "outputs": [],
   "source": [
    "plt.plot(r3d, (DeltaSigma-dat['DeltaSigma'])/DeltaSigma,'.')\n",
    "plt.xscale('log')"
   ]
  },
  {
   "cell_type": "code",
   "execution_count": null,
   "metadata": {},
   "outputs": [],
   "source": [
    "gammat = mod.predict_tangential_shear(r3d, mdelta=cluster_mass, cdelta=cluster_concentration, z_cluster=z_cl, \n",
    "                                    z_source=z_source, cosmo=cosmo_ccl, delta_mdef=mass_Delta, \n",
    "                                    halo_profile_model=density_profile_parametrization, \n",
    "                                    z_src_model='single_plane')"
   ]
  },
  {
   "cell_type": "code",
   "execution_count": null,
   "metadata": {},
   "outputs": [],
   "source": [
    "gammat = mod.predict_tangential_shear(r3d, mdelta=cluster_mass, cdelta=cluster_concentration, z_cluster=z_cl, \n",
    "                                    z_source=0.01, cosmo=cosmo_ccl, delta_mdef=mass_Delta, \n",
    "                                    halo_profile_model=density_profile_parametrization, \n",
    "                                    z_src_model='single_plane')"
   ]
  },
  {
   "cell_type": "code",
   "execution_count": null,
   "metadata": {},
   "outputs": [],
   "source": [
    "import warnings"
   ]
  },
  {
   "cell_type": "code",
   "execution_count": null,
   "metadata": {},
   "outputs": [],
   "source": [
    "warnings.warn"
   ]
  },
  {
   "cell_type": "code",
   "execution_count": null,
   "metadata": {},
   "outputs": [],
   "source": [
    "z = np.linspace(0,5)"
   ]
  },
  {
   "cell_type": "code",
   "execution_count": null,
   "metadata": {},
   "outputs": [],
   "source": [
    "[z]"
   ]
  },
  {
   "cell_type": "code",
   "execution_count": null,
   "metadata": {},
   "outputs": [],
   "source": [
    "np.sum(z<z_cl)!=0"
   ]
  },
  {
   "cell_type": "code",
   "execution_count": null,
   "metadata": {},
   "outputs": [],
   "source": [
    "plot_profile(r3d, gammat, \"$\\\\rho$\", 'CLMM')\n",
    "plot_profile(r3d, dat['gammat'], \"$\\\\rho$\", 'numcosmo')"
   ]
  },
  {
   "cell_type": "code",
   "execution_count": null,
   "metadata": {},
   "outputs": [],
   "source": [
    "plt.plot(r3d, (gammat-dat['gammat'])/gammat,'.')\n",
    "plt.xscale('log')"
   ]
  },
  {
   "cell_type": "code",
   "execution_count": null,
   "metadata": {},
   "outputs": [],
   "source": [
    "kappa = mod.predict_convergence(r3d, mdelta=cluster_mass, cdelta=cluster_concentration, \n",
    "                               z_cluster=z_cl, z_source=z_source,\n",
    "                               cosmo=cosmo_ccl, delta_mdef=mass_Delta, \n",
    "                               halo_profile_model=density_profile_parametrization, \n",
    "                               z_src_model='single_plane')"
   ]
  },
  {
   "cell_type": "code",
   "execution_count": null,
   "metadata": {},
   "outputs": [],
   "source": [
    "plot_profile(r3d, kappa, \"$\\\\rho$\", 'CLMM')\n",
    "plot_profile(r3d, dat['kappa'], \"$\\\\rho$\", 'numcosmo')"
   ]
  },
  {
   "cell_type": "code",
   "execution_count": null,
   "metadata": {},
   "outputs": [],
   "source": [
    "plt.plot(r3d, (kappa-dat['kappa'])/kappa,'.')\n",
    "plt.xscale('log')"
   ]
  },
  {
   "cell_type": "code",
   "execution_count": null,
   "metadata": {},
   "outputs": [],
   "source": [
    "gt = mod.predict_reduced_tangential_shear(r3d, mdelta=cluster_mass, cdelta=cluster_concentration, \n",
    "                                        z_cluster=z_cl, z_source=z_source, cosmo=cosmo_ccl, \n",
    "                                        delta_mdef=mass_Delta, \n",
    "                                        halo_profile_model=density_profile_parametrization, \n",
    "                                        z_src_model='single_plane')"
   ]
  },
  {
   "cell_type": "code",
   "execution_count": null,
   "metadata": {},
   "outputs": [],
   "source": [
    "plot_profile(r3d, gt, \"$\\\\rho$\", 'CLMM')\n",
    "plot_profile(r3d, dat['gt'], \"$\\\\rho$\", 'numcosmo')"
   ]
  },
  {
   "cell_type": "code",
   "execution_count": null,
   "metadata": {},
   "outputs": [],
   "source": [
    "plt.plot(r3d, (gt-dat['gt'])/kappa,'.')\n",
    "plt.xscale('log')"
   ]
  },
  {
   "cell_type": "code",
   "execution_count": null,
   "metadata": {},
   "outputs": [],
   "source": [
    "mu = mod.predict_magnification(r3d, mdelta=cluster_mass, cdelta=cluster_concentration, \n",
    "                                        z_cluster=z_cl, z_source=z_source, cosmo=cosmo_ccl, \n",
    "                                        delta_mdef=mass_Delta, \n",
    "                                        halo_profile_model=density_profile_parametrization, \n",
    "                                        z_src_model='single_plane')"
   ]
  },
  {
   "cell_type": "code",
   "execution_count": null,
   "metadata": {},
   "outputs": [],
   "source": [
    "plot_profile(r3d, mu, \"$\\\\rho$\", 'CLMM')\n",
    "plot_profile(r3d, dat['mag'], \"$\\\\rho$\", 'numcosmo')"
   ]
  },
  {
   "cell_type": "code",
   "execution_count": null,
   "metadata": {},
   "outputs": [],
   "source": [
    "plt.plot(r3d, (mu-dat['mag'])/mu,'.')\n",
    "plt.ylabel('1 - $\\mu_{Nc} / \\mu_{CLMM} $', fontsize='xx-large')\n",
    "plt.xlabel('$r[Mpc]$', fontsize='xx-large')\n",
    "plt.xscale('log')\n",
    "plt.grid()"
   ]
  },
  {
   "cell_type": "markdown",
   "metadata": {},
   "source": [
    "## Magnification definition"
   ]
  },
  {
   "cell_type": "markdown",
   "metadata": {},
   "source": [
    "#in the WL limit\n",
    "\n",
    "def mu_wl(kappa): \n",
    "    \"magnification with WL approximation\"\n",
    "    mu_wl = 1 + 2*kappa\n",
    "    return mu_wl"
   ]
  },
  {
   "cell_type": "code",
   "execution_count": null,
   "metadata": {},
   "outputs": [],
   "source": [
    "#arbitrary Wl/SL limit : when the convergence is k>0.1\n",
    "WL_limit_radius= r3d[kappa<0.1][0]"
   ]
  },
  {
   "cell_type": "markdown",
   "metadata": {},
   "source": [
    "magnification = mu(kappa,gammat)\n",
    "magnification_wl = mu_wl(kappa)"
   ]
  },
  {
   "cell_type": "code",
   "execution_count": null,
   "metadata": {},
   "outputs": [],
   "source": [
    "plot_profile(r3d,mu, '$\\mu$', \"no approx.\")\n",
    "#plot_profile(r3d,magnification_wl, '$\\mu$', \"WL approx.\")\n",
    "plt.axvline(WL_limit_radius,color='black', linestyle='dashed', label=\"r inside which $\\\\kappa>0.1$\")\n",
    "plt.legend()\n",
    "plt.yscale('linear')"
   ]
  },
  {
   "cell_type": "markdown",
   "metadata": {},
   "source": [
    "## Magnification bias definition"
   ]
  },
  {
   "cell_type": "code",
   "execution_count": null,
   "metadata": {},
   "outputs": [],
   "source": [
    "#magnification bias : number of lensed source over the number of unlensed source\n",
    "#beta = slope of the power law luminosity function around the limiting flux of the survey, with N ~ AS^(-beta)\n",
    "\n",
    "def mu_bias(mu,beta):\n",
    "    mu_bias = mu**(beta-1)\n",
    "    return mu_bias"
   ]
  },
  {
   "cell_type": "code",
   "execution_count": null,
   "metadata": {},
   "outputs": [],
   "source": [
    "#For early type galaxies\n",
    "\n",
    "alpha_ET = 0.6\n",
    "beta_ET = alpha_ET * 2.5\n",
    "\n",
    "plt.plot(r3d, mu_bias(mu,beta_ET))\n",
    "#plt.plot(r3d, mu_bias(magnification_wl,beta_ET))\n",
    "plt.xscale('log')\n",
    "plt.axhline(1,color='black',alpha=0.2)\n",
    "plt.axvline(WL_limit_radius,color='black', linestyle='dashed', label=\"r inside which $\\\\kappa>0.1$\")"
   ]
  },
  {
   "cell_type": "code",
   "execution_count": null,
   "metadata": {},
   "outputs": [],
   "source": [
    "#For late type galaxies\n",
    "\n",
    "alpha_LT = -1.30\n",
    "beta_LT = alpha_LT * 2.5\n",
    "\n",
    "plt.plot(r3d, mu_bias(mu,beta_LT))\n",
    "#plt.plot(r3d, mu_bias(magnification_wl,beta_LT))\n",
    "plt.xscale('log')\n",
    "plt.axhline(1,color='black',alpha=0.2)\n",
    "plt.axvline(WL_limit_radius,color='black', linestyle='dashed', label=\"r inside which $\\\\kappa>0.1$\")"
   ]
  },
  {
   "cell_type": "markdown",
   "metadata": {},
   "source": [
    "## Magnification bias in redshift distribution"
   ]
  },
  {
   "cell_type": "markdown",
   "metadata": {},
   "source": [
    "### Redshift ditribution"
   ]
  },
  {
   "cell_type": "code",
   "execution_count": null,
   "metadata": {},
   "outputs": [],
   "source": [
    "#definition of a redshift distribution following Chang et al. 2013 arXiv:1305.0793\n",
    "\n",
    "def neff(z):\n",
    "    \"\"\"Redshift distribution function\"\"\"\n",
    "    neff_0, alpha, beta, z0 = 30, 1.24, 1.01, 0.51\n",
    "    return neff_0 * (z**alpha)*np.exp(-(z/z0)**beta)"
   ]
  },
  {
   "cell_type": "code",
   "execution_count": null,
   "metadata": {},
   "outputs": [],
   "source": [
    "#definition of a redshift distribution following Chang et al. 2013 arXiv:1305.0793\n",
    "\n",
    "def pdf_z(z):\n",
    "    \"\"\"Redshift distribution function\"\"\"\n",
    "    alpha, beta, z0 = 1.24, 1.01, 0.51\n",
    "    return (z**alpha)*np.exp(-(z/z0)**beta)"
   ]
  },
  {
   "cell_type": "code",
   "execution_count": null,
   "metadata": {},
   "outputs": [],
   "source": [
    "z = np.linspace(0.2,5,10000)[1:]"
   ]
  },
  {
   "cell_type": "code",
   "execution_count": null,
   "metadata": {},
   "outputs": [],
   "source": [
    "plt.plot(z, neff(z),'k', label ='unlensed')\n",
    "plt.plot(z, (neff(z) * mu_bias(mu_2d, beta_ET))[25,:],'r', label ='unlensed early type galaxies')\n",
    "plt.plot(z, (neff(z) * mu_bias(mu_2d, beta_ET))[50,:],'r--', label ='unlensed early type galaxies')\n",
    "plt.plot(z, neff(z) * mu_bias(mu_2d, beta_LT)[50,:],'b', label ='lensed late type galaxies')\n",
    "plt.legend()\n",
    "plt.xlabel('z');\n",
    "plt.ylabel('neff [arcmin$^{-2}$]')"
   ]
  },
  {
   "cell_type": "code",
   "execution_count": null,
   "metadata": {},
   "outputs": [],
   "source": [
    "plt.plot(z, (neff(z) * mu_bias(mu_2d, beta_ET))[25,:] - neff(z))"
   ]
  },
  {
   "cell_type": "code",
   "execution_count": null,
   "metadata": {},
   "outputs": [],
   "source": [
    "#cheap way of doing mean\n",
    "zmean = np.sum(neff(z)*z)/np.sum(neff(z))"
   ]
  },
  {
   "cell_type": "code",
   "execution_count": null,
   "metadata": {},
   "outputs": [],
   "source": [
    "#cheap way of doing mean\n",
    "zmean_lensed_ET = np.zeros(r3d.size)\n",
    "for i in range(r3d.size):\n",
    "    zmean_lensed_ET[i] = np.sum((neff(z) * mu_bias(mu_2d, beta_ET))[i,:]*z)/np.sum((neff(z) * mu_bias(mu_2d, beta_ET))[25,:])"
   ]
  },
  {
   "cell_type": "code",
   "execution_count": null,
   "metadata": {},
   "outputs": [],
   "source": [
    "zmean_lensed_ET/zmean"
   ]
  },
  {
   "cell_type": "code",
   "execution_count": null,
   "metadata": {},
   "outputs": [],
   "source": [
    "plt.plot(r3d, zmean_lensed_ET/zmean - 1, 'k.')\n",
    "plt.xscale('log')\n",
    "plt.grid()\n",
    "plt.axhline(0)"
   ]
  },
  {
   "cell_type": "code",
   "execution_count": null,
   "metadata": {},
   "outputs": [],
   "source": [
    "#mean redshift of the distribution\n",
    "\n",
    "def z_mean(func, a, b):\n",
    "    num = integrate.quad(lambda x: func(x)*x, a, b)\n",
    "    den = integrate.quad(lambda x: func(x), a, b)\n",
    "    return num[0]/den[0]"
   ]
  },
  {
   "cell_type": "code",
   "execution_count": null,
   "metadata": {},
   "outputs": [],
   "source": [
    "z_mean(neff,0,5)"
   ]
  },
  {
   "cell_type": "code",
   "execution_count": null,
   "metadata": {},
   "outputs": [],
   "source": [
    "def test(z):\n",
    "    test = (neff(z) * mu_bias(mu_2d, beta_ET))[25,:]\n",
    "    return test"
   ]
  },
  {
   "cell_type": "code",
   "execution_count": null,
   "metadata": {},
   "outputs": [],
   "source": [
    "mu_2d.shape"
   ]
  },
  {
   "cell_type": "code",
   "execution_count": null,
   "metadata": {},
   "outputs": [],
   "source": [
    "mu_bias(mu_2d,beta_ET)"
   ]
  },
  {
   "cell_type": "code",
   "execution_count": null,
   "metadata": {},
   "outputs": [],
   "source": [
    "(z * neff(z) * mu_bias(mu_2d, beta_ET))"
   ]
  },
  {
   "cell_type": "code",
   "execution_count": null,
   "metadata": {},
   "outputs": [],
   "source": [
    "#here we make the simplification that their is the same number if sources galaxies in each bin and \\\n",
    "#that they have the same redshift distribution\n",
    "mu_2d = np.zeros((r3d.size, z.size))\n",
    "\n",
    "for i in range(r3d.size):\n",
    "    mu_2d[i,:] = mod.predict_magnification(r3d[i], mdelta=cluster_mass, cdelta=cluster_concentration, \n",
    "                                        z_cluster=z_cl, z_source=z, cosmo=cosmo_ccl, \n",
    "                                        delta_mdef=mass_Delta, \n",
    "                                        halo_profile_model=density_profile_parametrization, \n",
    "                                        z_src_model='single_plane')"
   ]
  },
  {
   "cell_type": "code",
   "execution_count": null,
   "metadata": {},
   "outputs": [],
   "source": []
  },
  {
   "cell_type": "code",
   "execution_count": null,
   "metadata": {},
   "outputs": [],
   "source": [
    "plt.loglog(r3d, np.nanmean(mu_2d,axis=1), 'r')\n",
    "plot_profile(r3d,mu, '$\\mu$', \"no approx.\")"
   ]
  },
  {
   "cell_type": "code",
   "execution_count": null,
   "metadata": {},
   "outputs": [],
   "source": [
    "plt.plot(z, np.nanmean(mu_2d,axis=0), 'r')\n",
    "plt.grid()\n",
    "plt.axvline(0.2)"
   ]
  },
  {
   "cell_type": "code",
   "execution_count": null,
   "metadata": {},
   "outputs": [],
   "source": [
    "plt.figure(figsize=(10,10))\n",
    "plt.imshow(mu_2d,origin=\"lower\",vmin=-1, vmax=10, extent=[z.min(),z.max(),r3d.min(), r3d.max()],cmap='seismic')\n",
    "plt.yscale('log')\n",
    "plt.colorbar()"
   ]
  },
  {
   "cell_type": "code",
   "execution_count": null,
   "metadata": {},
   "outputs": [],
   "source": [
    "z_cl"
   ]
  },
  {
   "cell_type": "code",
   "execution_count": null,
   "metadata": {},
   "outputs": [],
   "source": []
  },
  {
   "cell_type": "code",
   "execution_count": null,
   "metadata": {},
   "outputs": [],
   "source": []
  },
  {
   "cell_type": "code",
   "execution_count": null,
   "metadata": {},
   "outputs": [],
   "source": []
  },
  {
   "cell_type": "code",
   "execution_count": null,
   "metadata": {},
   "outputs": [],
   "source": []
  },
  {
   "cell_type": "code",
   "execution_count": null,
   "metadata": {},
   "outputs": [],
   "source": [
    "test = np.random.choice(z, size = 20, p = pdf_z(z)/np.sum(pdf_z(z)))"
   ]
  },
  {
   "cell_type": "code",
   "execution_count": null,
   "metadata": {},
   "outputs": [],
   "source": [
    "test = np.random.choice(z, size = 1000, p = pdf_z(z)/np.sum(pdf_z(z)))"
   ]
  },
  {
   "cell_type": "code",
   "execution_count": null,
   "metadata": {},
   "outputs": [],
   "source": [
    "ideal_with_src_dist = mock.generate_galaxy_catalog(\n",
    "    cluster_mass, z_cl, cluster_concentration, cosmo_ccl, ngals, mass_Delta, 'chang13', zsrc_min=z_cl + 0.2,\n",
    "    zsrc_max=7.0)"
   ]
  },
  {
   "cell_type": "code",
   "execution_count": null,
   "metadata": {},
   "outputs": [],
   "source": [
    "def trunc_pzfxn(z, zmin):\n",
    "    \"\"\"Truncated redshift distribution function\"\"\"\n",
    "    return np.heaviside((z>zmin),0)*pzfxn(z)"
   ]
  },
  {
   "cell_type": "code",
   "execution_count": null,
   "metadata": {},
   "outputs": [],
   "source": [
    "z = np.linspace(0,5)\n",
    "\n",
    "plt.hist(ideal_with_src_dist['z'],bins=+20, density=True, stacked=True);\n",
    "plt.plot(z, trunc_pzfxn(z, z_cl+0.2),'k', label ='unlensed')"
   ]
  },
  {
   "cell_type": "code",
   "execution_count": null,
   "metadata": {},
   "outputs": [],
   "source": [
    "plt.plot(z, pzfxn(z),'k', label ='unlensed')\n",
    "plt.plot(z, pzfxn(z) * mu_bias(mu[np.argwhere(r3d>0.1)][0],beta_ET),'r', label ='unlensed early type galaxies')\n",
    "plt.plot(z, pzfxn(z) * mu_bias(mu[np.argwhere(r3d>0.1)][0],beta_LT),'b', label ='lensed late type galaxies')\n",
    "plt.legend()"
   ]
  },
  {
   "cell_type": "markdown",
   "metadata": {},
   "source": [
    "### Compute mean of the distribution"
   ]
  },
  {
   "cell_type": "code",
   "execution_count": null,
   "metadata": {},
   "outputs": [],
   "source": [
    "#mean redshift of the distribution\n",
    "\n",
    "def z_mean(func, a, b):\n",
    "    num = integrate.quad(lambda x: func(x)*x, a, b)\n",
    "    den = integrate.quad(lambda x: func(x), a, b)\n",
    "    return num[0]/den[0]"
   ]
  },
  {
   "cell_type": "code",
   "execution_count": null,
   "metadata": {},
   "outputs": [],
   "source": [
    "def my_pzfxn(z):\n",
    "    return trunc_pzfxn(z,z_cl+0.2)"
   ]
  },
  {
   "cell_type": "code",
   "execution_count": null,
   "metadata": {},
   "outputs": [],
   "source": [
    "z_mean(my_pzfxn, 0, np.inf)"
   ]
  },
  {
   "cell_type": "code",
   "execution_count": null,
   "metadata": {},
   "outputs": [],
   "source": [
    "z_mean(pzfxn, 0.1, 3)"
   ]
  },
  {
   "cell_type": "code",
   "execution_count": null,
   "metadata": {},
   "outputs": [],
   "source": [
    "np.mean(ideal_with_src_dist['z'])"
   ]
  },
  {
   "cell_type": "markdown",
   "metadata": {},
   "source": [
    "### Compute the magnification of sources that follow a redshift distribution"
   ]
  },
  {
   "cell_type": "code",
   "execution_count": null,
   "metadata": {},
   "outputs": [],
   "source": [
    "#here we make the simplification that their is the same number if sources galaxies in each bin and \\\n",
    "#that they have the same redshift distribution\n",
    "mu_2d = np.zeros((r3d.size, ngals))\n",
    "\n",
    "for i in range(r3d.size):\n",
    "    mu_2d[i,:] = mod.predict_magnification(r3d[i], mdelta=cluster_mass, cdelta=cluster_concentration, \n",
    "                                        z_cluster=z_cl, z_source=ideal_with_src_dist['z'], cosmo=cosmo_ccl, \n",
    "                                        delta_mdef=mass_Delta, \n",
    "                                        halo_profile_model=density_profile_parametrization, \n",
    "                                        z_src_model='single_plane')"
   ]
  },
  {
   "cell_type": "code",
   "execution_count": null,
   "metadata": {},
   "outputs": [],
   "source": [
    "plt.loglog(r3d, np.nanmean(mu_2d,axis=1), 'r')\n",
    "plot_profile(r3d,mu, '$\\mu$', \"no approx.\")"
   ]
  },
  {
   "cell_type": "code",
   "execution_count": null,
   "metadata": {},
   "outputs": [],
   "source": [
    "pzfxn(z) * mu_bias(mu[np.argwhere(r3d>0.1)][0],beta_LT)"
   ]
  },
  {
   "cell_type": "code",
   "execution_count": null,
   "metadata": {},
   "outputs": [],
   "source": [
    "# THIS IS INCORRECT\n",
    "\n",
    "plt.hist(ideal_with_src_dist['z'],bins=+20, density=True, stacked=True,label='unlensed',color='yellow');\n",
    "plt.hist(ideal_with_src_dist['z']* mu_bias(np.nanmean(mu_2d,axis=0),beta_ET),bins=+20, density=True, stacked=True,alpha=0.2, label='lensed ET');\n",
    "plt.hist(ideal_with_src_dist['z']* mu_bias(np.nanmean(mu_2d,axis=0),beta_LT),bins=+20, density=True, stacked=True,alpha=0.2, label='lensed LT');\n",
    "plt.legend()"
   ]
  },
  {
   "cell_type": "code",
   "execution_count": null,
   "metadata": {},
   "outputs": [],
   "source": [
    "plt.plot(z, pzfxn(z),'k', label ='unlensed')\n",
    "plt.plot(z, pzfxn(z) * mu_bias(np.nanmean(mu_2d,axis=0),beta_ET),'r', label ='unlensed early type galaxies')\n",
    "plt.plot(z, pzfxn(z) * mu_bias(np.nanmean(mu_2d,axis=0),beta_LT),'b', label ='lensed late type galaxies')\n",
    "plt.legend()"
   ]
  },
  {
   "cell_type": "code",
   "execution_count": null,
   "metadata": {},
   "outputs": [],
   "source": [
    "z_mean(pzfxn, 0.4, np.inf)"
   ]
  },
  {
   "cell_type": "code",
   "execution_count": null,
   "metadata": {},
   "outputs": [],
   "source": [
    "np.mean(ideal_with_src_dist['z'])"
   ]
  },
  {
   "cell_type": "code",
   "execution_count": null,
   "metadata": {},
   "outputs": [],
   "source": [
    "np.mean(ideal_with_src_dist['z']* mu_bias(np.nanmean(mu_2d,axis=0),beta_ET))"
   ]
  },
  {
   "cell_type": "code",
   "execution_count": null,
   "metadata": {},
   "outputs": [],
   "source": [
    "np.mean(ideal_with_src_dist['z']* mu_bias(np.nanmean(mu_2d,axis=0),beta_LT))"
   ]
  },
  {
   "cell_type": "markdown",
   "metadata": {},
   "source": [
    "### TESTS"
   ]
  },
  {
   "cell_type": "code",
   "execution_count": null,
   "metadata": {},
   "outputs": [],
   "source": [
    "def beta_z(z, beta_0,beta_1):\n",
    "    beta = beta_0 + beta_1 * (1+z)\n",
    "    return beta\n"
   ]
  },
  {
   "cell_type": "code",
   "execution_count": null,
   "metadata": {},
   "outputs": [],
   "source": [
    "def mu_bias(z, mu, beta_0, beta_1):\n",
    "    mu_bias = mu**(beta_z(z,beta_0, beta_1) -1)\n",
    "    return mu_bias"
   ]
  },
  {
   "cell_type": "code",
   "execution_count": null,
   "metadata": {},
   "outputs": [],
   "source": [
    "beta_0, beta_1 = 0.9, 0.1\n",
    "mu_bias(z, magnification[np.argwhere(r3d>0.1)][0], beta_0, beta_1)"
   ]
  },
  {
   "cell_type": "code",
   "execution_count": null,
   "metadata": {},
   "outputs": [],
   "source": [
    "def fct(z):\n",
    "    return pzfxn(z)*mu_bias(z, magnification[np.argwhere(r3d>0.1)][0], beta_0, beta_1)"
   ]
  },
  {
   "cell_type": "code",
   "execution_count": null,
   "metadata": {},
   "outputs": [],
   "source": [
    "z_mean(fct, 0, np.inf)"
   ]
  }
 ],
 "metadata": {
  "kernelspec": {
   "display_name": "Python 3",
   "language": "python",
   "name": "python3"
  },
  "language_info": {
   "codemirror_mode": {
    "name": "ipython",
    "version": 3
   },
   "file_extension": ".py",
   "mimetype": "text/x-python",
   "name": "python",
   "nbconvert_exporter": "python",
   "pygments_lexer": "ipython3",
   "version": "3.7.6"
  }
 },
 "nbformat": 4,
 "nbformat_minor": 4
}
