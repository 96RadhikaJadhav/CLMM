{
 "cells": [
  {
   "cell_type": "code",
   "execution_count": 1,
   "metadata": {},
   "outputs": [],
   "source": [
    "import numpy as np\n",
    "import matplotlib.pyplot as plt\n",
    "from astropy.coordinates import SkyCoord\n",
    "from astropy.cosmology import FlatLambdaCDM\n",
    "from astropy.table import Table\n",
    "import GCRCatalogs\n",
    "from clmm import ShearAzimuthalAverager"
   ]
  },
  {
   "cell_type": "markdown",
   "metadata": {},
   "source": [
    "### Read in the extragalactic catalog\n",
    "- identify the most massive halo\n",
    "- create a cluster dictionary (ra, dec, z)"
   ]
  },
  {
   "cell_type": "code",
   "execution_count": 2,
   "metadata": {},
   "outputs": [
    {
     "name": "stderr",
     "output_type": "stream",
     "text": [
      "/global/homes/m/mho1/.local/lib/python3.6/site-packages/GCRCatalogs/alphaq.py:105: UserWarning: No md5 sum specified in the config file\n",
      "  warnings.warn('No md5 sum specified in the config file')\n"
     ]
    },
    {
     "name": "stdout",
     "output_type": "stream",
     "text": [
      "[  5.95588752e+14] 1.15419 2.20399 0.354081722946\n"
     ]
    }
   ],
   "source": [
    "extragalactic_cat = GCRCatalogs.load_catalog('proto-dc2_v2.1.2_test')\n",
    "\n",
    "# get a massive halo!\n",
    "massive_halos = extragalactic_cat.get_quantities(['halo_mass', 'redshift','ra', 'dec'],\\\n",
    "                                                 filters=['halo_mass > 1e14','is_central==True'])\n",
    "\n",
    "m = massive_halos['halo_mass']\n",
    "select = (m == np.max(m))\n",
    "ra_cl = massive_halos['ra'][select][0]\n",
    "dec_cl = massive_halos['dec'][select][0]\n",
    "z_cl = massive_halos['redshift'][select][0]\n",
    "print(m[select], ra_cl, dec_cl, z_cl)\n",
    "\n",
    "# make a dictionary for cluster\n",
    "cl_dict = {'z':z_cl, 'ra':ra_cl, 'dec': dec_cl}\n"
   ]
  },
  {
   "cell_type": "markdown",
   "metadata": {},
   "source": [
    "### Apply coordinates and redshift cuts to select backgroud galaxies around the cluster"
   ]
  },
  {
   "cell_type": "code",
   "execution_count": 3,
   "metadata": {},
   "outputs": [],
   "source": [
    "# get galaxies around it\n",
    "ra_min, ra_max = ra_cl-0.3, ra_cl+0.3\n",
    "dec_min, dec_max = dec_cl-0.3, dec_cl+0.3\n",
    "z_min = z_cl + 0.1\n",
    "z_max = 1.5\n",
    "\n",
    "coord_filters = [\n",
    "    'ra >= {}'.format(ra_min),\n",
    "    'ra < {}'.format(ra_max),\n",
    "    'dec >= {}'.format(dec_min),\n",
    "    'dec < {}'.format(dec_max),\n",
    "]\n",
    "z_filters = ['redshift >= {}'.format(z_min),'redshift < {}'.format(z_max)]\n",
    "\n",
    "gal_cat = extragalactic_cat.get_quantities(['galaxy_id', 'ra', 'dec', 'shear_1', 'shear_2', 'shear_2_phosim', 'shear_2_treecorr',\\\n",
    "                                            'redshift', 'convergence'], filters=(coord_filters + z_filters))\n",
    "\n",
    "# store the results into an astropy table\n",
    "t = Table([gal_cat['galaxy_id'],gal_cat['ra'],gal_cat['dec'],gal_cat['shear_1'],\\\n",
    "          gal_cat['shear_2'],gal_cat['redshift'],gal_cat['convergence']], \\\n",
    "          names=('id','ra','dec', 'gamma1', 'gamma2', 'z', 'kappa'))\n"
   ]
  },
  {
   "cell_type": "markdown",
   "metadata": {},
   "source": [
    "### Computes the tangential and cross shear profiles"
   ]
  },
  {
   "cell_type": "markdown",
   "metadata": {},
   "source": [
    "#### Default binning"
   ]
  },
  {
   "cell_type": "code",
   "execution_count": 4,
   "metadata": {},
   "outputs": [
    {
     "name": "stderr",
     "output_type": "stream",
     "text": [
      "/global/common/cori/software/python/3.6-anaconda-5.2/lib/python3.6/site-packages/astropy/table/row.py:65: FutureWarning: elementwise == comparison failed and returning scalar instead; this will raise an error or perform elementwise comparison in the future.\n",
      "  return self.as_void() == other\n"
     ]
    },
    {
     "name": "stdout",
     "output_type": "stream",
     "text": [
      "read g1, g2 directly\n"
     ]
    },
    {
     "data": {
      "image/png": "[encoded data removed]",
      "text/plain": [
       "<Figure size 432x288 with 1 Axes>"
      ]
     },
     "metadata": {
      "needs_background": "light"
     },
     "output_type": "display_data"
    }
   ],
   "source": [
    "# create an object, given cluster dictionary and galaxy astropy table\n",
    "saa = ShearAzimuthalAverager(cl_dict,t)\n",
    "\n",
    "# compute tangential and cross shear for each galaxy\n",
    "saa.compute_shear()\n",
    "\n",
    "# make the binned profile\n",
    "binned_profile = saa.make_shear_profile()\n",
    "\n",
    "saa.plot_profile()   "
   ]
  },
  {
   "cell_type": "markdown",
   "metadata": {},
   "source": [
    "#### User-defined binning"
   ]
  },
  {
   "cell_type": "code",
   "execution_count": 5,
   "metadata": {},
   "outputs": [
    {
     "data": {
      "text/html": [
       "<i>Table length=4</i>\n",
       "<table id=\"table46913504648048\" class=\"table-striped table-bordered table-condensed\">\n",
       "<thead><tr><th>radius</th><th>ang_separation</th><th>g_t</th><th>g_x</th><th>g_t_err</th><th>g_x_err</th></tr></thead>\n",
       "<thead><tr><th>Mpc</th><th>rad</th><th></th><th></th><th></th><th></th></tr></thead>\n",
       "<thead><tr><th>float64</th><th>float64</th><th>float64</th><th>float64</th><th>float64</th><th>float64</th></tr></thead>\n",
       "<tr><td>0.14397379756</td><td>0.000140245712828</td><td>0.0116230389103</td><td>-0.000505482079461</td><td>0.0113873202354</td><td>0.0100326472893</td></tr>\n",
       "<tr><td>0.384573996067</td><td>0.000374615745386</td><td>0.0374312028289</td><td>-0.00163857394364</td><td>0.0147435264662</td><td>0.0121505800635</td></tr>\n",
       "<tr><td>0.610790014267</td><td>0.000594974146225</td><td>0.0427249409258</td><td>-0.00664938986301</td><td>0.0109946569428</td><td>0.0122991204262</td></tr>\n",
       "<tr><td>0.923779428005</td><td>0.000899858947378</td><td>0.0375277325511</td><td>0.00194689736236</td><td>0.0141571117565</td><td>0.0127463107929</td></tr>\n",
       "</table>"
      ],
      "text/plain": [
       "<Table length=4>\n",
       "    radius       ang_separation  ...     g_t_err         g_x_err    \n",
       "     Mpc              rad        ...                                \n",
       "   float64          float64      ...     float64         float64    \n",
       "-------------- ----------------- ... --------------- ---------------\n",
       " 0.14397379756 0.000140245712828 ... 0.0113873202354 0.0100326472893\n",
       "0.384573996067 0.000374615745386 ... 0.0147435264662 0.0121505800635\n",
       "0.610790014267 0.000594974146225 ... 0.0109946569428 0.0122991204262\n",
       "0.923779428005 0.000899858947378 ... 0.0141571117565 0.0127463107929"
      ]
     },
     "execution_count": 5,
     "metadata": {},
     "output_type": "execute_result"
    }
   ],
   "source": [
    "bins = [0., 0.2, 0.5, 0.7, 1.1]\n",
    "binned_profile2 = saa.make_shear_profile(bins=bins)\n",
    "binned_profile2"
   ]
  },
  {
   "cell_type": "code",
   "execution_count": 6,
   "metadata": {},
   "outputs": [
    {
     "data": {
      "image/png": "[encoded data removed]",
      "text/plain": [
       "<Figure size 432x288 with 1 Axes>"
      ]
     },
     "metadata": {
      "needs_background": "light"
     },
     "output_type": "display_data"
    }
   ],
   "source": [
    "saa.plot_profile()"
   ]
  },
  {
   "cell_type": "code",
   "execution_count": null,
   "metadata": {},
   "outputs": [],
   "source": []
  },
  {
   "cell_type": "code",
   "execution_count": null,
   "metadata": {},
   "outputs": [],
   "source": []
  }
 ],
 "metadata": {
  "kernelspec": {
   "display_name": "Python [conda env:3.6-anaconda-5.2]",
   "language": "python",
   "name": "conda-env-3.6-anaconda-5.2-py"
  },
  "language_info": {
   "codemirror_mode": {
    "name": "ipython",
    "version": 3
   },
   "file_extension": ".py",
   "mimetype": "text/x-python",
   "name": "python",
   "nbconvert_exporter": "python",
   "pygments_lexer": "ipython3",
   "version": "3.6.8"
  }
 },
 "nbformat": 4,
 "nbformat_minor": 2
}
