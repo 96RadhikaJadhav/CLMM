{
 "cells": [
  {
   "cell_type": "code",
   "execution_count": 1,
   "metadata": {
    "collapsed": true
   },
   "outputs": [],
   "source": [
    "import numpy as np\n",
    "import pyccl as ccl\n",
    "import cluster_toolkit as ct"
   ]
  },
  {
   "cell_type": "code",
   "execution_count": 19,
   "metadata": {},
   "outputs": [],
   "source": [
    "# Define CCL cosmology object\n",
    "cosmo = ccl.Cosmology(Omega_c=0.27, Omega_b=0.045, h=0.67, A_s=2.1e-9, n_s=0.96)\n",
    "\n",
    "# Select density profile and profile parametrization options \n",
    "density_profile_parametrization = 'nfw'\n",
    "mass_Delta = 200\n",
    "cluster_mass = 1.e15\n",
    "cluster_concentration = 4\n"
   ]
  },
  {
   "cell_type": "code",
   "execution_count": 18,
   "metadata": {},
   "outputs": [],
   "source": [
    "def get_3d_density_profile(r3d, mdelta, cdelta, Delta=200, profile_type='nfw', cosmo=None):\n",
    "    if profile_type=='nfw':\n",
    "        return ct.rho_nfw_at_r(r3d, mdelta, cdelta, self.cosmo.Omegam, delta=Delta)\n",
    "    else:\n",
    "        pass              \n"
   ]
  },
  {
   "cell_type": "code",
   "execution_count": 31,
   "metadata": {},
   "outputs": [],
   "source": [
    "def calculate_surface_density(r_proj, mdelta, cdelta, Delta=200, profile_type='nfw', \n",
    "                                        cosmo=None):\n",
    "    \"\"\"Sigma\"\"\"\n",
    "\n",
    "    Om_m = cosmo['Omega_c']+cosmo['Omega_b']\n",
    "    \n",
    "    if profile_type=='nfw':\n",
    "        return ct.deltasigma.Sigma_nfw_at_R(r_proj, mdelta, cdelta, Om_m, delta=Delta)\n",
    "    else:\n",
    "        #return ct.Sigma_at_R(r_proj, mdelta, cdelta, cosmo.Omegam, delta=Delta)\n",
    "        pass\n",
    "\n"
   ]
  },
  {
   "cell_type": "code",
   "execution_count": 33,
   "metadata": {
    "collapsed": true
   },
   "outputs": [],
   "source": [
    "def calculate_excess_surface_density(r_proj, mdelta, cdelta, Delta=200, profile_type='nfw', cosmo=None):\n",
    "    \"\"\"DeltaSigma\"\"\"\n",
    "\n",
    "    Om_m = cosmo['Omega_c']+cosmo['Omega_b']\n",
    "\n",
    "    \n",
    "    Sigma = ct.Sigma_at_R(r_proj, mdelta, cdelta, Om_m, delta=Delta)\n",
    "    return ct.deltasigma.DeltaSigma_at_R(r_proj, r_proj, Sigma, mdelta, cdelta, Om_m, delta=Delta)\n",
    " \n"
   ]
  },
  {
   "cell_type": "code",
   "execution_count": 34,
   "metadata": {
    "collapsed": true
   },
   "outputs": [],
   "source": [
    "def _comoving_angular_distance_aexp1_aexp2(cosmo, aexp1, aexp2):\n",
    "    z1 = 1./aexp1 - 1.\n",
    "    z2 = 1./aexp2 - 1. \n",
    "    from astropy.cosmology import FlatLambdaCDM\n",
    "    cosmo = FlatLambdaCDM(H0=70, Om0=0.3)\n",
    "    return cosmo.angular_diameter_distance_z1z2(z1, z2).value\n",
    "    \n",
    "    \n",
    "\n",
    "def get_critical_surface_density(cosmo, z_cluster, z_source):\n",
    "    c = ccl.physical_constants.CLIGHT\n",
    "    G = ccl.physical_constants.GNEWT\n",
    "    aexp_cluster = 1./(1.+z_cluster)\n",
    "    aexp_src = 1./(1.+z_source)\n",
    "    d_l = ccl.comoving_angular_distance(cosmo, aexp_cluster)\n",
    "    d_s = ccl.comoving_angular_distance(cosmo, aexp_src)\n",
    "    d_ls = _comoving_angular_distance_aexp1_aexp2(cosmo, aexp_cluster, aexp_src)\n",
    "\n",
    "    # will need to deal with units: distances in Mpc and some CCL constants in SI\n",
    "    return d_s/(d_l*d_ls) * c*c/(4*np.pi*G)\n",
    "    "
   ]
  },
  {
   "cell_type": "code",
   "execution_count": 35,
   "metadata": {},
   "outputs": [],
   "source": [
    "def compute_tangential_shear_profile(r_proj, mdelta, cdelta, z_cluster, z_source, Delta=200, \n",
    "                                     profile_type='nfw', cosmo=None,\n",
    "                                    z_src_model='single plane'):\n",
    "    '''gamma_t'''\n",
    "    delta_sigma = calculate_excess_surface_density(r_proj, mdelta, cdelta, Delta=Delta, \n",
    "                                                      profile_type=profile_type, cosmo=cosmo)\n",
    "        \n",
    "    if z_src_model == 'single plane':\n",
    "        sigma_c = get_critical_surface_density(cosmo, z_cluster, z_source)\n",
    "        return delta_sigma / sigma_c\n",
    "    elif z_src_model == 'known_z_src': # Discrete case\n",
    "        NotImplementedError('Need to implemnt Beta_s functionality, or average delta_sigma/sigma_c gamma_t = Beta_s*gamma_inf')\n",
    "    elif z_src_model == 'z_src_distribution' : # Continuous ( from a distribution) case\n",
    "        NotImplementedError('Need to implement Beta_s calculation from integrating distribution of redshifts in each radial bin')"
   ]
  },
  {
   "cell_type": "code",
   "execution_count": 37,
   "metadata": {
    "collapsed": true
   },
   "outputs": [],
   "source": [
    "def compute_convergence_profile(r_proj, mdelta, cdelta, z_cluster, z_source, Delta=200, \n",
    "                                     profile_type='nfw', cosmo=None,\n",
    "                                    z_src_model='single plane'):\n",
    "    '''kappa'''\n",
    "\n",
    "    sigma = calculate_surface_density(r_proj, mdelta, cdelta, Delta=Delta, \n",
    "                                                      profile_type=profile_type, cosmo=cosmo)\n",
    "    \n",
    "    if z_src_model == 'single plane':\n",
    "        sigma_c = get_critical_surface_density(cosmo, z_cluster, z_source)\n",
    "        return sigma / sigma_c\n",
    "    elif z_src_model == 'known_z_src': # Discrete case\n",
    "        NotImplementedError('Need to implemnt Beta_s functionality, or average sigma/sigma_c kappa_t = Beta_s*kappa_inf')\n",
    "    elif z_src_model == 'z_src_distribution' : # Continuous ( from a distribution) case\n",
    "        NotImplementedError('Need to implement Beta_s calculation from integrating distribution of redshifts in each radial bin')"
   ]
  },
  {
   "cell_type": "code",
   "execution_count": 38,
   "metadata": {
    "collapsed": true
   },
   "outputs": [],
   "source": [
    "def compute_reduced_tangential_shear_profile(r_proj, mdelta, cdelta, z_cluster, z_source, Delta=200, \n",
    "                                     profile_type='nfw', cosmo=None,\n",
    "                                    z_src_model='single plane'):\n",
    "    '''g_t'''\n",
    "\n",
    "    if z_src_model == 'single plane':\n",
    "        kappa = compute_convergence_profile(r_proj, mdelta, cdelta, z_cluster, z_source, Delta, \n",
    "                                         profile_type, cosmo,\n",
    "                                        z_src_model)\n",
    "        gamma_t = compute_tangential_shear_profile(r_proj, mdelta, cdelta, z_cluster, z_source, Delta, \n",
    "                                         profile_type, cosmo,\n",
    "                                        z_src_model)\n",
    "        return gamma_t / (1 - kappa)\n",
    "    elif z_src_model == 'known_z_src': # Discrete case\n",
    "        NotImplementedError('Need to implemnt Beta_s functionality, or average sigma/sigma_c kappa_t = Beta_s*kappa_inf')\n",
    "    elif z_src_model == 'z_src_distribution' : # Continuous ( from a distribution) case\n",
    "        NotImplementedError('Need to implement Beta_s and Beta_s2 calculation from integrating distribution of redshifts in each radial bin')\n",
    "    "
   ]
  },
  {
   "cell_type": "code",
   "execution_count": null,
   "metadata": {
    "collapsed": true
   },
   "outputs": [],
   "source": []
  }
 ],
 "metadata": {
  "kernelspec": {
   "display_name": "Python 3",
   "language": "python",
   "name": "python3"
  },
  "language_info": {
   "codemirror_mode": {
    "name": "ipython",
    "version": 3
   },
   "file_extension": ".py",
   "mimetype": "text/x-python",
   "name": "python",
   "nbconvert_exporter": "python",
   "pygments_lexer": "ipython3",
   "version": "3.6.3"
  }
 },
 "nbformat": 4,
 "nbformat_minor": 2
}
