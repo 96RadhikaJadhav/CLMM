{
 "cells": [
  {
   "cell_type": "markdown",
   "metadata": {},
   "source": [
    "## Notebook for generating an example galaxy cluster model. "
   ]
  },
  {
   "cell_type": "markdown",
   "metadata": {},
   "source": [
    "This notebook goes through the steps to generate model data for galaxy cluster weak lensing observables.  In particular, we define a galaxy cluster model that follows and NFW distribution and generate various profiles for the model (mass density, convergence, shear, etc.), which we plot.  Note, a full pipeline to measure a galaxy cluster weak lensing mass requires fitting the observed (or mock) data to a model.  "
   ]
  },
  {
   "cell_type": "code",
   "execution_count": null,
   "metadata": {
    "collapsed": true
   },
   "outputs": [],
   "source": [
    "import numpy as np\n",
    "import matplotlib.pyplot as plt\n",
    "%matplotlib inline\n",
    "import clmm.modeling as m\n",
    "from astropy.cosmology import FlatLambdaCDM"
   ]
  },
  {
   "cell_type": "markdown",
   "metadata": {},
   "source": [
    "Define a cosmology using astropy"
   ]
  },
  {
   "cell_type": "code",
   "execution_count": null,
   "metadata": {
    "collapsed": true
   },
   "outputs": [],
   "source": [
    "cosmo = FlatLambdaCDM(H0=70, Om0=0.27, Ob0=0.045)"
   ]
  },
  {
   "cell_type": "markdown",
   "metadata": {},
   "source": [
    "Define the galaxy cluster model.  Here, we choose parameters that describe the galaxy cluster model, including the mass definition, concentration, and mass distribution.  For the mass distribution, we choose a distribution that follows an NFW profile."
   ]
  },
  {
   "cell_type": "code",
   "execution_count": null,
   "metadata": {
    "collapsed": true
   },
   "outputs": [],
   "source": [
    "density_profile_parametrization = 'nfw'\n",
    "mass_Delta = 200\n",
    "cluster_mass = 1.e15\n",
    "cluster_concentration = 4\n",
    "z_cl = 1.\n",
    "z_source = 2."
   ]
  },
  {
   "cell_type": "markdown",
   "metadata": {},
   "source": [
    "Quick test of all modeling functionality"
   ]
  },
  {
   "cell_type": "code",
   "execution_count": null,
   "metadata": {
    "collapsed": true
   },
   "outputs": [],
   "source": [
    "r3d = np.logspace(-2, 2, 100) # Mpc/h\n",
    "r_proj = np.logspace(-2, 2, 100) # Mpc/h"
   ]
  },
  {
   "cell_type": "code",
   "execution_count": null,
   "metadata": {
    "collapsed": true
   },
   "outputs": [],
   "source": [
    "rho = m.get_3d_density(r3d, mdelta=cluster_mass, cdelta=cluster_concentration, \n",
    "                       z_cl=z_cl, cosmo=cosmo, halo_profile_model=density_profile_parametrization)"
   ]
  },
  {
   "cell_type": "code",
   "execution_count": null,
   "metadata": {
    "collapsed": true
   },
   "outputs": [],
   "source": [
    "Sigma = m.predict_surface_density(r_proj, cluster_mass, cluster_concentration, z_cl, cosmo=cosmo, \n",
    "                                  delta_mdef=mass_Delta, \n",
    "                                  halo_profile_model=density_profile_parametrization)"
   ]
  },
  {
   "cell_type": "code",
   "execution_count": null,
   "metadata": {
    "collapsed": true
   },
   "outputs": [],
   "source": [
    "DeltaSigma = m.predict_excess_surface_density(r_proj, cluster_mass, cluster_concentration, z_cl, cosmo=cosmo, \n",
    "                                              delta_mdef=mass_Delta, \n",
    "                                              halo_profile_model=density_profile_parametrization)"
   ]
  },
  {
   "cell_type": "code",
   "execution_count": null,
   "metadata": {},
   "outputs": [],
   "source": [
    "Sigmac = m.get_critical_surface_density(cosmo=cosmo, z_cluster=z_cl, z_source=z_source)"
   ]
  },
  {
   "cell_type": "code",
   "execution_count": null,
   "metadata": {
    "collapsed": true
   },
   "outputs": [],
   "source": [
    "gammat = m.predict_tangential_shear(r_proj, mdelta=cluster_mass, cdelta=cluster_concentration, z_cluster=z_cl, \n",
    "                                    z_source=z_source, cosmo=cosmo, delta_mdef=mass_Delta, \n",
    "                                    halo_profile_model=density_profile_parametrization, \n",
    "                                    z_src_model='single_plane')"
   ]
  },
  {
   "cell_type": "code",
   "execution_count": null,
   "metadata": {
    "collapsed": true
   },
   "outputs": [],
   "source": [
    "kappa = m.predict_convergence(r_proj, mdelta=cluster_mass, cdelta=cluster_concentration, \n",
    "                               z_cluster=z_cl, z_source=z_source,\n",
    "                               cosmo=cosmo, delta_mdef=mass_Delta, \n",
    "                               halo_profile_model=density_profile_parametrization, \n",
    "                               z_src_model='single_plane')"
   ]
  },
  {
   "cell_type": "code",
   "execution_count": null,
   "metadata": {
    "collapsed": true
   },
   "outputs": [],
   "source": [
    "gt = m.predict_reduced_tangential_shear(r_proj, mdelta=cluster_mass, cdelta=cluster_concentration, \n",
    "                                        z_cluster=z_cl, z_source=z_source, cosmo=cosmo, \n",
    "                                        delta_mdef=mass_Delta, \n",
    "                                        halo_profile_model=density_profile_parametrization, \n",
    "                                        z_src_model='single_plane')\n",
    "        "
   ]
  },
  {
   "cell_type": "markdown",
   "metadata": {},
   "source": [
    "Plot the predicted profiles"
   ]
  },
  {
   "cell_type": "code",
   "execution_count": null,
   "metadata": {
    "collapsed": true
   },
   "outputs": [],
   "source": [
    "def plot_profile_3d(r, profile_vals, profile_label='rho'):\n",
    "    plt.loglog(r, profile_vals)\n",
    "    plt.xlabel('r [Mpc/h]', fontsize='xx-large')\n",
    "    plt.ylabel(profile_label, fontsize='xx-large')\n",
    "    \n",
    "def plot_profile_proj(r, profile_vals, profile_label='rho'):\n",
    "    plt.loglog(r, profile_vals)\n",
    "    plt.xlabel('R [Mpc/h]', fontsize='xx-large')\n",
    "    plt.ylabel(profile_label, fontsize='xx-large')"
   ]
  },
  {
   "cell_type": "code",
   "execution_count": null,
   "metadata": {},
   "outputs": [],
   "source": [
    "plot_profile_3d(r3d, rho, '$\\\\rho_{\\\\rm 3d}\\\\; [M_\\odot h^2/Mpc^3]$')"
   ]
  },
  {
   "cell_type": "code",
   "execution_count": null,
   "metadata": {},
   "outputs": [],
   "source": [
    "plot_profile_proj(r_proj, Sigma, '$\\\\Sigma_{\\\\rm 2d}$')"
   ]
  },
  {
   "cell_type": "code",
   "execution_count": null,
   "metadata": {},
   "outputs": [],
   "source": [
    "plot_profile_proj(r_proj, DeltaSigma, '$\\\\Delta\\\\Sigma_{\\\\rm 2d}$')"
   ]
  },
  {
   "cell_type": "code",
   "execution_count": null,
   "metadata": {},
   "outputs": [],
   "source": [
    "plot_profile_proj(r_proj, kappa, '$\\\\kappa$')"
   ]
  },
  {
   "cell_type": "code",
   "execution_count": null,
   "metadata": {},
   "outputs": [],
   "source": [
    "plot_profile_proj(r_proj, gammat, '$\\\\gamma_t$')"
   ]
  },
  {
   "cell_type": "code",
   "execution_count": null,
   "metadata": {},
   "outputs": [],
   "source": [
    "plot_profile_proj(r_proj, gt, '$g_t$')"
   ]
  }
 ],
 "metadata": {
  "kernelspec": {
   "display_name": "Python 3",
   "language": "python",
   "name": "python3"
  },
  "language_info": {
   "codemirror_mode": {
    "name": "ipython",
    "version": 3
   },
   "file_extension": ".py",
   "mimetype": "text/x-python",
   "name": "python",
   "nbconvert_exporter": "python",
   "pygments_lexer": "ipython3",
   "version": "3.6.3"
  }
 },
 "nbformat": 4,
 "nbformat_minor": 4
}
