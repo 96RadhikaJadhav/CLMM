{
 "cells": [
  {
   "cell_type": "markdown",
   "metadata": {},
   "source": [
    "# Notebook examplifying how to model cluster lensing quantities"
   ]
  },
  {
   "cell_type": "markdown",
   "metadata": {},
   "source": [
    "This notebook goes through the steps to generate model data for galaxy cluster weak lensing observables.  In particular, we define a galaxy cluster model that follows and NFW distribution and generate various profiles for the model (mass density, convergence, shear, etc.), which we plot.  Note, a full pipeline to measure a galaxy cluster weak lensing mass requires fitting the observed (or mock) data to a model.  "
   ]
  },
  {
   "cell_type": "code",
   "execution_count": null,
   "metadata": {},
   "outputs": [],
   "source": [
    "import numpy as np\n",
    "import matplotlib.pyplot as plt\n",
    "from matplotlib import rc\n",
    "rc('text', usetex=True)\n",
    "%matplotlib inline\n",
    "import clmm.modeling as m\n",
    "from astropy.cosmology import FlatLambdaCDM"
   ]
  },
  {
   "cell_type": "markdown",
   "metadata": {},
   "source": [
    "### Define a plotting function for later use"
   ]
  },
  {
   "cell_type": "code",
   "execution_count": null,
   "metadata": {},
   "outputs": [],
   "source": [
    "def plot_profile(r, profile_vals, profile_label='rho', profile_type='proj'):\n",
    "    plt.figure(figsize=(7,4))\n",
    "    plt.loglog(r, profile_vals)\n",
    "    if profile_type=='3d':\n",
    "        plt.xlabel('$r$ $[Mpc/h]$', fontsize='xx-large')\n",
    "    elif profile_type=='proj':\n",
    "        plt.xlabel('$R$ $[Mpc/h]$', fontsize='xx-large')\n",
    "    else:\n",
    "        print('Invalid profile type')\n",
    "    plt.ylabel(profile_label, fontsize='xx-large')\n",
    "    plt.xticks(fontsize=14)\n",
    "    plt.yticks(fontsize=14)"
   ]
  },
  {
   "cell_type": "markdown",
   "metadata": {},
   "source": [
    "### Define a cosmology using astropy"
   ]
  },
  {
   "cell_type": "code",
   "execution_count": null,
   "metadata": {},
   "outputs": [],
   "source": [
    "cosmo = FlatLambdaCDM(H0=70, Om0=0.27, Ob0=0.045)"
   ]
  },
  {
   "cell_type": "markdown",
   "metadata": {},
   "source": [
    "## Usage exampled of the functions in `modeling.py`"
   ]
  },
  {
   "cell_type": "markdown",
   "metadata": {},
   "source": [
    "### 1. Define the lens and source properties  \n",
    "- For the cluster (lens), we define the density profile (NFW here), mass definition ($\\Delta_m = 200$), concentration, and cluster redshift.\n",
    "- We also define a single source plane redshift."
   ]
  },
  {
   "cell_type": "code",
   "execution_count": null,
   "metadata": {},
   "outputs": [],
   "source": [
    "density_profile_parametrization = 'nfw'\n",
    "mass_Delta = 200\n",
    "cluster_mass = 1.e15\n",
    "cluster_concentration = 4\n",
    "z_cl = 0.3\n",
    "z_source = 1."
   ]
  },
  {
   "cell_type": "markdown",
   "metadata": {},
   "source": [
    "### 2. Define the 3d and projected radius arrays\n",
    "\n",
    "The same values are used for both. The distinction between 3D ($r$=`r3d`) and projected radius ($R$=`r_proj`) only serve to highligth the different types of profiles computed below."
   ]
  },
  {
   "cell_type": "code",
   "execution_count": null,
   "metadata": {},
   "outputs": [],
   "source": [
    "r3d = np.logspace(-2, 2, 100) # Mpc/h\n",
    "r_proj = np.logspace(-2, 2, 100) # Mpc/h"
   ]
  },
  {
   "cell_type": "markdown",
   "metadata": {},
   "source": [
    "### 3. Calls to the functions of `modeling.py`\n",
    " CLMM relies on the `cluster-toolkit`"
   ]
  },
  {
   "cell_type": "markdown",
   "metadata": {},
   "source": [
    "#### 3.1 3D density profile of the cluster $\\rho(r)$\n",
    "We use the NFW profile that is defined as $$\\rho(r)=\\frac{\\rho_s}{(r/r_s)(1+r/r_s)^2},$$ where the normalization $\\rho_s$ depends on the mass, concentration and redshift of the cluster. implementation."
   ]
  },
  {
   "cell_type": "code",
   "execution_count": null,
   "metadata": {},
   "outputs": [],
   "source": [
    "rho = m.get_3d_density(r3d, \n",
    "                       mdelta=cluster_mass, \n",
    "                       cdelta=cluster_concentration, \n",
    "                       z_cl=z_cl, \n",
    "                       cosmo=cosmo, \n",
    "                       halo_profile_model=density_profile_parametrization)\n",
    "\n",
    "plot_profile(r3d, rho, '$\\\\rho \\\\; [M_\\odot h^2/pc^3]$', profile_type='3d')"
   ]
  },
  {
   "cell_type": "markdown",
   "metadata": {},
   "source": [
    "#### 3.2 Surface density (projected mass profile) $\\Sigma(R)$\n",
    "It corresponds to the integration of $\\rho(r)$ along the line-of-sight passing through the projected distance $R$ from the center of the cluster."
   ]
  },
  {
   "cell_type": "code",
   "execution_count": null,
   "metadata": {},
   "outputs": [],
   "source": [
    "Sigma = m.predict_surface_density(r_proj, \n",
    "                                  cluster_mass, \n",
    "                                  cluster_concentration, \n",
    "                                  z_cl, \n",
    "                                  cosmo=cosmo, \n",
    "                                  delta_mdef=mass_Delta, \n",
    "                                  halo_profile_model=density_profile_parametrization)\n",
    "\n",
    "plot_profile(r_proj, Sigma, '$\\\\Sigma_{\\\\rm 2d} \\\\; [M_\\odot h/pc^2]$')"
   ]
  },
  {
   "cell_type": "markdown",
   "metadata": {},
   "source": [
    "#### 3.3 Computation of gravitational lensing-related quantities\n",
    "The functions below are used to compute the shear and convergence at a given projected radius, given the cluster properties and the redshift of the sources. \n",
    "\n",
    "- **Differential surface density** $\\Delta\\Sigma(R) = \\bar\\Sigma(<R) - \\Sigma(R)$"
   ]
  },
  {
   "cell_type": "code",
   "execution_count": null,
   "metadata": {},
   "outputs": [],
   "source": [
    "DeltaSigma = m.predict_excess_surface_density(r_proj, \n",
    "                                              cluster_mass, \n",
    "                                              cluster_concentration, \n",
    "                                              z_cl, \n",
    "                                              cosmo=cosmo, \n",
    "                                              delta_mdef=mass_Delta, \n",
    "                                              halo_profile_model=density_profile_parametrization)\n",
    "\n",
    "plot_profile(r_proj, DeltaSigma, '$\\\\Delta\\\\Sigma \\\\; [M_\\odot h/pc^2]$')"
   ]
  },
  {
   "cell_type": "markdown",
   "metadata": {},
   "source": [
    "- **Critical surface density** defined by the geometry of the observer-lens-source system ($D_s$: distance observer-source; $D_l$: distance observer-cluster (lens); $D_{ls}$: distance cluster-source)\n",
    "$$\\Sigma_c = \\frac{c^2}{4\\pi G}\\frac{D_s}{D_l D_{ls}},$$"
   ]
  },
  {
   "cell_type": "code",
   "execution_count": null,
   "metadata": {},
   "outputs": [],
   "source": [
    "Sigmac = m.get_critical_surface_density(cosmo=cosmo, \n",
    "                                        z_cluster=z_cl, \n",
    "                                        z_source=z_source)\n",
    "\n",
    "print('Sigma_c =' , Sigmac, 'M_sun h/pc^2')"
   ]
  },
  {
   "cell_type": "markdown",
   "metadata": {},
   "source": [
    "- **Tangential shear** $\\gamma_t(R) = \\Delta\\Sigma(R)\\,/\\,\\Sigma_c$"
   ]
  },
  {
   "cell_type": "code",
   "execution_count": null,
   "metadata": {},
   "outputs": [],
   "source": [
    "gammat = m.predict_tangential_shear(r_proj, \n",
    "                                    mdelta=cluster_mass, \n",
    "                                    cdelta=cluster_concentration, \n",
    "                                    z_cluster=z_cl, \n",
    "                                    z_source=z_source, \n",
    "                                    cosmo=cosmo, \n",
    "                                    delta_mdef=mass_Delta, \n",
    "                                    halo_profile_model=density_profile_parametrization, \n",
    "                                    z_src_model='single_plane')\n",
    "\n",
    "plot_profile(r_proj, gammat, '$\\\\gamma_t$')"
   ]
  },
  {
   "cell_type": "markdown",
   "metadata": {},
   "source": [
    "- **Convergence** $\\kappa(R) = \\Sigma(R)\\,/\\,\\Sigma_c$"
   ]
  },
  {
   "cell_type": "code",
   "execution_count": null,
   "metadata": {},
   "outputs": [],
   "source": [
    "kappa = m.predict_convergence(r_proj, \n",
    "                              mdelta=cluster_mass, \n",
    "                              cdelta=cluster_concentration, \n",
    "                              z_cluster=z_cl, \n",
    "                              z_source=z_source,\n",
    "                              cosmo=cosmo, \n",
    "                              delta_mdef=mass_Delta,\n",
    "                              halo_profile_model=density_profile_parametrization,\n",
    "                              z_src_model='single_plane')\n",
    "\n",
    "plot_profile(r_proj, kappa, '$\\\\kappa$')"
   ]
  },
  {
   "cell_type": "markdown",
   "metadata": {},
   "source": [
    "- **Reduced tangential shear** $ g_t= \\gamma_t \\, /\\,(1+\\kappa)$\n"
   ]
  },
  {
   "cell_type": "code",
   "execution_count": null,
   "metadata": {},
   "outputs": [],
   "source": [
    "gt = m.predict_reduced_tangential_shear(r_proj, \n",
    "                                        mdelta=cluster_mass, \n",
    "                                        cdelta=cluster_concentration, \n",
    "                                        z_cluster=z_cl, \n",
    "                                        z_source=z_source, \n",
    "                                        cosmo=cosmo, \n",
    "                                        delta_mdef=mass_Delta, \n",
    "                                        halo_profile_model=density_profile_parametrization, \n",
    "                                        z_src_model='single_plane')\n",
    "\n",
    "plot_profile(r_proj, gt, '$g_t$')"
   ]
  }
 ],
 "metadata": {
  "kernelspec": {
   "display_name": "Python 3",
   "language": "python",
   "name": "python3"
  },
  "language_info": {
   "codemirror_mode": {
    "name": "ipython",
    "version": 3
   },
   "file_extension": ".py",
   "mimetype": "text/x-python",
   "name": "python",
   "nbconvert_exporter": "python",
   "pygments_lexer": "ipython3",
   "version": "3.6.3"
  }
 },
 "nbformat": 4,
 "nbformat_minor": 4
}
