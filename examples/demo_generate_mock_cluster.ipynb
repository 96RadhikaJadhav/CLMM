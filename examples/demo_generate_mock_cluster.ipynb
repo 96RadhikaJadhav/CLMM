{
 "cells": [
  {
   "cell_type": "markdown",
   "metadata": {},
   "source": [
    "# Generate Mock Data"
   ]
  },
  {
   "cell_type": "markdown",
   "metadata": {},
   "source": [
    "In this example we generate mock data with a variety of systematic effects including photometric redshifts, source galaxy distributions, and shape noise.  We then populate a galaxy cluster object"
   ]
  },
  {
   "cell_type": "code",
   "execution_count": null,
   "metadata": {},
   "outputs": [],
   "source": [
    "import sys\n",
    "sys.path.append('./support')\n",
    "try: import clmm\n",
    "except:\n",
    "    import notebook_install\n",
    "    notebook_install.install_clmm_pipeline(upgrade=False)\n",
    "    import clmm\n",
    "import numpy as np\n",
    "import matplotlib.pyplot as plt\n",
    "%matplotlib inline"
   ]
  },
  {
   "cell_type": "markdown",
   "metadata": {},
   "source": [
    "Make sure we know which version we're using"
   ]
  },
  {
   "cell_type": "code",
   "execution_count": null,
   "metadata": {},
   "outputs": [],
   "source": [
    "clmm.__version__"
   ]
  },
  {
   "cell_type": "markdown",
   "metadata": {},
   "source": [
    "### Import mock data module and setup the configuration "
   ]
  },
  {
   "cell_type": "code",
   "execution_count": null,
   "metadata": {},
   "outputs": [],
   "source": [
    "import mock_data as mock"
   ]
  },
  {
   "cell_type": "markdown",
   "metadata": {},
   "source": [
    "Mock data generation requires a defined cosmology"
   ]
  },
  {
   "cell_type": "code",
   "execution_count": null,
   "metadata": {},
   "outputs": [],
   "source": [
    "from astropy.cosmology import FlatLambdaCDM\n",
    "mock_cosmo = FlatLambdaCDM(H0=70, Om0=0.27, Ob0=0.045)"
   ]
  },
  {
   "cell_type": "markdown",
   "metadata": {},
   "source": [
    "Mock data generation requires some cluster information"
   ]
  },
  {
   "cell_type": "code",
   "execution_count": null,
   "metadata": {},
   "outputs": [],
   "source": [
    "cosmo = mock_cosmo\n",
    "cluster_id = \"Awesome_cluster\"\n",
    "cluster_m = 1.e15\n",
    "cluster_z = 0.3\n",
    "src_z = 0.8\n",
    "concentration = 4\n",
    "ngals = 1000 # number of source galaxies\n",
    "Delta = 200 # mass definition with respect to critical overdensity\n",
    "cluster_ra = 0.0\n",
    "cluster_dec = 0.0\n"
   ]
  },
  {
   "cell_type": "markdown",
   "metadata": {},
   "source": [
    "### Generate the mock catalog with different source galaxy options"
   ]
  },
  {
   "cell_type": "markdown",
   "metadata": {},
   "source": [
    "- Clean data: no noise, all galaxies at the same redshift"
   ]
  },
  {
   "cell_type": "code",
   "execution_count": null,
   "metadata": {},
   "outputs": [],
   "source": [
    "zsrc_min = cluster_z + 0.1 "
   ]
  },
  {
   "cell_type": "code",
   "execution_count": null,
   "metadata": {},
   "outputs": [],
   "source": [
    "ideal_data = mock.generate_galaxy_catalog(\n",
    "    cluster_m, cluster_z, concentration, cosmo, ngals, Delta, src_z)"
   ]
  },
  {
   "cell_type": "markdown",
   "metadata": {},
   "source": [
    "- Noisy data: shape noise, all galaxies at the same redshift"
   ]
  },
  {
   "cell_type": "code",
   "execution_count": null,
   "metadata": {},
   "outputs": [],
   "source": [
    "noisy_data_src_z = mock.generate_galaxy_catalog(\n",
    "    cluster_m, cluster_z, concentration, cosmo, ngals, Delta, src_z,\n",
    "    shapenoise=0.05)"
   ]
  },
  {
   "cell_type": "markdown",
   "metadata": {},
   "source": [
    "- Noisy data: photo-z errors (and pdfs!), all galaxies at the same redshift"
   ]
  },
  {
   "cell_type": "code",
   "execution_count": null,
   "metadata": {},
   "outputs": [],
   "source": [
    "noisy_data_photoz = mock.generate_galaxy_catalog(\n",
    "    cluster_m, cluster_z, concentration, cosmo, ngals, Delta, src_z,\n",
    "    shapenoise=0.05, photoz_sigma_unscaled=0.05)"
   ]
  },
  {
   "cell_type": "markdown",
   "metadata": {},
   "source": [
    "- Clean data: source galaxy redshifts drawn from Chang et al. 2013, no noise"
   ]
  },
  {
   "cell_type": "code",
   "execution_count": null,
   "metadata": {},
   "outputs": [],
   "source": [
    "ideal_with_src_dist = mock.generate_galaxy_catalog(\n",
    "    cluster_m, cluster_z, concentration, cosmo, ngals, Delta, 'chang13', zsrc_min=zsrc_min,\n",
    "    zsrc_max=7.0)\n"
   ]
  },
  {
   "cell_type": "markdown",
   "metadata": {},
   "source": [
    "- Noisy data: galaxies following redshift distribution, redshift error, shape noise"
   ]
  },
  {
   "cell_type": "code",
   "execution_count": null,
   "metadata": {},
   "outputs": [],
   "source": [
    "allsystematics = mock.generate_galaxy_catalog(\n",
    "    cluster_m, cluster_z, concentration, cosmo, ngals, Delta, 'chang13', zsrc_min=zsrc_min,\n",
    "    zsrc_max=7.0, shapenoise=0.05, photoz_sigma_unscaled=0.05)"
   ]
  },
  {
   "cell_type": "markdown",
   "metadata": {},
   "source": [
    "Sanity check: checking that no galaxies were originally drawn below zsrc_min, before photoz errors are applied (when relevant)"
   ]
  },
  {
   "cell_type": "code",
   "execution_count": null,
   "metadata": {},
   "outputs": [],
   "source": [
    "print('Number of galaxies below zsrc_min:')\n",
    "print('ideal_data:',np.sum(ideal_data['ztrue']<zsrc_min))\n",
    "print('noisy_data_src_z:',np.sum(noisy_data_src_z['ztrue']<zsrc_min))\n",
    "print('noisy_data_photoz:',np.sum(noisy_data_photoz['ztrue']<zsrc_min))\n",
    "print('ideal_with_src_dist:',np.sum(ideal_with_src_dist['ztrue']<zsrc_min))\n",
    "print('allsystematics:',np.sum(allsystematics['ztrue']<zsrc_min))"
   ]
  },
  {
   "cell_type": "markdown",
   "metadata": {},
   "source": [
    "### Inspect the catalog data"
   ]
  },
  {
   "cell_type": "markdown",
   "metadata": {},
   "source": [
    "- Ideal catalog first entries: no noise on the shape measurement, all galaxies at z=0.8, no redshift errors (z = ztrue)"
   ]
  },
  {
   "cell_type": "code",
   "execution_count": null,
   "metadata": {},
   "outputs": [],
   "source": [
    "for n in ideal_data.colnames: \n",
    "    if n!='id':\n",
    "        ideal_data[n].format = \"%6.3e\" \n",
    "ideal_data[0:3].pprint(max_width=-1)"
   ]
  },
  {
   "cell_type": "markdown",
   "metadata": {},
   "source": [
    "- With photo-z errors"
   ]
  },
  {
   "cell_type": "code",
   "execution_count": null,
   "metadata": {},
   "outputs": [],
   "source": [
    "for n in noisy_data_photoz.colnames: \n",
    "    if n!='id':\n",
    "        noisy_data_photoz[n].format = \"%6.3e\"\n",
    "noisy_data_photoz[0:3].pprint(max_width=-1)"
   ]
  },
  {
   "cell_type": "markdown",
   "metadata": {},
   "source": [
    "- Histogram of the redshift distribution of background galaxies, for the true (originally drawn) redshift and the redshift once photoz errors have been added. By construction no true redshift occurs below zsrc_min, but some 'observed' redshifts (i.e. including photoz errors) might be."
   ]
  },
  {
   "cell_type": "code",
   "execution_count": null,
   "metadata": {},
   "outputs": [],
   "source": [
    "plt.hist(allsystematics['z'], bins=50, alpha=0.3, label='measured z (i.e. including photoz error)');\n",
    "plt.hist(allsystematics['ztrue'], bins=50, alpha=0.3, label='true z');\n",
    "plt.axvline(zsrc_min, color='red', label='requested zmin')\n",
    "plt.xlabel('Source Redshift')\n",
    "plt.legend()"
   ]
  },
  {
   "cell_type": "code",
   "execution_count": null,
   "metadata": {},
   "outputs": [],
   "source": [
    "# pdz for the first galaxy in the catalog\n",
    "plt.plot(allsystematics['pzbins'][0], allsystematics['pzpdf'][0])\n",
    "plt.xlabel('Redshift')\n",
    "plt.ylabel('Photo-z Probability Distribution')"
   ]
  },
  {
   "cell_type": "markdown",
   "metadata": {},
   "source": [
    "Populate in a galaxy cluster object"
   ]
  },
  {
   "cell_type": "code",
   "execution_count": null,
   "metadata": {},
   "outputs": [],
   "source": [
    "# At the moment mock data only allow for a cluster centred on (0,0)\n",
    "cluster_ra = 0.0\n",
    "cluster_dec = 0.0\n",
    "gc_object = clmm.GalaxyCluster(cluster_id, cluster_ra, cluster_dec, \n",
    "                               cluster_z, allsystematics)"
   ]
  },
  {
   "cell_type": "markdown",
   "metadata": {},
   "source": [
    "Plot source galaxy ellipticities"
   ]
  },
  {
   "cell_type": "code",
   "execution_count": null,
   "metadata": {},
   "outputs": [],
   "source": [
    "plt.scatter(gc_object.galcat['e1'],gc_object.galcat['e2'])\n",
    "\n",
    "plt.xlim(-0.2, 0.2)\n",
    "plt.ylim(-0.2, 0.2)\n",
    "plt.xlabel('Ellipticity 1',fontsize='x-large')\n",
    "plt.ylabel('Ellipticity 2',fontsize='x-large')"
   ]
  },
  {
   "cell_type": "markdown",
   "metadata": {},
   "source": [
    "### Generate the mock data catalog with different field-of-view options"
   ]
  },
  {
   "cell_type": "markdown",
   "metadata": {},
   "source": [
    "In the examples above, `ngals=1000` galaxies were simulated in a field corresponding to a 8 Mpc/h x 8 Mpc/h (proper distance) square box at the cluster redshift (this is the default). The user may however vary the field size and/or provide a galaxy density (instead of a number of galaxies). This is examplified below, using the `allsystematics` example."
   ]
  },
  {
   "cell_type": "markdown",
   "metadata": {},
   "source": [
    "- `ngals = 1000` in a 4 x 4 Mpc/h box. Asking for the same number of galaxies in a smaller field of view yields high galaxy density"
   ]
  },
  {
   "cell_type": "code",
   "execution_count": null,
   "metadata": {},
   "outputs": [],
   "source": [
    "allsystematics2 = mock.generate_galaxy_catalog(cluster_m, cluster_z, concentration, cosmo, \n",
    "                                              ngals, Delta, 'chang13', zsrc_min=zsrc_min, zsrc_max=7.0, \n",
    "                                              shapenoise=0.05, photoz_sigma_unscaled=0.05, \n",
    "                                              field_size=4)"
   ]
  },
  {
   "cell_type": "code",
   "execution_count": null,
   "metadata": {},
   "outputs": [],
   "source": [
    "plt.scatter(allsystematics['ra'],allsystematics['dec'], marker='.', label = 'default 8 x 8 Mpc/h FoV')\n",
    "plt.scatter(allsystematics2['ra'],allsystematics2['dec'],marker='.', label = 'user-defined FoV')\n",
    "plt.legend()"
   ]
  },
  {
   "cell_type": "markdown",
   "metadata": {},
   "source": [
    "- Alternatively, the user may provide a galaxy density and the number of galaxies to draw will automatically be adjusted to the box size"
   ]
  },
  {
   "cell_type": "code",
   "execution_count": null,
   "metadata": {},
   "outputs": [],
   "source": [
    "allsystematics3 = mock.generate_galaxy_catalog(cluster_m, cluster_z, concentration, cosmo, ngals, \n",
    "                                               Delta, 'chang13', zsrc_min=zsrc_min, zsrc_max=7.0, \n",
    "                                              shapenoise=0.05, photoz_sigma_unscaled=0.05, \n",
    "                                              ngal_density=1)\n",
    "len(allsystematics3)"
   ]
  },
  {
   "cell_type": "code",
   "execution_count": null,
   "metadata": {},
   "outputs": [],
   "source": [
    "plt.scatter(allsystematics['ra'],allsystematics['dec'], marker='.', label = 'default 8 x 8 Mpc/h FoV')\n",
    "plt.scatter(allsystematics3['ra'],allsystematics2['dec'],marker='.', label = 'user-defined FoV')\n",
    "plt.legend()"
   ]
  },
  {
   "cell_type": "code",
   "execution_count": null,
   "metadata": {},
   "outputs": [],
   "source": []
  }
 ],
 "metadata": {
  "anaconda-cloud": {},
  "kernelspec": {
   "display_name": "desc-clmm",
   "language": "python",
   "name": "desc-clmm"
  },
  "language_info": {
   "codemirror_mode": {
    "name": "ipython",
    "version": 3
   },
   "file_extension": ".py",
   "mimetype": "text/x-python",
   "name": "python",
   "nbconvert_exporter": "python",
   "pygments_lexer": "ipython3",
   "version": "3.7.6"
  }
 },
 "nbformat": 4,
 "nbformat_minor": 4
}
