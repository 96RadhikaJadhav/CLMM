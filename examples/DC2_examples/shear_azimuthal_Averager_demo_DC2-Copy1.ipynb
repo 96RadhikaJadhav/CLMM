{
 "cells": [
  {
   "cell_type": "code",
   "execution_count": 1,
   "metadata": {},
   "outputs": [],
   "source": [
    "import numpy as np\n",
    "import matplotlib.pyplot as plt\n",
    "from astropy.coordinates import SkyCoord\n",
    "from astropy.cosmology import FlatLambdaCDM\n",
    "from astropy.table import Table\n",
    "import GCRCatalogs\n",
    "from clmm import ShearAzimuthalAverager"
   ]
  },
  {
   "cell_type": "markdown",
   "metadata": {},
   "source": [
    "### Read in the extragalactic catalog\n",
    "- identify the most massive halo\n",
    "- create a cluster dictionary (ra, dec, z)"
   ]
  },
  {
   "cell_type": "code",
   "execution_count": 2,
   "metadata": {},
   "outputs": [],
   "source": [
    "extragalactic_cat = GCRCatalogs.load_catalog('cosmoDC2_v1.1.4_small')"
   ]
  },
  {
   "cell_type": "code",
   "execution_count": 22,
   "metadata": {},
   "outputs": [
    {
     "data": {
      "text/plain": [
       "125892541179416.62"
      ]
     },
     "execution_count": 22,
     "metadata": {},
     "output_type": "execute_result"
    }
   ],
   "source": [
    "10**14.1"
   ]
  },
  {
   "cell_type": "code",
   "execution_count": 23,
   "metadata": {},
   "outputs": [
    {
     "name": "stdout",
     "output_type": "stream",
     "text": [
      "mass =  1.1556158195740844 *1e14 Msol \n",
      " ra =  66.90461276350621 \n",
      " dec =  -45.279033062083556 \n",
      " z =  0.32970929417898986\n"
     ]
    }
   ],
   "source": [
    "# get a massive halo at intermediate redshift\n",
    "massive_halos = extragalactic_cat.get_quantities(['halo_mass', 'redshift','ra', 'dec'],\\\n",
    "                                                 filters=['halo_mass > 1e14','halo_mass < 125892541179416.62','is_central==True','redshift>0.3','redshift<0.35'])\n",
    "\n",
    "mass_list = massive_halos['halo_mass']\n",
    "select = (mass_list == np.max(mass_list))\n",
    "\n",
    "ra_cl = massive_halos['ra'][select][0]\n",
    "dec_cl = massive_halos['dec'][select][0]\n",
    "z_cl = massive_halos['redshift'][select][0]\n",
    "mass_cl = mass_list[select][0]\n",
    "\n",
    "print(\"mass = \", mass_cl/1e14,\"*1e14 Msol\", \"\\n ra = \", ra_cl, \"\\n dec = \", dec_cl,\"\\n z = \", z_cl)\n",
    "\n",
    "# make a dictionary for cluster\n",
    "cl_dict = {'z':z_cl, 'ra':ra_cl, 'dec': dec_cl}"
   ]
  },
  {
   "cell_type": "code",
   "execution_count": 24,
   "metadata": {},
   "outputs": [
    {
     "data": {
      "text/plain": [
       "15"
      ]
     },
     "execution_count": 24,
     "metadata": {},
     "output_type": "execute_result"
    }
   ],
   "source": [
    "mass_list.size"
   ]
  },
  {
   "cell_type": "code",
   "execution_count": 21,
   "metadata": {},
   "outputs": [
    {
     "data": {
      "text/plain": [
       "(array([13.,  2.,  2.,  4.,  2.,  3.,  1.,  1.,  2.,  2.]),\n",
       " array([14.00033701, 14.04837319, 14.09640937, 14.14444556, 14.19248174,\n",
       "        14.24051792, 14.2885541 , 14.33659028, 14.38462647, 14.43266265,\n",
       "        14.48069883]),\n",
       " <a list of 10 Patch objects>)"
      ]
     },
     "execution_count": 21,
     "metadata": {},
     "output_type": "execute_result"
    },
    {
     "data": {
      "image/png": "[encoded data removed]",
      "text/plain": [
       "<Figure size 432x288 with 1 Axes>"
      ]
     },
     "metadata": {
      "needs_background": "light"
     },
     "output_type": "display_data"
    }
   ],
   "source": [
    "plt.hist(np.log10(mass_list))"
   ]
  },
  {
   "cell_type": "markdown",
   "metadata": {},
   "source": [
    "### Apply coordinates and redshift cuts to select backgroud galaxies around the cluster"
   ]
  },
  {
   "cell_type": "code",
   "execution_count": 13,
   "metadata": {},
   "outputs": [
    {
     "name": "stdout",
     "output_type": "stream",
     "text": [
      "number of galaxies selected =  466975\n"
     ]
    }
   ],
   "source": [
    "# get galaxies around it\n",
    "ra_min, ra_max = ra_cl-0.3, ra_cl+0.3\n",
    "dec_min, dec_max = dec_cl-0.3, dec_cl+0.3\n",
    "z_min = z_cl + 0.1\n",
    "z_max = 1.5\n",
    "\n",
    "coord_filters = [\n",
    "    'ra >= {}'.format(ra_min),\n",
    "    'ra < {}'.format(ra_max),\n",
    "    'dec >= {}'.format(dec_min),\n",
    "    'dec < {}'.format(dec_max),\n",
    "                ]\n",
    "\n",
    "z_filters = ['redshift >= {}'.format(z_min),'redshift < {}'.format(z_max)]\n",
    "\n",
    "gal_cat = extragalactic_cat.get_quantities(['galaxy_id', 'ra', 'dec', 'shear_1', 'shear_2', 'shear_2_phosim', 'shear_2_treecorr',\\\n",
    "                                            'redshift', 'convergence'], filters=(coord_filters + z_filters))\n",
    "\n",
    "# store the results into an astropy table\n",
    "dat = Table([gal_cat['galaxy_id'],gal_cat['ra'],gal_cat['dec'],gal_cat['shear_1'],\\\n",
    "          gal_cat['shear_2'],gal_cat['redshift'],gal_cat['convergence']], \\\n",
    "          names=('id','ra','dec', 'gamma1', 'gamma2', 'z', 'kappa'))\n",
    "\n",
    "print (\"number of galaxies selected = \", len(dat))"
   ]
  },
  {
   "cell_type": "code",
   "execution_count": 14,
   "metadata": {},
   "outputs": [
    {
     "data": {
      "text/plain": [
       "Text(0.5, 0, 'z')"
      ]
     },
     "execution_count": 14,
     "metadata": {},
     "output_type": "execute_result"
    },
    {
     "data": {
      "image/png": "[encoded data removed]",
      "text/plain": [
       "<Figure size 432x288 with 1 Axes>"
      ]
     },
     "metadata": {
      "needs_background": "light"
     },
     "output_type": "display_data"
    }
   ],
   "source": [
    "# Histogram of the redshift distribution of selected galaxies\n",
    "hist = plt.hist(dat['z'], bins=50)\n",
    "plt.xlabel('z')"
   ]
  },
  {
   "cell_type": "markdown",
   "metadata": {},
   "source": [
    "### Computes the tangential and cross shear profiles"
   ]
  },
  {
   "cell_type": "markdown",
   "metadata": {},
   "source": [
    "#### Default binning"
   ]
  },
  {
   "cell_type": "code",
   "execution_count": 15,
   "metadata": {},
   "outputs": [
    {
     "name": "stderr",
     "output_type": "stream",
     "text": [
      "/pbs/throng/lsst/software/desc/anaconda3/lib/python3.7/site-packages/astropy/table/row.py:65: FutureWarning: elementwise == comparison failed and returning scalar instead; this will raise an error or perform elementwise comparison in the future.\n",
      "  return self.as_void() == other\n"
     ]
    },
    {
     "name": "stdout",
     "output_type": "stream",
     "text": [
      "read g1, g2 directly\n"
     ]
    },
    {
     "data": {
      "image/png": "[encoded data removed]",
      "text/plain": [
       "<Figure size 432x288 with 1 Axes>"
      ]
     },
     "metadata": {
      "needs_background": "light"
     },
     "output_type": "display_data"
    }
   ],
   "source": [
    "# create an object, given cluster dictionary and galaxy astropy table\n",
    "saa = ShearAzimuthalAverager(cl_dict,dat)\n",
    "\n",
    "# compute tangential and cross shear for each galaxy\n",
    "saa.compute_shear()\n",
    "\n",
    "# make the binned profile\n",
    "binned_profile = saa.make_shear_profile()\n",
    "\n",
    "saa.plot_profile()   "
   ]
  },
  {
   "cell_type": "markdown",
   "metadata": {},
   "source": [
    "#### User-defined binning"
   ]
  },
  {
   "cell_type": "code",
   "execution_count": 27,
   "metadata": {},
   "outputs": [
    {
     "name": "stderr",
     "output_type": "stream",
     "text": [
      "/pbs/throng/lsst/software/desc/anaconda3/lib/python3.7/site-packages/numpy/core/fromnumeric.py:2917: RuntimeWarning: Mean of empty slice.\n",
      "  return mean(axis=axis, dtype=dtype, out=out, **kwargs)\n",
      "/pbs/throng/lsst/software/desc/anaconda3/lib/python3.7/site-packages/numpy/core/_methods.py:85: RuntimeWarning: invalid value encountered in double_scalars\n",
      "  ret = ret.dtype.type(ret / rcount)\n",
      "/pbs/throng/lsst/software/desc/anaconda3/lib/python3.7/site-packages/numpy/core/_methods.py:140: RuntimeWarning: Degrees of freedom <= 0 for slice\n",
      "  keepdims=keepdims)\n",
      "/pbs/throng/lsst/software/desc/anaconda3/lib/python3.7/site-packages/numpy/core/_methods.py:110: RuntimeWarning: invalid value encountered in true_divide\n",
      "  arrmean, rcount, out=arrmean, casting='unsafe', subok=False)\n",
      "/pbs/throng/lsst/software/desc/anaconda3/lib/python3.7/site-packages/numpy/core/_methods.py:132: RuntimeWarning: invalid value encountered in double_scalars\n",
      "  ret = ret.dtype.type(ret / rcount)\n"
     ]
    }
   ],
   "source": [
    "bins = np.linspace(0.1,10)\n",
    "binned_profile2 = saa.make_shear_profile(bins=bins)\n",
    "#binned_profile2"
   ]
  },
  {
   "cell_type": "code",
   "execution_count": 35,
   "metadata": {},
   "outputs": [
    {
     "data": {
      "image/png": "[encoded data removed]",
      "text/plain": [
       "<Figure size 432x288 with 1 Axes>"
      ]
     },
     "metadata": {
      "needs_background": "light"
     },
     "output_type": "display_data"
    }
   ],
   "source": [
    "plt.plot(bins[:-1],binned_profile2['g_t'])\n",
    "plt.errorbar(bins[:-1],binned_profile2['g_t'],binned_profile2['g_t_err'])\n",
    "plt.xscale('log')\n",
    "plt.yscale('log')"
   ]
  },
  {
   "cell_type": "code",
   "execution_count": 29,
   "metadata": {},
   "outputs": [
    {
     "data": {
      "text/html": [
       "<i>Table length=49</i>\n",
       "<table id=\"table139640783633936\" class=\"table-striped table-bordered table-condensed\">\n",
       "<thead><tr><th>radius</th><th>ang_separation</th><th>g_t</th><th>g_x</th><th>g_t_err</th><th>g_x_err</th></tr></thead>\n",
       "<thead><tr><th>Mpc</th><th>rad</th><th></th><th></th><th></th><th></th></tr></thead>\n",
       "<thead><tr><th>float64</th><th>float64</th><th>float64</th><th>float64</th><th>float64</th><th>float64</th></tr></thead>\n",
       "<tr><td>0.21585118151509872</td><td>0.00022439050413005106</td><td>0.017229284792084926</td><td>0.0010286963173795555</td><td>0.01983034343335454</td><td>0.01795715759386332</td></tr>\n",
       "<tr><td>0.4122065084739614</td><td>0.00042851387512877874</td><td>0.03896146617246413</td><td>0.002309447461383304</td><td>0.013794819111776225</td><td>0.011614100422103108</td></tr>\n",
       "<tr><td>0.6119740099867462</td><td>0.0006361844102567924</td><td>0.046762843559833366</td><td>0.0020479216970190044</td><td>0.009740646965313113</td><td>0.009366810899319424</td></tr>\n",
       "<tr><td>0.8120922408288052</td><td>0.0008442195499723583</td><td>0.03695560523833315</td><td>0.001145213350179087</td><td>0.011366618364440983</td><td>0.008489744738221982</td></tr>\n",
       "<tr><td>1.012982319480799</td><td>0.0010530570726907285</td><td>0.026827844739337303</td><td>0.0009070655938510277</td><td>0.010743182802616158</td><td>0.007558517469933581</td></tr>\n",
       "<tr><td>1.2140511723599812</td><td>0.001262080442151668</td><td>0.026027061367236017</td><td>0.0008840447326978167</td><td>0.00940872926555636</td><td>0.00777936913144494</td></tr>\n",
       "<tr><td>1.4157229384732153</td><td>0.0014717305767921443</td><td>0.027451950893923233</td><td>0.000802096129533216</td><td>0.010570655331073911</td><td>0.009129131073045093</td></tr>\n",
       "<tr><td>1.6178797551201516</td><td>0.0016818849511269416</td><td>0.023170175729081626</td><td>0.000651772243191</td><td>0.0124275029205061</td><td>0.01250166610781535</td></tr>\n",
       "<tr><td>1.8195172179500163</td><td>0.0018914994254064482</td><td>0.01516955585891464</td><td>0.00017672799950809283</td><td>0.011746376551065776</td><td>0.014802479637715483</td></tr>\n",
       "<tr><td>...</td><td>...</td><td>...</td><td>...</td><td>...</td><td>...</td></tr>\n",
       "<tr><td>nan</td><td>nan</td><td>nan</td><td>nan</td><td>nan</td><td>nan</td></tr>\n",
       "<tr><td>nan</td><td>nan</td><td>nan</td><td>nan</td><td>nan</td><td>nan</td></tr>\n",
       "<tr><td>nan</td><td>nan</td><td>nan</td><td>nan</td><td>nan</td><td>nan</td></tr>\n",
       "<tr><td>nan</td><td>nan</td><td>nan</td><td>nan</td><td>nan</td><td>nan</td></tr>\n",
       "<tr><td>nan</td><td>nan</td><td>nan</td><td>nan</td><td>nan</td><td>nan</td></tr>\n",
       "<tr><td>nan</td><td>nan</td><td>nan</td><td>nan</td><td>nan</td><td>nan</td></tr>\n",
       "<tr><td>nan</td><td>nan</td><td>nan</td><td>nan</td><td>nan</td><td>nan</td></tr>\n",
       "<tr><td>nan</td><td>nan</td><td>nan</td><td>nan</td><td>nan</td><td>nan</td></tr>\n",
       "<tr><td>nan</td><td>nan</td><td>nan</td><td>nan</td><td>nan</td><td>nan</td></tr>\n",
       "<tr><td>nan</td><td>nan</td><td>nan</td><td>nan</td><td>nan</td><td>nan</td></tr>\n",
       "</table>"
      ],
      "text/plain": [
       "<Table length=49>\n",
       "       radius           ang_separation     ...       g_x_err       \n",
       "        Mpc                  rad           ...                     \n",
       "      float64              float64         ...       float64       \n",
       "------------------- ---------------------- ... --------------------\n",
       "0.21585118151509872 0.00022439050413005106 ...  0.01795715759386332\n",
       " 0.4122065084739614 0.00042851387512877874 ... 0.011614100422103108\n",
       " 0.6119740099867462  0.0006361844102567924 ... 0.009366810899319424\n",
       " 0.8120922408288052  0.0008442195499723583 ... 0.008489744738221982\n",
       "  1.012982319480799  0.0010530570726907285 ... 0.007558517469933581\n",
       " 1.2140511723599812   0.001262080442151668 ...  0.00777936913144494\n",
       " 1.4157229384732153  0.0014717305767921443 ... 0.009129131073045093\n",
       " 1.6178797551201516  0.0016818849511269416 ...  0.01250166610781535\n",
       " 1.8195172179500163  0.0018914994254064482 ... 0.014802479637715483\n",
       "                ...                    ... ...                  ...\n",
       "                nan                    nan ...                  nan\n",
       "                nan                    nan ...                  nan\n",
       "                nan                    nan ...                  nan\n",
       "                nan                    nan ...                  nan\n",
       "                nan                    nan ...                  nan\n",
       "                nan                    nan ...                  nan\n",
       "                nan                    nan ...                  nan\n",
       "                nan                    nan ...                  nan\n",
       "                nan                    nan ...                  nan\n",
       "                nan                    nan ...                  nan"
      ]
     },
     "execution_count": 29,
     "metadata": {},
     "output_type": "execute_result"
    }
   ],
   "source": [
    "binned_profile2"
   ]
  },
  {
   "cell_type": "code",
   "execution_count": 36,
   "metadata": {},
   "outputs": [
    {
     "ename": "TypeError",
     "evalue": "mean() missing 1 required positional argument: 'a'",
     "output_type": "error",
     "traceback": [
      "\u001b[0;31m\u001b[0m",
      "\u001b[0;31mTypeError\u001b[0mTraceback (most recent call last)",
      "\u001b[0;32m<ipython-input-36-0c998bb62981>\u001b[0m in \u001b[0;36m<module>\u001b[0;34m\u001b[0m\n\u001b[0;32m----> 1\u001b[0;31m \u001b[0mnp\u001b[0m\u001b[0;34m.\u001b[0m\u001b[0mmean\u001b[0m\u001b[0;34m(\u001b[0m\u001b[0;34m)\u001b[0m\u001b[0;34m\u001b[0m\u001b[0;34m\u001b[0m\u001b[0m\n\u001b[0m",
      "\u001b[0;31mTypeError\u001b[0m: mean() missing 1 required positional argument: 'a'"
     ]
    }
   ],
   "source": [
    "np.mean()"
   ]
  }
 ],
 "metadata": {
  "kernelspec": {
   "display_name": "Python 3",
   "language": "python",
   "name": "python3"
  },
  "language_info": {
   "codemirror_mode": {
    "name": "ipython",
    "version": 3
   },
   "file_extension": ".py",
   "mimetype": "text/x-python",
   "name": "python",
   "nbconvert_exporter": "python",
   "pygments_lexer": "ipython3",
   "version": "3.7.1"
  }
 },
 "nbformat": 4,
 "nbformat_minor": 2
}
