{
 "cells": [
  {
   "cell_type": "code",
   "execution_count": 3,
   "metadata": {},
   "outputs": [],
   "source": [
    "import sys\n",
    "sys.path.append('./support')\n",
    "try: import clmm\n",
    "except:\n",
    "    import notebook_install\n",
    "    notebook_install.install_clmm_pipeline(upgrade=False)\n",
    "    import clmm\n",
    "from astropy.cosmology import FlatLambdaCDM\n",
    "import matplotlib.pyplot as plt\n",
    "import numpy as np\n",
    "from numpy import random\n",
    "from sampler import fitters\n",
    "from astropy.coordinates import SkyCoord\n",
    "from astropy.table import Table\n",
    "import GCRCatalogs"
   ]
  },
  {
   "cell_type": "code",
   "execution_count": 4,
   "metadata": {},
   "outputs": [],
   "source": [
    "import clmm.polaraveraging as pa"
   ]
  },
  {
   "cell_type": "markdown",
   "metadata": {},
   "source": [
    "### Read in the extragalactic catalog\n",
    "- identify the most massive haloes in the catalog"
   ]
  },
  {
   "cell_type": "code",
   "execution_count": 5,
   "metadata": {},
   "outputs": [],
   "source": [
    "extragalactic_cat = GCRCatalogs.load_catalog('cosmoDC2_v1.1.4_small')"
   ]
  },
  {
   "cell_type": "code",
   "execution_count": 6,
   "metadata": {},
   "outputs": [],
   "source": [
    "stacked_gt = []\n",
    "stacked_gterr = []\n",
    "cosmo = FlatLambdaCDM(H0=70, Om0=0.27, Ob0=0.045)"
   ]
  },
  {
   "cell_type": "code",
   "execution_count": 7,
   "metadata": {},
   "outputs": [],
   "source": [
    "# get list of massive halos in a given redshift and mass range\n",
    "mmin = 1.e14\n",
    "mmax = 1.5e14\n",
    "zmin = 0.3\n",
    "zmax = 0.35\n",
    "\n",
    "massive_halos = extragalactic_cat.get_quantities(['halo_mass', 'redshift','ra', 'dec'],\\\n",
    "                                                 filters=[f'halo_mass > {mmin}',f'halo_mass < {mmax}','is_central==True',\n",
    "                                                          f'redshift>{zmin}', f'redshift<{zmax}'])\n",
    "\n",
    "mass_list = massive_halos['halo_mass']\n",
    "select = (mass_list == mass_list)"
   ]
  },
  {
   "cell_type": "code",
   "execution_count": 8,
   "metadata": {},
   "outputs": [
    {
     "name": "stdout",
     "output_type": "stream",
     "text": [
      "Stacking 19 clusters between in z = [0.3, 0.35] and M = [1.0e+14,1.5e+14]\n"
     ]
    }
   ],
   "source": [
    "print(f\"Stacking {len(mass_list)} clusters between in z = [{zmin}, {zmax}] and M = [{mmin:.1e},{mmax:.1e}]\")"
   ]
  },
  {
   "cell_type": "markdown",
   "metadata": {},
   "source": [
    "- Loop over the cluster list and make binned profiles of each - these are saved in a single array"
   ]
  },
  {
   "cell_type": "code",
   "execution_count": 14,
   "metadata": {},
   "outputs": [
    {
     "name": "stdout",
     "output_type": "stream",
     "text": [
      "0, mass = 1.07e+14, ra = 64.19, dec = -39.69, z = 0.34, ngals = 398613\n",
      "1, mass = 1.06e+14, ra = 63.92, dec = -41.70, z = 0.34, ngals = 375770\n",
      "2, mass = 1.06e+14, ra = 69.70, dec = -42.95, z = 0.31, ngals = 291767\n",
      "3, mass = 1.09e+14, ra = 68.37, dec = -44.46, z = 0.31, ngals = 370060\n",
      "4, mass = 1.14e+14, ra = 68.55, dec = -44.35, z = 0.31, ngals = 368921\n",
      "5, mass = 1.31e+14, ra = 69.05, dec = -43.44, z = 0.32, ngals = 364919\n",
      "6, mass = 1.16e+14, ra = 66.90, dec = -45.28, z = 0.33, ngals = 340693\n",
      "7, mass = 1.06e+14, ra = 64.90, dec = -33.20, z = 0.33, ngals = 315554\n",
      "8, mass = 1.43e+14, ra = 65.47, dec = -34.42, z = 0.35, ngals = 419506\n",
      "9, mass = 1.07e+14, ra = 65.58, dec = -35.92, z = 0.32, ngals = 401686\n",
      "10, mass = 1.32e+14, ra = 65.66, dec = -36.43, z = 0.33, ngals = 404562\n",
      "11, mass = 1.46e+14, ra = 66.19, dec = -36.84, z = 0.33, ngals = 412039\n",
      "12, mass = 1.07e+14, ra = 62.46, dec = -37.00, z = 0.31, ngals = 417048\n",
      "13, mass = 1.11e+14, ra = 61.74, dec = -37.77, z = 0.32, ngals = 411713\n",
      "14, mass = 1.12e+14, ra = 62.12, dec = -37.05, z = 0.34, ngals = 407260\n",
      "15, mass = 1.10e+14, ra = 61.90, dec = -37.25, z = 0.34, ngals = 411184\n",
      "16, mass = 1.05e+14, ra = 65.75, dec = -37.01, z = 0.30, ngals = 413278\n",
      "17, mass = 1.00e+14, ra = 63.20, dec = -37.39, z = 0.30, ngals = 404959\n",
      "18, mass = 1.08e+14, ra = 63.56, dec = -38.03, z = 0.32, ngals = 405581\n"
     ]
    }
   ],
   "source": [
    "bin_edges = pa.make_bins(0.1, 4, 15, method='evenlog10width')\n",
    "\n",
    "for i in range(len(select)):\n",
    "    ra_cl = massive_halos['ra'][select][i]\n",
    "    dec_cl = massive_halos['dec'][select][i]\n",
    "    z_cl = massive_halos['redshift'][select][i]\n",
    "    mass_cl = mass_list[select][i]\n",
    "    \n",
    "    # get galaxies around it\n",
    "    ra_min, ra_max = ra_cl-0.3, ra_cl+0.3\n",
    "    dec_min, dec_max = dec_cl-0.3, dec_cl+0.3\n",
    "    z_min = z_cl + 0.3\n",
    "    z_max = 1.5\n",
    "\n",
    "    coord_filters = ['ra >= {}'.format(ra_min),'ra < {}'.format(ra_max),'dec >= {}'.format(dec_min),'dec < {}'.format(dec_max)]\n",
    "    z_filters = ['redshift >= {}'.format(z_min),'redshift < {}'.format(z_max)]\n",
    "\n",
    "    gal_cat = extragalactic_cat.get_quantities(['galaxy_id', 'ra', 'dec', 'shear_1', 'shear_2', 'shear_2_phosim', 'shear_2_treecorr',\\\n",
    "                                            'redshift', 'convergence'], filters=(coord_filters + z_filters))\n",
    "\n",
    "    # store the results into an astropy table\n",
    "    dat = Table([gal_cat['ra'],gal_cat['dec'],gal_cat['shear_1'],\\\n",
    "          gal_cat['shear_2'],gal_cat['redshift'],gal_cat['galaxy_id']], \\\n",
    "          names=('ra','dec', 'e1', 'e2', 'z','id'))\n",
    "\n",
    "    print(f\"{i}, mass = {mass_cl:.2e}, ra = {ra_cl:.2f}, dec = {dec_cl:.2f}, z = {z_cl:.2f}, ngals = {len(dat)}\")\n",
    "    \n",
    "    cl = clmm.GalaxyCluster('CL', ra_cl, dec_cl,\n",
    "                               z_cl, dat)   \n",
    "    \n",
    "    cl.compute_shear(geometry=\"flat\")\n",
    "    profile = cl.make_shear_profile(\"radians\", \"Mpc\", bins=bin_edges,cosmo=cosmo)\n",
    "    \n",
    "    \n",
    "    stacked_gt.append(profile['gt'])\n",
    "    stacked_gterr.append(profile['gt_err'])"
   ]
  },
  {
   "cell_type": "markdown",
   "metadata": {},
   "source": [
    "### Build the corresponding theoretical prediction from the average cluster mass.\n",
    "Here we're using the source redshifts of the last cluster `dat['z']` as reference to average over the source redshift distribution."
   ]
  },
  {
   "cell_type": "code",
   "execution_count": 23,
   "metadata": {},
   "outputs": [],
   "source": [
    "m = np.mean(mass_list)\n",
    "gt_red_model = np.zeros(len(profile))\n",
    "gt_model = np.zeros(len(profile))\n",
    "for i,r in enumerate(profile['radius']): \n",
    "    # Remember that CLMM modeling module works in units of Mpc/h, so need to account for it below\n",
    "    gt_mod = clmm.predict_tangential_shear(r*cosmo.h,m, 4.,z_cl, dat['z'], cosmo,\n",
    "                                                        delta_mdef=200,halo_profile_model='nfw')  \n",
    "    gt_red_mod = clmm.predict_reduced_tangential_shear(r*cosmo.h,m, 4.,z_cl, dat['z'], cosmo,\n",
    "                                                        delta_mdef=200,halo_profile_model='nfw')  \n",
    "    gt_model[i] = np.mean(gt_mod)\n",
    "    gt_red_model[i] = np.mean(gt_red_mod)"
   ]
  },
  {
   "cell_type": "markdown",
   "metadata": {},
   "source": [
    "### Let's stack\n",
    "\n",
    "For each bin, average the tangential shear values obtained for each clusters. For a detailed study on how to stack profiles, see https://arxiv.org/pdf/1802.09696.pdf (Eq.(34), $w(z_l,z_s) \\gamma_T(\\theta,z_s)$). At the moment, it's not clear whether the tangential shear computed from the cosmoDC2 `shear1` and `shear2` fields should be compared to the reduced or not tangential shear. Both options are plotted below. In the regime before the drop out at low radii (due to DC2 resolution?) the difference between shear and reduced shear is negligible.\n",
    "\n",
    "Final warning, the CLMM modeling default is not use M200 while the masses reported in the cosmoDC2 catalog are FOF masses. One would need M200 for the DC2 catalog to make a more meaningful comparison."
   ]
  },
  {
   "cell_type": "code",
   "execution_count": 33,
   "metadata": {},
   "outputs": [
    {
     "data": {
      "text/plain": [
       "Text(0, 0.5, '<shear>')"
      ]
     },
     "execution_count": 33,
     "metadata": {},
     "output_type": "execute_result"
    },
    {
     "data": {
      "image/png": "[encoded data removed]",
      "text/plain": [
       "<Figure size 432x288 with 1 Axes>"
      ]
     },
     "metadata": {
      "needs_background": "light"
     },
     "output_type": "display_data"
    }
   ],
   "source": [
    "plt.errorbar(profile['radius'],np.nanmean(stacked_gt,axis=0),yerr=np.nanstd(stacked_gt,axis=0), label='stacked data')\n",
    "plt.plot(profile['radius'],gt_model, label='model shear')\n",
    "plt.plot(profile['radius'],gt_red_model, label='model reduced shear')\n",
    "plt.legend()\n",
    "plt.xscale('log')\n",
    "plt.yscale('log')\n",
    "plt.xlabel('R (Mpc)')\n",
    "plt.ylabel('<shear>')"
   ]
  },
  {
   "cell_type": "code",
   "execution_count": null,
   "metadata": {},
   "outputs": [],
   "source": []
  }
 ],
 "metadata": {
  "kernelspec": {
   "display_name": "Python 3",
   "language": "python",
   "name": "python3"
  },
  "language_info": {
   "codemirror_mode": {
    "name": "ipython",
    "version": 3
   },
   "file_extension": ".py",
   "mimetype": "text/x-python",
   "name": "python",
   "nbconvert_exporter": "python",
   "pygments_lexer": "ipython3",
   "version": "3.7.3"
  }
 },
 "nbformat": 4,
 "nbformat_minor": 2
}
