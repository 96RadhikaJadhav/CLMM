{
 "cells": [
  {
   "cell_type": "code",
   "execution_count": 108,
   "metadata": {},
   "outputs": [],
   "source": [
    "import sys\n",
    "sys.path.append('./support')\n",
    "try: import clmm\n",
    "except:\n",
    "    import notebook_install\n",
    "    notebook_install.install_clmm_pipeline(upgrade=False)\n",
    "    import clmm\n",
    "from astropy.cosmology import FlatLambdaCDM\n",
    "import matplotlib.pyplot as plt\n",
    "import numpy as np\n",
    "from numpy import random\n",
    "from sampler import fitters\n",
    "from astropy.coordinates import SkyCoord\n",
    "from astropy.table import Table\n",
    "import GCRCatalogs"
   ]
  },
  {
   "cell_type": "markdown",
   "metadata": {},
   "source": [
    "### Read in the extragalactic catalog\n",
    "- identify the most massive halo\n",
    "- create a cluster dictionary (ra, dec, z)"
   ]
  },
  {
   "cell_type": "code",
   "execution_count": 109,
   "metadata": {},
   "outputs": [],
   "source": [
    "extragalactic_cat = GCRCatalogs.load_catalog('cosmoDC2_v1.1.4_small')"
   ]
  },
  {
   "cell_type": "code",
   "execution_count": 110,
   "metadata": {},
   "outputs": [],
   "source": [
    "stacked_gt = []\n",
    "stacked_gterr = []\n",
    "cosmo = FlatLambdaCDM(H0=70, Om0=0.27, Ob0=0.045)"
   ]
  },
  {
   "cell_type": "code",
   "execution_count": 111,
   "metadata": {},
   "outputs": [],
   "source": [
    "# get a massive halo at intermediate redshift\n",
    "massive_halos = extragalactic_cat.get_quantities(['halo_mass', 'redshift','ra', 'dec'],\\\n",
    "                                                 filters=['halo_mass > 1e14','halo_mass < 125892541179416.62','is_central==True','redshift>0.3','redshift<0.35'])\n",
    "\n",
    "mass_list = massive_halos['halo_mass']\n",
    "select = (mass_list == mass_list)"
   ]
  },
  {
   "cell_type": "code",
   "execution_count": 117,
   "metadata": {},
   "outputs": [
    {
     "data": {
      "text/plain": [
       "15"
      ]
     },
     "execution_count": 117,
     "metadata": {},
     "output_type": "execute_result"
    }
   ],
   "source": [
    "len(mass_list)"
   ]
  },
  {
   "cell_type": "code",
   "execution_count": 113,
   "metadata": {},
   "outputs": [
    {
     "name": "stdout",
     "output_type": "stream",
     "text": [
      "0\n",
      "mass =  1.074492072743662 *1e14 Msol \n",
      " ra =  64.18873612123166 \n",
      " dec =  -39.68780413277255 \n",
      " z =  0.3395830652891523\n",
      "number of galaxies selected =  443458\n",
      "1\n",
      "mass =  1.06224943104 *1e14 Msol \n",
      " ra =  63.91943801550073 \n",
      " dec =  -41.698931058314194 \n",
      " z =  0.33512327088586336\n",
      "number of galaxies selected =  415294\n",
      "2\n",
      "mass =  1.058194543341972 *1e14 Msol \n",
      " ra =  69.69666762324073 \n",
      " dec =  -42.94997772427642 \n",
      " z =  0.31419019612826826\n",
      "number of galaxies selected =  319617\n",
      "3\n",
      "mass =  1.0916213739808451 *1e14 Msol \n",
      " ra =  68.368691372601 \n",
      " dec =  -44.45895572201655 \n",
      " z =  0.31397281823785295\n",
      "number of galaxies selected =  405710\n",
      "4\n",
      "mass =  1.13606918144 *1e14 Msol \n",
      " ra =  68.54517686354546 \n",
      " dec =  -44.35041916292372 \n",
      " z =  0.3117652953385337\n",
      "number of galaxies selected =  404835\n",
      "5\n",
      "mass =  1.1556158195740844 *1e14 Msol \n",
      " ra =  66.90461276350621 \n",
      " dec =  -45.279033062083556 \n",
      " z =  0.32970929417898986\n",
      "number of galaxies selected =  375405\n",
      "6\n",
      "mass =  1.0649786823752112 *1e14 Msol \n",
      " ra =  64.8976505179622 \n",
      " dec =  -33.196585062464436 \n",
      " z =  0.33370833522420384\n",
      "number of galaxies selected =  350674\n",
      "7\n",
      "mass =  1.070489170785352 *1e14 Msol \n",
      " ra =  65.57824496489354 \n",
      " dec =  -35.92413163700494 \n",
      " z =  0.31539368696942427\n",
      "number of galaxies selected =  443662\n",
      "8\n",
      "mass =  1.0685397055459154 *1e14 Msol \n",
      " ra =  62.461110912550765 \n",
      " dec =  -37.00418664333344 \n",
      " z =  0.30990208723986035\n",
      "number of galaxies selected =  457811\n",
      "9\n",
      "mass =  1.105527559355493 *1e14 Msol \n",
      " ra =  61.738575055182594 \n",
      " dec =  -37.76732995616238 \n",
      " z =  0.3230221491885594\n",
      "number of galaxies selected =  450749\n",
      "10\n",
      "mass =  1.1168084648743664 *1e14 Msol \n",
      " ra =  62.12290299829132 \n",
      " dec =  -37.05121746558516 \n",
      " z =  0.34435301149352715\n",
      "number of galaxies selected =  452239\n",
      "11\n",
      "mass =  1.1015766431369014 *1e14 Msol \n",
      " ra =  61.896886731661475 \n",
      " dec =  -37.2460451462531 \n",
      " z =  0.33757111508552406\n",
      "number of galaxies selected =  453324\n",
      "12\n",
      "mass =  1.0470176093025354 *1e14 Msol \n",
      " ra =  65.75107949297889 \n",
      " dec =  -37.00505898629168 \n",
      " z =  0.30035037528184794\n",
      "number of galaxies selected =  451648\n",
      "13\n",
      "mass =  1.0007762938230986 *1e14 Msol \n",
      " ra =  63.20245032943643 \n",
      " dec =  -37.38503973059647 \n",
      " z =  0.30082347626925965\n",
      "number of galaxies selected =  440739\n",
      "14\n",
      "mass =  1.0809902902084507 *1e14 Msol \n",
      " ra =  63.56446525483328 \n",
      " dec =  -38.03275667635513 \n",
      " z =  0.3223063813427163\n",
      "number of galaxies selected =  446394\n"
     ]
    }
   ],
   "source": [
    "for i in range(len(select)):\n",
    "    \n",
    "    print(i)\n",
    "    ra_cl = massive_halos['ra'][select][i]\n",
    "    dec_cl = massive_halos['dec'][select][i]\n",
    "    z_cl = massive_halos['redshift'][select][i]\n",
    "    mass_cl = mass_list[select][i]\n",
    "\n",
    "    print(\"mass = \", mass_cl/1e14,\"*1e14 Msol\\n\", \"\\n ra = \", ra_cl, \"\\n dec = \", dec_cl,\"\\n z = \", z_cl)\n",
    "\n",
    "    # get galaxies around it\n",
    "    ra_min, ra_max = ra_cl-0.3, ra_cl+0.3\n",
    "    dec_min, dec_max = dec_cl-0.3, dec_cl+0.3\n",
    "    z_min = z_cl + 0.1\n",
    "    z_max = 1.5\n",
    "\n",
    "    coord_filters = ['ra >= {}'.format(ra_min),'ra < {}'.format(ra_max),'dec >= {}'.format(dec_min),'dec < {}'.format(dec_max)]\n",
    "\n",
    "    z_filters = ['redshift >= {}'.format(z_min),'redshift < {}'.format(z_max)]\n",
    "\n",
    "    gal_cat = extragalactic_cat.get_quantities(['galaxy_id', 'ra', 'dec', 'shear_1', 'shear_2', 'shear_2_phosim', 'shear_2_treecorr',\\\n",
    "                                            'redshift', 'convergence'], filters=(coord_filters + z_filters))\n",
    "\n",
    "\n",
    "    \n",
    "    # store the results into an astropy table\n",
    "    dat = Table([gal_cat['ra'],gal_cat['dec'],gal_cat['shear_1'],\\\n",
    "          gal_cat['shear_2'],gal_cat['redshift'],gal_cat['galaxy_id']], \\\n",
    "          names=('ra','dec', 'e1', 'e2', 'z','id'))\n",
    "                \n",
    "    my_cl = clmm.GalaxyCluster('CL', ra_cl, dec_cl,\n",
    "                               z_cl, dat)\n",
    "\n",
    "    \n",
    "    print (\"number of galaxies selected = \", len(dat))\n",
    "    \n",
    "    \n",
    "    my_cl.compute_shear(geometry=\"flat\")\n",
    "    bin_edges = pa.make_bins(0.1, 4, 15, method='evenlog10width')\n",
    "    profile = my_cl.make_shear_profile(\"radians\", \"Mpc\", bins=bin_edges,cosmo=cosmo)\n",
    "    \n",
    "    \n",
    "    stacked_gt.append(profile['gt'])\n",
    "    stacked_gterr.append(profile['gt_err'])"
   ]
  },
  {
   "cell_type": "markdown",
   "metadata": {},
   "source": [
    "### Build the corresponding theoretical prediction from the average cluster mass."
   ]
  },
  {
   "cell_type": "code",
   "execution_count": 114,
   "metadata": {},
   "outputs": [],
   "source": [
    "m = np.mean(mass_list[0:3])\n",
    "gt_model = np.zeros(len(profile))\n",
    "for i,r in enumerate(profile['radius']):   \n",
    "    gt_mod = clmm.predict_reduced_tangential_shear(r*cosmo.h,m, 4.,z_cl, dat['z'], cosmo,\n",
    "                                                        delta_mdef=200,halo_profile_model='nfw')  \n",
    "    gt_model[i] = np.mean(gt_mod)"
   ]
  },
  {
   "cell_type": "markdown",
   "metadata": {},
   "source": [
    "# LET'S STACK !!!"
   ]
  },
  {
   "cell_type": "markdown",
   "metadata": {},
   "source": [
    "### Eq 34 in https://arxiv.org/pdf/1802.09696.pdf"
   ]
  },
  {
   "cell_type": "markdown",
   "metadata": {},
   "source": [
    "$w(z_l,z_s) \\gamma_T(\\theta,z_s)$"
   ]
  },
  {
   "cell_type": "code",
   "execution_count": 115,
   "metadata": {},
   "outputs": [
    {
     "data": {
      "image/png": "[encoded data removed]",
      "text/plain": [
       "<Figure size 432x288 with 1 Axes>"
      ]
     },
     "metadata": {
      "needs_background": "light"
     },
     "output_type": "display_data"
    }
   ],
   "source": [
    "plt.errorbar(profile['radius'],np.nanmean(stacked_gt,axis=0),yerr=np.nanstd(stacked_gt,axis=0), label='stacked data')\n",
    "plt.plot(profile['radius'],gt_model, label='model')\n",
    "plt.legend()\n",
    "plt.xscale('log')\n",
    "plt.yscale('log')"
   ]
  },
  {
   "cell_type": "code",
   "execution_count": null,
   "metadata": {},
   "outputs": [],
   "source": []
  }
 ],
 "metadata": {
  "kernelspec": {
   "display_name": "Python 3",
   "language": "python",
   "name": "python3"
  },
  "language_info": {
   "codemirror_mode": {
    "name": "ipython",
    "version": 3
   },
   "file_extension": ".py",
   "mimetype": "text/x-python",
   "name": "python",
   "nbconvert_exporter": "python",
   "pygments_lexer": "ipython3",
   "version": "3.7.3"
  }
 },
 "nbformat": 4,
 "nbformat_minor": 2
}
