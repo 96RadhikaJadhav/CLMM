{
 "cells": [
  {
   "cell_type": "code",
   "execution_count": 1,
   "metadata": {},
   "outputs": [
    {
     "name": "stderr",
     "output_type": "stream",
     "text": [
      "/pbs/home/c/ccombet/.conda/envs/mydesc/lib/python3.7/site-packages/GCRCatalogs/register.py:33: UserWarning: Site determined from env variable DESC_GCR_SITE\n",
      "  warnings.warn('Site determined from env variable {}'.format(_DESC_SITE_ENV))\n"
     ]
    }
   ],
   "source": [
    "import matplotlib.pyplot as plt\n",
    "import numpy as np\n",
    "from astropy.table import Table\n",
    "import GCRCatalogs\n",
    "try: import clmm\n",
    "except:\n",
    "    import notebook_install\n",
    "    notebook_install.install_clmm_pipeline(upgrade=False)\n",
    "    import clmm"
   ]
  },
  {
   "cell_type": "markdown",
   "metadata": {},
   "source": [
    "Check what version we're using"
   ]
  },
  {
   "cell_type": "code",
   "execution_count": 2,
   "metadata": {},
   "outputs": [
    {
     "data": {
      "text/plain": [
       "'0.3.0'"
      ]
     },
     "execution_count": 2,
     "metadata": {},
     "output_type": "execute_result"
    }
   ],
   "source": [
    "clmm.__version__"
   ]
  },
  {
   "cell_type": "markdown",
   "metadata": {},
   "source": [
    "### 1. Prepare a CLMM GalaxyCluster object from cosmoDC2 "
   ]
  },
  {
   "cell_type": "markdown",
   "metadata": {},
   "source": [
    "#### Read in the extragalactic catalog cosmoDC2"
   ]
  },
  {
   "cell_type": "code",
   "execution_count": 3,
   "metadata": {},
   "outputs": [
    {
     "name": "stdout",
     "output_type": "stream",
     "text": [
      "catalog_filename_template: z_{}_{}.step_all.healpix_{}.hdf5\n",
      "catalog_root_dir: /sps/lsst/data/desc/gcr_rootdir/cosmoDC2/cosmoDC2_v1.1.4_rs_scatter_query_tree_double\n",
      "check_cosmology: false\n",
      "check_md5: false\n",
      "check_size: false\n",
      "cosmology:\n",
      "  H0: 71.0\n",
      "  Ob0: 0.0448\n",
      "  Om0: 0.2648\n",
      "  n_s: 0.963\n",
      "  sigma8: 0.8\n",
      "creators:\n",
      "- Andrew Hearin\n",
      "- Danila Korytov\n",
      "- Eve Kovacs\n",
      "- Esteban Rangel\n",
      "- Patricia Larsen\n",
      "- Joe Hollowed\n",
      "- Andrew Benson\n",
      "- Katrin Heitmann\n",
      "description: 'This is the extra-galactic catalog for the LSST-DESC data challenge\n",
      "  DC2.\n",
      "\n",
      "  '\n",
      "healpix_pixels:\n",
      "- 9559\n",
      "- 9686\n",
      "- 9687\n",
      "- 9814\n",
      "- 9815\n",
      "- 9816\n",
      "- 9942\n",
      "- 9943\n",
      "- 10070\n",
      "- 10071\n",
      "- 10072\n",
      "- 10198\n",
      "- 10199\n",
      "- 10200\n",
      "- 10326\n",
      "- 10327\n",
      "- 10450\n",
      "lightcone: true\n",
      "subclass_name: cosmodc2.CosmoDC2GalaxyCatalog\n",
      "version: 1.1.4\n",
      "\n"
     ]
    }
   ],
   "source": [
    "extragalactic_cat = GCRCatalogs.load_catalog('cosmoDC2_v1.1.4_small')"
   ]
  },
  {
   "cell_type": "code",
   "execution_count": 4,
   "metadata": {},
   "outputs": [
    {
     "data": {
      "text/plain": [
       "FlatLambdaCDM(H0=71 km / (Mpc s), Om0=0.265, Tcmb0=0 K, Neff=3.04, m_nu=None, Ob0=0.0448)"
      ]
     },
     "execution_count": 4,
     "metadata": {},
     "output_type": "execute_result"
    }
   ],
   "source": [
    "cosmo = extragalactic_cat.cosmology\n",
    "cosmo"
   ]
  },
  {
   "cell_type": "markdown",
   "metadata": {},
   "source": [
    "#### Get the list of halos with `M > mmin` in the redshift range `[zmin, zmax]`"
   ]
  },
  {
   "cell_type": "code",
   "execution_count": 5,
   "metadata": {},
   "outputs": [
    {
     "name": "stdout",
     "output_type": "stream",
     "text": [
      "There are 4 clusters available\n"
     ]
    }
   ],
   "source": [
    "# get list of massive halos in a given redshift and mass range\n",
    "mmin = 5.e14\n",
    "zmin = 0.3\n",
    "zmax = 0.4\n",
    "\n",
    "massive_halos = extragalactic_cat.get_quantities(['halo_mass','hostHaloMass','redshift','ra', 'dec'],\n",
    "                                                 filters=[f'halo_mass > {mmin}','is_central==True',\n",
    "                                                          f'redshift>{zmin}', f'redshift<{zmax}'])\n",
    "N_cl = len(massive_halos['halo_mass'])\n",
    "print(f'There are {N_cl} clusters available')"
   ]
  },
  {
   "cell_type": "markdown",
   "metadata": {},
   "source": [
    "#### Select the most massive one"
   ]
  },
  {
   "cell_type": "code",
   "execution_count": 6,
   "metadata": {},
   "outputs": [
    {
     "name": "stdout",
     "output_type": "stream",
     "text": [
      "The most massive cluster is in ra = 64.26 deg, dec = -34.47 deg, z = 0.32, with mass = 6.36e+14 Msun\n"
     ]
    }
   ],
   "source": [
    "# Selecting the most massive one\n",
    "\n",
    "select = massive_halos['halo_mass'] == np.max(massive_halos['halo_mass'])\n",
    "\n",
    "ra_cl = massive_halos['ra'][select][0]\n",
    "dec_cl = massive_halos['dec'][select][0]\n",
    "z_cl = massive_halos['redshift'][select][0]\n",
    "mass_cl =massive_halos['halo_mass'][select][0]\n",
    "print (f'The most massive cluster is in ra = {ra_cl:.2f} deg, dec = {dec_cl:.2f} deg, z = {z_cl:.2f}, with mass = {mass_cl:.2e} Msun')"
   ]
  },
  {
   "cell_type": "markdown",
   "metadata": {},
   "source": [
    "#### Apply coordinates, redshift and magnitude cuts to select backgroud galaxies around the cluster\n",
    "\n",
    "- Box of 0.6 deg around the cluster center\n",
    "- Galaxies with z > z_clsuter + 0.1\n",
    "- Galaxies with mag_i < 25 \n",
    "\n",
    "Here, we're directly gathering the shear components $\\gamma_{1,2}$ and the convergence $\\kappa$ from the cosmoDC2 catalog. See the `DC2_gt_profiles` notebook to see how to also use the intrinsic ellipticities of the galaxies to compute observed ellipticities including intrinsic and shear components."
   ]
  },
  {
   "cell_type": "code",
   "execution_count": 7,
   "metadata": {},
   "outputs": [],
   "source": [
    "ra_min, ra_max = ra_cl-0.3, ra_cl+0.3\n",
    "dec_min, dec_max = dec_cl-0.3, dec_cl+0.3\n",
    "z_min = z_cl + 0.1\n",
    "mag_i_max = 25\n",
    "\n",
    "coord_filters = ['ra >= {}'.format(ra_min),'ra < {}'.format(ra_max),'dec >= {}'.format(dec_min),'dec < {}'.format(dec_max)]\n",
    "z_filters = ['redshift >= {}'.format(z_min)]\n",
    "mag_filters = ['mag_i < {}'.format(mag_i_max)]\n",
    "gal_cat = extragalactic_cat.get_quantities(['galaxy_id', 'ra', 'dec', 'shear_1', 'shear_2','redshift', 'convergence'],\\\n",
    "                                           filters=(coord_filters + z_filters + mag_filters))\n",
    "\n"
   ]
  },
  {
   "cell_type": "markdown",
   "metadata": {},
   "source": [
    "#### To compute a reduced tangential shear profile using CLMM, we first need to transform the shear into ellipticities. \n",
    "- The CLMM function `convert_shapes_to_epsilon` convert any shape measurements into the corresponding ellipticities.\n",
    "- Then, we build the astropy table of the galaxy catalog that will be used to instantiate a CLMM GalaxyCluster object."
   ]
  },
  {
   "cell_type": "code",
   "execution_count": 8,
   "metadata": {},
   "outputs": [],
   "source": [
    "e1, e2 = clmm.utils.convert_shapes_to_epsilon(gal_cat['shear_1'],gal_cat['shear_2'],\\\n",
    "                                              shape_definition='shear',kappa=gal_cat['convergence'])\n",
    "\n",
    "#store the results into an astropy table\n",
    "dat = Table([gal_cat['ra'],gal_cat['dec'],e1, e2,gal_cat['redshift'],gal_cat['galaxy_id']], \n",
    "            names=('ra','dec', 'e1', 'e2', 'z','id'))\n",
    "\n",
    "cl = clmm.GalaxyCluster('CL', ra_cl, dec_cl, z_cl, dat)   "
   ]
  },
  {
   "cell_type": "code",
   "execution_count": 9,
   "metadata": {},
   "outputs": [
    {
     "name": "stdout",
     "output_type": "stream",
     "text": [
      "Number of galaxies in the catalog: Ngal = 36403\n"
     ]
    },
    {
     "data": {
      "text/plain": [
       "Text(0, 0.5, 'Count')"
      ]
     },
     "execution_count": 9,
     "metadata": {},
     "output_type": "execute_result"
    },
    {
     "data": {
      "image/png": "[encoded data removed]",
      "text/plain": [
       "<Figure size 432x288 with 1 Axes>"
      ]
     },
     "metadata": {
      "needs_background": "light"
     },
     "output_type": "display_data"
    }
   ],
   "source": [
    "# Quick check of the redshift distribution of the galaxies in the catalog\n",
    "\n",
    "print(f'Number of galaxies in the catalog: Ngal = {len(cl.galcat)}')\n",
    "tmp = plt.hist(cl.galcat['z'], bins=30)\n",
    "plt.xlabel('z')\n",
    "plt.ylabel('Count')"
   ]
  },
  {
   "cell_type": "markdown",
   "metadata": {},
   "source": [
    "### 2. Use CLMM to compute the reduced tangential shear profile"
   ]
  },
  {
   "cell_type": "markdown",
   "metadata": {},
   "source": [
    "#### Compute the tangential and cross shear profiles"
   ]
  },
  {
   "cell_type": "code",
   "execution_count": 10,
   "metadata": {},
   "outputs": [
    {
     "name": "stderr",
     "output_type": "stream",
     "text": [
      "/pbs/home/c/ccombet/.conda/envs/mydesc/lib/python3.7/site-packages/clmm-0.3.0-py3.7.egg/clmm/utils.py:43: RuntimeWarning: invalid value encountered in true_divide\n"
     ]
    },
    {
     "data": {
      "text/html": [
       "<i>Table length=14</i>\n",
       "<table id=\"table140698785766928\" class=\"table-striped table-bordered table-condensed\">\n",
       "<thead><tr><th>radius_min</th><th>radius</th><th>radius_max</th><th>gt</th><th>gt_err</th><th>gx</th><th>gx_err</th><th>z</th><th>z_err</th><th>n_src</th></tr></thead>\n",
       "<thead><tr><th>float64</th><th>float64</th><th>float64</th><th>float64</th><th>float64</th><th>float64</th><th>float64</th><th>float64</th><th>float64</th><th>int64</th></tr></thead>\n",
       "<tr><td>0.15</td><td>0.17636942351321439</td><td>0.19846556968648293</td><td>0.02037417866393367</td><td>0.0035284277510696086</td><td>0.006753624804594845</td><td>0.003687532406500275</td><td>0.971778890840735</td><td>0.05041615834029067</td><td>34</td></tr>\n",
       "<tr><td>0.19846556968648293</td><td>0.23218089353404303</td><td>0.26259054900653483</td><td>0.02679741876302726</td><td>0.0027189139082722186</td><td>0.0007119377886252487</td><td>0.0023036485227813878</td><td>1.020568689467205</td><td>0.058193913495320986</td><td>53</td></tr>\n",
       "<tr><td>0.26259054900653483</td><td>0.3059704420440446</td><td>0.3474345526857884</td><td>0.041066700638701485</td><td>0.0019084106346784952</td><td>0.0016804474260400152</td><td>0.0014455222242051205</td><td>1.0265077465792039</td><td>0.04849007345410995</td><td>82</td></tr>\n",
       "<tr><td>0.3474345526857884</td><td>0.4072589534929289</td><td>0.45969197618368907</td><td>0.04650956621608166</td><td>0.0011971729597659692</td><td>0.0009971665591332357</td><td>0.0007991042517062868</td><td>1.0393406936116252</td><td>0.03719695065774041</td><td>130</td></tr>\n",
       "<tr><td>0.45969197618368907</td><td>0.5396605648750517</td><td>0.60822019955734</td><td>0.049171216690907904</td><td>0.0006989442328396026</td><td>0.00015119088451375306</td><td>0.0003589668969936726</td><td>0.9758493108139988</td><td>0.023369400483367962</td><td>261</td></tr>\n",
       "<tr><td>0.60822019955734</td><td>0.7076302276523957</td><td>0.8047384559998256</td><td>0.03782777299821912</td><td>0.0004936163860593951</td><td>0.00022641596737203016</td><td>0.00037354499832125955</td><td>0.9192423022575893</td><td>0.01632509783150775</td><td>464</td></tr>\n",
       "<tr><td>0.8047384559998256</td><td>0.9424747432620386</td><td>1.0647525074575073</td><td>0.02515375248528569</td><td>0.0003594902655390658</td><td>-0.00017164485861469967</td><td>0.0003212987611452593</td><td>0.9769176552238986</td><td>0.014443458340591367</td><td>730</td></tr>\n",
       "<tr><td>1.0647525074575073</td><td>1.2470483876853413</td><td>1.4087780864511024</td><td>0.02463116395646268</td><td>0.0002893234018049065</td><td>0.0006363728882482774</td><td>0.00028139378807150476</td><td>0.9826323955808695</td><td>0.010498800725560982</td><td>1194</td></tr>\n",
       "<tr><td>1.4087780864511024</td><td>1.6514264711112452</td><td>1.8639596365956759</td><td>0.014253470998703497</td><td>0.00028271094659568864</td><td>0.0008274010881759553</td><td>0.0003006187514405246</td><td>0.9901527835609454</td><td>0.008637894700042961</td><td>2076</td></tr>\n",
       "<tr><td>1.8639596365956759</td><td>2.1822210761522407</td><td>2.46621207433047</td><td>0.008628420140502508</td><td>0.00023756635906010436</td><td>0.00019895276766396553</td><td>0.00020004388211464276</td><td>1.007896876117697</td><td>0.006940609004742</td><td>3479</td></tr>\n",
       "<tr><td>2.46621207433047</td><td>2.882309069446668</td><td>3.263054561997864</td><td>0.012365497276165687</td><td>0.0001645113422592457</td><td>0.00029444375202460055</td><td>0.00014773664641759505</td><td>0.9946389967286835</td><td>0.00494113559622797</td><td>6188</td></tr>\n",
       "<tr><td>3.263054561997864</td><td>3.8082066394891894</td><td>4.317359883766556</td><td>0.009314295931979242</td><td>9.767093549814181e-05</td><td>-0.0005616934167879528</td><td>0.00011970052009903858</td><td>0.9922200832905932</td><td>0.0036853682845281502</td><td>10849</td></tr>\n",
       "<tr><td>4.317359883766556</td><td>4.870379641763282</td><td>5.7123152591553135</td><td>0.004856151087230271</td><td>0.00010748824629726481</td><td>-0.001094113267983147</td><td>0.0001152492377082557</td><td>0.9845351614502101</td><td>0.0038856989848474258</td><td>9755</td></tr>\n",
       "<tr><td>5.7123152591553135</td><td>5.960000520868773</td><td>7.557986014246993</td><td>0.0015568135977910237</td><td>0.00032133518711172164</td><td>-0.003681832431586525</td><td>0.0002807912665247582</td><td>1.0026333220591057</td><td>0.012217109891328161</td><td>1052</td></tr>\n",
       "</table>"
      ],
      "text/plain": [
       "<Table length=14>\n",
       "     radius_min            radius       ...         z_err         n_src\n",
       "      float64             float64       ...        float64        int64\n",
       "------------------- ------------------- ... --------------------- -----\n",
       "               0.15 0.17636942351321439 ...   0.05041615834029067    34\n",
       "0.19846556968648293 0.23218089353404303 ...  0.058193913495320986    53\n",
       "0.26259054900653483  0.3059704420440446 ...   0.04849007345410995    82\n",
       " 0.3474345526857884  0.4072589534929289 ...   0.03719695065774041   130\n",
       "0.45969197618368907  0.5396605648750517 ...  0.023369400483367962   261\n",
       "   0.60822019955734  0.7076302276523957 ...   0.01632509783150775   464\n",
       " 0.8047384559998256  0.9424747432620386 ...  0.014443458340591367   730\n",
       " 1.0647525074575073  1.2470483876853413 ...  0.010498800725560982  1194\n",
       " 1.4087780864511024  1.6514264711112452 ...  0.008637894700042961  2076\n",
       " 1.8639596365956759  2.1822210761522407 ...     0.006940609004742  3479\n",
       "   2.46621207433047   2.882309069446668 ...   0.00494113559622797  6188\n",
       "  3.263054561997864  3.8082066394891894 ... 0.0036853682845281502 10849\n",
       "  4.317359883766556   4.870379641763282 ... 0.0038856989848474258  9755\n",
       " 5.7123152591553135   5.960000520868773 ...  0.012217109891328161  1052"
      ]
     },
     "execution_count": 10,
     "metadata": {},
     "output_type": "execute_result"
    }
   ],
   "source": [
    "bin_edges = clmm.polaraveraging.make_bins(0.15, 10, 15, method='evenlog10width') # in Mpc\n",
    "cl.compute_shear(geometry=\"flat\")\n",
    "cl.make_shear_profile(\"radians\", \"Mpc\", bins=bin_edges,cosmo=cosmo)"
   ]
  },
  {
   "cell_type": "markdown",
   "metadata": {},
   "source": [
    "### 3. Sanity check: use CLMM to compute the corresponding NFW model, given the mass the halo\n",
    "\n",
    "- The mass definition used in cosmoDC2 is the friend-of-friend mass with linking length b=0.168. In CLMM, the default mass definition is $M_{200,m}$: it uses an overdensity parameter $\\Delta=200$ with respect to the matter density. Here, we are directly using $M_{\\rm fof}$ in the modeling functions of CLMM, which is inconsistent. However, the goal here is to check that model and data are roughly in agreement. \n",
    "- The model should take into account the redshift distribution of the background galaxies. Here, we simply use the average redshift of the galaxy catalog as this is a quick sanity check that things behave as expected. "
   ]
  },
  {
   "cell_type": "code",
   "execution_count": 11,
   "metadata": {},
   "outputs": [],
   "source": [
    "reduced_shear = clmm.predict_reduced_tangential_shear(cl.profile['radius']*cosmo.h, mass_cl*cosmo.h, 4.,z_cl, cl.profile['z'], cosmo,\n",
    "                                                      delta_mdef=200,halo_profile_model='nfw')  "
   ]
  },
  {
   "cell_type": "code",
   "execution_count": 14,
   "metadata": {},
   "outputs": [
    {
     "data": {
      "text/plain": [
       "Text(0, 0.5, '<shear>')"
      ]
     },
     "execution_count": 14,
     "metadata": {},
     "output_type": "execute_result"
    },
    {
     "data": {
      "image/png": "[encoded data removed]",
      "text/plain": [
       "<Figure size 432x288 with 1 Axes>"
      ]
     },
     "metadata": {
      "needs_background": "light"
     },
     "output_type": "display_data"
    }
   ],
   "source": [
    "plt.errorbar(cl.profile['radius'],cl.profile['gt'],yerr=cl.profile['gt_err'])\n",
    "plt.plot(cl.profile['radius'],reduced_shear, label='model shear')\n",
    "plt.legend()\n",
    "plt.xscale('log')\n",
    "plt.yscale('log')\n",
    "plt.xlabel('R (Mpc)')\n",
    "plt.ylabel('<shear>')"
   ]
  },
  {
   "cell_type": "markdown",
   "metadata": {},
   "source": [
    "Data and model are in rough agreement at large radii. In the inner region, the lack of resolution of the DC2 simulations yield an unphysical attenuation of the signal. This was remarked upon in the cosmoDC2 paper (https://arxiv.org/abs/1907.06530)."
   ]
  }
 ],
 "metadata": {
  "kernelspec": {
   "display_name": "desc-clmm",
   "language": "python",
   "name": "desc-clmm"
  },
  "language_info": {
   "codemirror_mode": {
    "name": "ipython",
    "version": 3
   },
   "file_extension": ".py",
   "mimetype": "text/x-python",
   "name": "python",
   "nbconvert_exporter": "python",
   "pygments_lexer": "ipython3",
   "version": "3.7.6"
  }
 },
 "nbformat": 4,
 "nbformat_minor": 4
}
