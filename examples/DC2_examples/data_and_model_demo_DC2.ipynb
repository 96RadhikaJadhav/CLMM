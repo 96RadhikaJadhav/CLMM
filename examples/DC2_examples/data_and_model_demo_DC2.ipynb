{
 "cells": [
  {
   "cell_type": "code",
   "execution_count": 5,
   "metadata": {},
   "outputs": [],
   "source": [
    "import sys\n",
    "sys.path.append('../support')\n",
    "try: import clmm\n",
    "except:\n",
    "    import notebook_install\n",
    "    notebook_install.install_clmm_pipeline(upgrade=False)\n",
    "    import clmm\n",
    "from astropy.cosmology import FlatLambdaCDM\n",
    "import matplotlib.pyplot as plt\n",
    "import numpy as np\n",
    "from numpy import random\n",
    "from sampler import fitters\n",
    "from astropy.coordinates import SkyCoord\n",
    "from astropy.table import Table\n",
    "import GCRCatalogs\n",
    "\n"
   ]
  },
  {
   "cell_type": "markdown",
   "metadata": {},
   "source": [
    "Make sure we know which version we're using"
   ]
  },
  {
   "cell_type": "code",
   "execution_count": 6,
   "metadata": {},
   "outputs": [
    {
     "data": {
      "text/plain": [
       "'0.2.0'"
      ]
     },
     "execution_count": 6,
     "metadata": {},
     "output_type": "execute_result"
    }
   ],
   "source": [
    "clmm.__version__"
   ]
  },
  {
   "cell_type": "markdown",
   "metadata": {},
   "source": [
    "#### Read in the extragalactic catalog"
   ]
  },
  {
   "cell_type": "code",
   "execution_count": 108,
   "metadata": {},
   "outputs": [],
   "source": [
    "#extragalactic_cat = GCRCatalogs.load_catalog('cosmoDC2_v1.1.4_image')\n",
    "extragalactic_cat = GCRCatalogs.load_catalog('cosmoDC2_v1.1.4_small')"
   ]
  },
  {
   "cell_type": "code",
   "execution_count": 120,
   "metadata": {},
   "outputs": [
    {
     "data": {
      "text/plain": [
       "'FoF, b=0.168'"
      ]
     },
     "execution_count": 120,
     "metadata": {},
     "output_type": "execute_result"
    }
   ],
   "source": [
    "extragalactic_cat.halo_mass_def"
   ]
  },
  {
   "cell_type": "code",
   "execution_count": 129,
   "metadata": {},
   "outputs": [
    {
     "data": {
      "text/plain": [
       "['halo_id', 'halo_mass']"
      ]
     },
     "execution_count": 129,
     "metadata": {},
     "output_type": "execute_result"
    }
   ],
   "source": [
    "sorted(q for q in extragalactic_cat.list_all_quantities() if 'halo' in q)"
   ]
  },
  {
   "cell_type": "code",
   "execution_count": null,
   "metadata": {},
   "outputs": [],
   "source": [
    "#sorted(extragalactic_cat.list_all_quantities())"
   ]
  },
  {
   "cell_type": "code",
   "execution_count": 132,
   "metadata": {},
   "outputs": [],
   "source": [
    "cosmo = extragalactic_cat.cosmology"
   ]
  },
  {
   "cell_type": "markdown",
   "metadata": {},
   "source": [
    "#### Get the list of halos with `M > mmin` in the redshift range `[zmin, zmax]`"
   ]
  },
  {
   "cell_type": "code",
   "execution_count": 133,
   "metadata": {},
   "outputs": [],
   "source": [
    "# get list of massive halos in a given redshift and mass range\n",
    "mmin = 3.e14\n",
    "zmin = 0.3\n",
    "zmax = 0.4\n",
    "\n",
    "massive_halos = extragalactic_cat.get_quantities(['halo_mass','hostHaloMass','redshift','ra', 'dec'],\\\n",
    "                                                 filters=[f'halo_mass > {mmin}','is_central==True',\n",
    "                                                          f'redshift>{zmin}', f'redshift<{zmax}'])\n"
   ]
  },
  {
   "cell_type": "code",
   "execution_count": 134,
   "metadata": {},
   "outputs": [
    {
     "name": "stdout",
     "output_type": "stream",
     "text": [
      "There are 9 clusters available\n"
     ]
    }
   ],
   "source": [
    "N_cl = len(massive_halos['halo_mass'])\n",
    "print(f'There are {N_cl} clusters available')\n",
    "\n",
    "# Selecting the most massive one\n",
    "select = massive_halos['halo_mass'] == np.max(massive_halos['halo_mass'])"
   ]
  },
  {
   "cell_type": "code",
   "execution_count": 135,
   "metadata": {},
   "outputs": [
    {
     "name": "stdout",
     "output_type": "stream",
     "text": [
      "The most massive cluster is in z = 0.32, with mass = 6.36e+14 Msun\n"
     ]
    }
   ],
   "source": [
    "ra_cl = massive_halos['ra'][select][0]\n",
    "dec_cl = massive_halos['dec'][select][0]\n",
    "z_cl = massive_halos['redshift'][select][0]\n",
    "mass_cl =massive_halos['halo_mass'][select][0]\n",
    "print (f'The most massive cluster is in z = {z_cl:.2f}, with mass = {mass_cl:.2e} Msun')"
   ]
  },
  {
   "cell_type": "code",
   "execution_count": 136,
   "metadata": {},
   "outputs": [
    {
     "name": "stdout",
     "output_type": "stream",
     "text": [
      "64.25941267918058 -34.47274791810462\n"
     ]
    }
   ],
   "source": [
    "print(ra_cl,dec_cl)"
   ]
  },
  {
   "cell_type": "markdown",
   "metadata": {},
   "source": [
    "### Apply coordinates, redshift and magnitude cuts to select backgroud galaxies around the cluster"
   ]
  },
  {
   "cell_type": "code",
   "execution_count": 83,
   "metadata": {},
   "outputs": [],
   "source": [
    "# get galaxies around it\n",
    "ra_min, ra_max = ra_cl-0.3, ra_cl+0.3\n",
    "dec_min, dec_max = dec_cl-0.3, dec_cl+0.3\n",
    "z_min = z_cl + 0.1\n",
    "mag_i_max = 25\n",
    "\n",
    "coord_filters = ['ra >= {}'.format(ra_min),'ra < {}'.format(ra_max),'dec >= {}'.format(dec_min),'dec < {}'.format(dec_max)]\n",
    "z_filters = ['redshift >= {}'.format(z_min)]\n",
    "mag_filters = ['mag_i < {}'.format(mag_i_max)]\n",
    "gal_cat = extragalactic_cat.get_quantities(['galaxy_id', 'ra', 'dec', 'shear_1', 'shear_2','redshift', 'convergence'],\\\n",
    "                                           filters=(coord_filters + z_filters + mag_filters))\n",
    "\n"
   ]
  },
  {
   "cell_type": "code",
   "execution_count": 84,
   "metadata": {},
   "outputs": [],
   "source": [
    "e1, e2 = clmm.utils.convert_shapes_to_epsilon(gal_cat['shear_1'],gal_cat['shear_2'],\\\n",
    "                                              shape_definition='shear',kappa=gal_cat['convergence'])\n",
    "\n",
    "#store the results into an astropy table\n",
    "dat = Table([gal_cat['ra'],gal_cat['dec'],e1,\\\n",
    "      e2,gal_cat['redshift'],gal_cat['galaxy_id']], \\\n",
    "      names=('ra','dec', 'e1', 'e2', 'z','id'))\n",
    "\n",
    "cl = clmm.GalaxyCluster('CL', ra_cl, dec_cl, z_cl, dat)   "
   ]
  },
  {
   "cell_type": "code",
   "execution_count": 85,
   "metadata": {},
   "outputs": [
    {
     "data": {
      "text/plain": [
       "(array([1878., 2595., 3689., 4350., 2806., 4611., 5189., 2023., 2320.,\n",
       "        3073., 1546., 1242., 1163.,  711.,  472.,  548.,  317.,  257.,\n",
       "         381.,  171.,  170.,  104.,  132.,   53.,   42.,   45.,   11.,\n",
       "          39.,   19.,   11.]),\n",
       " array([0.40292146, 0.48948154, 0.57604162, 0.66260171, 0.74916179,\n",
       "        0.83572187, 0.92228196, 1.00884204, 1.09540212, 1.1819622 ,\n",
       "        1.26852229, 1.35508237, 1.44164245, 1.52820254, 1.61476262,\n",
       "        1.7013227 , 1.78788279, 1.87444287, 1.96100295, 2.04756304,\n",
       "        2.13412312, 2.2206832 , 2.30724328, 2.39380337, 2.48036345,\n",
       "        2.56692353, 2.65348362, 2.7400437 , 2.82660378, 2.91316387,\n",
       "        2.99972395]),\n",
       " <a list of 30 Patch objects>)"
      ]
     },
     "execution_count": 85,
     "metadata": {},
     "output_type": "execute_result"
    },
    {
     "data": {
      "image/png": "[encoded data removed]",
      "text/plain": [
       "<Figure size 432x288 with 1 Axes>"
      ]
     },
     "metadata": {
      "needs_background": "light"
     },
     "output_type": "display_data"
    }
   ],
   "source": [
    "plt.hist(cl.galcat['z'], bins=30)"
   ]
  },
  {
   "cell_type": "markdown",
   "metadata": {},
   "source": [
    "### Computes the tangential and cross shear profiles"
   ]
  },
  {
   "cell_type": "markdown",
   "metadata": {},
   "source": [
    "#### Default binning"
   ]
  },
  {
   "cell_type": "code",
   "execution_count": 86,
   "metadata": {},
   "outputs": [
    {
     "name": "stderr",
     "output_type": "stream",
     "text": [
      "/global/homes/c/ccombet/.conda/envs/clmmenv/lib/python3.8/site-packages/clmm-0.2.0-py3.8.egg/clmm/utils.py:43: RuntimeWarning: invalid value encountered in true_divide\n"
     ]
    }
   ],
   "source": [
    "bin_edges = clmm.polaraveraging.make_bins(0.15, 10, 20, method='evenlog10width')\n",
    "cl.compute_shear(geometry=\"flat\")\n",
    "profile = cl.make_shear_profile(\"radians\", \"Mpc\", bins=bin_edges,cosmo=cosmo)"
   ]
  },
  {
   "cell_type": "code",
   "execution_count": 139,
   "metadata": {},
   "outputs": [
    {
     "data": {
      "text/html": [
       "<i>Table length=18</i>\n",
       "<table id=\"table46913505907760\" class=\"table-striped table-bordered table-condensed\">\n",
       "<thead><tr><th>radius_min</th><th>radius</th><th>radius_max</th><th>gt</th><th>gt_err</th><th>gx</th><th>gx_err</th><th>z</th><th>z_err</th><th>n_src</th></tr></thead>\n",
       "<thead><tr><th>float64</th><th>float64</th><th>float64</th><th>float64</th><th>float64</th><th>float64</th><th>float64</th><th>float64</th><th>float64</th><th>int64</th></tr></thead>\n",
       "<tr><td>0.15</td><td>0.16692940373286413</td><td>0.18504898022151392</td><td>0.018782059313912507</td><td>0.00944788769153417</td><td>0.011452529543567042</td><td>0.012563741268894979</td><td>1.0961880320726947</td><td>0.07843906354056014</td><td>39</td></tr>\n",
       "<tr><td>0.18504898022151392</td><td>0.2075251915055028</td><td>0.2282875005401484</td><td>0.02190078377392843</td><td>0.007937450949161892</td><td>-0.0070204478445948</td><td>0.008949749484292177</td><td>1.299321178118317</td><td>0.07579193879857825</td><td>59</td></tr>\n",
       "<tr><td>0.2282875005401484</td><td>0.2563103626573535</td><td>0.2816291278151518</td><td>0.02648273824786729</td><td>0.005884763553185707</td><td>0.005269646301929136</td><td>0.006685783367445041</td><td>1.0869786287090337</td><td>0.05250540512522531</td><td>82</td></tr>\n",
       "<tr><td>0.2816291278151518</td><td>0.31505138829941276</td><td>0.3474345526857883</td><td>0.04299849342969147</td><td>0.0047396681812358725</td><td>0.012841328466298629</td><td>0.0056205674709548315</td><td>1.1274306118071427</td><td>0.05468359430325169</td><td>102</td></tr>\n",
       "<tr><td>0.3474345526857883</td><td>0.3872805113328018</td><td>0.4286160644548199</td><td>0.06127538234508562</td><td>0.003630845997447712</td><td>0.0008719977676024138</td><td>0.004117903769982957</td><td>1.0528584797861644</td><td>0.03539519118695135</td><td>135</td></tr>\n",
       "<tr><td>0.4286160644548199</td><td>0.48314499083374063</td><td>0.5287664375594874</td><td>0.06996317001606304</td><td>0.002265163625133496</td><td>0.0009985846926624253</td><td>0.0031943756388796143</td><td>1.1034518965386049</td><td>0.034029236031762736</td><td>189</td></tr>\n",
       "<tr><td>0.5287664375594874</td><td>0.5924398425051403</td><td>0.6523179336383065</td><td>0.07071442180231863</td><td>0.0013954829564663017</td><td>0.002544649856672027</td><td>0.0027527738267426106</td><td>1.0248555824495007</td><td>0.023790458366432336</td><td>291</td></tr>\n",
       "<tr><td>0.6523179336383065</td><td>0.7327029774545151</td><td>0.8047384559998254</td><td>0.06422463034125338</td><td>0.0012849672609272801</td><td>0.001660819990390551</td><td>0.002130218059450002</td><td>0.9807067822805899</td><td>0.018896860847492453</td><td>390</td></tr>\n",
       "<tr><td>0.8047384559998254</td><td>0.9079736913176335</td><td>0.992773537518689</td><td>0.04981541033321634</td><td>0.0010543194562039429</td><td>0.002410701374989895</td><td>0.0012808499631840912</td><td>0.9894403831573982</td><td>0.015888239521804806</td><td>629</td></tr>\n",
       "<tr><td>0.992773537518689</td><td>1.112463773387974</td><td>1.224744871391589</td><td>0.039425334556318345</td><td>0.0007075831382949929</td><td>0.0016024916533498121</td><td>0.0007576968416017307</td><td>0.988893402879156</td><td>0.01287370545644773</td><td>905</td></tr>\n",
       "<tr><td>1.224744871391589</td><td>1.3691093297500967</td><td>1.510918596550285</td><td>0.03651438288367133</td><td>0.0004372006183665822</td><td>0.0001407780495871372</td><td>0.00045108043242890044</td><td>0.9585438409251518</td><td>0.010572094418867986</td><td>1338</td></tr>\n",
       "<tr><td>1.510918596550285</td><td>1.691156125563686</td><td>1.863959636595675</td><td>0.03569158268309424</td><td>0.0003358803013577896</td><td>-0.00034442587527796554</td><td>0.00033269682132910255</td><td>0.9930394398246232</td><td>0.00894792437714682</td><td>1982</td></tr>\n",
       "<tr><td>1.863959636595675</td><td>2.0889197030706432</td><td>2.299492199507289</td><td>0.02976432188894042</td><td>0.0002559774695507807</td><td>0.0010881135873958539</td><td>0.0002544285495321648</td><td>0.9792099931827335</td><td>0.006994963051564883</td><td>2975</td></tr>\n",
       "<tr><td>2.299492199507289</td><td>2.57665687158654</td><td>2.8367912436410005</td><td>0.022553546594478054</td><td>0.00018829656979928386</td><td>0.0003283548133118796</td><td>0.00021113102236277863</td><td>0.972619504691965</td><td>0.005750218552858767</td><td>4487</td></tr>\n",
       "<tr><td>2.8367912436410005</td><td>3.185475597418414</td><td>3.4996355115805824</td><td>0.015530554485086659</td><td>0.0001384035866303393</td><td>-0.0004034113371920579</td><td>0.00014241130518211214</td><td>0.9892824532371024</td><td>0.004751930738483897</td><td>6748</td></tr>\n",
       "<tr><td>3.4996355115805824</td><td>3.8957343174159664</td><td>4.317359883766553</td><td>0.011971498628947322</td><td>0.00010037609178337013</td><td>-0.00019968668773638696</td><td>0.00012650258237245578</td><td>0.9821084187252325</td><td>0.003882521059700051</td><td>9699</td></tr>\n",
       "<tr><td>4.317359883766553</td><td>4.747220330390126</td><td>5.326153624935164</td><td>0.008418297662068554</td><td>9.473577382866367e-05</td><td>-0.00016690219991113964</td><td>0.00011956483941190999</td><td>0.9839723335903068</td><td>0.004303099820088807</td><td>8003</td></tr>\n",
       "<tr><td>5.326153624935164</td><td>5.6184996937848295</td><td>6.570661978649145</td><td>0.009185791100453117</td><td>0.00022236138118809408</td><td>0.0008513703918141224</td><td>0.0002095002051827141</td><td>0.9749326646343477</td><td>0.008870645282658738</td><td>1837</td></tr>\n",
       "</table>"
      ],
      "text/plain": [
       "<Table length=18>\n",
       "     radius_min            radius       ...        z_err         n_src\n",
       "      float64             float64       ...       float64        int64\n",
       "------------------- ------------------- ... -------------------- -----\n",
       "               0.15 0.16692940373286413 ...  0.07843906354056014    39\n",
       "0.18504898022151392  0.2075251915055028 ...  0.07579193879857825    59\n",
       " 0.2282875005401484  0.2563103626573535 ...  0.05250540512522531    82\n",
       " 0.2816291278151518 0.31505138829941276 ...  0.05468359430325169   102\n",
       " 0.3474345526857883  0.3872805113328018 ...  0.03539519118695135   135\n",
       " 0.4286160644548199 0.48314499083374063 ... 0.034029236031762736   189\n",
       " 0.5287664375594874  0.5924398425051403 ... 0.023790458366432336   291\n",
       " 0.6523179336383065  0.7327029774545151 ... 0.018896860847492453   390\n",
       " 0.8047384559998254  0.9079736913176335 ... 0.015888239521804806   629\n",
       "  0.992773537518689   1.112463773387974 ...  0.01287370545644773   905\n",
       "  1.224744871391589  1.3691093297500967 ... 0.010572094418867986  1338\n",
       "  1.510918596550285   1.691156125563686 ...  0.00894792437714682  1982\n",
       "  1.863959636595675  2.0889197030706432 ... 0.006994963051564883  2975\n",
       "  2.299492199507289    2.57665687158654 ... 0.005750218552858767  4487\n",
       " 2.8367912436410005   3.185475597418414 ... 0.004751930738483897  6748\n",
       " 3.4996355115805824  3.8957343174159664 ... 0.003882521059700051  9699\n",
       "  4.317359883766553   4.747220330390126 ... 0.004303099820088807  8003\n",
       "  5.326153624935164  5.6184996937848295 ... 0.008870645282658738  1837"
      ]
     },
     "execution_count": 139,
     "metadata": {},
     "output_type": "execute_result"
    }
   ],
   "source": [
    "profile"
   ]
  },
  {
   "cell_type": "markdown",
   "metadata": {},
   "source": [
    "### Set up a model"
   ]
  },
  {
   "cell_type": "code",
   "execution_count": 118,
   "metadata": {},
   "outputs": [],
   "source": [
    "reduced_shear_model = np.zeros(len(profile['radius']))\n",
    "\n",
    "for i,r in enumerate(profile['radius']): \n",
    "    reduced_shear = clmm.predict_reduced_tangential_shear(r*cosmo.h, mass_cl*cosmo.h, 4.,z_cl, profile['z'], cosmo,\n",
    "                                                        delta_mdef=200,halo_profile_model='nfw')  \n",
    "    reduced_shear_model[i] = np.mean(reduced_shear)    "
   ]
  },
  {
   "cell_type": "code",
   "execution_count": 119,
   "metadata": {},
   "outputs": [
    {
     "data": {
      "text/plain": [
       "Text(0, 0.5, '<shear>')"
      ]
     },
     "execution_count": 119,
     "metadata": {},
     "output_type": "execute_result"
    },
    {
     "data": {
      "image/png": "[encoded data removed]",
      "text/plain": [
       "<Figure size 432x288 with 1 Axes>"
      ]
     },
     "metadata": {
      "needs_background": "light"
     },
     "output_type": "display_data"
    }
   ],
   "source": [
    "plt.errorbar(profile['radius'],profile['gt'],yerr=profile['gt_err'])\n",
    "plt.plot(profile['radius'],reduced_shear_model, label='model shear')\n",
    "plt.legend()\n",
    "plt.xscale('log')\n",
    "plt.yscale('log')\n",
    "plt.xlabel('R (Mpc)')\n",
    "plt.ylabel('<shear>')"
   ]
  },
  {
   "cell_type": "code",
   "execution_count": null,
   "metadata": {},
   "outputs": [],
   "source": []
  },
  {
   "cell_type": "code",
   "execution_count": null,
   "metadata": {},
   "outputs": [],
   "source": []
  }
 ],
 "metadata": {
  "kernelspec": {
   "display_name": "Python [conda env:.conda-clmmenv]",
   "language": "python",
   "name": "conda-env-.conda-clmmenv-py"
  },
  "language_info": {
   "codemirror_mode": {
    "name": "ipython",
    "version": 3
   },
   "file_extension": ".py",
   "mimetype": "text/x-python",
   "name": "python",
   "nbconvert_exporter": "python",
   "pygments_lexer": "ipython3",
   "version": "3.8.1"
  }
 },
 "nbformat": 4,
 "nbformat_minor": 4
}
