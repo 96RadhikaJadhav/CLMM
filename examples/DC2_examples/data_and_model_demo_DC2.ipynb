{
 "cells": [
  {
   "cell_type": "code",
   "execution_count": 1,
   "metadata": {},
   "outputs": [],
   "source": [
    "import sys\n",
    "sys.path.append('../support')\n",
    "try: import clmm\n",
    "except:\n",
    "    import notebook_install\n",
    "    notebook_install.install_clmm_pipeline(upgrade=False)\n",
    "    import clmm\n",
    "from astropy.cosmology import FlatLambdaCDM\n",
    "import matplotlib.pyplot as plt\n",
    "import numpy as np\n",
    "from numpy import random\n",
    "from sampler import fitters\n",
    "from astropy.coordinates import SkyCoord\n",
    "from astropy.table import Table\n",
    "import GCRCatalogs\n",
    "\n"
   ]
  },
  {
   "cell_type": "markdown",
   "metadata": {},
   "source": [
    "Make sure we know which version we're using"
   ]
  },
  {
   "cell_type": "code",
   "execution_count": 2,
   "metadata": {},
   "outputs": [
    {
     "data": {
      "text/plain": [
       "'0.2.0'"
      ]
     },
     "execution_count": 2,
     "metadata": {},
     "output_type": "execute_result"
    }
   ],
   "source": [
    "clmm.__version__"
   ]
  },
  {
   "cell_type": "code",
   "execution_count": 3,
   "metadata": {},
   "outputs": [],
   "source": [
    "cosmo = FlatLambdaCDM(H0=70, Om0=0.27, Ob0=0.045)"
   ]
  },
  {
   "cell_type": "markdown",
   "metadata": {},
   "source": [
    "### Read in the extragalactic catalog\n",
    "- identify the most massive halo\n",
    "- create a cluster dictionary (ra, dec, z)"
   ]
  },
  {
   "cell_type": "code",
   "execution_count": 4,
   "metadata": {},
   "outputs": [],
   "source": [
    "extragalactic_cat = GCRCatalogs.load_catalog('cosmoDC2_v1.1.4_small')"
   ]
  },
  {
   "cell_type": "code",
   "execution_count": 5,
   "metadata": {},
   "outputs": [],
   "source": [
    "# get list of massive halos in a given redshift and mass range\n",
    "mmin = 3.e14\n",
    "mmax = 1.e15\n",
    "zmin = 0.3\n",
    "zmax = 0.35\n",
    "\n",
    "massive_halos = extragalactic_cat.get_quantities(['halo_mass', 'redshift','ra', 'dec'],\\\n",
    "                                                 filters=[f'halo_mass > {mmin}',f'halo_mass < {mmax}','is_central==True',\n",
    "                                                          f'redshift>{zmin}', f'redshift<{zmax}'])"
   ]
  },
  {
   "cell_type": "code",
   "execution_count": 6,
   "metadata": {},
   "outputs": [],
   "source": [
    "select = massive_halos['halo_mass'] == np.max(massive_halos['halo_mass'])"
   ]
  },
  {
   "cell_type": "code",
   "execution_count": 20,
   "metadata": {},
   "outputs": [],
   "source": [
    "\n",
    "ra_cl = massive_halos['ra'][select][0]\n",
    "dec_cl = massive_halos['dec'][select][0]\n",
    "z_cl = massive_halos['redshift'][select][0]\n",
    "mass_cl =massive_halos['halo_mass'][select][0]"
   ]
  },
  {
   "cell_type": "code",
   "execution_count": 21,
   "metadata": {},
   "outputs": [
    {
     "name": "stdout",
     "output_type": "stream",
     "text": [
      "64.25941267918058 -34.47274791810462 0.32086432759527206 6.356945271908957\n"
     ]
    }
   ],
   "source": [
    "print (ra_cl, dec_cl, z_cl, mass_cl/1.e14)"
   ]
  },
  {
   "cell_type": "markdown",
   "metadata": {},
   "source": [
    "### Apply coordinates and redshift cuts to select backgroud galaxies around the cluster"
   ]
  },
  {
   "cell_type": "code",
   "execution_count": 29,
   "metadata": {},
   "outputs": [],
   "source": [
    "# get galaxies around it\n",
    "ra_min, ra_max = ra_cl-0.3, ra_cl+0.3\n",
    "dec_min, dec_max = dec_cl-0.3, dec_cl+0.3\n",
    "z_min = z_cl + 0.1\n",
    "z_max = 1.5\n",
    "mag_i_max = 24\n",
    "\n",
    "coord_filters = ['ra >= {}'.format(ra_min),'ra < {}'.format(ra_max),'dec >= {}'.format(dec_min),'dec < {}'.format(dec_max)]\n",
    "z_filters = ['redshift >= {}'.format(z_min),'redshift < {}'.format(z_max)]\n",
    "mag_filters = ['mag_i < {}'.format(mag_i_max)]\n",
    "gal_cat = extragalactic_cat.get_quantities(['galaxy_id', 'ra', 'dec', 'shear_1', 'shear_2','redshift', 'convergence'],\\\n",
    "                                           filters=(coord_filters + z_filters))\n",
    "\n"
   ]
  },
  {
   "cell_type": "code",
   "execution_count": 10,
   "metadata": {},
   "outputs": [],
   "source": [
    "e1, e2 = clmm.utils.convert_shapes_to_epsilon(galcat['shear1'],galcat['shear2'], shape_definition='shear',kappa=galcat['convergence'])\n",
    "\n",
    "store the results into an astropy table\n",
    "dat = Table([gal_cat['ra'],gal_cat['dec'],e1,\\\n",
    "      e2,gal_cat['redshift'],gal_cat['galaxy_id']], \\\n",
    "      names=('ra','dec', 'e1', 'e2', 'z','id'))\n",
    "\n",
    "# dat = Table([gal_cat['ra'],gal_cat['dec'],gal_cat['shear_1'],\\\n",
    "#       gal_cat['shear_2'],gal_cat['redshift'],gal_cat['galaxy_id']], \\\n",
    "#       names=('ra','dec', 'e1', 'e2', 'z','id'))\n",
    "\n",
    "cl = clmm.GalaxyCluster('CL', ra_cl, dec_cl, z_cl, dat)   "
   ]
  },
  {
   "cell_type": "markdown",
   "metadata": {},
   "source": [
    "### Computes the tangential and cross shear profiles"
   ]
  },
  {
   "cell_type": "markdown",
   "metadata": {},
   "source": [
    "#### Default binning"
   ]
  },
  {
   "cell_type": "code",
   "execution_count": 26,
   "metadata": {},
   "outputs": [],
   "source": [
    "bin_edges = clmm.polaraveraging.make_bins(0.1, 4, 30, method='evenlog10width')\n",
    "cl.compute_shear(geometry=\"flat\")\n",
    "profile = cl.make_shear_profile(\"radians\", \"Mpc\", bins=bin_edges,cosmo=cosmo)"
   ]
  },
  {
   "cell_type": "code",
   "execution_count": 27,
   "metadata": {},
   "outputs": [
    {
     "data": {
      "text/plain": [
       "Text(0, 0.5, 'reduced tangential shear')"
      ]
     },
     "execution_count": 27,
     "metadata": {},
     "output_type": "execute_result"
    },
    {
     "data": {
      "image/png": "[encoded data removed]",
      "text/plain": [
       "<Figure size 432x288 with 1 Axes>"
      ]
     },
     "metadata": {
      "needs_background": "light"
     },
     "output_type": "display_data"
    }
   ],
   "source": [
    "plt.errorbar(profile['radius'],profile['gt'],yerr=profile['gt_err'])\n",
    "plt.xscale('log')\n",
    "plt.yscale('log')\n",
    "plt.xlabel('R (Mpc)')\n",
    "plt.ylabel('reduced tangential shear')"
   ]
  },
  {
   "cell_type": "code",
   "execution_count": 28,
   "metadata": {},
   "outputs": [
    {
     "data": {
      "text/html": [
       "<i>Table length=30</i>\n",
       "<table id=\"table46913488964288\" class=\"table-striped table-bordered table-condensed\">\n",
       "<thead><tr><th>radius_min</th><th>radius</th><th>radius_max</th><th>gt</th><th>gt_err</th><th>gx</th><th>gx_err</th><th>z</th><th>z_err</th><th>n_src</th></tr></thead>\n",
       "<thead><tr><th>float64</th><th>float64</th><th>float64</th><th>float64</th><th>float64</th><th>float64</th><th>float64</th><th>float64</th><th>float64</th><th>int64</th></tr></thead>\n",
       "<tr><td>0.1</td><td>0.10599551156076456</td><td>0.11308421814734985</td><td>0.003771559420379098</td><td>0.0025275526308310052</td><td>0.004925667554996788</td><td>0.0028984496299305136</td><td>1.0616052454496383</td><td>0.03274740846192794</td><td>63</td></tr>\n",
       "<tr><td>0.11308421814734985</td><td>0.11975748834349224</td><td>0.12788040393997407</td><td>0.00690903026227424</td><td>0.002955971938820584</td><td>0.0006506318728483056</td><td>0.002969205793379913</td><td>1.0581053174420885</td><td>0.036391327359456084</td><td>53</td></tr>\n",
       "<tr><td>0.12788040393997407</td><td>0.1369997860630542</td><td>0.14461255495919248</td><td>0.009956195287990226</td><td>0.002447599744644376</td><td>-0.0019404921129885756</td><td>0.002344872055885549</td><td>1.0921525425380498</td><td>0.02723204568866251</td><td>76</td></tr>\n",
       "<tr><td>0.14461255495919248</td><td>0.1535670085092488</td><td>0.1635339771185094</td><td>0.013267923301795435</td><td>0.002144904435589672</td><td>0.0029765970676444726</td><td>0.002082219385196273</td><td>1.097767088530854</td><td>0.028323139733382317</td><td>91</td></tr>\n",
       "<tr><td>0.1635339771185094</td><td>0.174652772612485</td><td>0.18493111942973237</td><td>0.014631635134302174</td><td>0.0018080695055409004</td><td>0.0016560836064780692</td><td>0.0017598207298637506</td><td>1.0999367921323333</td><td>0.024097985965672503</td><td>118</td></tr>\n",
       "<tr><td>0.18493111942973237</td><td>0.195945778232067</td><td>0.20912791051825466</td><td>0.014843937470491836</td><td>0.0015656377194488954</td><td>-0.0015666278517346343</td><td>0.0015662680842406112</td><td>1.1236956810971677</td><td>0.02217258442190426</td><td>148</td></tr>\n",
       "<tr><td>0.20912791051825466</td><td>0.22377500619153437</td><td>0.2364906625374577</td><td>0.020423447389580126</td><td>0.0013399203720933087</td><td>-0.0011406411640352112</td><td>0.0012437569557865067</td><td>1.122607585304138</td><td>0.017958961083043994</td><td>185</td></tr>\n",
       "<tr><td>0.2364906625374577</td><td>0.25176111330694834</td><td>0.26743361672197163</td><td>0.026042641627549493</td><td>0.001113855685025119</td><td>-0.0027434982923289085</td><td>0.001019737304330159</td><td>1.1382265128672708</td><td>0.015088204550323288</td><td>242</td></tr>\n",
       "<tr><td>0.26743361672197163</td><td>0.2838756623270482</td><td>0.30242521453322185</td><td>0.029961593290870087</td><td>0.0008775756514778856</td><td>-0.0012223916722124315</td><td>0.0008233840157094251</td><td>1.1055612769682905</td><td>0.013322236700164256</td><td>304</td></tr>\n",
       "<tr><td>0.30242521453322185</td><td>0.32131305668139276</td><td>0.3419951893353394</td><td>0.03614273269505413</td><td>0.0007210520280793868</td><td>0.00023321718960143026</td><td>0.0006341691025127416</td><td>1.092356783367713</td><td>0.012128888270210154</td><td>375</td></tr>\n",
       "<tr><td>...</td><td>...</td><td>...</td><td>...</td><td>...</td><td>...</td><td>...</td><td>...</td><td>...</td><td>...</td></tr>\n",
       "<tr><td>1.1696070952851465</td><td>1.247884640485568</td><td>1.322641039099137</td><td>0.02825702045928133</td><td>0.00011493611574907242</td><td>0.00013968072737909743</td><td>0.00013381092478919682</td><td>1.1169596366980266</td><td>0.00313369587535147</td><td>5994</td></tr>\n",
       "<tr><td>1.322641039099137</td><td>1.4107515569965332</td><td>1.4956982779612429</td><td>0.027129554086362414</td><td>0.00012902832637126023</td><td>0.00026824660540340333</td><td>0.0001417999833923374</td><td>1.1121002402686047</td><td>0.002748127719902837</td><td>7835</td></tr>\n",
       "<tr><td>1.4956982779612429</td><td>1.5946538384934261</td><td>1.691398703475847</td><td>0.018999645394489464</td><td>0.00012555281352281204</td><td>0.00015806043766379687</td><td>0.0001499415351317079</td><td>1.1108393458608805</td><td>0.002470608871314439</td><td>9769</td></tr>\n",
       "<tr><td>1.691398703475847</td><td>1.8044833966067455</td><td>1.9127049995800747</td><td>0.010503408625440323</td><td>9.621965539131459e-05</td><td>0.0001345957538193092</td><td>0.00012174621380051143</td><td>1.1085837961666967</td><td>0.002189133790727869</td><td>12362</td></tr>\n",
       "<tr><td>1.9127049995800747</td><td>2.040775306560303</td><td>2.162967494240399</td><td>0.008382346230575722</td><td>9.521920971616513e-05</td><td>4.329310626342947e-06</td><td>9.511691002208472e-05</td><td>1.1152075373412487</td><td>0.0019286582274657164</td><td>15856</td></tr>\n",
       "<tr><td>2.162967494240399</td><td>2.3080170581500643</td><td>2.4459748796430794</td><td>0.009129786330515767</td><td>0.00011657157606782949</td><td>8.865851032061536e-05</td><td>8.93726324252153e-05</td><td>1.114853950109127</td><td>0.0017021313622679441</td><td>20561</td></tr>\n",
       "<tr><td>2.4459748796430794</td><td>2.6095693032069534</td><td>2.7660115687249576</td><td>0.012412236426285993</td><td>8.875006758720939e-05</td><td>0.0002922693184701558</td><td>8.374997718905172e-05</td><td>1.1131590425419025</td><td>0.0014862830531521887</td><td>26330</td></tr>\n",
       "<tr><td>2.7660115687249576</td><td>2.9508621437704448</td><td>3.127922556357865</td><td>0.014867357275583219</td><td>7.392714344625813e-05</td><td>0.00024358454372646406</td><td>6.59199314992587e-05</td><td>1.1092072015229042</td><td>0.0013334786948995879</td><td>33156</td></tr>\n",
       "<tr><td>3.127922556357865</td><td>3.3368930605616525</td><td>3.5371867671118897</td><td>0.012593141532158765</td><td>6.122737561021718e-05</td><td>-4.4138545786942994e-05</td><td>5.879117420416324e-05</td><td>1.1113273936304076</td><td>0.0011728630314346991</td><td>43052</td></tr>\n",
       "<tr><td>3.5371867671118897</td><td>3.773242237947294</td><td>4.0</td><td>0.010954842761263194</td><td>4.5330035696936605e-05</td><td>-7.795490739690214e-05</td><td>5.585863442353183e-05</td><td>1.1124303279921428</td><td>0.001037643738745095</td><td>54893</td></tr>\n",
       "</table>"
      ],
      "text/plain": [
       "<Table length=30>\n",
       "     radius_min            radius       ...         z_err         n_src\n",
       "      float64             float64       ...        float64        int64\n",
       "------------------- ------------------- ... --------------------- -----\n",
       "                0.1 0.10599551156076456 ...   0.03274740846192794    63\n",
       "0.11308421814734985 0.11975748834349224 ...  0.036391327359456084    53\n",
       "0.12788040393997407  0.1369997860630542 ...   0.02723204568866251    76\n",
       "0.14461255495919248  0.1535670085092488 ...  0.028323139733382317    91\n",
       " 0.1635339771185094   0.174652772612485 ...  0.024097985965672503   118\n",
       "0.18493111942973237   0.195945778232067 ...   0.02217258442190426   148\n",
       "0.20912791051825466 0.22377500619153437 ...  0.017958961083043994   185\n",
       " 0.2364906625374577 0.25176111330694834 ...  0.015088204550323288   242\n",
       "0.26743361672197163  0.2838756623270482 ...  0.013322236700164256   304\n",
       "0.30242521453322185 0.32131305668139276 ...  0.012128888270210154   375\n",
       "                ...                 ... ...                   ...   ...\n",
       " 1.1696070952851465   1.247884640485568 ...   0.00313369587535147  5994\n",
       "  1.322641039099137  1.4107515569965332 ...  0.002748127719902837  7835\n",
       " 1.4956982779612429  1.5946538384934261 ...  0.002470608871314439  9769\n",
       "  1.691398703475847  1.8044833966067455 ...  0.002189133790727869 12362\n",
       " 1.9127049995800747   2.040775306560303 ... 0.0019286582274657164 15856\n",
       "  2.162967494240399  2.3080170581500643 ... 0.0017021313622679441 20561\n",
       " 2.4459748796430794  2.6095693032069534 ... 0.0014862830531521887 26330\n",
       " 2.7660115687249576  2.9508621437704448 ... 0.0013334786948995879 33156\n",
       "  3.127922556357865  3.3368930605616525 ... 0.0011728630314346991 43052\n",
       " 3.5371867671118897   3.773242237947294 ...  0.001037643738745095 54893"
      ]
     },
     "execution_count": 28,
     "metadata": {},
     "output_type": "execute_result"
    }
   ],
   "source": [
    "cl.profile"
   ]
  },
  {
   "cell_type": "markdown",
   "metadata": {},
   "source": [
    "### Set up a model"
   ]
  },
  {
   "cell_type": "code",
   "execution_count": 22,
   "metadata": {},
   "outputs": [],
   "source": [
    "reduced_shear_model = np.zeros(len(profile['radius']))\n",
    "\n",
    "for i,r in enumerate(profile['radius']): \n",
    "    reduced_shear = clmm.predict_reduced_tangential_shear(r*cosmo.h,mass_cl*cosmo.h, 4.,z_cl, profile['z'], cosmo,\n",
    "                                                        delta_mdef=200,halo_profile_model='nfw')  \n",
    "    reduced_shear_model[i] = np.mean(reduced_shear)    "
   ]
  },
  {
   "cell_type": "code",
   "execution_count": 23,
   "metadata": {},
   "outputs": [
    {
     "data": {
      "text/plain": [
       "635694527190895.8"
      ]
     },
     "execution_count": 23,
     "metadata": {},
     "output_type": "execute_result"
    }
   ],
   "source": [
    "mass_cl"
   ]
  },
  {
   "cell_type": "code",
   "execution_count": 25,
   "metadata": {},
   "outputs": [
    {
     "data": {
      "text/plain": [
       "Text(0, 0.5, '<shear>')"
      ]
     },
     "execution_count": 25,
     "metadata": {},
     "output_type": "execute_result"
    },
    {
     "data": {
      "image/png": "[encoded data removed]",
      "text/plain": [
       "<Figure size 432x288 with 1 Axes>"
      ]
     },
     "metadata": {
      "needs_background": "light"
     },
     "output_type": "display_data"
    }
   ],
   "source": [
    "plt.errorbar(profile['radius'],profile['gt'],yerr=profile['gt_err'], marker='+')\n",
    "plt.plot(profile['radius'],reduced_shear_model, label='model shear')\n",
    "plt.legend()\n",
    "plt.xscale('log')\n",
    "plt.yscale('log')\n",
    "plt.xlabel('R (Mpc)')\n",
    "plt.ylabel('<shear>')"
   ]
  },
  {
   "cell_type": "code",
   "execution_count": null,
   "metadata": {},
   "outputs": [],
   "source": []
  }
 ],
 "metadata": {
  "kernelspec": {
   "display_name": "Python [conda env:.conda-clmmenv]",
   "language": "python",
   "name": "conda-env-.conda-clmmenv-py"
  },
  "language_info": {
   "codemirror_mode": {
    "name": "ipython",
    "version": 3
   },
   "file_extension": ".py",
   "mimetype": "text/x-python",
   "name": "python",
   "nbconvert_exporter": "python",
   "pygments_lexer": "ipython3",
   "version": "3.8.1"
  }
 },
 "nbformat": 4,
 "nbformat_minor": 4
}
