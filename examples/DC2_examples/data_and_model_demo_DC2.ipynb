{
 "cells": [
  {
   "cell_type": "code",
   "execution_count": 1,
   "metadata": {},
   "outputs": [],
   "source": [
    "import sys\n",
    "sys.path.append('../support')\n",
    "try: import clmm\n",
    "except:\n",
    "    import notebook_install\n",
    "    notebook_install.install_clmm_pipeline(upgrade=False)\n",
    "    import clmm\n",
    "from astropy.cosmology import FlatLambdaCDM\n",
    "import matplotlib.pyplot as plt\n",
    "import numpy as np\n",
    "from numpy import random\n",
    "from sampler import fitters\n",
    "from astropy.coordinates import SkyCoord\n",
    "from astropy.table import Table\n",
    "import GCRCatalogs\n",
    "\n"
   ]
  },
  {
   "cell_type": "markdown",
   "metadata": {},
   "source": [
    "Make sure we know which version we're using"
   ]
  },
  {
   "cell_type": "code",
   "execution_count": 2,
   "metadata": {},
   "outputs": [
    {
     "data": {
      "text/plain": [
       "'0.2.0'"
      ]
     },
     "execution_count": 2,
     "metadata": {},
     "output_type": "execute_result"
    }
   ],
   "source": [
    "clmm.__version__"
   ]
  },
  {
   "cell_type": "markdown",
   "metadata": {},
   "source": [
    "#### Read in the extragalactic catalog"
   ]
  },
  {
   "cell_type": "code",
   "execution_count": 3,
   "metadata": {},
   "outputs": [],
   "source": [
    "#extragalactic_cat = GCRCatalogs.load_catalog('cosmoDC2_v1.1.4_image')\n",
    "extragalactic_cat = GCRCatalogs.load_catalog('cosmoDC2_v1.1.4_small')"
   ]
  },
  {
   "cell_type": "code",
   "execution_count": 4,
   "metadata": {},
   "outputs": [
    {
     "data": {
      "text/plain": [
       "'FoF, b=0.168'"
      ]
     },
     "execution_count": 4,
     "metadata": {},
     "output_type": "execute_result"
    }
   ],
   "source": [
    "extragalactic_cat.halo_mass_def"
   ]
  },
  {
   "cell_type": "code",
   "execution_count": 5,
   "metadata": {},
   "outputs": [
    {
     "data": {
      "text/plain": [
       "['halo_id', 'halo_mass']"
      ]
     },
     "execution_count": 5,
     "metadata": {},
     "output_type": "execute_result"
    }
   ],
   "source": [
    "sorted(q for q in extragalactic_cat.list_all_quantities() if 'halo' in q)"
   ]
  },
  {
   "cell_type": "code",
   "execution_count": 6,
   "metadata": {},
   "outputs": [],
   "source": [
    "#sorted(extragalactic_cat.list_all_quantities())"
   ]
  },
  {
   "cell_type": "code",
   "execution_count": 7,
   "metadata": {},
   "outputs": [],
   "source": [
    "cosmo = extragalactic_cat.cosmology"
   ]
  },
  {
   "cell_type": "markdown",
   "metadata": {},
   "source": [
    "#### Get the list of halos with `M > mmin` in the redshift range `[zmin, zmax]`"
   ]
  },
  {
   "cell_type": "code",
   "execution_count": 8,
   "metadata": {},
   "outputs": [],
   "source": [
    "# get list of massive halos in a given redshift and mass range\n",
    "mmin = 3.e14\n",
    "zmin = 0.3\n",
    "zmax = 0.4\n",
    "\n",
    "massive_halos = extragalactic_cat.get_quantities(['halo_mass','hostHaloMass','redshift','ra', 'dec'],\\\n",
    "                                                 filters=[f'halo_mass > {mmin}','is_central==True',\n",
    "                                                          f'redshift>{zmin}', f'redshift<{zmax}'])\n"
   ]
  },
  {
   "cell_type": "code",
   "execution_count": 9,
   "metadata": {},
   "outputs": [
    {
     "name": "stdout",
     "output_type": "stream",
     "text": [
      "There are 9 clusters available\n"
     ]
    }
   ],
   "source": [
    "N_cl = len(massive_halos['halo_mass'])\n",
    "print(f'There are {N_cl} clusters available')\n",
    "\n",
    "# Selecting the most massive one\n",
    "select = massive_halos['halo_mass'] == np.max(massive_halos['halo_mass'])"
   ]
  },
  {
   "cell_type": "code",
   "execution_count": 10,
   "metadata": {},
   "outputs": [
    {
     "name": "stdout",
     "output_type": "stream",
     "text": [
      "The most massive cluster is in z = 0.32, with mass = 6.36e+14 Msun\n"
     ]
    }
   ],
   "source": [
    "ra_cl = massive_halos['ra'][select][0]\n",
    "dec_cl = massive_halos['dec'][select][0]\n",
    "z_cl = massive_halos['redshift'][select][0]\n",
    "mass_cl =massive_halos['halo_mass'][select][0]\n",
    "print (f'The most massive cluster is in z = {z_cl:.2f}, with mass = {mass_cl:.2e} Msun')"
   ]
  },
  {
   "cell_type": "code",
   "execution_count": 11,
   "metadata": {},
   "outputs": [
    {
     "name": "stdout",
     "output_type": "stream",
     "text": [
      "64.25941267918058 -34.47274791810462\n"
     ]
    }
   ],
   "source": [
    "print(ra_cl,dec_cl)"
   ]
  },
  {
   "cell_type": "markdown",
   "metadata": {},
   "source": [
    "### Apply coordinates, redshift and magnitude cuts to select backgroud galaxies around the cluster"
   ]
  },
  {
   "cell_type": "code",
   "execution_count": 12,
   "metadata": {},
   "outputs": [],
   "source": [
    "# get galaxies around it\n",
    "ra_min, ra_max = ra_cl-0.3, ra_cl+0.3\n",
    "dec_min, dec_max = dec_cl-0.3, dec_cl+0.3\n",
    "z_min = z_cl + 0.1\n",
    "mag_i_max = 25\n",
    "\n",
    "coord_filters = ['ra >= {}'.format(ra_min),'ra < {}'.format(ra_max),'dec >= {}'.format(dec_min),'dec < {}'.format(dec_max)]\n",
    "z_filters = ['redshift >= {}'.format(z_min)]\n",
    "mag_filters = ['mag_i < {}'.format(mag_i_max)]\n",
    "gal_cat = extragalactic_cat.get_quantities(['galaxy_id', 'ra', 'dec', 'shear_1', 'shear_2','redshift', 'convergence'],\\\n",
    "                                           filters=(coord_filters + z_filters + mag_filters))\n",
    "\n"
   ]
  },
  {
   "cell_type": "code",
   "execution_count": 13,
   "metadata": {},
   "outputs": [],
   "source": [
    "e1, e2 = clmm.utils.convert_shapes_to_epsilon(gal_cat['shear_1'],gal_cat['shear_2'],\\\n",
    "                                              shape_definition='shear',kappa=gal_cat['convergence'])\n",
    "\n",
    "#store the results into an astropy table\n",
    "dat = Table([gal_cat['ra'],gal_cat['dec'],e1,\\\n",
    "      e2,gal_cat['redshift'],gal_cat['galaxy_id']], \\\n",
    "      names=('ra','dec', 'e1', 'e2', 'z','id'))\n",
    "\n",
    "cl = clmm.GalaxyCluster('CL', ra_cl, dec_cl, z_cl, dat)   "
   ]
  },
  {
   "cell_type": "code",
   "execution_count": 14,
   "metadata": {},
   "outputs": [
    {
     "data": {
      "text/plain": [
       "(array([1980., 2634., 2909., 4564., 3464., 3540., 3235., 3022., 2096.,\n",
       "        2363., 1523., 1097.,  622.,  747.,  533.,  525.,  372.,  299.,\n",
       "         145.,  207.,  162.,   68.,   86.,   51.,   46.,   41.,   30.,\n",
       "          16.,   11.,   15.]),\n",
       " array([0.42088789, 0.50731391, 0.59373993, 0.68016595, 0.76659197,\n",
       "        0.853018  , 0.93944402, 1.02587004, 1.11229606, 1.19872208,\n",
       "        1.2851481 , 1.37157412, 1.45800015, 1.54442617, 1.63085219,\n",
       "        1.71727821, 1.80370423, 1.89013025, 1.97655627, 2.0629823 ,\n",
       "        2.14940832, 2.23583434, 2.32226036, 2.40868638, 2.4951124 ,\n",
       "        2.58153842, 2.66796445, 2.75439047, 2.84081649, 2.92724251,\n",
       "        3.01366853]),\n",
       " <a list of 30 Patch objects>)"
      ]
     },
     "execution_count": 14,
     "metadata": {},
     "output_type": "execute_result"
    },
    {
     "data": {
      "image/png": "[encoded data removed]",
      "text/plain": [
       "<Figure size 432x288 with 1 Axes>"
      ]
     },
     "metadata": {
      "needs_background": "light"
     },
     "output_type": "display_data"
    }
   ],
   "source": [
    "plt.hist(cl.galcat['z'], bins=30)"
   ]
  },
  {
   "cell_type": "markdown",
   "metadata": {},
   "source": [
    "### Computes the tangential and cross shear profiles"
   ]
  },
  {
   "cell_type": "markdown",
   "metadata": {},
   "source": [
    "#### Default binning"
   ]
  },
  {
   "cell_type": "code",
   "execution_count": 15,
   "metadata": {},
   "outputs": [
    {
     "name": "stderr",
     "output_type": "stream",
     "text": [
      "/global/homes/c/ccombet/.conda/envs/clmmenv/lib/python3.8/site-packages/clmm-0.2.0-py3.8.egg/clmm/utils.py:43: RuntimeWarning: invalid value encountered in true_divide\n"
     ]
    }
   ],
   "source": [
    "bin_edges = clmm.polaraveraging.make_bins(0.15, 10, 20, method='evenlog10width')\n",
    "cl.compute_shear(geometry=\"flat\")\n",
    "profile = cl.make_shear_profile(\"radians\", \"Mpc\", bins=bin_edges,cosmo=cosmo)"
   ]
  },
  {
   "cell_type": "code",
   "execution_count": 16,
   "metadata": {},
   "outputs": [
    {
     "data": {
      "text/html": [
       "<i>Table length=18</i>\n",
       "<table id=\"table46913479350784\" class=\"table-striped table-bordered table-condensed\">\n",
       "<thead><tr><th>radius_min</th><th>radius</th><th>radius_max</th><th>gt</th><th>gt_err</th><th>gx</th><th>gx_err</th><th>z</th><th>z_err</th><th>n_src</th></tr></thead>\n",
       "<thead><tr><th>float64</th><th>float64</th><th>float64</th><th>float64</th><th>float64</th><th>float64</th><th>float64</th><th>float64</th><th>float64</th><th>int64</th></tr></thead>\n",
       "<tr><td>0.15</td><td>0.16924785308611714</td><td>0.18504898022151392</td><td>0.017855588154654</td><td>0.003864161668139595</td><td>0.013552416120058326</td><td>0.0037551438075395733</td><td>0.9814042121926486</td><td>0.06699524713146275</td><td>23</td></tr>\n",
       "<tr><td>0.18504898022151392</td><td>0.21030006162978063</td><td>0.2282875005401484</td><td>0.02385065657822844</td><td>0.003491102909068496</td><td>-0.005053054737211326</td><td>0.0032863631463032603</td><td>1.043629411205765</td><td>0.07740776127411461</td><td>35</td></tr>\n",
       "<tr><td>0.2282875005401484</td><td>0.2535203537421331</td><td>0.2816291278151518</td><td>0.032462744876425045</td><td>0.0029025656219321774</td><td>0.0014008296642004357</td><td>0.0021205929467541388</td><td>0.9860629390053413</td><td>0.05977536138198697</td><td>46</td></tr>\n",
       "<tr><td>0.2816291278151518</td><td>0.315024383910832</td><td>0.3474345526857883</td><td>0.04218026075810955</td><td>0.0020691641963959304</td><td>0.0031671663934842937</td><td>0.001570415249677462</td><td>1.0284005628148185</td><td>0.050925508222643356</td><td>65</td></tr>\n",
       "<tr><td>0.3474345526857883</td><td>0.3919984867602283</td><td>0.4286160644548199</td><td>0.04444789526603383</td><td>0.001409491090006505</td><td>0.0017790584455203689</td><td>0.0010340173510811582</td><td>0.9778036563572465</td><td>0.03145292785547417</td><td>92</td></tr>\n",
       "<tr><td>0.4286160644548199</td><td>0.4816215189217207</td><td>0.5287664375594874</td><td>0.049734913847277164</td><td>0.0009738100188205113</td><td>-0.00028032960211139536</td><td>0.00048560979745372444</td><td>0.995792406151768</td><td>0.03535639992385144</td><td>146</td></tr>\n",
       "<tr><td>0.5287664375594874</td><td>0.5959279674605111</td><td>0.6523179336383065</td><td>0.0463307571289655</td><td>0.0007420642472339589</td><td>-0.0002500203227770585</td><td>0.0003963940399269586</td><td>0.9687895347420731</td><td>0.024811197885398612</td><td>259</td></tr>\n",
       "<tr><td>0.6523179336383065</td><td>0.7301942762580893</td><td>0.8047384559998254</td><td>0.03654147472908274</td><td>0.0005249825321886499</td><td>0.0006037974606862576</td><td>0.0004390383566344995</td><td>0.9220091378722484</td><td>0.018221047157527114</td><td>358</td></tr>\n",
       "<tr><td>0.8047384559998254</td><td>0.9014631555828326</td><td>0.992773537518689</td><td>0.026295338828950097</td><td>0.0004358744910965249</td><td>-0.00045740044756464133</td><td>0.0003945140529868699</td><td>0.9875748130412275</td><td>0.017850719129770997</td><td>494</td></tr>\n",
       "<tr><td>0.992773537518689</td><td>1.1093669124664878</td><td>1.224744871391589</td><td>0.024284506099294518</td><td>0.0003453171111295727</td><td>0.0006411684784070638</td><td>0.0003331634621787309</td><td>0.9793398795993293</td><td>0.013258815816866143</td><td>733</td></tr>\n",
       "<tr><td>1.224744871391589</td><td>1.3696418957790377</td><td>1.510918596550285</td><td>0.023873075256193248</td><td>0.0003386523073505325</td><td>0.0003584548893268125</td><td>0.00034524506534488184</td><td>0.9894249630119856</td><td>0.011639612211001769</td><td>1098</td></tr>\n",
       "<tr><td>1.510918596550285</td><td>1.6973063547721157</td><td>1.863959636595675</td><td>0.012154613664477034</td><td>0.00029546009297819165</td><td>0.0010236471634487829</td><td>0.0003354374063101124</td><td>0.9849931036022034</td><td>0.009522101989656877</td><td>1675</td></tr>\n",
       "<tr><td>1.863959636595675</td><td>2.092277087065263</td><td>2.299492199507289</td><td>0.008216881773182921</td><td>0.0002646134771974209</td><td>0.00029560689425482407</td><td>0.0002337437328033178</td><td>1.0087489422932803</td><td>0.008463448893217375</td><td>2409</td></tr>\n",
       "<tr><td>2.299492199507289</td><td>2.5755555081310235</td><td>2.8367912436410005</td><td>0.011400526175255717</td><td>0.00022472149061652133</td><td>9.790064289241142e-05</td><td>0.00020651139434587436</td><td>0.9968698332047461</td><td>0.006437604078623401</td><td>3750</td></tr>\n",
       "<tr><td>2.8367912436410005</td><td>3.186022538926628</td><td>3.4996355115805824</td><td>0.012181606040938887</td><td>0.00016309352863485795</td><td>0.0002678792558014166</td><td>0.00014897277809092446</td><td>0.9954544917329137</td><td>0.005059736195929817</td><td>5733</td></tr>\n",
       "<tr><td>3.4996355115805824</td><td>3.916838312104556</td><td>4.317359883766553</td><td>0.008720220152858848</td><td>0.00010635840729933971</td><td>-0.0007183016529588692</td><td>0.0001351924274031277</td><td>0.9914907641214156</td><td>0.004143207447721312</td><td>8624</td></tr>\n",
       "<tr><td>4.317359883766553</td><td>4.7640365813075</td><td>5.326153624935164</td><td>0.004853125798089483</td><td>0.00011667417492984409</td><td>-0.0013024447108116936</td><td>0.00012863036780959622</td><td>0.9870507538539393</td><td>0.004210919328037464</td><td>8352</td></tr>\n",
       "<tr><td>5.326153624935164</td><td>5.699079603370436</td><td>6.570661978649145</td><td>0.003452633439985355</td><td>0.0002119554443292935</td><td>-0.0014942339806539144</td><td>0.0001836758539994129</td><td>0.9837323252810178</td><td>0.007785926862096291</td><td>2455</td></tr>\n",
       "</table>"
      ],
      "text/plain": [
       "<Table length=18>\n",
       "     radius_min            radius       ...        z_err         n_src\n",
       "      float64             float64       ...       float64        int64\n",
       "------------------- ------------------- ... -------------------- -----\n",
       "               0.15 0.16924785308611714 ...  0.06699524713146275    23\n",
       "0.18504898022151392 0.21030006162978063 ...  0.07740776127411461    35\n",
       " 0.2282875005401484  0.2535203537421331 ...  0.05977536138198697    46\n",
       " 0.2816291278151518   0.315024383910832 ... 0.050925508222643356    65\n",
       " 0.3474345526857883  0.3919984867602283 ...  0.03145292785547417    92\n",
       " 0.4286160644548199  0.4816215189217207 ...  0.03535639992385144   146\n",
       " 0.5287664375594874  0.5959279674605111 ... 0.024811197885398612   259\n",
       " 0.6523179336383065  0.7301942762580893 ... 0.018221047157527114   358\n",
       " 0.8047384559998254  0.9014631555828326 ... 0.017850719129770997   494\n",
       "  0.992773537518689  1.1093669124664878 ... 0.013258815816866143   733\n",
       "  1.224744871391589  1.3696418957790377 ... 0.011639612211001769  1098\n",
       "  1.510918596550285  1.6973063547721157 ... 0.009522101989656877  1675\n",
       "  1.863959636595675   2.092277087065263 ... 0.008463448893217375  2409\n",
       "  2.299492199507289  2.5755555081310235 ... 0.006437604078623401  3750\n",
       " 2.8367912436410005   3.186022538926628 ... 0.005059736195929817  5733\n",
       " 3.4996355115805824   3.916838312104556 ... 0.004143207447721312  8624\n",
       "  4.317359883766553     4.7640365813075 ... 0.004210919328037464  8352\n",
       "  5.326153624935164   5.699079603370436 ... 0.007785926862096291  2455"
      ]
     },
     "execution_count": 16,
     "metadata": {},
     "output_type": "execute_result"
    }
   ],
   "source": [
    "profile"
   ]
  },
  {
   "cell_type": "markdown",
   "metadata": {},
   "source": [
    "### Set up a model"
   ]
  },
  {
   "cell_type": "code",
   "execution_count": 17,
   "metadata": {},
   "outputs": [],
   "source": [
    "reduced_shear_model = np.zeros(len(profile['radius']))\n",
    "\n",
    "for i,r in enumerate(profile['radius']): \n",
    "    reduced_shear = clmm.predict_reduced_tangential_shear(r*cosmo.h, mass_cl*cosmo.h, 4.,z_cl, profile['z'], cosmo,\n",
    "                                                        delta_mdef=200,halo_profile_model='nfw')  \n",
    "    reduced_shear_model[i] = np.mean(reduced_shear)    "
   ]
  },
  {
   "cell_type": "code",
   "execution_count": 18,
   "metadata": {},
   "outputs": [
    {
     "data": {
      "text/plain": [
       "Text(0, 0.5, '<shear>')"
      ]
     },
     "execution_count": 18,
     "metadata": {},
     "output_type": "execute_result"
    },
    {
     "data": {
      "image/png": "[encoded data removed]",
      "text/plain": [
       "<Figure size 432x288 with 1 Axes>"
      ]
     },
     "metadata": {
      "needs_background": "light"
     },
     "output_type": "display_data"
    }
   ],
   "source": [
    "plt.errorbar(profile['radius'],profile['gt'],yerr=profile['gt_err'])\n",
    "plt.plot(profile['radius'],reduced_shear_model, label='model shear')\n",
    "plt.legend()\n",
    "plt.xscale('log')\n",
    "plt.yscale('log')\n",
    "plt.xlabel('R (Mpc)')\n",
    "plt.ylabel('<shear>')"
   ]
  },
  {
   "cell_type": "code",
   "execution_count": null,
   "metadata": {},
   "outputs": [],
   "source": []
  },
  {
   "cell_type": "code",
   "execution_count": null,
   "metadata": {},
   "outputs": [],
   "source": []
  }
 ],
 "metadata": {
  "kernelspec": {
   "display_name": "Python [conda env:.conda-clmmenv]",
   "language": "python",
   "name": "conda-env-.conda-clmmenv-py"
  },
  "language_info": {
   "codemirror_mode": {
    "name": "ipython",
    "version": 3
   },
   "file_extension": ".py",
   "mimetype": "text/x-python",
   "name": "python",
   "nbconvert_exporter": "python",
   "pygments_lexer": "ipython3",
   "version": "3.8.1"
  }
 },
 "nbformat": 4,
 "nbformat_minor": 4
}
