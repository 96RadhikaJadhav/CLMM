{
 "cells": [
  {
   "cell_type": "code",
   "execution_count": 1,
   "metadata": {},
   "outputs": [],
   "source": [
    "import numpy as np\n",
    "import matplotlib.pyplot as plt\n",
    "from astropy.coordinates import SkyCoord\n",
    "from astropy.cosmology import FlatLambdaCDM\n",
    "from astropy.table import Table\n",
    "import GCRCatalogs\n",
    "from clmm import ShearAzimuthalAverager"
   ]
  },
  {
   "cell_type": "markdown",
   "metadata": {},
   "source": [
    "### Read in the extragalactic catalog\n",
    "- identify the most massive halo\n",
    "- create a cluster dictionary (ra, dec, z)"
   ]
  },
  {
   "cell_type": "code",
   "execution_count": 2,
   "metadata": {},
   "outputs": [],
   "source": [
    "extragalactic_cat = GCRCatalogs.load_catalog('cosmoDC2_v1.1.4_small')"
   ]
  },
  {
   "cell_type": "code",
   "execution_count": 3,
   "metadata": {},
   "outputs": [],
   "source": [
    "stacked_gt = []\n",
    "stacked_gterr = []"
   ]
  },
  {
   "cell_type": "code",
   "execution_count": 4,
   "metadata": {},
   "outputs": [],
   "source": [
    "# get a massive halo at intermediate redshift\n",
    "massive_halos = extragalactic_cat.get_quantities(['halo_mass', 'redshift','ra', 'dec'],\\\n",
    "                                                 filters=['halo_mass > 1e14','halo_mass < 125892541179416.62','is_central==True','redshift>0.3','redshift<0.35'])\n",
    "\n",
    "mass_list = massive_halos['halo_mass']\n",
    "select = (mass_list == mass_list)\n"
   ]
  },
  {
   "cell_type": "code",
   "execution_count": 5,
   "metadata": {},
   "outputs": [
    {
     "name": "stdout",
     "output_type": "stream",
     "text": [
      "0\n",
      "mass =  1.074492072743662 *1e14 Msol \n",
      " ra =  64.18873612123166 \n",
      " dec =  -39.68780413277255 \n",
      " z =  0.3395830652891523\n",
      "number of galaxies selected =  443458\n"
     ]
    },
    {
     "name": "stderr",
     "output_type": "stream",
     "text": [
      "/pbs/throng/lsst/software/desc/anaconda3/lib/python3.7/site-packages/astropy/table/row.py:65: FutureWarning: elementwise == comparison failed and returning scalar instead; this will raise an error or perform elementwise comparison in the future.\n",
      "  return self.as_void() == other\n"
     ]
    },
    {
     "name": "stdout",
     "output_type": "stream",
     "text": [
      "read g1, g2 directly\n"
     ]
    },
    {
     "name": "stderr",
     "output_type": "stream",
     "text": [
      "/pbs/throng/lsst/software/desc/anaconda3/lib/python3.7/site-packages/numpy/core/fromnumeric.py:2917: RuntimeWarning: Mean of empty slice.\n",
      "  return mean(axis=axis, dtype=dtype, out=out, **kwargs)\n",
      "/pbs/throng/lsst/software/desc/anaconda3/lib/python3.7/site-packages/numpy/core/_methods.py:85: RuntimeWarning: invalid value encountered in double_scalars\n",
      "  ret = ret.dtype.type(ret / rcount)\n",
      "/pbs/throng/lsst/software/desc/anaconda3/lib/python3.7/site-packages/numpy/core/_methods.py:140: RuntimeWarning: Degrees of freedom <= 0 for slice\n",
      "  keepdims=keepdims)\n",
      "/pbs/throng/lsst/software/desc/anaconda3/lib/python3.7/site-packages/numpy/core/_methods.py:110: RuntimeWarning: invalid value encountered in true_divide\n",
      "  arrmean, rcount, out=arrmean, casting='unsafe', subok=False)\n",
      "/pbs/throng/lsst/software/desc/anaconda3/lib/python3.7/site-packages/numpy/core/_methods.py:132: RuntimeWarning: invalid value encountered in double_scalars\n",
      "  ret = ret.dtype.type(ret / rcount)\n"
     ]
    },
    {
     "name": "stdout",
     "output_type": "stream",
     "text": [
      "1\n",
      "mass =  1.06224943104 *1e14 Msol \n",
      " ra =  63.91943801550073 \n",
      " dec =  -41.698931058314194 \n",
      " z =  0.33512327088586336\n",
      "number of galaxies selected =  415294\n",
      "read g1, g2 directly\n",
      "2\n",
      "mass =  1.058194543341972 *1e14 Msol \n",
      " ra =  69.69666762324073 \n",
      " dec =  -42.94997772427642 \n",
      " z =  0.31419019612826826\n",
      "number of galaxies selected =  319617\n",
      "read g1, g2 directly\n",
      "3\n",
      "mass =  1.0916213739808451 *1e14 Msol \n",
      " ra =  68.368691372601 \n",
      " dec =  -44.45895572201655 \n",
      " z =  0.31397281823785295\n",
      "number of galaxies selected =  405710\n",
      "read g1, g2 directly\n",
      "4\n",
      "mass =  1.13606918144 *1e14 Msol \n",
      " ra =  68.54517686354546 \n",
      " dec =  -44.35041916292372 \n",
      " z =  0.3117652953385337\n",
      "number of galaxies selected =  404835\n",
      "read g1, g2 directly\n",
      "5\n",
      "mass =  1.1556158195740844 *1e14 Msol \n",
      " ra =  66.90461276350621 \n",
      " dec =  -45.279033062083556 \n",
      " z =  0.32970929417898986\n",
      "number of galaxies selected =  375405\n",
      "read g1, g2 directly\n",
      "6\n",
      "mass =  1.0649786823752112 *1e14 Msol \n",
      " ra =  64.8976505179622 \n",
      " dec =  -33.196585062464436 \n",
      " z =  0.33370833522420384\n",
      "number of galaxies selected =  350674\n",
      "read g1, g2 directly\n",
      "7\n",
      "mass =  1.070489170785352 *1e14 Msol \n",
      " ra =  65.57824496489354 \n",
      " dec =  -35.92413163700494 \n",
      " z =  0.31539368696942427\n",
      "number of galaxies selected =  443662\n",
      "read g1, g2 directly\n",
      "8\n",
      "mass =  1.0685397055459154 *1e14 Msol \n",
      " ra =  62.461110912550765 \n",
      " dec =  -37.00418664333344 \n",
      " z =  0.30990208723986035\n",
      "number of galaxies selected =  457811\n",
      "read g1, g2 directly\n",
      "9\n",
      "mass =  1.105527559355493 *1e14 Msol \n",
      " ra =  61.738575055182594 \n",
      " dec =  -37.76732995616238 \n",
      " z =  0.3230221491885594\n",
      "number of galaxies selected =  450749\n",
      "read g1, g2 directly\n",
      "10\n",
      "mass =  1.1168084648743664 *1e14 Msol \n",
      " ra =  62.12290299829132 \n",
      " dec =  -37.05121746558516 \n",
      " z =  0.34435301149352715\n",
      "number of galaxies selected =  452239\n",
      "read g1, g2 directly\n",
      "11\n",
      "mass =  1.1015766431369014 *1e14 Msol \n",
      " ra =  61.896886731661475 \n",
      " dec =  -37.2460451462531 \n",
      " z =  0.33757111508552406\n",
      "number of galaxies selected =  453324\n",
      "read g1, g2 directly\n",
      "12\n",
      "mass =  1.0470176093025354 *1e14 Msol \n",
      " ra =  65.75107949297889 \n",
      " dec =  -37.00505898629168 \n",
      " z =  0.30035037528184794\n",
      "number of galaxies selected =  451648\n",
      "read g1, g2 directly\n",
      "13\n",
      "mass =  1.0007762938230986 *1e14 Msol \n",
      " ra =  63.20245032943643 \n",
      " dec =  -37.38503973059647 \n",
      " z =  0.30082347626925965\n",
      "number of galaxies selected =  440739\n",
      "read g1, g2 directly\n",
      "14\n",
      "mass =  1.0809902902084507 *1e14 Msol \n",
      " ra =  63.56446525483328 \n",
      " dec =  -38.03275667635513 \n",
      " z =  0.3223063813427163\n",
      "number of galaxies selected =  446394\n",
      "read g1, g2 directly\n"
     ]
    }
   ],
   "source": [
    "# get a massive halo at intermediate redshift\n",
    "#massive_halos = extragalactic_cat.get_quantities(['halo_mass', 'redshift','ra', 'dec'],\\\n",
    " #                                                filters=['halo_mass > 5e14','is_central==True','redshift<0.4'])\n",
    "\n",
    "#mass_list = massive_halos['halo_mass']\n",
    "#select = (mass_list == mass_list)\n",
    "\n",
    "i = 1\n",
    "for i in range(len(select)):\n",
    "    \n",
    "    print(i)\n",
    "    ra_cl = massive_halos['ra'][select][i]\n",
    "    dec_cl = massive_halos['dec'][select][i]\n",
    "    z_cl = massive_halos['redshift'][select][i]\n",
    "    mass_cl = mass_list[select][i]\n",
    "\n",
    "    print(\"mass = \", mass_cl/1e14,\"*1e14 Msol\", \"\\n ra = \", ra_cl, \"\\n dec = \", dec_cl,\"\\n z = \", z_cl)\n",
    "\n",
    "    # make a dictionary for cluster\n",
    "    cl_dict = {'z':z_cl, 'ra':ra_cl, 'dec': dec_cl}\n",
    "    \n",
    "    # get galaxies around it\n",
    "    ra_min, ra_max = ra_cl-0.3, ra_cl+0.3\n",
    "    dec_min, dec_max = dec_cl-0.3, dec_cl+0.3\n",
    "    z_min = z_cl + 0.1\n",
    "    z_max = 1.5\n",
    "\n",
    "    coord_filters = ['ra >= {}'.format(ra_min),'ra < {}'.format(ra_max),'dec >= {}'.format(dec_min),'dec < {}'.format(dec_max)]\n",
    "\n",
    "    z_filters = ['redshift >= {}'.format(z_min),'redshift < {}'.format(z_max)]\n",
    "\n",
    "    gal_cat = extragalactic_cat.get_quantities(['galaxy_id', 'ra', 'dec', 'shear_1', 'shear_2', 'shear_2_phosim', 'shear_2_treecorr',\\\n",
    "                                            'redshift', 'convergence'], filters=(coord_filters + z_filters))\n",
    "\n",
    "    # store the results into an astropy table\n",
    "    dat = Table([gal_cat['galaxy_id'],gal_cat['ra'],gal_cat['dec'],gal_cat['shear_1'],\\\n",
    "          gal_cat['shear_2'],gal_cat['redshift'],gal_cat['convergence']], \\\n",
    "          names=('id','ra','dec', 'gamma1', 'gamma2', 'z', 'kappa'))\n",
    "\n",
    "    print (\"number of galaxies selected = \", len(dat))\n",
    "    \n",
    "    \n",
    "    # create an object, given cluster dictionary and galaxy astropy table\n",
    "    saa = ShearAzimuthalAverager(cl_dict,dat)\n",
    "    # compute tangential and cross shear for each galaxy\n",
    "    saa.compute_shear()\n",
    "    # make the binned profile\n",
    "    bins = np.linspace(0.1,10)\n",
    "    binned_profile = saa.make_shear_profile(bins=bins)\n",
    "\n",
    "    stacked_gt.append(binned_profile['g_t'])\n",
    "    stacked_gterr.append(binned_profile['g_t_err']) "
   ]
  },
  {
   "cell_type": "markdown",
   "metadata": {},
   "source": [
    "# LET'S STACK !!!"
   ]
  },
  {
   "cell_type": "markdown",
   "metadata": {},
   "source": [
    "### Eq 34 in https://arxiv.org/pdf/1802.09696.pdf"
   ]
  },
  {
   "cell_type": "markdown",
   "metadata": {},
   "source": [
    "$w(z_l,z_s) \\gamma_T(\\theta,z_s)$"
   ]
  },
  {
   "cell_type": "code",
   "execution_count": 7,
   "metadata": {},
   "outputs": [
    {
     "name": "stderr",
     "output_type": "stream",
     "text": [
      "/pbs/throng/lsst/software/desc/anaconda3/lib/python3.7/site-packages/ipykernel_launcher.py:1: RuntimeWarning: Mean of empty slice\n",
      "  \"\"\"Entry point for launching an IPython kernel.\n",
      "/pbs/throng/lsst/software/desc/anaconda3/lib/python3.7/site-packages/ipykernel_launcher.py:2: RuntimeWarning: Mean of empty slice\n",
      "  \n"
     ]
    },
    {
     "data": {
      "image/png": "[encoded data removed]",
      "text/plain": [
       "<Figure size 432x288 with 1 Axes>"
      ]
     },
     "metadata": {
      "needs_background": "light"
     },
     "output_type": "display_data"
    }
   ],
   "source": [
    "plt.plot(bins[:-1],np.nanmean(stacked_gt,axis=0),'k')\n",
    "plt.errorbar(bins[:-1],np.nanmean(stacked_gt,axis=0),yerr=np.nanstd(stacked_gt,axis=0))\n",
    "#np.shape(bins)\n",
    "plt.xscale('log')\n",
    "plt.yscale('log')\n",
    "#plt.plot(r_phys, gt_mod,label='expected profile')"
   ]
  },
  {
   "cell_type": "code",
   "execution_count": 21,
   "metadata": {},
   "outputs": [],
   "source": [
    "import sys\n",
    "sys.path.append('../models/')\n",
    "import clmm.models.CLMM_densityModels_beforeConvertFromPerH as dallas\n",
    "import colossus.cosmology.cosmology as Cosmology\n",
    "import time\n",
    "\n",
    "zL = np.mean(massive_halos['redshift'])\n",
    "chooseCosmology = 'WMAP7-ML' #Choose cosmology used\n",
    "cosmo = Cosmology.setCosmology(chooseCosmology)\n",
    "\n",
    "mdef = '200c'\n",
    "M = np.mean(mass_list)*cosmo.h\n",
    "c = 3.\n",
    "r = np.linspace(0.1, 10., 100) #Mpc\n",
    "r = r*cosmo.h #Mpc/h\n",
    "\n",
    "testProf= dallas.nfwProfile(M = M, c = c, zL = zL, mdef = mdef, \\\n",
    "                        chooseCosmology = chooseCosmology, esp = None)\n"
   ]
  },
  {
   "cell_type": "code",
   "execution_count": 22,
   "metadata": {},
   "outputs": [],
   "source": [
    "z_infty = 300\n",
    "zL_arr = np.zeros(len(dat['z'])) + zL"
   ]
  },
  {
   "cell_type": "code",
   "execution_count": 23,
   "metadata": {},
   "outputs": [],
   "source": [
    "D_LS = (cosmo.comovingDistance(z_min=0.,z_max=dat['z']) - cosmo.comovingDistance(z_min=0.,z_max=zL))/(1.+dat['z'])\n",
    "D_Linfty = (cosmo.comovingDistance(z_min=0., z_max=z_infty) - cosmo.comovingDistance(z_min=0., z_max=zL))/(1.+z_infty)\n",
    "beta = D_LS * cosmo.angularDiameterDistance(z_infty)/cosmo.angularDiameterDistance(dat['z'])/D_Linfty"
   ]
  },
  {
   "cell_type": "code",
   "execution_count": 24,
   "metadata": {},
   "outputs": [],
   "source": [
    "r_phys = r\n",
    "gt_mod = np.zeros(r.size)\n",
    "\n",
    "for i in range(r.size):\n",
    "    gamtest_infty= testProf.deltaSigma(np.array([r[i]])*0.7)/testProf.Sc(z_infty)\n",
    "    kappa_infty =  testProf.Sigma(np.array([r[i]])*0.7)/testProf.Sc(z_infty)\n",
    "    gt_mod[i] = np.mean(beta * gamtest_infty/(1-beta*kappa_infty))"
   ]
  },
  {
   "cell_type": "code",
   "execution_count": 30,
   "metadata": {},
   "outputs": [
    {
     "name": "stderr",
     "output_type": "stream",
     "text": [
      "/pbs/throng/lsst/software/desc/anaconda3/lib/python3.7/site-packages/ipykernel_launcher.py:2: RuntimeWarning: Mean of empty slice\n",
      "  \n",
      "/pbs/throng/lsst/software/desc/anaconda3/lib/python3.7/site-packages/ipykernel_launcher.py:3: RuntimeWarning: Mean of empty slice\n",
      "  This is separate from the ipykernel package so we can avoid doing imports until\n"
     ]
    },
    {
     "data": {
      "text/plain": [
       "<matplotlib.lines.Line2D at 0x7f8371f12be0>"
      ]
     },
     "execution_count": 30,
     "metadata": {},
     "output_type": "execute_result"
    },
    {
     "data": {
      "image/png": "[encoded data removed]",
      "text/plain": [
       "<Figure size 864x648 with 1 Axes>"
      ]
     },
     "metadata": {
      "needs_background": "light"
     },
     "output_type": "display_data"
    }
   ],
   "source": [
    "plt.rcParams[\"figure.figsize\"] = (12, 9) # (w, h)\n",
    "plt.plot(bins[:-1],np.nanmean(stacked_gt,axis=0),'k')\n",
    "plt.errorbar(bins[:-1],np.nanmean(stacked_gt,axis=0),yerr=np.nanstd(stacked_gt,axis=0))\n",
    "#np.shape(bins)\n",
    "plt.xscale('log')\n",
    "plt.yscale('log')\n",
    "plt.plot(r, gt_mod,lw=3,label='expected NFW profile for M200=<Mfof>, z=<z>, c=3')\n",
    "\n",
    "plt.xlabel('r [Mpc]',fontsize=\"large\");\n",
    "plt.ylabel('$<\\\\gamma_T>$',fontsize=\"large\");\n",
    "plt.legend(fontsize=\"large\")\n",
    "plt.title(\"Mean shear profile for 15 halos with 0.30<z<0.35 and 14<log(Mfof)<14.1 \")\n",
    "plt.axvline(0.5)"
   ]
  },
  {
   "cell_type": "code",
   "execution_count": null,
   "metadata": {},
   "outputs": [],
   "source": []
  }
 ],
 "metadata": {
  "kernelspec": {
   "display_name": "Python 3",
   "language": "python",
   "name": "python3"
  },
  "language_info": {
   "codemirror_mode": {
    "name": "ipython",
    "version": 3
   },
   "file_extension": ".py",
   "mimetype": "text/x-python",
   "name": "python",
   "nbconvert_exporter": "python",
   "pygments_lexer": "ipython3",
   "version": "3.7.1"
  }
 },
 "nbformat": 4,
 "nbformat_minor": 2
}
