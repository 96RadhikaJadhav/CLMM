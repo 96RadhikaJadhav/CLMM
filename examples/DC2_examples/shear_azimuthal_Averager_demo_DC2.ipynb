{
 "cells": [
  {
   "cell_type": "code",
   "execution_count": null,
   "metadata": {},
   "outputs": [],
   "source": [
    "import numpy as np\n",
    "import matplotlib.pyplot as plt\n",
    "from astropy.coordinates import SkyCoord\n",
    "from astropy.cosmology import FlatLambdaCDM\n",
    "from astropy.table import Table\n",
    "import GCRCatalogs\n",
    "from clmm import ShearAzimuthalAverager"
   ]
  },
  {
   "cell_type": "markdown",
   "metadata": {},
   "source": [
    "### Read in the extragalactic catalog\n",
    "- identify the most massive halo\n",
    "- create a cluster dictionary (ra, dec, z)"
   ]
  },
  {
   "cell_type": "code",
   "execution_count": null,
   "metadata": {},
   "outputs": [],
   "source": [
    "extragalactic_cat = GCRCatalogs.load_catalog('cosmoDC2_v1.1.4_small')"
   ]
  },
  {
   "cell_type": "code",
   "execution_count": null,
   "metadata": {},
   "outputs": [],
   "source": [
    "# get a massive halo at intermediate redshift\n",
    "massive_halos = extragalactic_cat.get_quantities(['halo_mass', 'redshift','ra', 'dec'],\\\n",
    "                                                 filters=['halo_mass > 5e14','is_central==True','redshift<0.4'])\n",
    "\n",
    "mass_list = massive_halos['halo_mass']\n",
    "select = (mass_list == np.max(mass_list))\n",
    "\n",
    "ra_cl = massive_halos['ra'][select][0]\n",
    "dec_cl = massive_halos['dec'][select][0]\n",
    "z_cl = massive_halos['redshift'][select][0]\n",
    "mass_cl = mass_list[select][0]\n",
    "\n",
    "print(\"mass = \", mass_cl/1e14,\"*1e14 Msol\", \"\\n ra = \", ra_cl, \"\\n dec = \", dec_cl,\"\\n z = \", z_cl)\n",
    "\n",
    "# make a dictionary for cluster\n",
    "cl_dict = {'z':z_cl, 'ra':ra_cl, 'dec': dec_cl}"
   ]
  },
  {
   "cell_type": "markdown",
   "metadata": {},
   "source": [
    "### Apply coordinates and redshift cuts to select backgroud galaxies around the cluster"
   ]
  },
  {
   "cell_type": "code",
   "execution_count": null,
   "metadata": {},
   "outputs": [],
   "source": [
    "# get galaxies around it\n",
    "ra_min, ra_max = ra_cl-0.3, ra_cl+0.3\n",
    "dec_min, dec_max = dec_cl-0.3, dec_cl+0.3\n",
    "z_min = z_cl + 0.1\n",
    "z_max = 1.5\n",
    "\n",
    "coord_filters = [\n",
    "    'ra >= {}'.format(ra_min),\n",
    "    'ra < {}'.format(ra_max),\n",
    "    'dec >= {}'.format(dec_min),\n",
    "    'dec < {}'.format(dec_max),\n",
    "                ]\n",
    "\n",
    "z_filters = ['redshift >= {}'.format(z_min),'redshift < {}'.format(z_max)]\n",
    "\n",
    "gal_cat = extragalactic_cat.get_quantities(['galaxy_id', 'ra', 'dec', 'shear_1', 'shear_2', 'shear_2_phosim', 'shear_2_treecorr',\\\n",
    "                                            'redshift', 'convergence'], filters=(coord_filters + z_filters))\n",
    "\n",
    "# store the results into an astropy table\n",
    "dat = Table([gal_cat['galaxy_id'],gal_cat['ra'],gal_cat['dec'],gal_cat['shear_1'],\\\n",
    "          gal_cat['shear_2'],gal_cat['redshift'],gal_cat['convergence']], \\\n",
    "          names=('id','ra','dec', 'gamma1', 'gamma2', 'z', 'kappa'))\n",
    "\n",
    "print (\"number of galaxies selected = \", len(dat))"
   ]
  },
  {
   "cell_type": "code",
   "execution_count": null,
   "metadata": {},
   "outputs": [],
   "source": [
    "# Histogram of the redshift distribution of selected galaxies\n",
    "hist = plt.hist(dat['z'], bins=50)\n",
    "plt.xlabel('z')"
   ]
  },
  {
   "cell_type": "markdown",
   "metadata": {},
   "source": [
    "### Computes the tangential and cross shear profiles"
   ]
  },
  {
   "cell_type": "markdown",
   "metadata": {},
   "source": [
    "#### Default binning"
   ]
  },
  {
   "cell_type": "code",
   "execution_count": null,
   "metadata": {},
   "outputs": [],
   "source": [
    "# create an object, given cluster dictionary and galaxy astropy table\n",
    "saa = ShearAzimuthalAverager(cl_dict,dat)\n",
    "\n",
    "# compute tangential and cross shear for each galaxy\n",
    "saa.compute_shear()\n",
    "\n",
    "# make the binned profile\n",
    "binned_profile = saa.make_shear_profile()\n",
    "\n",
    "saa.plot_profile()   "
   ]
  },
  {
   "cell_type": "markdown",
   "metadata": {},
   "source": [
    "#### User-defined binning"
   ]
  },
  {
   "cell_type": "code",
   "execution_count": null,
   "metadata": {},
   "outputs": [],
   "source": [
    "bins = [0., 0.2, 0.5, 0.7, 1.1]\n",
    "binned_profile2 = saa.make_shear_profile(bins=bins)\n",
    "#binned_profile2"
   ]
  },
  {
   "cell_type": "code",
   "execution_count": null,
   "metadata": {},
   "outputs": [],
   "source": [
    "saa.plot_profile()"
   ]
  },
  {
   "cell_type": "code",
   "execution_count": null,
   "metadata": {},
   "outputs": [],
   "source": []
  }
 ],
 "metadata": {
  "kernelspec": {
   "display_name": "Python 3",
   "language": "python",
   "name": "python3"
  },
  "language_info": {
   "codemirror_mode": {
    "name": "ipython",
    "version": 3
   },
   "file_extension": ".py",
   "mimetype": "text/x-python",
   "name": "python",
   "nbconvert_exporter": "python",
   "pygments_lexer": "ipython3",
   "version": "3.6.4"
  }
 },
 "nbformat": 4,
 "nbformat_minor": 2
}
