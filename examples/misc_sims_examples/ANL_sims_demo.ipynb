{
 "cells": [
  {
   "cell_type": "markdown",
   "metadata": {},
   "source": [
    "# Loading ANL Cluster Lensing Simulations into CLMM\n",
    "Authors: **Celine Combet, Matthew Ho, Joe Hollowed**\n",
    "\n",
    "This tutorial describes how to load in ANL Cluster Lensing maps into the CLMM pipeline to generate shear profiles and make mass predictions. This acts as an extension to the ANL simulations data access tutorial.\n",
    "\n",
    "\n",
    "### ANL Cluster Lensing\n",
    "* **data**: /global/homes/h/hollowed/desc_CLxCS_2019/data/\n",
    "* **tutorial**: /global/homes/h/hollowed/desc_CLxCS_2019/cl_demo.ipynb\n",
    "\n",
    "### CLMM\n",
    "* **repo**: https://github.com/LSSTDESC/CLMM\n",
    "\n",
    "### TODO:\n",
    "* Extend analysis to ANL sims with numerous source planes\n",
    "* Fit shear profiles with CCL halo profile tools"
   ]
  },
  {
   "cell_type": "code",
   "execution_count": null,
   "metadata": {},
   "outputs": [],
   "source": [
    "# first equip our weapons\n",
    "import h5py\n",
    "import glob\n",
    "import numpy as np\n",
    "import matplotlib.pyplot as plt\n",
    "from matplotlib import rc\n",
    "def step2z(step): return np.linspace(1/(200_1), 1, 500)[step]\n",
    "def safeLog10(x, minval=1e-7): return np.log(x.clip(min=minval))\n",
    "\n",
    "# point to the data\n",
    "data_path = '/global/homes/h/hollowed/desc_CLxCS_2019/data'"
   ]
  },
  {
   "cell_type": "markdown",
   "metadata": {},
   "source": [
    "## Load and visualize ANL maps"
   ]
  },
  {
   "cell_type": "markdown",
   "metadata": {},
   "source": [
    "The grid maps are written with each hdf5 group representing one lens plane. In the various X.gmaps.hdf5 files, there will be one group per lens plane, corresponding to the redshift bounds of a shell of the base particle lightcone, and named after the corresponding HACC simulation timestep. If you need to convert those timestep values to redshift, call the `step2z()` lambda function provided above"
   ]
  },
  {
   "cell_type": "code",
   "execution_count": null,
   "metadata": {},
   "outputs": [],
   "source": [
    "# randomly choose one of the 9 halos provided in the preliminary dataset to read\n",
    "# (change idx if you want something constant, this is just for convenience)\n",
    "\n",
    "#halos_available = np.array([s.split('/')[-1] for s in glob.glob('./data/*')])\n",
    "halos_available = np.array([s.split('/')[-1] for s in glob.glob(data_path+'/*')])\n",
    "idx = int(np.random.rand(1)*len(halos_available))\n",
    "halo_id = halos_available[idx]\n",
    "\n",
    "prop_file = '{0}/{1}/properties.csv'.format(data_path, halo_id)\n",
    "gmaps_file = '{0}/{1}/{1}_10.0_gmaps.hdf5'.format(data_path, halo_id)\n",
    "raytrace_file = glob.glob('{0}/{1}/{1}_*_raytraced_maps.hdf5'.format(data_path, halo_id))[0]\n",
    "halo_properties = np.genfromtxt(prop_file, delimiter=',')\n",
    "\n",
    "print('\\n---- Working on halo {} ----'.format(halo_id))\n",
    "print('---- With mass M = {:.2e} Msun ----'.format(halo_properties[2]))\n",
    "print('---- Located at redshift z = {} ----'.format(halo_properties[0]))"
   ]
  },
  {
   "cell_type": "code",
   "execution_count": null,
   "metadata": {},
   "outputs": [],
   "source": [
    "halo_properties"
   ]
  },
  {
   "cell_type": "code",
   "execution_count": null,
   "metadata": {},
   "outputs": [],
   "source": [
    "# read the ray traced file for the source redshift\n",
    "\n",
    "halo_raytrace = h5py.File(raytrace_file, 'r')\n",
    "source_z = list(halo_raytrace.keys())[0] \n",
    "print('source plane at z = ',list(halo_raytrace.keys()))\n",
    "g1 = halo_raytrace[source_z]['shear1'].value\n",
    "g2 = halo_raytrace[source_z]['shear2'].value\n",
    "kf0 = halo_raytrace[source_z]['kappa0'].value\n",
    "logk = safeLog10(kf0.T)"
   ]
  },
  {
   "cell_type": "code",
   "execution_count": null,
   "metadata": {},
   "outputs": [],
   "source": [
    "# visualize the convergence and shear...\n",
    "\n",
    "# get scale of FOV and define grid\n",
    "nnx, nny = np.shape(logk)\n",
    "boxsize_arcsec = float(halo_properties[8])\n",
    "ds = boxsize_arcsec/nnx\n",
    "x1 = np.linspace(0,boxsize_arcsec-ds,nnx)-boxsize_arcsec/2.0+ds/2.0\n",
    "x2 = np.linspace(0,boxsize_arcsec-ds,nnx)-boxsize_arcsec/2.0+ds/2.0\n",
    "x2,x1 = np.meshgrid(x1,x2)\n",
    "\n",
    "# define figure, plot convergence on color axis\n",
    "plt.figure(figsize=(4, 4), dpi=100)\n",
    "plt.imshow(logk,aspect='equal',cmap=plt.cm.viridis,origin='higher',\n",
    "           extent=[-boxsize_arcsec/2.0,\n",
    "                    boxsize_arcsec/2.0,\n",
    "                   -boxsize_arcsec/2.0,\n",
    "                    boxsize_arcsec/2.0,], \n",
    "                    vmin=np.percentile(logk, 5))\n",
    "\n",
    "# plot shear vector field\n",
    "grid_spacing = 20\n",
    "scale_shear = 180\n",
    "\n",
    "for i in range(int(grid_spacing/2),nnx,grid_spacing):\n",
    "    for j in range(int(grid_spacing/2),nny,grid_spacing):\n",
    "        gt1 = g1[i, j]\n",
    "        gt2 = g2[i, j]\n",
    "        ampli = np.sqrt(gt1*gt1+gt2*gt2)\n",
    "        alph = np.arctan2(gt2,gt1)/2.0\n",
    "\n",
    "        st_x = x1[i, j]-ampli*np.cos(alph)*scale_shear\n",
    "        ed_x = x1[i, j]+ampli*np.cos(alph)*scale_shear\n",
    "\n",
    "        st_y = x2[i, j]-ampli*np.sin(alph)*scale_shear\n",
    "        ed_y = x2[i, j]+ampli*np.sin(alph)*scale_shear\n",
    "\n",
    "        plt.plot([st_x,ed_x],[st_y,ed_y],'w-',linewidth=1.0)\n",
    "\n",
    "plt.xlim(-boxsize_arcsec/2.0, boxsize_arcsec/2.0)\n",
    "plt.ylim(-boxsize_arcsec/2.0, boxsize_arcsec/2.0)\n",
    "plt.xlabel('θ [arcsec]', fontsize=16)\n",
    "plt.ylabel('ф [arcsec]', fontsize=16)\n",
    "plt.gca().tick_params(axis='both', which='major', labelsize=12)\n",
    "plt.title(halo_id, fontsize=16)\n",
    "\n",
    "plt.show()"
   ]
  },
  {
   "cell_type": "code",
   "execution_count": null,
   "metadata": {},
   "outputs": [],
   "source": [
    "# Visualize convergence and shear maps\n",
    "\n",
    "f, axes = plt.subplots(1, 3, figsize=(10,10))\n",
    "\n",
    "axes[0].imshow(logk, aspect='equal',\n",
    "               extent=[-boxsize_arcsec/2.0,\n",
    "                        boxsize_arcsec/2.0,\n",
    "                       -boxsize_arcsec/2.0,\n",
    "                        boxsize_arcsec/2.0,])\n",
    "axes[0].set_title('convergence')\n",
    "\n",
    "axes[1].imshow(g1, aspect='equal',\n",
    "               extent=[-boxsize_arcsec/2.0,\n",
    "                        boxsize_arcsec/2.0,\n",
    "                       -boxsize_arcsec/2.0,\n",
    "                        boxsize_arcsec/2.0,])\n",
    "axes[1].set_title('gamma1')\n",
    "\n",
    "axes[2].imshow(g2, aspect='equal',\n",
    "               extent=[-boxsize_arcsec/2.0,\n",
    "                        boxsize_arcsec/2.0,\n",
    "                       -boxsize_arcsec/2.0,\n",
    "                        boxsize_arcsec/2.0,])\n",
    "axes[2].set_title('gamma2')\n",
    "\n",
    "f.tight_layout()"
   ]
  },
  {
   "cell_type": "markdown",
   "metadata": {},
   "source": [
    "## Populating shear maps with galaxies"
   ]
  },
  {
   "cell_type": "code",
   "execution_count": null,
   "metadata": {},
   "outputs": [],
   "source": [
    "# Randomly choose pixels to serve as 'galaxies' according to an area density of \n",
    "# galaxies per square arcmin\n",
    "\n",
    "nperarcmin = 50 # galaxy density (in galaxies per arcmin**2)\n",
    "\n",
    "ra_0, dec_0 = 0,0 # observation center (in arcsec)\n",
    "\n",
    "side_length = halo_properties[8] # survey side length (in arcsec)\n",
    "\n",
    "redshift = float(list(halo_raytrace.keys())[0][3:]) # redshift of source plane\n",
    "print('Source plane at z = {}'.format(redshift))"
   ]
  },
  {
   "cell_type": "code",
   "execution_count": null,
   "metadata": {},
   "outputs": [],
   "source": [
    "# ~~~ Choosing random pixels to serve as galaxies\n",
    "\n",
    "area = (side_length/60.)**2 # in arcmin**2\n",
    "threshold = nperarcmin*area/(len(g1)**2) # num_gals/pixels\n",
    "\n",
    "mask = np.random.rand(*g1.shape)<threshold # True values represent selected galaxy-pixels\n",
    "\n",
    "print(np.sum(mask)) # number of galaxies"
   ]
  },
  {
   "cell_type": "markdown",
   "metadata": {},
   "source": [
    "## Generating applicable quantities (ra, dec, shear, convergence, z)"
   ]
  },
  {
   "cell_type": "code",
   "execution_count": null,
   "metadata": {},
   "outputs": [],
   "source": [
    "ra, dec = (np.indices(g1.shape)-g1.shape[0]/2)*side_length/len(g1) # in arcsec\n",
    "\n",
    "# shift to origin position\n",
    "ra += ra_0\n",
    "dec += dec_0\n",
    "\n",
    "# convert to degrees\n",
    "ra /= 3600\n",
    "dec /= 3600"
   ]
  },
  {
   "cell_type": "code",
   "execution_count": null,
   "metadata": {},
   "outputs": [],
   "source": [
    "# plot galaxy shear\n",
    "\n",
    "plt.quiver(ra[mask],dec[mask], g1[mask]/5, -g2[mask]/5)\n",
    "\n",
    "plt.xlabel('ra (deg)')\n",
    "plt.ylabel('dec (deg)')\n",
    "\n",
    "print('num gal:',np.sum(mask))"
   ]
  },
  {
   "cell_type": "markdown",
   "metadata": {},
   "source": [
    "## Import galaxy quantities into CLMM"
   ]
  },
  {
   "cell_type": "code",
   "execution_count": null,
   "metadata": {},
   "outputs": [],
   "source": [
    "from clmm import ShearAzimuthalAverager\n",
    "from astropy.table import Table"
   ]
  },
  {
   "cell_type": "code",
   "execution_count": null,
   "metadata": {},
   "outputs": [],
   "source": [
    "# cluster dictionary\n",
    "cl_dict = {'z':halo_properties[0], 'ra':ra_0, 'dec': dec_0}"
   ]
  },
  {
   "cell_type": "code",
   "execution_count": null,
   "metadata": {},
   "outputs": [],
   "source": [
    "# source table\n",
    "# We need a -g2 as the convention on the ANL maps is not the same as in CLMM\n",
    "t = Table([np.arange(np.sum(mask)),ra[mask], dec[mask], g1[mask],-g2[mask],\\\n",
    "           [redshift]*np.sum(mask),kf0[mask]],\\\n",
    "           names=('id','ra','dec', 'gamma1', 'gamma2', 'z', 'kappa'))"
   ]
  },
  {
   "cell_type": "code",
   "execution_count": null,
   "metadata": {},
   "outputs": [],
   "source": [
    "saa = ShearAzimuthalAverager(cl_dict, t)"
   ]
  },
  {
   "cell_type": "code",
   "execution_count": null,
   "metadata": {},
   "outputs": [],
   "source": [
    "# compute tangential and cross shear for each galaxy\n",
    "saa.compute_shear()\n",
    "\n",
    "# make the binned profile\n",
    "binned_profile = saa.make_shear_profile()\n",
    "\n",
    "# signal!\n",
    "saa.plot_profile()"
   ]
  },
  {
   "cell_type": "code",
   "execution_count": null,
   "metadata": {},
   "outputs": [],
   "source": []
  },
  {
   "cell_type": "code",
   "execution_count": null,
   "metadata": {},
   "outputs": [],
   "source": []
  }
 ],
 "metadata": {
  "kernelspec": {
   "display_name": "CLMM (Python 3)",
   "language": "python",
   "name": "clmm_3"
  },
  "language_info": {
   "codemirror_mode": {
    "name": "ipython",
    "version": 3
   },
   "file_extension": ".py",
   "mimetype": "text/x-python",
   "name": "python",
   "nbconvert_exporter": "python",
   "pygments_lexer": "ipython3",
   "version": "3.6.8"
  }
 },
 "nbformat": 4,
 "nbformat_minor": 2
}
