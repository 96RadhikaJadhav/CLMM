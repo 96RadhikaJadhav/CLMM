{
 "cells": [
  {
   "cell_type": "markdown",
   "metadata": {},
   "source": [
    "# Measure a Profile"
   ]
  },
  {
   "cell_type": "markdown",
   "metadata": {},
   "source": [
    "## Note\n",
    "\n",
    "All functions in this section using the cluster object as first argument are also internal functions of the cluster object, and should be used as such. They are just explicitely used here for clarity.\n",
    "\n",
    "Ex:\n",
    "\n",
    "```\n",
    "theta, g_t, g_x = compute_tangential_and_cross_components(cl, geometry=\"flat\")\n",
    "```\n",
    "\n",
    "should be done by the user as:\n",
    "\n",
    "```\n",
    "theta, g_t, g_x = cl.compute_tangential_and_cross_components(geometry=\"flat\")\n",
    "```"
   ]
  },
  {
   "cell_type": "code",
   "execution_count": null,
   "metadata": {},
   "outputs": [],
   "source": [
    "import matplotlib.pyplot as plt\n",
    "import clmm\n",
    "import clmm.polaraveraging\n",
    "from clmm.polaraveraging import compute_tangential_and_cross_components, make_binned_profile, make_bins\n",
    "from clmm.plotting import plot_profiles\n",
    "from clmm.galaxycluster import GalaxyCluster\n",
    "import clmm.utils as u\n",
    "import sys\n",
    "sys.path.append('./support')\n",
    "import mock_data as mock"
   ]
  },
  {
   "cell_type": "markdown",
   "metadata": {},
   "source": [
    "Make sure we know which version we're using"
   ]
  },
  {
   "cell_type": "code",
   "execution_count": null,
   "metadata": {},
   "outputs": [],
   "source": [
    "clmm.__version__"
   ]
  },
  {
   "cell_type": "markdown",
   "metadata": {},
   "source": [
    "### Define cosmology object"
   ]
  },
  {
   "cell_type": "code",
   "execution_count": null,
   "metadata": {},
   "outputs": [],
   "source": [
    "from astropy.cosmology import FlatLambdaCDM\n",
    "mock_cosmo = FlatLambdaCDM(H0=70., Om0=0.3, Ob0=0.025)"
   ]
  },
  {
   "cell_type": "markdown",
   "metadata": {},
   "source": [
    "## 1. Generate cluster object from mock data\n",
    "In this example, the mock data includes: shape noise, galaxies drawn from redshift distribution and photoz errors."
   ]
  },
  {
   "cell_type": "markdown",
   "metadata": {},
   "source": [
    "Define toy cluster parameters for mock data generation"
   ]
  },
  {
   "cell_type": "code",
   "execution_count": null,
   "metadata": {},
   "outputs": [],
   "source": [
    "cosmo = mock_cosmo\n",
    "cluster_id = \"Awesome_cluster\"\n",
    "cluster_m = 1.e15\n",
    "cluster_z = 0.3\n",
    "concentration = 4\n",
    "ngals = 1000\n",
    "Delta = 200\n",
    "\n",
    "zsrc_min = cluster_z + 0.1 # we only want to draw background galaxies\n",
    "\n",
    "noisy_data_z = mock.generate_galaxy_catalog(cluster_m,\n",
    "                                            cluster_z,\n",
    "                                            concentration,\n",
    "                                            cosmo,\n",
    "                                            Delta,\n",
    "                                            'chang13',\n",
    "                                            zsrc_min = zsrc_min,\n",
    "                                            shapenoise=0.005,\n",
    "                                            photoz_sigma_unscaled=0.05, ngals=ngals)"
   ]
  },
  {
   "cell_type": "markdown",
   "metadata": {},
   "source": [
    "Loading this into a CLMM cluster object centered on (0,0)"
   ]
  },
  {
   "cell_type": "code",
   "execution_count": null,
   "metadata": {},
   "outputs": [],
   "source": [
    "cluster_ra = 0.0\n",
    "cluster_dec = 0.0\n",
    "cl = GalaxyCluster(cluster_id, cluster_ra, cluster_dec, \n",
    "                               cluster_z, noisy_data_z)"
   ]
  },
  {
   "cell_type": "markdown",
   "metadata": {},
   "source": [
    "### 2. Load cluster object containing:\n",
    "> Lens properties (ra_l, dec_l, z_l)\n",
    "\n",
    "> Source properties (ra_s, dec_s, e1, e2)\n",
    "### Note, if loading from mock data, use: \n",
    ">> cl = gc.GalaxyCluster.load(\"GC_from_mock_data.pkl\")"
   ]
  },
  {
   "cell_type": "code",
   "execution_count": null,
   "metadata": {},
   "outputs": [],
   "source": [
    "print(\"Cluster info = ID:\", cl.unique_id, \"; ra:\", cl.ra,\n",
    "      \"; dec:\", cl.dec, \"; z_l :\", cl.z)\n",
    "print(\"The number of source galaxies is :\", len(cl.galcat))"
   ]
  },
  {
   "cell_type": "markdown",
   "metadata": {},
   "source": [
    "## 2. Basic checks and plots \n",
    "- galaxy positions\n",
    "- redshift distribution"
   ]
  },
  {
   "cell_type": "code",
   "execution_count": null,
   "metadata": {},
   "outputs": [],
   "source": [
    "f, ax = plt.subplots(1, 2, figsize=(12, 4))\n",
    "\n",
    "ax[0].scatter(cl.galcat['ra'], cl.galcat['dec'], color='blue', s=1, alpha=0.3)\n",
    "ax[0].plot(cl.ra, cl.dec, 'ro')\n",
    "ax[0].set_ylabel('dec', fontsize=\"large\")\n",
    "ax[0].set_xlabel('ra', fontsize=\"large\")\n",
    "\n",
    "hist = ax[1].hist(cl.galcat['z'], bins=40)[0]\n",
    "ax[1].axvline(cl.z, c='r', ls='--')\n",
    "ax[1].set_xlabel('$z_{source}$', fontsize=\"large\")\n",
    "xt = {t:f'{t}' for t in ax[1].get_xticks() if t!=0}\n",
    "xt[cl.z] ='$z_{cl}$'\n",
    "xto = sorted(list(xt.keys())+[cl.z])\n",
    "ax[1].set_xticks(xto)\n",
    "ax[1].set_xticklabels(xt[t] for t in xto)\n",
    "ax[1].get_xticklabels()[xto.index(cl.z)].set_color('red')\n",
    "plt.xlim(0, max(xto))\n",
    "plt.show()"
   ]
  },
  {
   "cell_type": "markdown",
   "metadata": {},
   "source": [
    "- Check ellipticities"
   ]
  },
  {
   "cell_type": "code",
   "execution_count": null,
   "metadata": {},
   "outputs": [],
   "source": [
    "fig, ax1 = plt.subplots(1, 1)\n",
    "\n",
    "ax1.scatter(cl.galcat['e1'], cl.galcat['e2'], s=1, alpha=0.2)\n",
    "ax1.set_xlabel('e1')\n",
    "ax1.set_ylabel('e2')\n",
    "ax1.set_aspect('equal', 'datalim')\n",
    "ax1.axvline(0, linestyle='dotted', color='black')\n",
    "ax1.axhline(0, linestyle='dotted', color='black')"
   ]
  },
  {
   "cell_type": "markdown",
   "metadata": {},
   "source": [
    "## 3. Compute and plot shear profiles"
   ]
  },
  {
   "cell_type": "markdown",
   "metadata": {},
   "source": [
    "### 3.1 Compute angular separation, cross and tangential shear for each source galaxy"
   ]
  },
  {
   "cell_type": "markdown",
   "metadata": {},
   "source": [
    "- By defaut, `compute_tangential_and_cross_components` uses columns named `e1` and `e2` of the `galcat` table"
   ]
  },
  {
   "cell_type": "code",
   "execution_count": null,
   "metadata": {},
   "outputs": [],
   "source": [
    "theta, e_t, g_x = compute_tangential_and_cross_components(cl, geometry=\"flat\",add_to_cluster=True)\n",
    "# With the option add_to_cluster the cl object has theta, et and ex new columns \n",
    "# (default: takes in columns named 'e1' and 'e2' and save the results in 'et' and 'ex')\n",
    "cl"
   ]
  },
  {
   "cell_type": "markdown",
   "metadata": {},
   "source": [
    "- But it's also possible to choose which columns to use for input and output, e.g. Below we're storing the results in `e_tan` and `e_cross` instead (explicitely taking `e1` and `e2` as input)\n"
   ]
  },
  {
   "cell_type": "code",
   "execution_count": null,
   "metadata": {},
   "outputs": [],
   "source": [
    "theta, e_t, g_x = compute_tangential_and_cross_components(cl, geometry=\"flat\",\n",
    "                                                      shape_component1='e1', shape_component2='e2', \n",
    "                                                      tan_component='e_tan', cross_component='e_cross',\n",
    "                                                      add_to_cluster=True)\n",
    "cl"
   ]
  },
  {
   "cell_type": "markdown",
   "metadata": {},
   "source": [
    "Plot tangential and cross ellipticity distributions for verification, which can be accessed in the galaxy cluster object, cl."
   ]
  },
  {
   "cell_type": "code",
   "execution_count": null,
   "metadata": {},
   "outputs": [],
   "source": [
    "f, ax = plt.subplots(1, 2, figsize=(12, 4))\n",
    "\n",
    "ax[0].hist(cl.galcat['et'],bins=50)\n",
    "ax[0].set_xlabel('$\\\\epsilon_t$',fontsize='xx-large')\n",
    "\n",
    "ax[1].hist(cl.galcat['ex'],bins=50)\n",
    "ax[1].set_xlabel('$\\\\epsilon_x$',fontsize='xx-large')\n",
    "ax[1].set_yscale('log')"
   ]
  },
  {
   "cell_type": "markdown",
   "metadata": {},
   "source": [
    "Compute transversal and cross shear profiles in units defined by user, using defaults binning "
   ]
  },
  {
   "cell_type": "markdown",
   "metadata": {},
   "source": [
    "### 3.2 Compute shear profile in radial bins\n",
    "Given the separations in \"radians\" computed in the previous step, the user may ask for a binned profile in various projected distance units. The GCData corresponding to the binning profiled is attached as a new attribute of the galaxy cluster object.\n",
    "#### 3.2.1 Default binning\n",
    "- default binning using kpc:"
   ]
  },
  {
   "cell_type": "code",
   "execution_count": null,
   "metadata": {},
   "outputs": [],
   "source": [
    "profiles = make_binned_profile(cl, \"radians\", \"kpc\", cosmo=cosmo)\n",
    "cl.profile"
   ]
  },
  {
   "cell_type": "markdown",
   "metadata": {},
   "source": [
    "Use function to plot the profiles"
   ]
  },
  {
   "cell_type": "code",
   "execution_count": null,
   "metadata": {},
   "outputs": [],
   "source": [
    "fig, ax = plot_profiles(cl,xscale='log')"
   ]
  },
  {
   "cell_type": "markdown",
   "metadata": {},
   "source": [
    "- default binning using degrees:"
   ]
  },
  {
   "cell_type": "code",
   "execution_count": null,
   "metadata": {},
   "outputs": [],
   "source": [
    "new_profiles = make_binned_profile(cl, \"radians\", \"degrees\",cosmo=cosmo)\n",
    "fig1, ax1 = plot_profiles(cl, \"degrees\")"
   ]
  },
  {
   "cell_type": "markdown",
   "metadata": {},
   "source": [
    "#### 3.2.2 User-defined binning \n",
    "The users may also provide their own binning, in user-defined units, to compute the transversal and cross shear profiles. The `make_bins` function is provided in `utils.py` and allow for various options. \n",
    "\n",
    "- e.g., generate 20 bins between 1 and 6 Mpc, linearly spaced."
   ]
  },
  {
   "cell_type": "code",
   "execution_count": null,
   "metadata": {},
   "outputs": [],
   "source": [
    "new_bins = make_bins(1, 6, nbins=20, method='evenwidth')\n",
    "\n",
    "# Make the shear profile in this binning\n",
    "new_profiles = make_binned_profile(cl, \"radians\", \"Mpc\",\n",
    "                                  bins=new_bins, cosmo=cosmo)\n",
    "\n",
    "fig1, ax1 = plot_profiles(cl, \"Mpc\", r_units='Mpc')"
   ]
  },
  {
   "cell_type": "markdown",
   "metadata": {},
   "source": [
    "- e.g., generate 20 bins between 1 and 6 Mpc, evenly spaced in log space."
   ]
  },
  {
   "cell_type": "code",
   "execution_count": null,
   "metadata": {},
   "outputs": [],
   "source": [
    "new_bins = make_bins(1, 6, nbins=20, method='evenlog10width')\n",
    "\n",
    "new_profiles = make_binned_profile(cl, \"radians\", \"Mpc\",\n",
    "                                  bins=new_bins, cosmo=cosmo)\n",
    "fig1, ax1 = plot_profiles(cl, \"Mpc\", r_units='Mpc')\n",
    "ax1.set_xscale('log')"
   ]
  },
  {
   "cell_type": "markdown",
   "metadata": {},
   "source": [
    "- e.g., generate 20 bins between 1 and 6 Mpc, each contaning the same number of galaxies"
   ]
  },
  {
   "cell_type": "code",
   "execution_count": null,
   "metadata": {},
   "outputs": [],
   "source": [
    "# First, convert the source separation table to Mpc\n",
    "seps = u.convert_units(cl.galcat[\"theta\"], \"radians\", \"Mpc\", redshift=cl.z, cosmo=cosmo)\n",
    "\n",
    "new_bins = make_bins(1, 6, nbins=20, method='equaloccupation', source_seps=seps)\n",
    "new_profiles = make_binned_profile(cl, \"radians\", \"Mpc\",bins=new_bins, cosmo=cosmo)\n",
    "\n",
    "print(f\"number of galaxies in each bin: {list(cl.profile['n_src'])}\")\n",
    "fig1, ax1 = plot_profiles(cl, \"Mpc\", r_units='Mpc')"
   ]
  },
  {
   "cell_type": "markdown",
   "metadata": {},
   "source": [
    "#### 3.2.3 Other individual profile quantities may also be accessed "
   ]
  },
  {
   "cell_type": "code",
   "execution_count": null,
   "metadata": {},
   "outputs": [],
   "source": [
    "plt.title('Average redshift in radial bins')\n",
    "plt.errorbar(new_profiles['radius'], new_profiles['z'],\n",
    "             new_profiles['z_err'], marker = 'o')\n",
    "plt.axhline(cl.z, linestyle='dotted', color='r')\n",
    "plt.text(1, cl.z*1.1, '$z_{cl}$', color='r')\n",
    "plt.xlabel(\"Radius [Mpc]\")\n",
    "plt.ylabel('$\\langle z\\\\rangle$')\n",
    "plt.show()"
   ]
  },
  {
   "cell_type": "markdown",
   "metadata": {},
   "source": [
    "## 4. Focus on some options\n",
    "### 4.1. `gal_ids_in_bins` option \n",
    "adds a `gal_id` field to the profile GCData. For each bin of the profile, this is filled with the list of galaxy IDs for the galaxies that have fallen in that bin."
   ]
  },
  {
   "cell_type": "code",
   "execution_count": null,
   "metadata": {},
   "outputs": [],
   "source": [
    "profiles = make_binned_profile(cl, \"radians\", \"Mpc\", cosmo=cosmo, gal_ids_in_bins=True)"
   ]
  },
  {
   "cell_type": "code",
   "execution_count": null,
   "metadata": {},
   "outputs": [],
   "source": [
    "# Here the list of galaxy IDs that are in the first bin of the tangential shear profile\n",
    "import numpy as np\n",
    "gal_list = profiles['gal_id'][0]\n",
    "print(gal_list)"
   ]
  },
  {
   "cell_type": "markdown",
   "metadata": {},
   "source": [
    "### 4.2. User-defined naming scheme\n",
    "The user may specify which columns to use from the `galcat` table to perform the binned average. If none is specified, the code looks for columns names `et` and `ex`. Below, we average in bins the columns`e_tan` and `e_cross` of `galcat` and store the results in the columns `g_tan` and `g_cross` of the `profile` table of the cluster object."
   ]
  },
  {
   "cell_type": "code",
   "execution_count": null,
   "metadata": {},
   "outputs": [],
   "source": [
    "cl.make_binned_profile(\"radians\", \"kpc\", cosmo=cosmo, \n",
    "                       tan_component_in='e_tan', cross_component_in='e_cross',\n",
    "                       tan_component_out='g_tan', cross_component_out='g_cross');\n",
    "cl.profile"
   ]
  },
  {
   "cell_type": "markdown",
   "metadata": {},
   "source": [
    "The user may also define the name of the output table attribute. Below, we asked the binned profile to be saved into the `reduced_shear_profile` attribute"
   ]
  },
  {
   "cell_type": "code",
   "execution_count": null,
   "metadata": {},
   "outputs": [],
   "source": [
    "cl.make_binned_profile(\"radians\", \"kpc\", cosmo=cosmo, \n",
    "                       tan_component_in='e_tan', cross_component_in='e_cross',\n",
    "                       tan_component_out='g_tan', cross_component_out='g_cross',\n",
    "                       table_name='reduced_shear_profile');\n",
    "cl.reduced_shear_profile"
   ]
  },
  {
   "cell_type": "markdown",
   "metadata": {},
   "source": [
    "### 4.3 Compute a DeltaSigma profile instead of a shear profile\n",
    "\n",
    "The `is_deltasigma` option allows the user to return a cross and tangential $\\Delta\\Sigma$ (excess surface density) value for each galaxy in the catalog, provided `galcat` contains the redshifts of the galaxies and provided a cosmology is passed to the function. The columns `DeltaSigma_tan` and `DeltaSigma_cross` are added to the `galcat` table."
   ]
  },
  {
   "cell_type": "code",
   "execution_count": null,
   "metadata": {},
   "outputs": [],
   "source": [
    "theta, DS_t, DS_x = compute_tangential_and_cross_components(cl, geometry=\"flat\",\n",
    "                                                      shape_component1='e1', shape_component2='e2', \n",
    "                                                      tan_component='DeltaSigma_tan', cross_component='DeltaSigma_cross',\n",
    "                                                      add_to_cluster=True, cosmo=cosmo, is_deltasigma = True)\n",
    "cl"
   ]
  },
  {
   "cell_type": "markdown",
   "metadata": {},
   "source": [
    "The binned profile is obtained, as before. Below, we use the values obtained from the previous step to compute the binned profile. The latter is saved in a new `DeltaSigma_profile` table of the GalaxyCluster object."
   ]
  },
  {
   "cell_type": "code",
   "execution_count": null,
   "metadata": {},
   "outputs": [],
   "source": [
    "cl.make_binned_profile(\"radians\", \"Mpc\", cosmo=cosmo, \n",
    "                       tan_component_in='DeltaSigma_tan', cross_component_in='DeltaSigma_cross',\n",
    "                       tan_component_out='DeltaSigma_tan', cross_component_out='DeltaSigma_cross',\n",
    "                       table_name='DeltaSigma_profile');"
   ]
  },
  {
   "cell_type": "code",
   "execution_count": null,
   "metadata": {},
   "outputs": [],
   "source": [
    "cl.DeltaSigma_profile"
   ]
  },
  {
   "cell_type": "code",
   "execution_count": null,
   "metadata": {},
   "outputs": [],
   "source": [
    "plt.errorbar(cl.DeltaSigma_profile['radius'], cl.DeltaSigma_profile['DeltaSigma_tan'],\n",
    "             cl.DeltaSigma_profile['DeltaSigma_tan_err'], marker = 'o')\n",
    "plt.title('DeltaSigma profile')\n",
    "plt.xlabel(\"Radius [Mpc]\")\n",
    "plt.ylabel('$\\Delta\\Sigma [h\\; M_\\odot\\; pc^{-2}]$')\n",
    "plt.show()"
   ]
  }
 ],
 "metadata": {
  "kernelspec": {
   "display_name": "desc-clmm",
   "language": "python",
   "name": "desc-clmm"
  },
  "language_info": {
   "codemirror_mode": {
    "name": "ipython",
    "version": 3
   },
   "file_extension": ".py",
   "mimetype": "text/x-python",
   "name": "python",
   "nbconvert_exporter": "python",
   "pygments_lexer": "ipython3",
   "version": "3.7.6"
  }
 },
 "nbformat": 4,
 "nbformat_minor": 4
}
