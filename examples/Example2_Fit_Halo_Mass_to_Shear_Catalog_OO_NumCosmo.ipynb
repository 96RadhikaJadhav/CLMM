{
 "cells": [
  {
   "cell_type": "markdown",
   "metadata": {},
   "source": [
    "# Fit Halo Mass from a Shear Catalog\n",
    "\n",
    "_the LSST-DESC CLMM team_\n",
    "\n",
    "\n",
    "This notebook demonstrates how to use `clmm` to estimate a WL halo mass from observations of a galaxy cluster. It uses several functionalities of the support `mock_data` module to produce datasets of increasing complexity. This notebook also demonstrates the bias introduced on the reconstructed mass by a naive fit, when the redshift distribution of the background galaxies is not properly accounted for in the model."
   ]
  },
  {
   "cell_type": "markdown",
   "metadata": {},
   "source": [
    "## Setup"
   ]
  },
  {
   "cell_type": "markdown",
   "metadata": {},
   "source": [
    "First, we import some standard packages."
   ]
  },
  {
   "cell_type": "code",
   "execution_count": 1,
   "metadata": {},
   "outputs": [],
   "source": [
    "# For NumCosmo\n",
    "import os\n",
    "import gi\n",
    "\n",
    "gi.require_version('NumCosmo', '1.0')\n",
    "gi.require_version('NumCosmoMath', '1.0')\n",
    "from gi.repository import GObject\n",
    "from gi.repository import NumCosmo as Nc\n",
    "from gi.repository import NumCosmoMath as Ncm\n",
    "\n",
    "from scipy.stats import chi2\n",
    "import corner\n",
    "\n",
    "os.environ['CLMM_MODELING_BACKEND'] = 'nc'\n",
    "\n",
    "__name__ = \"NcContext\"\n",
    "\n",
    "Ncm.cfg_init ()\n",
    "Ncm.cfg_set_log_handler (lambda msg: sys.stdout.write (msg) and sys.stdout.flush ())"
   ]
  },
  {
   "cell_type": "code",
   "execution_count": 2,
   "metadata": {},
   "outputs": [
    {
     "data": {
      "text/plain": [
       "'0.3.0'"
      ]
     },
     "execution_count": 2,
     "metadata": {},
     "output_type": "execute_result"
    }
   ],
   "source": [
    "import sys\n",
    "sys.path.append('./support')\n",
    "try: import clmm\n",
    "except:\n",
    "    import notebook_install\n",
    "    notebook_install.install_clmm_pipeline(upgrade=False)\n",
    "    import clmm\n",
    "from astropy.cosmology import FlatLambdaCDM\n",
    "import matplotlib.pyplot as plt\n",
    "# %matplotlib inline\n",
    "import numpy as np\n",
    "from numpy import random\n",
    "from sampler import fitters\n",
    "\n",
    "clmm.__version__"
   ]
  },
  {
   "cell_type": "markdown",
   "metadata": {},
   "source": [
    "Next, we import `clmm`'s core modules."
   ]
  },
  {
   "cell_type": "code",
   "execution_count": 3,
   "metadata": {},
   "outputs": [],
   "source": [
    "import clmm.polaraveraging as pa\n",
    "import clmm.galaxycluster as gc\n",
    "import clmm.modeling as modeling"
   ]
  },
  {
   "cell_type": "markdown",
   "metadata": {},
   "source": [
    "We then import a support modules for a specific data sets.\n",
    "`clmm` includes support modules that enable the user to generate mock data in a format compatible with `clmm`."
   ]
  },
  {
   "cell_type": "code",
   "execution_count": 4,
   "metadata": {},
   "outputs": [],
   "source": [
    "import mock_data as mock"
   ]
  },
  {
   "cell_type": "markdown",
   "metadata": {},
   "source": [
    "## Making mock data"
   ]
  },
  {
   "cell_type": "markdown",
   "metadata": {},
   "source": [
    "For reproducibility:"
   ]
  },
  {
   "cell_type": "code",
   "execution_count": 5,
   "metadata": {},
   "outputs": [],
   "source": [
    "np.random.seed(11)"
   ]
  },
  {
   "cell_type": "markdown",
   "metadata": {},
   "source": [
    "To create mock data, we need to define a true cosmology, which is currently done with [`astropy`'s cosmology library](http://docs.astropy.org/en/stable/cosmology/index.html)."
   ]
  },
  {
   "cell_type": "code",
   "execution_count": 6,
   "metadata": {},
   "outputs": [],
   "source": [
    "mock_cosmo = FlatLambdaCDM(H0=70, Om0=0.27, Ob0=0.045)"
   ]
  },
  {
   "cell_type": "markdown",
   "metadata": {},
   "source": [
    "We now set some parameters for a mock galaxy cluster."
   ]
  },
  {
   "cell_type": "code",
   "execution_count": 7,
   "metadata": {},
   "outputs": [],
   "source": [
    "cosmo = mock_cosmo\n",
    "cluster_m = 1.e15\n",
    "cluster_z = 0.3\n",
    "concentration = 4\n",
    "ngals = 10000\n",
    "Delta = 200\n",
    "cluster_ra = 0.0\n",
    "cluster_dec = 0.0"
   ]
  },
  {
   "cell_type": "markdown",
   "metadata": {},
   "source": [
    "Then we use the `mock_data` support module to generate 3 galaxy catalogs:\n",
    "- `ideal_data`: all background galaxies at the same redshift.\n",
    "- `ideal_data_z`: galaxies distributed according to the Chang et al. (2013) redshift distribution.\n",
    "- `noisy_data_z`: `ideal_data_z` + photoz errors + shape noise"
   ]
  },
  {
   "cell_type": "code",
   "execution_count": 8,
   "metadata": {},
   "outputs": [
    {
     "name": "stderr",
     "output_type": "stream",
     "text": [
      "/home/sandro/Projects/CLMM/build/lib/clmm/modbackend/func_layer.py:433: UserWarning: Some source redshifts are lower than the cluster redshift. shear = 0 for those galaxies.\n",
      "  warnings.warn(f'Some source redshifts are lower than the cluster redshift. shear = 0 for those galaxies.')\n"
     ]
    }
   ],
   "source": [
    "ideal_data = mock.generate_galaxy_catalog(cluster_m, cluster_z, concentration, cosmo, ngals, Delta,0.8)\n",
    "ideal_data_z = mock.generate_galaxy_catalog(cluster_m, cluster_z, concentration, cosmo, ngals, Delta,'chang13')\n",
    "noisy_data_z = mock.generate_galaxy_catalog(cluster_m, cluster_z, concentration, cosmo, ngals, Delta,'chang13', \n",
    "                                            shapenoise=0.05, \n",
    "                                            photoz_sigma_unscaled=0.05)"
   ]
  },
  {
   "cell_type": "markdown",
   "metadata": {},
   "source": [
    "The galaxy catalogs are converted to a `clmm.GalaxyCluster` object and may be saved for later use."
   ]
  },
  {
   "cell_type": "code",
   "execution_count": 9,
   "metadata": {},
   "outputs": [],
   "source": [
    "cluster_id = \"CL_ideal\"\n",
    "gc_object = clmm.GalaxyCluster(cluster_id, cluster_ra, cluster_dec,\n",
    "                               cluster_z, ideal_data)\n",
    "gc_object.save('ideal_GC.pkl')\n",
    "\n",
    "cluster_id = \"CL_ideal_z\"\n",
    "gc_object = clmm.GalaxyCluster(cluster_id, cluster_ra, cluster_dec,\n",
    "                               cluster_z, ideal_data_z)\n",
    "gc_object.save('ideal_GC_z.pkl')\n",
    "\n",
    "cluster_id = \"CL_noisy_z\"\n",
    "gc_object = clmm.GalaxyCluster(cluster_id, cluster_ra, cluster_dec,\n",
    "                               cluster_z, noisy_data_z)\n",
    "gc_object.save('noisy_GC_z.pkl')"
   ]
  },
  {
   "cell_type": "markdown",
   "metadata": {},
   "source": [
    "Any saved `clmm.GalaxyCluster` object may be read in for analysis."
   ]
  },
  {
   "cell_type": "code",
   "execution_count": 10,
   "metadata": {},
   "outputs": [
    {
     "name": "stdout",
     "output_type": "stream",
     "text": [
      "Cluster info = ID: CL_ideal_z ; ra: 0.0 ; dec: 0.0 ; z_l : 0.3\n",
      "The number of source galaxies is : 10000\n"
     ]
    }
   ],
   "source": [
    "cl1 = clmm.GalaxyCluster.load('ideal_GC.pkl') # all background galaxies at the same redshift\n",
    "cl2 = clmm.GalaxyCluster.load('ideal_GC_z.pkl') # background galaxies distributed according to Chang et al. (2013)\n",
    "cl3 = clmm.GalaxyCluster.load('noisy_GC_z.pkl') # same as cl2 but with photoz error and shape noise\n",
    "\n",
    "print(\"Cluster info = ID:\", cl2.unique_id, \"; ra:\", cl2.ra, \"; dec:\", cl2.dec, \"; z_l :\", cl2.z)\n",
    "print(\"The number of source galaxies is :\", len(cl2.galcat))"
   ]
  },
  {
   "cell_type": "code",
   "execution_count": 11,
   "metadata": {},
   "outputs": [
    {
     "data": {
      "image/png": "[encoded data removed]",
      "text/plain": [
       "<Figure size 432x288 with 1 Axes>"
      ]
     },
     "metadata": {
      "needs_background": "light"
     },
     "output_type": "display_data"
    }
   ],
   "source": [
    "h = plt.hist(cl2.galcat['z'], bins=50)"
   ]
  },
  {
   "cell_type": "markdown",
   "metadata": {},
   "source": [
    "## Deriving observables"
   ]
  },
  {
   "cell_type": "markdown",
   "metadata": {},
   "source": [
    "### Computing shear"
   ]
  },
  {
   "cell_type": "markdown",
   "metadata": {},
   "source": [
    "`clmm.polaraveraging.compute_tangential_and_cross_components` calculates the tangential and cross shears for each source galaxy in the cluster."
   ]
  },
  {
   "cell_type": "code",
   "execution_count": 12,
   "metadata": {},
   "outputs": [],
   "source": [
    "theta1, g_t1, g_x1 = cl1.compute_tangential_and_cross_components(geometry=\"flat\")\n",
    "theta2, g_t2, g_x2 = cl2.compute_tangential_and_cross_components(geometry=\"flat\")\n",
    "theta3, g_t3, g_x3 = cl3.compute_tangential_and_cross_components(geometry=\"flat\")"
   ]
  },
  {
   "cell_type": "markdown",
   "metadata": {},
   "source": [
    "### Radially binning the data"
   ]
  },
  {
   "cell_type": "code",
   "execution_count": 13,
   "metadata": {},
   "outputs": [],
   "source": [
    "bin_edges = pa.make_bins(0.7, 4, 15, method='evenlog10width')"
   ]
  },
  {
   "cell_type": "markdown",
   "metadata": {},
   "source": [
    "`clmm.polaraveraging.make_binned_profile` evaluates the average shear of the galaxy catalog in bins of radius."
   ]
  },
  {
   "cell_type": "code",
   "execution_count": 14,
   "metadata": {},
   "outputs": [],
   "source": [
    "profile1 = cl1.make_binned_profile(\"radians\", \"Mpc\", bins=bin_edges,cosmo=cosmo)\n",
    "profile2 = cl2.make_binned_profile(\"radians\", \"Mpc\", bins=bin_edges,cosmo=cosmo)\n",
    "profile3 = cl3.make_binned_profile(\"radians\", \"Mpc\", bins=bin_edges,cosmo=cosmo)"
   ]
  },
  {
   "cell_type": "markdown",
   "metadata": {},
   "source": [
    "After running `clmm.polaraveraging.make_binned_profile` on a `clmm.GalaxyCluster` object, the object acquires the `clmm.GalaxyCluster.profile` attribute."
   ]
  },
  {
   "cell_type": "code",
   "execution_count": 15,
   "metadata": {},
   "outputs": [
    {
     "name": "stdout",
     "output_type": "stream",
     "text": [
      "radius_min   radius  radius_max     gt      gt_err      gx       gx_err      z       z_err     n_src  \n",
      "---------- --------- ---------- --------- --------- ---------- --------- --------- --------- ---------\n",
      " 7.000e-01 7.534e-01  7.863e-01 5.315e-02 2.245e-04  1.101e-18 6.322e-19 8.000e-01 2.177e-17 2.600e+01\n",
      " 7.863e-01 8.328e-01  8.831e-01 4.956e-02 1.850e-04 -3.854e-19 1.324e-18 8.000e-01 1.734e-17 4.100e+01\n",
      " 8.831e-01 9.295e-01  9.920e-01 4.571e-02 1.446e-04  3.469e-19 1.456e-18 8.000e-01 3.140e-17 5.000e+01\n",
      " 9.920e-01 1.055e+00  1.114e+00 4.142e-02 1.410e-04 -1.742e-19 6.771e-19 8.000e-01 1.484e-17 5.600e+01\n",
      " 1.114e+00 1.188e+00  1.251e+00 3.758e-02 1.202e-04  5.692e-19 8.028e-19 8.000e-01 1.241e-17 8.000e+01\n",
      " 1.251e+00 1.327e+00  1.406e+00 3.416e-02 1.072e-04  1.557e-19 8.000e-19 8.000e-01 1.121e-17 9.800e+01\n",
      " 1.406e+00 1.492e+00  1.579e+00 3.071e-02 8.676e-05 -7.310e-20 2.858e-19 8.000e-01 1.933e-17 1.320e+02\n",
      " 1.579e+00 1.682e+00  1.773e+00 2.740e-02 7.352e-05 -2.861e-19 4.593e-19 8.000e-01 1.831e-17 1.470e+02\n",
      " 1.773e+00 1.885e+00  1.992e+00 2.448e-02 6.668e-05  4.901e-19 3.698e-19 8.000e-01 8.617e-18 1.660e+02\n",
      " 1.992e+00 2.118e+00  2.237e+00 2.170e-02 5.133e-05  1.758e-19 2.522e-19 8.000e-01 7.337e-18 2.290e+02\n",
      " 2.237e+00 2.377e+00  2.513e+00 1.917e-02 3.739e-05 -1.711e-19 1.760e-19 8.000e-01 1.213e-17 3.350e+02\n",
      " 2.513e+00 2.671e+00  2.823e+00 1.684e-02 3.279e-05 -3.112e-19 1.505e-19 8.000e-01 0.000e+00 3.920e+02\n",
      " 2.823e+00 3.000e+00  3.171e+00 1.473e-02 2.606e-05 -7.012e-20 1.186e-19 8.000e-01 0.000e+00 4.940e+02\n",
      " 3.171e+00 3.370e+00  3.561e+00 1.282e-02 2.008e-05  5.131e-20 7.524e-20 8.000e-01 4.325e-18 6.590e+02\n",
      " 3.561e+00 3.790e+00  4.000e+00 1.111e-02 1.699e-05  3.747e-20 6.865e-20 8.000e-01 3.996e-18 7.720e+02\n"
     ]
    }
   ],
   "source": [
    "for n in cl1.profile.colnames: cl1.profile[n].format = \"%6.3e\"\n",
    "cl1.profile.pprint(max_width=-1)"
   ]
  },
  {
   "cell_type": "markdown",
   "metadata": {},
   "source": [
    "We visualize the radially binned shear for the 3 configurations"
   ]
  },
  {
   "cell_type": "code",
   "execution_count": 16,
   "metadata": {},
   "outputs": [
    {
     "data": {
      "text/plain": [
       "<matplotlib.legend.Legend at 0x7f74ade15160>"
      ]
     },
     "execution_count": 16,
     "metadata": {},
     "output_type": "execute_result"
    },
    {
     "data": {
      "image/png": "[encoded data removed]",
      "text/plain": [
       "<Figure size 720x432 with 1 Axes>"
      ]
     },
     "metadata": {
      "needs_background": "light"
     },
     "output_type": "display_data"
    }
   ],
   "source": [
    "fig = plt.figure(figsize=(10, 6))\n",
    "\n",
    "\n",
    "fsize = 14\n",
    "fig.gca().errorbar(profile1['radius'], profile1['gt'], yerr=profile1['gt_err'], marker='o', label='z_src = 0.8')\n",
    "fig.gca().errorbar(profile2['radius'], profile2['gt'], yerr=profile2['gt_err'], marker='o', \n",
    "                   label='z_src = Chang et al. (2013)')\n",
    "fig.gca().errorbar(profile3['radius'], profile3['gt'], yerr=profile3['gt_err'], marker='o', \n",
    "                   label='z_src = Chang et al. (2013) + photoz err  + shape noise')\n",
    "\n",
    "plt.gca().set_title(r'Binned shear of source galaxies', fontsize=fsize)\n",
    "plt.gca().set_xlabel(r'$r\\;[Mpc]$', fontsize=fsize)\n",
    "plt.gca().set_ylabel(r'$g_t$', fontsize=fsize)\n",
    "plt.legend()"
   ]
  },
  {
   "cell_type": "markdown",
   "metadata": {},
   "source": [
    "### Fitting a halo mass - highlighting bias when not accounting for the source redshift distribution in the model"
   ]
  },
  {
   "cell_type": "markdown",
   "metadata": {},
   "source": [
    "We estimate the best-fit mass using a simple implementation of the likelihood using a NcmDataGaussDiag object.\n",
    "\n",
    "Here, to build the model we make the WRONG assumption that the average shear in bin $i$ equals the shear at the average redshift in the bin; i.e. we assume that $\\langle g_t\\rangle_i = g_t(\\langle z\\rangle_i)$. This should not impact `cluster 1` as all sources are located at the same redshift. However, this yields a bias in the econstructed mass for `cluster 2` and `cluster 3`, where the sources followed the Chang et al. (2013) distribution."
   ]
  },
  {
   "cell_type": "markdown",
   "metadata": {},
   "source": [
    "As expected, the reconstructed mass is biased whenever the sources are not located at a single redshift as this was not accounted for in the model."
   ]
  },
  {
   "cell_type": "markdown",
   "metadata": {},
   "source": [
    "## Create the halo model\n",
    "\n",
    "Here we model using the OO inteface, we also use NumCosmo statistical framework to perform the analysis. Below we create an object based on NumCosmo NcmDataGaussDiag (Gaussian likelihood with a diagonal covariance matrix) object . To connect with the C interface the object must implement the methods: do_get_length, do_get_dof, do_begin, do_prepare and do_mean_func. The last method is responsible to compute the theoretical predictions. In the param_set_ftype calls below one can change between FREE/FIXED to include/exclude the parameter from the analysis. \n",
    "\n",
    "Remember that here we are building the wrong model."
   ]
  },
  {
   "cell_type": "code",
   "execution_count": 17,
   "metadata": {},
   "outputs": [
    {
     "name": "stdout",
     "output_type": "stream",
     "text": [
      "#----------------------------------------------------------------------------------\n",
      "# Model fitting. Interating using:\n",
      "#  - solver:            NLOpt:ln-neldermead\n",
      "#  - differentiation:   Numerical differentiantion (forward)\n",
      "#...............\n",
      "#  Minimum found with precision: |df|/f =  1.00000e-08 and |dx| =  1.00000e-05\n",
      "#  Elapsed time: 00 days, 00:00:00.0030040\n",
      "#  iteration            [000060]\n",
      "#  function evaluations [000062]\n",
      "#  gradient evaluations [000000]\n",
      "#  degrees of freedom   [000013]\n",
      "#  m2lnL     =  0.00613350190095587 (  0.0061335019 )\n",
      "#  Fit parameters:\n",
      "#     3.99544746141028     15.1558024847899    \n",
      "#----------------------------------------------------------------------------------\n",
      "# NcmMSet parameters covariance matrix\n",
      "#                                                       -------------------------------\n",
      "#      cDelta[04000:00] =  3.995       +/-  0.01283     |  1           | -0.6125      |\n",
      "# log10MDelta[04000:01] =  15.16       +/-  0.0004736   | -0.6125      |  1           |\n",
      "#                                                       -------------------------------\n",
      "#----------------------------------------------------------------------------------\n",
      "# Model fitting. Interating using:\n",
      "#  - solver:            NLOpt:ln-neldermead\n",
      "#  - differentiation:   Numerical differentiantion (forward)\n",
      "#...............\n",
      "#  Minimum found with precision: |df|/f =  1.00000e-08 and |dx| =  1.00000e-05\n",
      "#  Elapsed time: 00 days, 00:00:00.0033210\n",
      "#  iteration            [000066]\n",
      "#  function evaluations [000068]\n",
      "#  gradient evaluations [000000]\n",
      "#  degrees of freedom   [000013]\n",
      "#  m2lnL     =     2.28639606797937 (     2.2863961 )\n",
      "#  Fit parameters:\n",
      "#     3.89606104582472     15.0935977814078    \n",
      "#----------------------------------------------------------------------------------\n",
      "# NcmMSet parameters covariance matrix\n",
      "#                                                       -------------------------------\n",
      "#      cDelta[04000:00] =  3.896       +/-  0.09406     |  1           | -0.5021      |\n",
      "# log10MDelta[04000:01] =  15.09       +/-  0.002709    | -0.5021      |  1           |\n",
      "#                                                       -------------------------------\n",
      "#----------------------------------------------------------------------------------\n",
      "# Model fitting. Interating using:\n",
      "#  - solver:            NLOpt:ln-neldermead\n",
      "#  - differentiation:   Numerical differentiantion (forward)\n",
      "#...............\n",
      "#  Minimum found with precision: |df|/f =  1.00000e-08 and |dx| =  1.00000e-05\n",
      "#  Elapsed time: 00 days, 00:00:00.0029900\n",
      "#  iteration            [000065]\n",
      "#  function evaluations [000067]\n",
      "#  gradient evaluations [000000]\n",
      "#  degrees of freedom   [000013]\n",
      "#  m2lnL     =     9.43062251619617 (     9.4306225 )\n",
      "#  Fit parameters:\n",
      "#     4.27767452889786     15.0902286446802    \n",
      "#----------------------------------------------------------------------------------\n",
      "# NcmMSet parameters covariance matrix\n",
      "#                                                       -------------------------------\n",
      "#      cDelta[04000:00] =  4.278       +/-  0.7433      |  1           | -0.7673      |\n",
      "# log10MDelta[04000:01] =  15.09       +/-  0.03443     | -0.7673      |  1           |\n",
      "#                                                       -------------------------------\n"
     ]
    }
   ],
   "source": [
    "class GaussGammaTErr (Ncm.DataGaussDiag):\n",
    "    z_cluster = GObject.Property (type = float, flags = GObject.PARAM_READWRITE)\n",
    "    z_source  = GObject.Property (type = Ncm.Vector, flags = GObject.PARAM_READWRITE)\n",
    "    r_source  = GObject.Property (type = Ncm.Vector, flags = GObject.PARAM_READWRITE)\n",
    "    z_err     = GObject.Property (type = Ncm.Vector, flags = GObject.PARAM_READWRITE)\n",
    "\n",
    "    def __init__ (self):\n",
    "        Ncm.DataGaussDiag.__init__ (self, n_points = 0)        \n",
    "        self.moo = clmm.Modeling ()\n",
    "    \n",
    "    def init_from_data (self, z_cluster, r_source, z_source, gt_profile, gt_err, z_err = None, moo = None):\n",
    "        \n",
    "        if moo:\n",
    "            self.moo = moo\n",
    "        \n",
    "        assert len (gt_profile) == len (z_source)\n",
    "        assert len (gt_profile) == len (r_source)\n",
    "        assert len (gt_profile) == len (gt_err)\n",
    "        \n",
    "        self.set_size (len (gt_profile))\n",
    "        \n",
    "        self.props.z_cluster = z_cluster\n",
    "        self.props.z_source  = Ncm.Vector.new_array (z_source)\n",
    "        self.props.r_source  = Ncm.Vector.new_array (r_source)\n",
    "        if z_err:\n",
    "            self.props.r_source  = Ncm.Vector.new_array (z_err)\n",
    "                \n",
    "        self.y.set_array (gt_profile)\n",
    "        \n",
    "        self.sigma.set_array (gt_err)\n",
    "        \n",
    "        self.set_init (True)        \n",
    "    \n",
    "    def do_get_length (self):\n",
    "        return self.np\n",
    "\n",
    "    def do_get_dof (self):\n",
    "        return self.np\n",
    "\n",
    "    def do_begin (self):\n",
    "        pass\n",
    "\n",
    "    def do_prepare (self, mset):\n",
    "        self.moo.set_mset (mset)\n",
    "        \n",
    "    def do_mean_func (self, mset, vp):\n",
    "        vp.set_array (self.moo.eval_reduced_shear (self.props.r_source.dup_array (), self.props.z_cluster, self.props.z_source.dup_array ()))\n",
    "        return\n",
    "\n",
    "GObject.type_register (GaussGammaTErr)\n",
    "\n",
    "moo1 = clmm.Modeling (massdef = 'mean', delta_mdef = 200, halo_profile_model = 'nfw')\n",
    "moo1.set_cosmo_params_dict (clmm.modeling.cclify_astropy_cosmo (cosmo))\n",
    "moo1.set_concentration (4.0)\n",
    "\n",
    "moo2 = clmm.Modeling (massdef = 'mean', delta_mdef = 200, halo_profile_model = 'nfw')\n",
    "moo2.set_cosmo_params_dict (clmm.modeling.cclify_astropy_cosmo (cosmo))\n",
    "moo2.set_concentration (4.0)\n",
    "\n",
    "moo3 = clmm.Modeling (massdef = 'mean', delta_mdef = 200, halo_profile_model = 'nfw')\n",
    "moo3.set_cosmo_params_dict (clmm.modeling.cclify_astropy_cosmo (cosmo))\n",
    "moo3.set_concentration (4.0)\n",
    "\n",
    "ggt1 = GaussGammaTErr ()\n",
    "ggt2 = GaussGammaTErr ()\n",
    "ggt3 = GaussGammaTErr ()\n",
    "\n",
    "ggt1.init_from_data (z_cluster = cluster_z, r_source = profile1['radius'] * cosmo.h, z_source = profile1['z'], gt_profile = profile1['gt'], gt_err = profile1['gt_err'], moo = moo1)\n",
    "ggt2.init_from_data (z_cluster = cluster_z, r_source = profile2['radius'] * cosmo.h, z_source = profile2['z'], gt_profile = profile2['gt'], gt_err = profile2['gt_err'], moo = moo2)\n",
    "ggt3.init_from_data (z_cluster = cluster_z, r_source = profile3['radius'] * cosmo.h, z_source = profile3['z'], gt_profile = profile3['gt'], gt_err = profile3['gt_err'], moo = moo3)\n",
    "\n",
    "mset1 = ggt1.moo.get_mset ()\n",
    "mset2 = ggt2.moo.get_mset ()\n",
    "mset3 = ggt3.moo.get_mset ()\n",
    "\n",
    "MDelta_pi = mset1.param_get_by_full_name (\"NcHaloDensityProfile:log10MDelta\")\n",
    "cDelta_pi = mset1.param_get_by_full_name (\"NcHaloDensityProfile:cDelta\")\n",
    "\n",
    "mset1.param_set_ftype (MDelta_pi.mid, MDelta_pi.pid, Ncm.ParamType.FREE)\n",
    "mset1.param_set_ftype (cDelta_pi.mid, cDelta_pi.pid, Ncm.ParamType.FREE)\n",
    "mset1.prepare_fparam_map ()\n",
    "\n",
    "mset2.param_set_ftype (MDelta_pi.mid, MDelta_pi.pid, Ncm.ParamType.FREE)\n",
    "mset2.param_set_ftype (cDelta_pi.mid, cDelta_pi.pid, Ncm.ParamType.FREE)\n",
    "mset2.prepare_fparam_map ()\n",
    "\n",
    "mset3.param_set_ftype (MDelta_pi.mid, MDelta_pi.pid, Ncm.ParamType.FREE)\n",
    "mset3.param_set_ftype (cDelta_pi.mid, cDelta_pi.pid, Ncm.ParamType.FREE)\n",
    "mset3.prepare_fparam_map ()\n",
    "\n",
    "dset1 = Ncm.Dataset.new ()\n",
    "dset1.append_data (ggt1)\n",
    "lh1 = Ncm.Likelihood.new (dset1)\n",
    "\n",
    "dset2 = Ncm.Dataset.new ()\n",
    "dset2.append_data (ggt2)\n",
    "lh2 = Ncm.Likelihood.new (dset2)\n",
    "\n",
    "dset3 = Ncm.Dataset.new ()\n",
    "dset3.append_data (ggt3)\n",
    "lh3 = Ncm.Likelihood.new (dset3)\n",
    "\n",
    "fit1 = Ncm.Fit.new (Ncm.FitType.NLOPT, \"ln-neldermead\", lh1, mset1, Ncm.FitGradType.NUMDIFF_FORWARD)\n",
    "fit2 = Ncm.Fit.new (Ncm.FitType.NLOPT, \"ln-neldermead\", lh2, mset2, Ncm.FitGradType.NUMDIFF_FORWARD)\n",
    "fit3 = Ncm.Fit.new (Ncm.FitType.NLOPT, \"ln-neldermead\", lh3, mset3, Ncm.FitGradType.NUMDIFF_FORWARD)\n",
    "\n",
    "fit1.run (Ncm.FitRunMsgs.SIMPLE)\n",
    "fit1.fisher ()\n",
    "fit1.log_covar ()\n",
    "\n",
    "fit2.run (Ncm.FitRunMsgs.SIMPLE)\n",
    "fit2.fisher ()\n",
    "fit2.log_covar ()\n",
    "\n",
    "fit3.run (Ncm.FitRunMsgs.SIMPLE)\n",
    "fit3.fisher ()\n",
    "fit3.log_covar ()\n"
   ]
  },
  {
   "cell_type": "markdown",
   "metadata": {},
   "source": [
    "## Visualization of the results\n",
    "\n",
    "For visualization purpose, we calculate the reduced tangential shear predicted by the model when using the average redshift of the catalog."
   ]
  },
  {
   "cell_type": "code",
   "execution_count": 18,
   "metadata": {},
   "outputs": [
    {
     "name": "stdout",
     "output_type": "stream",
     "text": [
      " 1.001818668285154e+15 +/- 1e+12  8.681293052700950e+14 +/- 5e+12  8.614206532992520e+14 +/- 7e+13\n"
     ]
    }
   ],
   "source": [
    "rr = np.logspace(-0.5, np.log10(5), 100)\n",
    "\n",
    "gt_model1 = moo1.eval_reduced_shear (rr*cosmo.h, cluster_z, np.mean(cl1.galcat['z']))\n",
    "gt_model2 = moo2.eval_reduced_shear (rr*cosmo.h, cluster_z, np.mean(cl2.galcat['z']))\n",
    "gt_model3 = moo3.eval_reduced_shear (rr*cosmo.h, cluster_z, np.mean(cl3.galcat['z']))\n",
    "\n",
    "m_est1 = 10**mset1.param_get (MDelta_pi.mid, MDelta_pi.pid) * cosmo.h * moo1.cor_factor\n",
    "m_est2 = 10**mset2.param_get (MDelta_pi.mid, MDelta_pi.pid) * cosmo.h * moo2.cor_factor\n",
    "m_est3 = 10**mset3.param_get (MDelta_pi.mid, MDelta_pi.pid) * cosmo.h * moo3.cor_factor\n",
    "\n",
    "m_est_err1 = fit1.covar_sd (MDelta_pi.mid, MDelta_pi.pid) * m_est1 * math.log (10.0)\n",
    "m_est_err2 = fit2.covar_sd (MDelta_pi.mid, MDelta_pi.pid) * m_est2 * math.log (10.0)\n",
    "m_est_err3 = fit3.covar_sd (MDelta_pi.mid, MDelta_pi.pid) * m_est3 * math.log (10.0)\n",
    "\n",
    "print (\"% 22.15e +/- %.0e % 22.15e +/- %.0e % 22.15e +/- %.0e\" % (m_est1, m_est_err1, m_est2, m_est_err2, m_est3, m_est_err3))"
   ]
  },
  {
   "cell_type": "markdown",
   "metadata": {},
   "source": [
    "We visualize that prediction of reduced tangential shear along with the data"
   ]
  },
  {
   "cell_type": "code",
   "execution_count": 19,
   "metadata": {},
   "outputs": [
    {
     "data": {
      "image/png": "[encoded data removed]",
      "text/plain": [
       "<Figure size 1152x432 with 2 Axes>"
      ]
     },
     "metadata": {
      "needs_background": "light"
     },
     "output_type": "display_data"
    }
   ],
   "source": [
    "fig, axes = plt.subplots(nrows=1, ncols=2, figsize=(16, 6))\n",
    "\n",
    "axes[0].errorbar(profile1['radius'], profile1['gt'],profile1['gt_err'], color='red',\n",
    "                 label='ideal_data, M_input = %.3e Msun' % cluster_m, fmt='.')\n",
    "axes[0].plot(rr, gt_model1,color='red',\n",
    "             label='best fit model 1, M_fit = %.2e +/- %.2e' % (m_est1, m_est_err1))\n",
    "\n",
    "\n",
    "axes[0].errorbar(profile2['radius'], profile2['gt'],profile2['gt_err'], color='green',\n",
    "                  label='ideal_data_z, M_input = %.3e Msun' % cluster_m, fmt='.')\n",
    "axes[0].plot(rr, gt_model2, color='green',\n",
    "               label='best fit model 2, M_fit = %.2e +/- %.2e' % (m_est2, m_est_err2))\n",
    "axes[0].set_title('Ideal data w/wo src redshift distribution',fontsize=fsize)\n",
    "axes[0].semilogx()\n",
    "axes[0].semilogy()\n",
    "axes[0].legend(fontsize=fsize)\n",
    "axes[0].set_xlabel('R [Mpc]', fontsize=fsize)\n",
    "axes[0].set_ylabel('reduced tangential shear', fontsize=fsize)\n",
    "\n",
    "axes[1].errorbar(profile3['radius'], profile3['gt'],profile3['gt_err'], color='red',\n",
    "                label='noisy_data_z, M_input = %.3e Msun' % cluster_m, fmt='.')\n",
    "axes[1].plot(rr, gt_model3,color='red',\n",
    "             label='best fit model 3, M_fit = %.2e +/- %.2e' % (m_est3, m_est_err3))\n",
    "axes[1].set_title('Noisy data with src redshift distribution',fontsize=fsize)\n",
    "axes[1].semilogx()\n",
    "axes[1].semilogy()\n",
    "axes[1].legend(fontsize=fsize)\n",
    "axes[1].set_xlabel('R [Mpc]', fontsize=fsize)\n",
    "axes[1].set_ylabel('reduced tangential shear', fontsize=fsize)\n",
    "\n",
    "fig.tight_layout()"
   ]
  },
  {
   "cell_type": "markdown",
   "metadata": {},
   "source": [
    "### To investigate further the results we make a MCMC analysis below.\n",
    "\n",
    "In the end we save the catalog to mcat_wrong to compare with a correct analysis."
   ]
  },
  {
   "cell_type": "code",
   "execution_count": 20,
   "metadata": {},
   "outputs": [
    {
     "name": "stdout",
     "output_type": "stream",
     "text": [
      "# NcmThreadPool:Unused:      0\n",
      "# NcmThreadPool:Max Unused:  2\n",
      "# NcmThreadPool:Running:     0\n",
      "# NcmThreadPool:Unprocessed: 0\n",
      "# NcmThreadPool:Unused:      0\n",
      "#----------------------------------------------------------------------------------\n",
      "# NcmFitESMCMC: Starting Ensamble Sampler Markov Chain Monte Carlo.\n",
      "#   Number of walkers: 0100.\n",
      "#   Number of threads: 0000.\n",
      "#----------------------------------------------------------------------------------\n",
      "# NcmFitESMCMC: Skipping 24100 points (241.000000 iterations), will start at 24101-th point.\n",
      "#----------------------------------------------------------------------------------\n",
      "# NcmFitESMCMC: validating catalog rows [22100, 22200)\n",
      "# NcmFitESMCMC: Catalog row 22100: m2lnL =     12.9739822544885, recalculated to     12.9739822544885, diff = 0.00000e+00, SUCCEEDED!\n",
      "# NcmFitESMCMC: Catalog row 22101: m2lnL =     11.5676106930831, recalculated to     11.5676106930831, diff = 0.00000e+00, SUCCEEDED!\n",
      "# NcmFitESMCMC: Catalog row 22102: m2lnL =     10.5480181627369, recalculated to     10.5480181627369, diff = 0.00000e+00, SUCCEEDED!\n",
      "# NcmFitESMCMC: Catalog row 22103: m2lnL =     12.9676337252752, recalculated to     12.9676337252752, diff = 0.00000e+00, SUCCEEDED!\n",
      "# NcmFitESMCMC: Catalog row 22104: m2lnL =     10.1608355979835, recalculated to     10.1608355979835, diff = 0.00000e+00, SUCCEEDED!\n",
      "# NcmFitESMCMC: Catalog row 22105: m2lnL =     11.3144158763075, recalculated to     11.3144158763075, diff = 0.00000e+00, SUCCEEDED!\n",
      "# NcmFitESMCMC: Catalog row 22106: m2lnL =     10.6456537981094, recalculated to     10.6456537981094, diff = 0.00000e+00, SUCCEEDED!\n",
      "# NcmFitESMCMC: Catalog row 22107: m2lnL =     9.47591903673343, recalculated to     9.47591903673343, diff = 0.00000e+00, SUCCEEDED!\n",
      "# NcmFitESMCMC: Catalog row 22108: m2lnL =     9.99127132103705, recalculated to     9.99127132103705, diff = 0.00000e+00, SUCCEEDED!\n",
      "# NcmFitESMCMC: Catalog row 22109: m2lnL =     10.5510954986923, recalculated to     10.5510954986923, diff = 0.00000e+00, SUCCEEDED!\n",
      "# NcmFitESMCMC: Catalog row 22110: m2lnL =      11.435317326922, recalculated to      11.435317326922, diff = 0.00000e+00, SUCCEEDED!\n",
      "# NcmFitESMCMC: Catalog row 22111: m2lnL =      10.049761755436, recalculated to      10.049761755436, diff = 0.00000e+00, SUCCEEDED!\n",
      "# NcmFitESMCMC: Catalog row 22112: m2lnL =     10.7709366961581, recalculated to     10.7709366961581, diff = 0.00000e+00, SUCCEEDED!\n",
      "# NcmFitESMCMC: Catalog row 22113: m2lnL =     12.5559580852406, recalculated to     12.5559580852406, diff = 0.00000e+00, SUCCEEDED!\n",
      "# NcmFitESMCMC: Catalog row 22114: m2lnL =     9.43717465714053, recalculated to     9.43717465714053, diff = 0.00000e+00, SUCCEEDED!\n",
      "# NcmFitESMCMC: Catalog row 22115: m2lnL =     9.93434469278591, recalculated to     9.93434469278591, diff = 0.00000e+00, SUCCEEDED!\n",
      "# NcmFitESMCMC: Catalog row 22116: m2lnL =     9.60300494015394, recalculated to     9.60300494015394, diff = 0.00000e+00, SUCCEEDED!\n",
      "# NcmFitESMCMC: Catalog row 22117: m2lnL =      15.592839580103, recalculated to      15.592839580103, diff = 0.00000e+00, SUCCEEDED!\n",
      "# NcmFitESMCMC: Catalog row 22118: m2lnL =     10.6539055300621, recalculated to     10.6539055300621, diff = 0.00000e+00, SUCCEEDED!\n",
      "# NcmFitESMCMC: Catalog row 22119: m2lnL =     9.55221366012664, recalculated to     9.55221366012664, diff = 0.00000e+00, SUCCEEDED!\n",
      "# NcmFitESMCMC: Catalog row 22120: m2lnL =      10.073135023521, recalculated to      10.073135023521, diff = 0.00000e+00, SUCCEEDED!\n",
      "# NcmFitESMCMC: Catalog row 22121: m2lnL =     9.55522823407859, recalculated to     9.55522823407859, diff = 0.00000e+00, SUCCEEDED!\n",
      "# NcmFitESMCMC: Catalog row 22122: m2lnL =     11.2497549639271, recalculated to     11.2497549639271, diff = 0.00000e+00, SUCCEEDED!\n",
      "# NcmFitESMCMC: Catalog row 22123: m2lnL =     10.0984367601456, recalculated to     10.0984367601456, diff = 0.00000e+00, SUCCEEDED!\n",
      "# NcmFitESMCMC: Catalog row 22124: m2lnL =     11.1892983592195, recalculated to     11.1892983592195, diff = 0.00000e+00, SUCCEEDED!\n",
      "# NcmFitESMCMC: Catalog row 22125: m2lnL =     9.54740815277972, recalculated to     9.54740815277972, diff = 0.00000e+00, SUCCEEDED!\n",
      "# NcmFitESMCMC: Catalog row 22126: m2lnL =     13.4286992503133, recalculated to     13.4286992503133, diff = 0.00000e+00, SUCCEEDED!\n",
      "# NcmFitESMCMC: Catalog row 22127: m2lnL =     10.9816657617178, recalculated to     10.9816657617178, diff = 0.00000e+00, SUCCEEDED!\n",
      "# NcmFitESMCMC: Catalog row 22128: m2lnL =     12.0330430879526, recalculated to     12.0330430879526, diff = 0.00000e+00, SUCCEEDED!\n",
      "# NcmFitESMCMC: Catalog row 22129: m2lnL =     11.0502279145203, recalculated to     11.0502279145203, diff = 0.00000e+00, SUCCEEDED!\n",
      "# NcmFitESMCMC: Catalog row 22130: m2lnL =     10.9543505868681, recalculated to     10.9543505868681, diff = 0.00000e+00, SUCCEEDED!\n",
      "# NcmFitESMCMC: Catalog row 22131: m2lnL =     10.3237009228318, recalculated to     10.3237009228318, diff = 0.00000e+00, SUCCEEDED!\n",
      "# NcmFitESMCMC: Catalog row 22132: m2lnL =      11.201187677552, recalculated to      11.201187677552, diff = 0.00000e+00, SUCCEEDED!\n",
      "# NcmFitESMCMC: Catalog row 22133: m2lnL =     9.52511709013774, recalculated to     9.52511709013774, diff = 0.00000e+00, SUCCEEDED!\n",
      "# NcmFitESMCMC: Catalog row 22134: m2lnL =     9.43146600030226, recalculated to     9.43146600030226, diff = 0.00000e+00, SUCCEEDED!\n",
      "# NcmFitESMCMC: Catalog row 22135: m2lnL =     10.8459465071714, recalculated to     10.8459465071714, diff = 0.00000e+00, SUCCEEDED!\n",
      "# NcmFitESMCMC: Catalog row 22136: m2lnL =     9.54761786607948, recalculated to     9.54761786607948, diff = 0.00000e+00, SUCCEEDED!\n",
      "# NcmFitESMCMC: Catalog row 22137: m2lnL =     13.6567806039763, recalculated to     13.6567806039763, diff = 0.00000e+00, SUCCEEDED!\n",
      "# NcmFitESMCMC: Catalog row 22138: m2lnL =      9.5512193223102, recalculated to      9.5512193223102, diff = 0.00000e+00, SUCCEEDED!\n",
      "# NcmFitESMCMC: Catalog row 22139: m2lnL =      9.7110229593738, recalculated to      9.7110229593738, diff = 0.00000e+00, SUCCEEDED!\n",
      "# NcmFitESMCMC: Catalog row 22140: m2lnL =     11.7174416168991, recalculated to     11.7174416168991, diff = 0.00000e+00, SUCCEEDED!\n",
      "# NcmFitESMCMC: Catalog row 22141: m2lnL =     13.7344095449912, recalculated to     13.7344095449912, diff = 0.00000e+00, SUCCEEDED!\n",
      "# NcmFitESMCMC: Catalog row 22142: m2lnL =     10.3843940905346, recalculated to     10.3843940905346, diff = 0.00000e+00, SUCCEEDED!\n",
      "# NcmFitESMCMC: Catalog row 22143: m2lnL =      10.897302752462, recalculated to      10.897302752462, diff = 0.00000e+00, SUCCEEDED!\n",
      "# NcmFitESMCMC: Catalog row 22144: m2lnL =     9.61461057321946, recalculated to     9.61461057321946, diff = 0.00000e+00, SUCCEEDED!\n",
      "# NcmFitESMCMC: Catalog row 22145: m2lnL =     13.5969804395776, recalculated to     13.5969804395776, diff = 0.00000e+00, SUCCEEDED!\n",
      "# NcmFitESMCMC: Catalog row 22146: m2lnL =     10.9857680244881, recalculated to     10.9857680244881, diff = 0.00000e+00, SUCCEEDED!\n",
      "# NcmFitESMCMC: Catalog row 22147: m2lnL =     10.2444876335834, recalculated to     10.2444876335834, diff = 0.00000e+00, SUCCEEDED!\n",
      "# NcmFitESMCMC: Catalog row 22148: m2lnL =     10.5573870392228, recalculated to     10.5573870392228, diff = 0.00000e+00, SUCCEEDED!\n",
      "# NcmFitESMCMC: Catalog row 22149: m2lnL =     11.4862317405435, recalculated to     11.4862317405435, diff = 0.00000e+00, SUCCEEDED!\n",
      "# NcmFitESMCMC: Catalog row 22150: m2lnL =     11.1862576219965, recalculated to     11.1862576219965, diff = 0.00000e+00, SUCCEEDED!\n",
      "# NcmFitESMCMC: Catalog row 22151: m2lnL =      9.6578722939067, recalculated to      9.6578722939067, diff = 0.00000e+00, SUCCEEDED!\n",
      "# NcmFitESMCMC: Catalog row 22152: m2lnL =     11.3400834257743, recalculated to     11.3400834257743, diff = 0.00000e+00, SUCCEEDED!\n",
      "# NcmFitESMCMC: Catalog row 22153: m2lnL =     14.1926282184188, recalculated to     14.1926282184188, diff = 0.00000e+00, SUCCEEDED!\n",
      "# NcmFitESMCMC: Catalog row 22154: m2lnL =     11.8377018111904, recalculated to     11.8377018111904, diff = 0.00000e+00, SUCCEEDED!\n",
      "# NcmFitESMCMC: Catalog row 22155: m2lnL =     10.7152158255875, recalculated to     10.7152158255875, diff = 0.00000e+00, SUCCEEDED!\n",
      "# NcmFitESMCMC: Catalog row 22156: m2lnL =     12.0083807426795, recalculated to     12.0083807426795, diff = 0.00000e+00, SUCCEEDED!\n",
      "# NcmFitESMCMC: Catalog row 22157: m2lnL =     14.8050374440127, recalculated to     14.8050374440127, diff = 0.00000e+00, SUCCEEDED!\n",
      "# NcmFitESMCMC: Catalog row 22158: m2lnL =     13.8665329317951, recalculated to     13.8665329317951, diff = 0.00000e+00, SUCCEEDED!\n",
      "# NcmFitESMCMC: Catalog row 22159: m2lnL =     14.4492356185583, recalculated to     14.4492356185583, diff = 0.00000e+00, SUCCEEDED!\n",
      "# NcmFitESMCMC: Catalog row 22160: m2lnL =     10.1280492066333, recalculated to     10.1280492066333, diff = 0.00000e+00, SUCCEEDED!\n",
      "# NcmFitESMCMC: Catalog row 22161: m2lnL =     9.82675561636227, recalculated to     9.82675561636227, diff = 0.00000e+00, SUCCEEDED!\n",
      "# NcmFitESMCMC: Catalog row 22162: m2lnL =     14.5794436718005, recalculated to     14.5794436718005, diff = 0.00000e+00, SUCCEEDED!\n",
      "# NcmFitESMCMC: Catalog row 22163: m2lnL =     11.8646160024963, recalculated to     11.8646160024963, diff = 0.00000e+00, SUCCEEDED!\n",
      "# NcmFitESMCMC: Catalog row 22164: m2lnL =     9.44591178540513, recalculated to     9.44591178540513, diff = 0.00000e+00, SUCCEEDED!\n",
      "# NcmFitESMCMC: Catalog row 22165: m2lnL =     9.57046722526287, recalculated to     9.57046722526287, diff = 0.00000e+00, SUCCEEDED!\n",
      "# NcmFitESMCMC: Catalog row 22166: m2lnL =     10.1151739200747, recalculated to     10.1151739200747, diff = 0.00000e+00, SUCCEEDED!\n",
      "# NcmFitESMCMC: Catalog row 22167: m2lnL =     9.86807052365004, recalculated to     9.86807052365004, diff = 0.00000e+00, SUCCEEDED!\n",
      "# NcmFitESMCMC: Catalog row 22168: m2lnL =     10.4842453285907, recalculated to     10.4842453285907, diff = 0.00000e+00, SUCCEEDED!\n",
      "# NcmFitESMCMC: Catalog row 22169: m2lnL =     11.8274830628516, recalculated to     11.8274830628516, diff = 0.00000e+00, SUCCEEDED!\n",
      "# NcmFitESMCMC: Catalog row 22170: m2lnL =     12.0470473808891, recalculated to     12.0470473808891, diff = 0.00000e+00, SUCCEEDED!\n",
      "# NcmFitESMCMC: Catalog row 22171: m2lnL =     12.1696631584898, recalculated to     12.1696631584898, diff = 0.00000e+00, SUCCEEDED!\n",
      "# NcmFitESMCMC: Catalog row 22172: m2lnL =     12.3998819736862, recalculated to     12.3998819736862, diff = 0.00000e+00, SUCCEEDED!\n",
      "# NcmFitESMCMC: Catalog row 22173: m2lnL =     14.4350995780934, recalculated to     14.4350995780934, diff = 0.00000e+00, SUCCEEDED!\n",
      "# NcmFitESMCMC: Catalog row 22174: m2lnL =     13.4515709020179, recalculated to     13.4515709020179, diff = 0.00000e+00, SUCCEEDED!\n",
      "# NcmFitESMCMC: Catalog row 22175: m2lnL =     10.1764928533201, recalculated to     10.1764928533201, diff = 0.00000e+00, SUCCEEDED!\n",
      "# NcmFitESMCMC: Catalog row 22176: m2lnL =     11.1541365869329, recalculated to     11.1541365869329, diff = 0.00000e+00, SUCCEEDED!\n",
      "# NcmFitESMCMC: Catalog row 22177: m2lnL =     30.3020611396597, recalculated to     30.3020611396597, diff = 0.00000e+00, SUCCEEDED!\n",
      "# NcmFitESMCMC: Catalog row 22178: m2lnL =     10.7287335527352, recalculated to     10.7287335527352, diff = 0.00000e+00, SUCCEEDED!\n",
      "# NcmFitESMCMC: Catalog row 22179: m2lnL =      9.5763130106119, recalculated to      9.5763130106119, diff = 0.00000e+00, SUCCEEDED!\n",
      "# NcmFitESMCMC: Catalog row 22180: m2lnL =     11.7992836875274, recalculated to     11.7992836875274, diff = 0.00000e+00, SUCCEEDED!\n",
      "# NcmFitESMCMC: Catalog row 22181: m2lnL =     11.3118687022941, recalculated to     11.3118687022941, diff = 0.00000e+00, SUCCEEDED!\n",
      "# NcmFitESMCMC: Catalog row 22182: m2lnL =     15.6165399516553, recalculated to     15.6165399516553, diff = 0.00000e+00, SUCCEEDED!\n",
      "# NcmFitESMCMC: Catalog row 22183: m2lnL =     9.63137156032673, recalculated to     9.63137156032673, diff = 0.00000e+00, SUCCEEDED!\n",
      "# NcmFitESMCMC: Catalog row 22184: m2lnL =     12.8889779523016, recalculated to     12.8889779523016, diff = 0.00000e+00, SUCCEEDED!\n",
      "# NcmFitESMCMC: Catalog row 22185: m2lnL =     11.4362903613376, recalculated to     11.4362903613376, diff = 0.00000e+00, SUCCEEDED!\n",
      "# NcmFitESMCMC: Catalog row 22186: m2lnL =     9.66977413337503, recalculated to     9.66977413337503, diff = 0.00000e+00, SUCCEEDED!\n",
      "# NcmFitESMCMC: Catalog row 22187: m2lnL =     13.6690363986903, recalculated to     13.6690363986903, diff = 0.00000e+00, SUCCEEDED!\n",
      "# NcmFitESMCMC: Catalog row 22188: m2lnL =     11.6119664175523, recalculated to     11.6119664175523, diff = 0.00000e+00, SUCCEEDED!\n",
      "# NcmFitESMCMC: Catalog row 22189: m2lnL =     11.1011696621985, recalculated to     11.1011696621985, diff = 0.00000e+00, SUCCEEDED!\n",
      "# NcmFitESMCMC: Catalog row 22190: m2lnL =     16.3541797326189, recalculated to     16.3541797326189, diff = 0.00000e+00, SUCCEEDED!\n",
      "# NcmFitESMCMC: Catalog row 22191: m2lnL =     15.1478822911585, recalculated to     15.1478822911585, diff = 0.00000e+00, SUCCEEDED!\n",
      "# NcmFitESMCMC: Catalog row 22192: m2lnL =     12.8942524112214, recalculated to     12.8942524112214, diff = 0.00000e+00, SUCCEEDED!\n",
      "# NcmFitESMCMC: Catalog row 22193: m2lnL =     11.5701183677508, recalculated to     11.5701183677508, diff = 0.00000e+00, SUCCEEDED!\n",
      "# NcmFitESMCMC: Catalog row 22194: m2lnL =     10.2422446055866, recalculated to     10.2422446055866, diff = 0.00000e+00, SUCCEEDED!\n",
      "# NcmFitESMCMC: Catalog row 22195: m2lnL =     9.94833288484604, recalculated to     9.94833288484604, diff = 0.00000e+00, SUCCEEDED!\n",
      "# NcmFitESMCMC: Catalog row 22196: m2lnL =       9.472664653742, recalculated to       9.472664653742, diff = 0.00000e+00, SUCCEEDED!\n",
      "# NcmFitESMCMC: Catalog row 22197: m2lnL =     10.2494385881136, recalculated to     10.2494385881136, diff = 0.00000e+00, SUCCEEDED!\n",
      "# NcmFitESMCMC: Catalog row 22198: m2lnL =     9.54223922317177, recalculated to     9.54223922317177, diff = 0.00000e+00, SUCCEEDED!\n",
      "# NcmFitESMCMC: Catalog row 22199: m2lnL =     9.84329831452859, recalculated to     9.84329831452859, diff = 0.00000e+00, SUCCEEDED!\n",
      "#----------------------------------------------------------------------------------\n",
      "# NcmFitESMCMC: Largest relative error 1.000000e-03 attained: 8.656093e-04\n",
      "# NcmMSetCatalog: Current mean:   11.451       4.4977       15.084     \n",
      "# NcmMSetCatalog: Current msd:    0.014992     0.0038932    0.00027721 \n",
      "# NcmMSetCatalog: Current sd:     1.9841       0.80798      0.0344     \n",
      "# NcmMSetCatalog: Current var:    3.9366       0.65284      0.0011833  \n",
      "# NcmMSetCatalog: Current tau:    1.2675       0.51542      1.4417     \n"
     ]
    }
   ],
   "source": [
    "Ncm.func_eval_set_max_threads (0)\n",
    "Ncm.func_eval_log_pool_stats ()\n",
    "\n",
    "init_sampler = Ncm.MSetTransKernGauss.new (0)\n",
    "init_sampler.set_mset (mset3)\n",
    "init_sampler.set_prior_from_mset ()\n",
    "init_sampler.set_cov_from_rescale (1.0e-1)\n",
    "\n",
    "nwalkers = 100\n",
    "stretch = Ncm.FitESMCMCWalkerAPS.new (nwalkers, mset3.fparams_len ())\n",
    "\n",
    "esmcmc  = Ncm.FitESMCMC.new (fit3, nwalkers, init_sampler, stretch, Ncm.FitRunMsgs.SIMPLE)\n",
    "esmcmc.set_data_file (\"example2_fit3_wrong_esmcmc_out_aps.fits\")\n",
    "esmcmc.set_auto_trim (True)\n",
    "esmcmc.set_auto_trim_div (100)\n",
    "esmcmc.set_max_runs_time (2.0 * 60.0)\n",
    "\n",
    "esmcmc.start_run ()\n",
    "esmcmc.run_lre (20, 1.0e-3)\n",
    "esmcmc.end_run ()\n",
    "\n",
    "mcat_wrong = esmcmc.peek_catalog ()"
   ]
  },
  {
   "cell_type": "markdown",
   "metadata": {},
   "source": [
    "## Correct non- projected model\n",
    "\n",
    "Here, instead of build a object directly on top of NcmDataGauss* we use NumCosmo's framework to build non-binned likelihood for weak-lensing cluster analysis.\n",
    "\n",
    "For that we need two objects: a NcGalaxyWLReducedShearGauss that model a Gaussian distributed reduced shear likelihood, here the observables matrix is simply $(r, \\gamma_t, \\sigma_{\\gamma_t})$ for each galaxy. If the data has spectroscopic redshifts then we use NcGalaxyRedshiftSpec with an array of real redshifts. When photometric errors are included we use the NcGalaxyRedshiftGauss object that receives $(z, \\sigma_z)$ for each cluster. \n",
    "\n",
    "Once we have the data objects ready we can proceed as in the previous examples.\n"
   ]
  },
  {
   "cell_type": "code",
   "execution_count": 21,
   "metadata": {},
   "outputs": [
    {
     "name": "stdout",
     "output_type": "stream",
     "text": [
      "#----------------------------------------------------------------------------------\n",
      "# Model fitting. Interating using:\n",
      "#  - solver:            NLOpt:ln-neldermead\n",
      "#  - differentiation:   Numerical differentiantion (forward)\n",
      "#..............\n",
      "#  Minimum found with precision: |df|/f =  1.00000e-08 and |dx| =  1.00000e-05\n",
      "#  Elapsed time: 00 days, 00:00:00.1009290\n",
      "#  iteration            [000054]\n",
      "#  function evaluations [000056]\n",
      "#  gradient evaluations [000000]\n",
      "#  degrees of freedom   [009998]\n",
      "#  m2lnL     =   0.0391122167739742 (   0.039112217 )\n",
      "#  Fit parameters:\n",
      "#     3.99994676013512     15.1550234356027    \n",
      "#----------------------------------------------------------------------------------\n",
      "# NcmMSet parameters covariance matrix\n",
      "#                                                       -------------------------------\n",
      "#      cDelta[04000:00] =  4           +/-  0.0004435   |  1           | -0.6262      |\n",
      "# log10MDelta[04000:01] =  15.16       +/-  5.094e-05   | -0.6262      |  1           |\n",
      "#                                                       -------------------------------\n",
      "#----------------------------------------------------------------------------------\n",
      "# Model fitting. Interating using:\n",
      "#  - solver:            NLOpt:ln-neldermead\n",
      "#  - differentiation:   Numerical differentiantion (forward)\n",
      "#..............\n",
      "#  Minimum found with precision: |df|/f =  1.00000e-08 and |dx| =  1.00000e-05\n",
      "#  Elapsed time: 00 days, 00:00:00.1498470\n",
      "#  iteration            [000058]\n",
      "#  function evaluations [000060]\n",
      "#  gradient evaluations [000000]\n",
      "#  degrees of freedom   [009998]\n",
      "#  m2lnL     =    0.582073452205244 (    0.58207345 )\n",
      "#  Fit parameters:\n",
      "#     4.00006189601318     15.1550258931019    \n",
      "#----------------------------------------------------------------------------------\n",
      "# NcmMSet parameters covariance matrix\n",
      "#                                                       -------------------------------\n",
      "#      cDelta[04000:00] =  4           +/-  0.0002527   |  1           | -0.7567      |\n",
      "# log10MDelta[04000:01] =  15.16       +/-  4.364e-05   | -0.7567      |  1           |\n",
      "#                                                       -------------------------------\n",
      "#----------------------------------------------------------------------------------\n",
      "# Model fitting. Interating using:\n",
      "#  - solver:            NLOpt:ln-neldermead\n",
      "#  - differentiation:   Numerical differentiantion (forward)\n",
      "#.............\n",
      "#  Minimum found with precision: |df|/f =  1.00000e-08 and |dx| =  1.00000e-05\n",
      "#  Elapsed time: 00 days, 00:00:04.5444250\n",
      "#  iteration            [000047]\n",
      "#  function evaluations [000049]\n",
      "#  gradient evaluations [000000]\n",
      "#  degrees of freedom   [009998]\n",
      "#  m2lnL     =       10043.89038062 (      10043.89 )\n",
      "#  Fit parameters:\n",
      "#     4.1820385591626      15.1453818936237    \n",
      "#----------------------------------------------------------------------------------\n",
      "# NcmMSet parameters covariance matrix\n",
      "#                                                       -------------------------------\n",
      "#      cDelta[04000:00] =  4.182       +/-  0.2198      |  1           | -0.6438      |\n",
      "# log10MDelta[04000:01] =  15.15       +/-  0.02226     | -0.6438      |  1           |\n",
      "#                                                       -------------------------------\n",
      " 1.000023189733959e+15  1.000028848482328e+15  9.780668266545139e+14\n"
     ]
    }
   ],
   "source": [
    "def create_nc_data_cluster_wl (theta, g_t, z_source, z_cluster, cosmo, dist, sigma_z = None, sigma_g = None):\n",
    "    r  = clmm.convert_units (theta, \"radians\", \"Mpc\", redshift = z_cluster, cosmo = cosmo)\n",
    "    ga = Ncm.ObjArray.new ()\n",
    "    \n",
    "    sigma_g = 1.0e-4 if not sigma_g else sigma_g\n",
    "    m_obs = np.column_stack ((r, g_t, np.repeat (sigma_g, len (r))))\n",
    "    \n",
    "    grsg = Nc.GalaxyWLReducedShearGauss (pos = Nc.GalaxyWLReducedShearGaussPos.R)\n",
    "    grsg.set_obs (Ncm.Matrix.new_array (m_obs.flatten (), 3))\n",
    "    \n",
    "    if sigma_z:\n",
    "        gzgs = Nc.GalaxyRedshiftGauss ()\n",
    "        z_obs = np.column_stack ((z_source, (1.0 + z_source) * sigma_z))\n",
    "        gzgs.set_obs (Ncm.Matrix.new_array (z_obs.flatten (), 2))\n",
    "    else:\n",
    "        gzgs = Nc.GalaxyRedshiftSpec ()\n",
    "        gzgs.set_z (Ncm.Vector.new_array (z_source))\n",
    "\n",
    "    gwl  = Nc.GalaxyWL (wl_dist = grsg, gz_dist = gzgs)\n",
    "    ga.add (gwl)\n",
    "\n",
    "    nc_dcwl = Nc.DataClusterWL (galaxy_array = ga, z_cluster = z_cluster)\n",
    "    nc_dcwl.set_init (True)\n",
    "    \n",
    "    return nc_dcwl\n",
    "\n",
    "def create_fit_obj (data_array, mset):\n",
    "    dset = Ncm.Dataset.new ()\n",
    "    for data in data_array:\n",
    "        dset.append_data (data)\n",
    "    lh = Ncm.Likelihood.new (dset)\n",
    "    fit = Ncm.Fit.new (Ncm.FitType.NLOPT, \"ln-neldermead\", lh, mset, Ncm.FitGradType.NUMDIFF_FORWARD)\n",
    "    #fit.set_params_reltol (1.0e-8)\n",
    "    #fit.set_m2lnL_reltol (1.0e-11)\n",
    "    \n",
    "    return fit\n",
    "\n",
    "ggt1 = create_nc_data_cluster_wl (theta1, g_t1, cl1.galcat['z'], cluster_z, cosmo, moo1.dist, sigma_z = None, sigma_g = None)\n",
    "ggt2 = create_nc_data_cluster_wl (theta2, g_t2, cl2.galcat['z'], cluster_z, cosmo, moo1.dist, sigma_z = None, sigma_g = None)\n",
    "ggt3 = create_nc_data_cluster_wl (theta3, g_t3, cl3.galcat['z'], cluster_z, cosmo, moo1.dist, sigma_z = 0.05, sigma_g = 0.05)\n",
    "    \n",
    "fit1 = create_fit_obj ([ggt1], mset1)\n",
    "fit2 = create_fit_obj ([ggt2], mset2)\n",
    "fit3 = create_fit_obj ([ggt3], mset3)\n",
    "\n",
    "fit1.run (Ncm.FitRunMsgs.SIMPLE)\n",
    "fit1.obs_fisher ()\n",
    "fit1.log_covar ()\n",
    "\n",
    "fit2.run (Ncm.FitRunMsgs.SIMPLE)\n",
    "fit2.obs_fisher ()\n",
    "fit2.log_covar ()\n",
    "\n",
    "fit3.run (Ncm.FitRunMsgs.SIMPLE)\n",
    "fit3.obs_fisher ()\n",
    "fit3.log_covar ()\n",
    "\n",
    "mest1 = 10**mset1.param_get (MDelta_pi.mid, MDelta_pi.pid) * cosmo.h * moo1.cor_factor\n",
    "mest2 = 10**mset2.param_get (MDelta_pi.mid, MDelta_pi.pid) * cosmo.h * moo2.cor_factor\n",
    "mest3 = 10**mset3.param_get (MDelta_pi.mid, MDelta_pi.pid) * cosmo.h * moo3.cor_factor\n",
    "\n",
    "print (\"% 22.15e % 22.15e % 22.15e\" % (mest1, mest2, mest3))"
   ]
  },
  {
   "cell_type": "markdown",
   "metadata": {},
   "source": [
    "## Visualizing the results\n",
    "\n",
    "Note that below we no longer have biased results, all results are well within the error bars. Note also that the error bars are substantially smaller than in the binned case."
   ]
  },
  {
   "cell_type": "code",
   "execution_count": 22,
   "metadata": {},
   "outputs": [
    {
     "name": "stdout",
     "output_type": "stream",
     "text": [
      " 1.000023189733959e+15 +/- 1e+11  1.000028848482328e+15 +/- 1e+11  9.780668266545139e+14 +/- 5e+13\n"
     ]
    }
   ],
   "source": [
    "rr = np.logspace(-0.5, np.log10(5), 100)\n",
    "\n",
    "gt_model1 = moo1.eval_reduced_shear (rr*cosmo.h, cluster_z, np.mean(cl1.galcat['z']))\n",
    "gt_model2 = moo2.eval_reduced_shear (rr*cosmo.h, cluster_z, np.mean(cl2.galcat['z']))\n",
    "gt_model3 = moo3.eval_reduced_shear (rr*cosmo.h, cluster_z, np.mean(cl3.galcat['z']))\n",
    "\n",
    "m_est1 = 10**mset1.param_get (MDelta_pi.mid, MDelta_pi.pid) * cosmo.h * moo1.cor_factor\n",
    "m_est2 = 10**mset2.param_get (MDelta_pi.mid, MDelta_pi.pid) * cosmo.h * moo2.cor_factor\n",
    "m_est3 = 10**mset3.param_get (MDelta_pi.mid, MDelta_pi.pid) * cosmo.h * moo3.cor_factor\n",
    "\n",
    "m_est_err1 = fit1.covar_sd (MDelta_pi.mid, MDelta_pi.pid) * m_est1 * math.log (10.0)\n",
    "m_est_err2 = fit2.covar_sd (MDelta_pi.mid, MDelta_pi.pid) * m_est2 * math.log (10.0)\n",
    "m_est_err3 = fit3.covar_sd (MDelta_pi.mid, MDelta_pi.pid) * m_est3 * math.log (10.0)\n",
    "\n",
    "print (\"% 22.15e +/- %.0e % 22.15e +/- %.0e % 22.15e +/- %.0e\" % (m_est1, m_est_err1, m_est2, m_est_err2, m_est3, m_est_err3))"
   ]
  },
  {
   "cell_type": "markdown",
   "metadata": {},
   "source": [
    "### To investigate further the results we make a MCMC analysis below."
   ]
  },
  {
   "cell_type": "code",
   "execution_count": 23,
   "metadata": {},
   "outputs": [
    {
     "name": "stdout",
     "output_type": "stream",
     "text": [
      "# NcmThreadPool:Unused:      0\n",
      "# NcmThreadPool:Max Unused:  2\n",
      "# NcmThreadPool:Running:     0\n",
      "# NcmThreadPool:Unprocessed: 0\n",
      "# NcmThreadPool:Unused:      0\n",
      "#----------------------------------------------------------------------------------\n",
      "# NcmFitESMCMC: Starting Ensamble Sampler Markov Chain Monte Carlo.\n",
      "#   Number of walkers: 0100.\n",
      "#   Number of threads: 0000.\n",
      "#----------------------------------------------------------------------------------\n",
      "# NcmFitESMCMC: Skipping 10000 points (100.000000 iterations), will start at 10001-th point.\n",
      "#----------------------------------------------------------------------------------\n",
      "# NcmFitESMCMC: validating catalog rows [9900, 10000)\n",
      "# NcmFitESMCMC: Catalog row  9900: m2lnL =     10046.8699629456, recalculated to     10046.8699629456, diff = 1.81050e-16, SUCCEEDED!\n",
      "# NcmFitESMCMC: Catalog row  9901: m2lnL =     10044.0662570191, recalculated to     10044.0662570191, diff = 1.81101e-16, SUCCEEDED!\n",
      "# NcmFitESMCMC: Catalog row  9902: m2lnL =     10043.9459971026, recalculated to     10043.9459971026, diff = 9.05515e-16, SUCCEEDED!\n",
      "# NcmFitESMCMC: Catalog row  9903: m2lnL =     10046.5680548841, recalculated to      10046.568054884, diff = 1.81056e-15, SUCCEEDED!\n",
      "# NcmFitESMCMC: Catalog row  9904: m2lnL =     10045.1752396509, recalculated to     10045.1752396509, diff = 2.35405e-15, SUCCEEDED!\n",
      "# NcmFitESMCMC: Catalog row  9905: m2lnL =     10048.3631627284, recalculated to     10048.3631627284, diff = 1.62921e-15, SUCCEEDED!\n",
      "# NcmFitESMCMC: Catalog row  9906: m2lnL =     10044.8677441541, recalculated to     10044.8677441542, diff = 7.24346e-16, SUCCEEDED!\n",
      "# NcmFitESMCMC: Catalog row  9907: m2lnL =     10044.3033740068, recalculated to     10044.3033740069, diff = 1.08658e-15, SUCCEEDED!\n",
      "# NcmFitESMCMC: Catalog row  9908: m2lnL =     10047.8101508407, recalculated to     10047.8101508407, diff = 3.62067e-16, SUCCEEDED!\n",
      "# NcmFitESMCMC: Catalog row  9909: m2lnL =     10045.4189325263, recalculated to     10045.4189325263, diff = 1.99184e-15, SUCCEEDED!\n",
      "# NcmFitESMCMC: Catalog row  9910: m2lnL =     10044.4418696837, recalculated to     10044.4418696836, diff = 7.24376e-16, SUCCEEDED!\n",
      "# NcmFitESMCMC: Catalog row  9911: m2lnL =     10043.9626486751, recalculated to     10043.9626486751, diff = 3.62206e-16, SUCCEEDED!\n",
      "# NcmFitESMCMC: Catalog row  9912: m2lnL =     10043.9270761988, recalculated to     10043.9270761988, diff = 2.17324e-15, SUCCEEDED!\n",
      "# NcmFitESMCMC: Catalog row  9913: m2lnL =     10046.1836876012, recalculated to     10046.1836876012, diff = 5.43188e-16, SUCCEEDED!\n",
      "# NcmFitESMCMC: Catalog row  9914: m2lnL =     10044.2736810324, recalculated to     10044.2736810324, diff = 1.81097e-16, SUCCEEDED!\n",
      "# NcmFitESMCMC: Catalog row  9915: m2lnL =     10044.8754619213, recalculated to     10044.8754619213, diff = 3.62173e-16, SUCCEEDED!\n",
      "# NcmFitESMCMC: Catalog row  9916: m2lnL =     10046.8365214038, recalculated to     10046.8365214038, diff = 2.89682e-15, SUCCEEDED!\n",
      "# NcmFitESMCMC: Catalog row  9917: m2lnL =     10046.3309963727, recalculated to     10046.3309963727, diff = 2.89696e-15, SUCCEEDED!\n",
      "# NcmFitESMCMC: Catalog row  9918: m2lnL =     10047.1630023372, recalculated to     10047.1630023372, diff = 3.62090e-16, SUCCEEDED!\n",
      "# NcmFitESMCMC: Catalog row  9919: m2lnL =     10049.0316653356, recalculated to     10049.0316653356, diff = 2.89618e-15, SUCCEEDED!\n",
      "# NcmFitESMCMC: Catalog row  9920: m2lnL =     10052.6219006062, recalculated to     10052.6219006062, diff = 1.44757e-15, SUCCEEDED!\n",
      "# NcmFitESMCMC: Catalog row  9921: m2lnL =     10046.2113864893, recalculated to     10046.2113864893, diff = 2.17275e-15, SUCCEEDED!\n",
      "# NcmFitESMCMC: Catalog row  9922: m2lnL =     10046.8732014707, recalculated to     10046.8732014707, diff = 3.62101e-16, SUCCEEDED!\n",
      "# NcmFitESMCMC: Catalog row  9923: m2lnL =     10044.3446484601, recalculated to     10044.3446484601, diff = 3.44082e-15, SUCCEEDED!\n",
      "# NcmFitESMCMC: Catalog row  9924: m2lnL =     10045.1517258795, recalculated to     10045.1517258795, diff = 1.44865e-15, SUCCEEDED!\n",
      "# NcmFitESMCMC: Catalog row  9925: m2lnL =     10046.2869579582, recalculated to     10046.2869579582, diff = 7.24243e-16, SUCCEEDED!\n",
      "# NcmFitESMCMC: Catalog row  9926: m2lnL =     10045.8158388751, recalculated to     10045.8158388751, diff = 7.24277e-16, SUCCEEDED!\n",
      "# NcmFitESMCMC: Catalog row  9927: m2lnL =     10049.2810214437, recalculated to     10049.2810214437, diff = 1.81007e-15, SUCCEEDED!\n",
      "# NcmFitESMCMC: Catalog row  9928: m2lnL =     10051.8016014146, recalculated to     10051.8016014146, diff = 2.35250e-15, SUCCEEDED!\n",
      "# NcmFitESMCMC: Catalog row  9929: m2lnL =     10045.8704890321, recalculated to     10045.8704890321, diff = 9.05342e-16, SUCCEEDED!\n",
      "# NcmFitESMCMC: Catalog row  9930: m2lnL =     10048.0656648555, recalculated to     10048.0656648555, diff = 5.43086e-16, SUCCEEDED!\n",
      "# NcmFitESMCMC: Catalog row  9931: m2lnL =     10045.5265842487, recalculated to     10045.5265842486, diff = 1.99182e-15, SUCCEEDED!\n",
      "# NcmFitESMCMC: Catalog row  9932: m2lnL =     10044.7022424413, recalculated to     10044.7022424413, diff = 3.62179e-16, SUCCEEDED!\n",
      "# NcmFitESMCMC: Catalog row  9933: m2lnL =     10046.1938193606, recalculated to     10046.1938193606, diff = 5.06975e-15, SUCCEEDED!\n",
      "# NcmFitESMCMC: Catalog row  9934: m2lnL =     10045.1513052609, recalculated to     10045.1513052609, diff = 9.05407e-16, SUCCEEDED!\n",
      "# NcmFitESMCMC: Catalog row  9935: m2lnL =     10045.9162722834, recalculated to     10045.9162722834, diff = 7.24270e-16, SUCCEEDED!\n",
      "# NcmFitESMCMC: Catalog row  9936: m2lnL =     10047.6904777045, recalculated to     10047.6904777045, diff = 1.81036e-15, SUCCEEDED!\n",
      "# NcmFitESMCMC: Catalog row  9937: m2lnL =     10044.9512335135, recalculated to     10044.9512335134, diff = 3.07844e-15, SUCCEEDED!\n",
      "# NcmFitESMCMC: Catalog row  9938: m2lnL =     10043.9455960973, recalculated to     10043.9455960973, diff = 0.00000e+00, SUCCEEDED!\n",
      "# NcmFitESMCMC: Catalog row  9939: m2lnL =     10046.6829726648, recalculated to     10046.6829726648, diff = 9.05269e-16, SUCCEEDED!\n",
      "# NcmFitESMCMC: Catalog row  9940: m2lnL =      10046.011915632, recalculated to      10046.011915632, diff = 5.43197e-16, SUCCEEDED!\n",
      "# NcmFitESMCMC: Catalog row  9941: m2lnL =     10044.5432260667, recalculated to     10044.5432260667, diff = 1.99202e-15, SUCCEEDED!\n",
      "# NcmFitESMCMC: Catalog row  9942: m2lnL =     10044.7312432555, recalculated to     10044.7312432555, diff = 1.26762e-15, SUCCEEDED!\n",
      "# NcmFitESMCMC: Catalog row  9943: m2lnL =     10044.0731774473, recalculated to     10044.0731774473, diff = 3.98422e-15, SUCCEEDED!\n",
      "# NcmFitESMCMC: Catalog row  9944: m2lnL =     10046.4583236114, recalculated to     10046.4583236114, diff = 7.24231e-16, SUCCEEDED!\n",
      "# NcmFitESMCMC: Catalog row  9945: m2lnL =     10044.5317560975, recalculated to     10044.5317560975, diff = 5.43278e-16, SUCCEEDED!\n",
      "# NcmFitESMCMC: Catalog row  9946: m2lnL =     10044.2852723789, recalculated to     10044.2852723789, diff = 5.43291e-16, SUCCEEDED!\n",
      "# NcmFitESMCMC: Catalog row  9947: m2lnL =     10047.0162190813, recalculated to     10047.0162190813, diff = 1.99152e-15, SUCCEEDED!\n",
      "# NcmFitESMCMC: Catalog row  9948: m2lnL =     10044.5731305346, recalculated to     10044.5731305346, diff = 2.17310e-15, SUCCEEDED!\n",
      "# NcmFitESMCMC: Catalog row  9949: m2lnL =      10045.046726062, recalculated to      10045.046726062, diff = 3.62166e-16, SUCCEEDED!\n",
      "# NcmFitESMCMC: Catalog row  9950: m2lnL =     10052.3986776165, recalculated to     10052.3986776165, diff = 3.25711e-15, SUCCEEDED!\n",
      "# NcmFitESMCMC: Catalog row  9951: m2lnL =      10044.680224127, recalculated to      10044.680224127, diff = 3.44071e-15, SUCCEEDED!\n",
      "# NcmFitESMCMC: Catalog row  9952: m2lnL =     10046.0059890836, recalculated to     10046.0059890836, diff = 1.81066e-16, SUCCEEDED!\n",
      "# NcmFitESMCMC: Catalog row  9953: m2lnL =     10047.8681655415, recalculated to     10047.8681655415, diff = 2.17239e-15, SUCCEEDED!\n",
      "# NcmFitESMCMC: Catalog row  9954: m2lnL =     10044.4460180888, recalculated to     10044.4460180889, diff = 1.62985e-15, SUCCEEDED!\n",
      "# NcmFitESMCMC: Catalog row  9955: m2lnL =     10045.1525742158, recalculated to     10045.1525742158, diff = 9.05407e-16, SUCCEEDED!\n",
      "# NcmFitESMCMC: Catalog row  9956: m2lnL =     10045.0936790809, recalculated to     10045.0936790809, diff = 0.00000e+00, SUCCEEDED!\n",
      "# NcmFitESMCMC: Catalog row  9957: m2lnL =     10044.0836913054, recalculated to     10044.0836913054, diff = 1.81101e-15, SUCCEEDED!\n"
     ]
    },
    {
     "name": "stdout",
     "output_type": "stream",
     "text": [
      "# NcmFitESMCMC: Catalog row  9958: m2lnL =     10044.7637498424, recalculated to     10044.7637498424, diff = 1.08653e-15, SUCCEEDED!\n",
      "# NcmFitESMCMC: Catalog row  9959: m2lnL =     10044.0418427613, recalculated to     10044.0418427613, diff = 9.05507e-16, SUCCEEDED!\n",
      "# NcmFitESMCMC: Catalog row  9960: m2lnL =     10045.2476745051, recalculated to      10045.247674505, diff = 2.17296e-15, SUCCEEDED!\n",
      "# NcmFitESMCMC: Catalog row  9961: m2lnL =     10045.9424243181, recalculated to     10045.9424243181, diff = 7.24268e-16, SUCCEEDED!\n",
      "# NcmFitESMCMC: Catalog row  9962: m2lnL =     10044.0985336185, recalculated to     10044.0985336185, diff = 1.99210e-15, SUCCEEDED!\n",
      "# NcmFitESMCMC: Catalog row  9963: m2lnL =     10045.6473457679, recalculated to     10045.6473457679, diff = 2.17287e-15, SUCCEEDED!\n",
      "# NcmFitESMCMC: Catalog row  9964: m2lnL =     10045.7096482035, recalculated to     10045.7096482035, diff = 1.62964e-15, SUCCEEDED!\n",
      "# NcmFitESMCMC: Catalog row  9965: m2lnL =     10046.8097572212, recalculated to     10046.8097572212, diff = 3.62103e-16, SUCCEEDED!\n",
      "# NcmFitESMCMC: Catalog row  9966: m2lnL =     10043.8931112003, recalculated to     10043.8931112003, diff = 1.99214e-15, SUCCEEDED!\n",
      "# NcmFitESMCMC: Catalog row  9967: m2lnL =     10045.8675016937, recalculated to     10045.8675016937, diff = 9.05342e-16, SUCCEEDED!\n",
      "# NcmFitESMCMC: Catalog row  9968: m2lnL =     10045.2461223773, recalculated to     10045.2461223773, diff = 1.26756e-15, SUCCEEDED!\n",
      "# NcmFitESMCMC: Catalog row  9969: m2lnL =     10043.9466161061, recalculated to     10043.9466161061, diff = 9.05515e-16, SUCCEEDED!\n",
      "# NcmFitESMCMC: Catalog row  9970: m2lnL =     10045.7709715644, recalculated to     10045.7709715644, diff = 7.24281e-16, SUCCEEDED!\n",
      "# NcmFitESMCMC: Catalog row  9971: m2lnL =     10046.2964467003, recalculated to     10046.2964467004, diff = 1.62955e-15, SUCCEEDED!\n",
      "# NcmFitESMCMC: Catalog row  9972: m2lnL =     10045.4157982466, recalculated to     10045.4157982466, diff = 5.43230e-16, SUCCEEDED!\n",
      "# NcmFitESMCMC: Catalog row  9973: m2lnL =     10046.6874681566, recalculated to     10046.6874681566, diff = 0.00000e+00, SUCCEEDED!\n",
      "# NcmFitESMCMC: Catalog row  9974: m2lnL =     10052.6316279523, recalculated to     10052.6316279523, diff = 7.23786e-16, SUCCEEDED!\n",
      "# NcmFitESMCMC: Catalog row  9975: m2lnL =     10044.3460479633, recalculated to     10044.3460479633, diff = 9.05479e-16, SUCCEEDED!\n",
      "# NcmFitESMCMC: Catalog row  9976: m2lnL =     10044.1441399049, recalculated to     10044.1441399049, diff = 7.24398e-16, SUCCEEDED!\n",
      "# NcmFitESMCMC: Catalog row  9977: m2lnL =     10044.6230868767, recalculated to     10044.6230868766, diff = 2.35418e-15, SUCCEEDED!\n",
      "# NcmFitESMCMC: Catalog row  9978: m2lnL =     10045.0788355414, recalculated to     10045.0788355414, diff = 0.00000e+00, SUCCEEDED!\n",
      "# NcmFitESMCMC: Catalog row  9979: m2lnL =     10044.4149360243, recalculated to     10044.4149360244, diff = 1.62985e-15, SUCCEEDED!\n",
      "# NcmFitESMCMC: Catalog row  9980: m2lnL =     10043.9941883707, recalculated to     10043.9941883707, diff = 5.43307e-16, SUCCEEDED!\n",
      "# NcmFitESMCMC: Catalog row  9981: m2lnL =     10045.2331109031, recalculated to     10045.2331109031, diff = 1.81080e-16, SUCCEEDED!\n",
      "# NcmFitESMCMC: Catalog row  9982: m2lnL =     10044.8554098492, recalculated to     10044.8554098492, diff = 3.62173e-16, SUCCEEDED!\n",
      "# NcmFitESMCMC: Catalog row  9983: m2lnL =     10047.8607835377, recalculated to     10047.8607835377, diff = 2.35342e-15, SUCCEEDED!\n",
      "# NcmFitESMCMC: Catalog row  9984: m2lnL =     10049.2049420755, recalculated to     10049.2049420755, diff = 3.62017e-16, SUCCEEDED!\n",
      "# NcmFitESMCMC: Catalog row  9985: m2lnL =     10044.5437827568, recalculated to     10044.5437827569, diff = 3.80294e-15, SUCCEEDED!\n",
      "# NcmFitESMCMC: Catalog row  9986: m2lnL =      10050.506003084, recalculated to      10050.506003084, diff = 1.99083e-15, SUCCEEDED!\n",
      "# NcmFitESMCMC: Catalog row  9987: m2lnL =      10047.336919536, recalculated to     10047.3369195359, diff = 2.71563e-15, SUCCEEDED!\n",
      "# NcmFitESMCMC: Catalog row  9988: m2lnL =     10044.9709168267, recalculated to     10044.9709168267, diff = 1.81085e-16, SUCCEEDED!\n",
      "# NcmFitESMCMC: Catalog row  9989: m2lnL =     10052.0670447667, recalculated to     10052.0670447667, diff = 9.04784e-16, SUCCEEDED!\n",
      "# NcmFitESMCMC: Catalog row  9990: m2lnL =      10043.977757138, recalculated to      10043.977757138, diff = 2.53543e-15, SUCCEEDED!\n",
      "# NcmFitESMCMC: Catalog row  9991: m2lnL =     10043.9281620238, recalculated to     10043.9281620238, diff = 1.26772e-15, SUCCEEDED!\n",
      "# NcmFitESMCMC: Catalog row  9992: m2lnL =     10048.2629751483, recalculated to     10048.2629751483, diff = 1.81025e-16, SUCCEEDED!\n",
      "# NcmFitESMCMC: Catalog row  9993: m2lnL =     10045.3895483002, recalculated to     10045.3895483002, diff = 5.43231e-16, SUCCEEDED!\n",
      "# NcmFitESMCMC: Catalog row  9994: m2lnL =     10044.6595893091, recalculated to     10044.6595893091, diff = 9.05451e-16, SUCCEEDED!\n",
      "# NcmFitESMCMC: Catalog row  9995: m2lnL =     10047.4180425706, recalculated to     10047.4180425706, diff = 1.44832e-15, SUCCEEDED!\n",
      "# NcmFitESMCMC: Catalog row  9996: m2lnL =     10048.5222612782, recalculated to     10048.5222612782, diff = 5.43062e-16, SUCCEEDED!\n",
      "# NcmFitESMCMC: Catalog row  9997: m2lnL =     10044.9351945782, recalculated to     10044.9351945782, diff = 1.81085e-16, SUCCEEDED!\n",
      "# NcmFitESMCMC: Catalog row  9998: m2lnL =     10043.8968241507, recalculated to     10043.8968241507, diff = 7.24416e-16, SUCCEEDED!\n",
      "# NcmFitESMCMC: Catalog row  9999: m2lnL =     10044.9892144334, recalculated to     10044.9892144334, diff = 2.35410e-15, SUCCEEDED!\n",
      "#----------------------------------------------------------------------------------\n",
      "# NcmFitESMCMC: Largest relative error 1.000000e-03 attained: 5.166160e-04\n",
      "# NcmMSetCatalog: Current mean:   10046        4.189        15.144     \n",
      "# NcmMSetCatalog: Current msd:    0.031298     0.0021641    0.00019288 \n",
      "# NcmMSetCatalog: Current sd:     2.6171       0.21641      0.022917   \n",
      "# NcmMSetCatalog: Current var:    6.8491       0.046833     0.0005252  \n",
      "# NcmMSetCatalog: Current tau:    1.4302       1            0.70832    \n"
     ]
    }
   ],
   "source": [
    "Ncm.func_eval_set_max_threads (0)\n",
    "Ncm.func_eval_log_pool_stats ()\n",
    "\n",
    "init_sampler = Ncm.MSetTransKernGauss.new (0)\n",
    "init_sampler.set_mset (mset3)\n",
    "init_sampler.set_prior_from_mset ()\n",
    "init_sampler.set_cov_from_rescale (1.0e-1)\n",
    "\n",
    "nwalkers = 100\n",
    "stretch = Ncm.FitESMCMCWalkerAPS.new (nwalkers, mset3.fparams_len ())\n",
    "\n",
    "esmcmc  = Ncm.FitESMCMC.new (fit3, nwalkers, init_sampler, stretch, Ncm.FitRunMsgs.SIMPLE)\n",
    "esmcmc.set_data_file (\"example2_fit3_esmcmc_out_aps.fits\")\n",
    "esmcmc.set_auto_trim (True)\n",
    "esmcmc.set_auto_trim_div (100)\n",
    "esmcmc.set_max_runs_time (2.0 * 60.0)\n",
    "\n",
    "esmcmc.start_run ()\n",
    "esmcmc.run_lre (20, 1.0e-3)\n",
    "esmcmc.end_run ()\n"
   ]
  },
  {
   "cell_type": "markdown",
   "metadata": {},
   "source": [
    "### Below we plot both MCMC results\n",
    "\n",
    "The wrong analysis has a strong bias in $\\log_{10}(M_\\Delta)$ (the peak of the wrong model is more than $3\\sigma$ away from the correct model best-fit) and much larger variance."
   ]
  },
  {
   "cell_type": "code",
   "execution_count": 24,
   "metadata": {},
   "outputs": [
    {
     "data": {
      "image/png": "[encoded data removed]",
      "text/plain": [
       "<Figure size 864x432 with 4 Axes>"
      ]
     },
     "metadata": {
      "needs_background": "light"
     },
     "output_type": "display_data"
    }
   ],
   "source": [
    "\n",
    "s1d1 = chi2.cdf (1.0, df = 1)\n",
    "s1d2 = chi2.cdf (4.0, df = 1)\n",
    "s2d1 = chi2.cdf (1.0, df = 2)\n",
    "s2d2 = chi2.cdf (4.0, df = 2)\n",
    "s2d3 = chi2.cdf (9.0, df = 2)\n",
    "qts = [0.5 - s1d2 / 2.0, 0.5 - s1d1 / 2.0, 0.5, 0.5 + s1d1 / 2.0, 0.5 + s1d2 / 2.0]\n",
    "\n",
    "mcat = esmcmc.peek_catalog ()\n",
    "rows = np.array ([mcat.peek_row (i).dup_array () for i in range (nwalkers * 10, mcat.len ())])\n",
    "params = [\"$\" + mcat.col_symb (i) + \"$\" for i in range (mcat.ncols ())]\n",
    "figure = corner.corner (rows[:,1:], labels = params[1:], reverse = False,\n",
    "                        quantiles=qts, levels = (s2d1, s2d2, s2d3), \n",
    "                        bins = 40, smooth = 0.8, smooth1d = 0.8, color = (0.5, 0.2, 0.5, 1.0))\n",
    "\n",
    "rows = np.array ([mcat_wrong.peek_row (i).dup_array () for i in range (nwalkers * 10, mcat_wrong.len ())])\n",
    "params = [\"$\" + mcat_wrong.col_symb (i) + \"$\" for i in range (mcat_wrong.ncols ())]\n",
    "figure = corner.corner (rows[:,1:], labels = params[1:], reverse = False,\n",
    "                        levels = (s2d1, s2d2, s2d3), color = (0.1, 0.2, 0.5, 0.5),\n",
    "                        bins = 40, smooth = 0.8, smooth1d = 0.8, fig = figure)\n",
    "\n",
    "\n",
    "figure.set_size_inches(12, 6)"
   ]
  },
  {
   "cell_type": "code",
   "execution_count": 25,
   "metadata": {},
   "outputs": [],
   "source": [
    "ser = Ncm.Serialize.new (0)\n",
    "data = fit3.lh.dset.get_data (0)\n",
    "ser.to_file (data, \"example2_fit3_data.obj\")"
   ]
  },
  {
   "cell_type": "code",
   "execution_count": null,
   "metadata": {},
   "outputs": [],
   "source": []
  }
 ],
 "metadata": {
  "kernelspec": {
   "display_name": "Python 3",
   "language": "python",
   "name": "python3"
  },
  "language_info": {
   "codemirror_mode": {
    "name": "ipython",
    "version": 3
   },
   "file_extension": ".py",
   "mimetype": "text/x-python",
   "name": "python",
   "nbconvert_exporter": "python",
   "pygments_lexer": "ipython3",
   "version": "3.8.5"
  }
 },
 "nbformat": 4,
 "nbformat_minor": 4
}
