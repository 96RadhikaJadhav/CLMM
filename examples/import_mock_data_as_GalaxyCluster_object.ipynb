{
 "cells": [
  {
   "cell_type": "markdown",
   "metadata": {},
   "source": [
    "## This notebook is a tutorial to demonstrate how to make a mock galaxy catalog and load it into a GalaxyCluster object"
   ]
  },
  {
   "cell_type": "code",
   "execution_count": null,
   "metadata": {},
   "outputs": [],
   "source": [
    "import numpy as np\n",
    "import clmm\n",
    "import sys\n",
    "sys.path.append('./support')\n",
    "import mock_data as mock"
   ]
  },
  {
   "cell_type": "markdown",
   "metadata": {},
   "source": [
    "#### Define the cosmology object, either using pyccl or astropy - comment/uncomment as appropriate"
   ]
  },
  {
   "cell_type": "code",
   "execution_count": null,
   "metadata": {},
   "outputs": [],
   "source": [
    "# Using a dictionary\n",
    "Omega_M = 0.27\n",
    "Omega_b = 0.045\n",
    "H0 = 70.\n",
    "cosmo = {'Omega_c': Omega_M-Omega_b,\n",
    "         'Omega_b': Omega_b,\n",
    "         'H0': H0}\n",
    "\n",
    "# Define a Atropy-like cosmology object from astropy cosmology\n",
    "#from astropy.cosmology import FlatLambdaCDM\n",
    "#astropy_cosmology_object = FlatLambdaCDM(H0=70, Om0=0.27, Ob0=0.045)\n",
    "#cosmo = clmm.cclify_astropy_cosmo(astropy_cosmology_object)\n",
    "\n",
    "# Define a CCL-like cosmology object from pyccl\n",
    "# import pyccl as ccl\n",
    "# cosmo = ccl.Cosmology(Omega_c=0.27, Omega_b=0.045, h=0.67, A_s=2.1e-9, n_s=0.96)"
   ]
  },
  {
   "cell_type": "markdown",
   "metadata": {},
   "source": [
    "#### Preparing config for mock data generation\n",
    "\n",
    "Mock data will include shape noise, galaxies from redshift distribution and a pdz for each galaxies"
   ]
  },
  {
   "cell_type": "code",
   "execution_count": null,
   "metadata": {},
   "outputs": [],
   "source": [
    "config = {\n",
    "    'cluster_id': 'mock cluster',\n",
    "    'cluster_m': 1.e15,\n",
    "    'cluster_z': 0.3,\n",
    "    'src_z': 0.8,\n",
    "    'concentration': 4,\n",
    "    'cosmo': cosmo,\n",
    "    'ngals': 10000,\n",
    "    'Delta': 200\n",
    "}\n",
    "\n",
    "allsystematics = mock.generate_galaxy_catalog(config['cluster_m'], config['cluster_z'], config['concentration'],\n",
    "                                              config['cosmo'], config['ngals'], config['Delta'], 'chang13',\n",
    "                                              shapenoise=0.005, photoz_sigma_unscaled=0.05)"
   ]
  },
  {
   "cell_type": "code",
   "execution_count": null,
   "metadata": {},
   "outputs": [],
   "source": [
    "allsystematics[0:3]"
   ]
  },
  {
   "cell_type": "markdown",
   "metadata": {},
   "source": [
    "#### Loading this into a CLMM cluster object"
   ]
  },
  {
   "cell_type": "code",
   "execution_count": null,
   "metadata": {},
   "outputs": [],
   "source": [
    "# At the moment mock data only allow for a cluster centred on (0,0)\n",
    "cluster_ra = 0.0\n",
    "cluster_dec = 0.0\n",
    "gc_object = clmm.GalaxyCluster(config['cluster_id'], cluster_ra, cluster_dec, \n",
    "                             config['cluster_z'], allsystematics)"
   ]
  },
  {
   "cell_type": "markdown",
   "metadata": {},
   "source": [
    "#### Plot the source galaxy ellipicities"
   ]
  },
  {
   "cell_type": "code",
   "execution_count": null,
   "metadata": {},
   "outputs": [],
   "source": [
    "import matplotlib.pyplot as plt\n",
    "%matplotlib inline\n",
    "\n",
    "plt.scatter(gc_object.galcat['e1'],gc_object.galcat['e2'])\n",
    "\n",
    "plt.xlim(-0.2, 0.2)\n",
    "plt.ylim(-0.2, 0.2)\n",
    "plt.xlabel('Ellipticity 1');\n",
    "plt.ylabel('Ellipticity 2');"
   ]
  },
  {
   "cell_type": "code",
   "execution_count": null,
   "metadata": {},
   "outputs": [],
   "source": []
  }
 ],
 "metadata": {
  "kernelspec": {
   "display_name": "Python 3",
   "language": "python",
   "name": "python3"
  },
  "language_info": {
   "codemirror_mode": {
    "name": "ipython",
    "version": 3
   },
   "file_extension": ".py",
   "mimetype": "text/x-python",
   "name": "python",
   "nbconvert_exporter": "python",
   "pygments_lexer": "ipython3",
   "version": "3.7.3"
  }
 },
 "nbformat": 4,
 "nbformat_minor": 2
}
