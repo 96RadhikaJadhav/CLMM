{
 "cells": [
  {
   "cell_type": "code",
   "execution_count": 1,
   "metadata": {
    "collapsed": true
   },
   "outputs": [],
   "source": [
    "import numpy as np\n",
    "import matplotlib.pyplot as plt\n",
    "%matplotlib inline\n",
    "import sys\n",
    "sys.path.append('./support')\n",
    "sys.path.append('../clmm')\n",
    "import modeling as pp\n",
    "import mock_data as mock\n",
    "import galaxycluster as gc"
   ]
  },
  {
   "cell_type": "markdown",
   "metadata": {},
   "source": [
    "#### Define the cosmology object, either using pyccl or astropy - comment/uncomment as appropriate"
   ]
  },
  {
   "cell_type": "code",
   "execution_count": 2,
   "metadata": {
    "collapsed": true
   },
   "outputs": [],
   "source": [
    "## Define a CCL-like cosmology object from pyccl\n",
    "import pyccl as ccl\n",
    "cosmo = ccl.Cosmology(Omega_c=0.27, Omega_b=0.045, h=0.67, A_s=2.1e-9, n_s=0.96)\n",
    "\n",
    "\n",
    "# Define a Atropy-like cosmology object from astropy cosmology\n",
    "# from astropy.cosmology import FlatLambdaCDM\n",
    "# astropy_cosmology_object = FlatLambdaCDM(H0=70, Om0=0.27, Ob0=0.045)\n",
    "# cosmo = pp.cclify_astropy_cosmo(astropy_cosmology_object)"
   ]
  },
  {
   "cell_type": "code",
   "execution_count": 3,
   "metadata": {},
   "outputs": [],
   "source": [
    "config={}\n",
    "config['cluster_id'] = 'mock cluster'\n",
    "config['cluster_m'] = 1.e15\n",
    "config['cluster_z'] = 0.3\n",
    "config['src_z'] = 0.8\n",
    "config['concentration'] = 4\n",
    "config['ngals'] = 10000\n",
    "config['Delta'] = 200\n",
    "config['cosmo'] = cosmo\n",
    "\n",
    "noisy_data_z = mock.MockData(config=config)\n",
    "noisy_data_z.generate(is_shapenoise=True, is_zdistribution=True, is_zerr=True)"
   ]
  },
  {
   "cell_type": "code",
   "execution_count": 4,
   "metadata": {},
   "outputs": [
    {
     "data": {
      "text/html": [
       "&lt;Table length=3&gt;\n",
       "<table id=\"table4376663768\" class=\"table-striped table-bordered table-condensed\">\n",
       "<thead><tr><th>id</th><th>ra</th><th>dec</th><th>e1</th><th>e2</th><th>z</th><th>z_pdf [34]</th><th>z_bins [34]</th></tr></thead>\n",
       "<thead><tr><th>int64</th><th>float64</th><th>float64</th><th>float64</th><th>float64</th><th>float64</th><th>float64</th><th>float64</th></tr></thead>\n",
       "<tr><td>0</td><td>-2.980016930042793e-07</td><td>-3.4297586692324993e-07</td><td>0.00035134894569590827</td><td>0.00249140839626743</td><td>1.3698029039759627</td><td>0.00045774368791696757 .. 0.0006512383104244175</td><td>0.8698029039759627 .. 1.8598029039759636</td></tr>\n",
       "<tr><td>1</td><td>-9.18275891362576e-08</td><td>-4.538916702084149e-09</td><td>-0.012995722026910973</td><td>0.001287869338230202</td><td>0.45860142066426124</td><td>3.399417126445228e-10 .. 8.621558459665915e-10</td><td>-0.04139857933573876 .. 0.9486014206642612</td></tr>\n",
       "<tr><td>2</td><td>-1.1673175942813359e-07</td><td>2.891845792306444e-07</td><td>-0.002171191152664645</td><td>0.0020940419884772957</td><td>1.0912783992343036</td><td>4.13426530402511e-05 .. 6.50155866239803e-05</td><td>0.5912783992343036 .. 1.5812783992343045</td></tr>\n",
       "</table>"
      ],
      "text/plain": [
       "<Table length=3>\n",
       "  id             ra           ...                z_bins [34]                \n",
       "int64         float64         ...                  float64                  \n",
       "----- ----------------------- ... ------------------------------------------\n",
       "    0  -2.980016930042793e-07 ...   0.8698029039759627 .. 1.8598029039759636\n",
       "    1   -9.18275891362576e-08 ... -0.04139857933573876 .. 0.9486014206642612\n",
       "    2 -1.1673175942813359e-07 ...   0.5912783992343036 .. 1.5812783992343045"
      ]
     },
     "execution_count": 4,
     "metadata": {},
     "output_type": "execute_result"
    }
   ],
   "source": [
    "noisy_data_z.catalog[0:3]"
   ]
  },
  {
   "cell_type": "code",
   "execution_count": 5,
   "metadata": {
    "collapsed": true
   },
   "outputs": [],
   "source": [
    "# At the moment mock data only allow for a cluster centred on (0,0)\n",
    "cluster_ra = 0.0\n",
    "cluster_dec = 0.0\n",
    "gc_object = gc.GalaxyCluster(config['cluster_id'], cluster_ra, cluster_dec, \n",
    "                             config['cluster_z'], noisy_data_z.catalog)"
   ]
  },
  {
   "cell_type": "code",
   "execution_count": 7,
   "metadata": {},
   "outputs": [
    {
     "data": {
      "text/html": [
       "&lt;Table length=3&gt;\n",
       "<table id=\"table4449313232\" class=\"table-striped table-bordered table-condensed\">\n",
       "<thead><tr><th>id</th><th>ra</th><th>dec</th><th>e1</th><th>e2</th><th>z</th><th>z_pdf [34]</th><th>z_bins [34]</th></tr></thead>\n",
       "<thead><tr><th>int64</th><th>float64</th><th>float64</th><th>float64</th><th>float64</th><th>float64</th><th>float64</th><th>float64</th></tr></thead>\n",
       "<tr><td>0</td><td>-2.980016930042793e-07</td><td>-3.4297586692324993e-07</td><td>0.00035134894569590827</td><td>0.00249140839626743</td><td>1.3698029039759627</td><td>0.00045774368791696757 .. 0.0006512383104244175</td><td>0.8698029039759627 .. 1.8598029039759636</td></tr>\n",
       "<tr><td>1</td><td>-9.18275891362576e-08</td><td>-4.538916702084149e-09</td><td>-0.012995722026910973</td><td>0.001287869338230202</td><td>0.45860142066426124</td><td>3.399417126445228e-10 .. 8.621558459665915e-10</td><td>-0.04139857933573876 .. 0.9486014206642612</td></tr>\n",
       "<tr><td>2</td><td>-1.1673175942813359e-07</td><td>2.891845792306444e-07</td><td>-0.002171191152664645</td><td>0.0020940419884772957</td><td>1.0912783992343036</td><td>4.13426530402511e-05 .. 6.50155866239803e-05</td><td>0.5912783992343036 .. 1.5812783992343045</td></tr>\n",
       "</table>"
      ],
      "text/plain": [
       "<Table length=3>\n",
       "  id             ra           ...                z_bins [34]                \n",
       "int64         float64         ...                  float64                  \n",
       "----- ----------------------- ... ------------------------------------------\n",
       "    0  -2.980016930042793e-07 ...   0.8698029039759627 .. 1.8598029039759636\n",
       "    1   -9.18275891362576e-08 ... -0.04139857933573876 .. 0.9486014206642612\n",
       "    2 -1.1673175942813359e-07 ...   0.5912783992343036 .. 1.5812783992343045"
      ]
     },
     "execution_count": 7,
     "metadata": {},
     "output_type": "execute_result"
    }
   ],
   "source": [
    "gc_object.galcat[0:3]"
   ]
  },
  {
   "cell_type": "code",
   "execution_count": null,
   "metadata": {
    "collapsed": true
   },
   "outputs": [],
   "source": []
  }
 ],
 "metadata": {
  "kernelspec": {
   "display_name": "Python 3",
   "language": "python",
   "name": "python3"
  },
  "language_info": {
   "codemirror_mode": {
    "name": "ipython",
    "version": 3
   },
   "file_extension": ".py",
   "mimetype": "text/x-python",
   "name": "python",
   "nbconvert_exporter": "python",
   "pygments_lexer": "ipython3",
   "version": "3.6.3"
  }
 },
 "nbformat": 4,
 "nbformat_minor": 2
}
