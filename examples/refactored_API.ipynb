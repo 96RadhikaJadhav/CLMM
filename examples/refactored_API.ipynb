{
 "cells": [
  {
   "cell_type": "markdown",
   "metadata": {},
   "source": []
  },
  {
   "cell_type": "code",
   "execution_count": null,
   "metadata": {},
   "outputs": [],
   "source": [
    "import clmm\n",
    "import astropy as ap"
   ]
  },
  {
   "cell_type": "code",
   "execution_count": null,
   "metadata": {},
   "outputs": [],
   "source": [
    "in_table = ap.load_table('my_lens_catalog.fits')\n",
    "out_table = in_table['z' < 3.]"
   ]
  },
  {
   "cell_type": "code",
   "execution_count": null,
   "metadata": {},
   "outputs": [],
   "source": [
    "one_cluster = clmm.Cluster(lens_gals=out_table, z='auto')\n",
    "\n",
    "print(one_cluster.lens_gals.columns)\n",
    "# should print g_+, g_x, ra, dec, z, p(z) then units on each in new line"
   ]
  },
  {
   "cell_type": "code",
   "execution_count": null,
   "metadata": {},
   "outputs": [],
   "source": [
    "# auto would do this, otherwise just give it a number\n",
    "cluster_redshift = one_cluster.average_redshift()"
   ]
  },
  {
   "cell_type": "code",
   "execution_count": null,
   "metadata": {},
   "outputs": [],
   "source": [
    "cut_cluster = one_cluster.cut('')"
   ]
  },
  {
   "cell_type": "code",
   "execution_count": null,
   "metadata": {},
   "outputs": [],
   "source": [
    "cluster2 = clmm.Cluster(from_file='mass_posteriors.fits')\n",
    "print(cluster2.columns)\n",
    "# would print mass, units"
   ]
  },
  {
   "cell_type": "code",
   "execution_count": null,
   "metadata": {},
   "outputs": [],
   "source": [
    "cluster2 = clmm.Cluster(from_file='mass_posteriors.fits')\n",
    "cluster2.other_mass = other_thing"
   ]
  },
  {
   "cell_type": "markdown",
   "metadata": {},
   "source": [
    "we have a choice to make: 3 ways to think about this"
   ]
  },
  {
   "cell_type": "code",
   "execution_count": null,
   "metadata": {},
   "outputs": [],
   "source": [
    "clmm.calc_difference('mass', cluster1, cluster2)\n",
    "# clusters are simple things, we write functions that operate on clusters\n",
    "\n",
    "one_cluster.difference('mass1', 'mass2')\n",
    "# clusters are complicated and include both functions and lots of freeform information\n",
    "# this is closest to what Doug did and what we struggled to work through last year\n",
    "\n",
    "clmm.difference(mass_est1, mass_est2)\n",
    "# clusters are temporary objects and clmm functions operate on their outputs that can be read in from files later"
   ]
  }
 ],
 "metadata": {
  "kernelspec": {
   "display_name": "CLMM (Python 3)",
   "language": "python",
   "name": "clmm_3"
  },
  "language_info": {
   "codemirror_mode": {
    "name": "ipython",
    "version": 3
   },
   "file_extension": ".py",
   "mimetype": "text/x-python",
   "name": "python",
   "nbconvert_exporter": "python",
   "pygments_lexer": "ipython3",
   "version": "3.6.5"
  }
 },
 "nbformat": 4,
 "nbformat_minor": 2
}
