{
 "cells": [
  {
   "cell_type": "markdown",
   "metadata": {},
   "source": [
    "# Notebook to serve as baseline to re-write shearAzimuthalAverager\n",
    "## build on : data_and_model_demo_DC2\n",
    "\n",
    "### created by Mijin, Lucie & Marina\n",
    "################################################################"
   ]
  },
  {
   "cell_type": "code",
   "execution_count": null,
   "metadata": {},
   "outputs": [],
   "source": [
    "import numpy as np\n",
    "import matplotlib.pyplot as plt\n",
    "from astropy.coordinates import SkyCoord\n",
    "from astropy.cosmology import FlatLambdaCDM\n",
    "from astropy.table import Table\n",
    "from astropy import units as u\n",
    "import GCRCatalogs\n",
    "#from clmm import ShearAzimuthalAverager"
   ]
  },
  {
   "cell_type": "markdown",
   "metadata": {},
   "source": [
    "### Read in the data (here cosmoDC2)"
   ]
  },
  {
   "cell_type": "code",
   "execution_count": null,
   "metadata": {},
   "outputs": [],
   "source": [
    "extragalactic_cat = GCRCatalogs.load_catalog('cosmoDC2_v1.1.4_small')"
   ]
  },
  {
   "cell_type": "code",
   "execution_count": null,
   "metadata": {},
   "outputs": [],
   "source": [
    "# get a massive halo at intermediate redshift\n",
    "massive_halos = extragalactic_cat.get_quantities(['halo_mass', 'redshift','ra', 'dec'],\\\n",
    "                                                 filters=['halo_mass > 5e14','is_central==True','redshift<0.4'])\n",
    "\n",
    "mass_list = massive_halos['halo_mass']\n",
    "select = (mass_list == np.max(mass_list))\n",
    "ra_cl = massive_halos['ra'][select][0]\n",
    "dec_cl = massive_halos['dec'][select][0]\n",
    "z_cl = massive_halos['redshift'][select][0]\n",
    "mass_cl = mass_list[select][0]\n",
    "print(\"mass = \", mass_cl/1e14,\"*1e14 Msol\", \"\\n ra = \", ra_cl, \"\\n dec = \", dec_cl,\"\\n z = \", z_cl)\n",
    "\n",
    "# make a dictionary for cluster\n",
    "cl_dict = {'z':z_cl, 'ra':ra_cl, 'dec': dec_cl}\n"
   ]
  },
  {
   "cell_type": "code",
   "execution_count": null,
   "metadata": {},
   "outputs": [],
   "source": [
    "# get galaxies around it\n",
    "ra_min, ra_max = ra_cl-0.3, ra_cl+0.3\n",
    "dec_min, dec_max = dec_cl-0.3, dec_cl+0.3\n",
    "z_min = z_cl + 0.1\n",
    "z_max = 1.5\n",
    "\n",
    "coord_filters = [\n",
    "    'ra >= {}'.format(ra_min),\n",
    "    'ra < {}'.format(ra_max),\n",
    "    'dec >= {}'.format(dec_min),\n",
    "    'dec < {}'.format(dec_max),\n",
    "                ]\n",
    "\n",
    "z_filters = ['redshift >= {}'.format(z_min),'redshift < {}'.format(z_max)]\n",
    "\n",
    "gal_cat = extragalactic_cat.get_quantities(['galaxy_id', 'ra', 'dec', 'shear_1', 'shear_2', 'shear_2_phosim', 'shear_2_treecorr',\\\n",
    "                                            'redshift', 'convergence'], filters=(coord_filters + z_filters))\n",
    "\n",
    "# store the results into an astropy table\n",
    "dat = Table([gal_cat['galaxy_id'],gal_cat['ra'],gal_cat['dec'],gal_cat['shear_1'],\\\n",
    "          gal_cat['shear_2'],gal_cat['redshift'],gal_cat['convergence']], \\\n",
    "          names=('id','ra','dec', 'gamma1', 'gamma2', 'z', 'kappa'))\n",
    "\n",
    "print (\"number of galaxies selected = \", len(dat))"
   ]
  },
  {
   "cell_type": "markdown",
   "metadata": {},
   "source": [
    "# NEW PIECE OF CODE #################################################################"
   ]
  },
  {
   "cell_type": "markdown",
   "metadata": {},
   "source": [
    "## Prepare your data"
   ]
  },
  {
   "cell_type": "code",
   "execution_count": null,
   "metadata": {},
   "outputs": [],
   "source": [
    "#data_type = \"simu\" or data_type = \"real\"\n",
    "data_type = \"simu\"\n",
    "\n",
    "#define cosmo\n",
    "cosmo = extragalactic_cat.cosmology\n",
    "\n",
    "if data_type == \"simu\":\n",
    "    g1 = dat['gamma1'] / (1 - dat['kappa'])\n",
    "    g2 = dat['gamma2'] / (1 - dat['kappa'])"
   ]
  },
  {
   "cell_type": "markdown",
   "metadata": {},
   "source": [
    "## Computes the tangential and cross shear profiles"
   ]
  },
  {
   "cell_type": "code",
   "execution_count": null,
   "metadata": {},
   "outputs": [],
   "source": [
    "def compute_theta_phi(ra_l, dec_l, ra_s, dec_s, sky=\"flat\"):\n",
    "    \n",
    "    \"\"\" Returns the characteristic angles of the lens system\n",
    "    \n",
    "    Parameters\n",
    "    ----------\n",
    "    ra_l, dec_l, ra_s, dec_s: float vectors\n",
    "        ra and dec of the lens (l) and source (s)  in decimal degrees\n",
    "    sky: str\n",
    "        'flat' uses the flat sky approximation (default) and 'curved' uses exact angles\n",
    "    Returns\n",
    "    -------\n",
    "    theta, phi: float vectos\n",
    "        in radians\n",
    "    \n",
    "    \"\"\"\n",
    "\n",
    "    dx = (ra_s-ra_l)*u.deg.to(u.rad) * np.cos(dec_l *u.deg.to(u.rad))             \n",
    "    dy = (dec_s - dec_l)*u.deg.to(u.rad)                 \n",
    "    phi = np.arctan2(dy, -dx)     \n",
    "    \n",
    "    if (sky == \"curved\"):\n",
    "        coord_l = SkyCoord(ra_l*u.deg,dec_l*u.deg)\n",
    "        coord_s = SkyCoord(ra_s*u.deg,dec_s*u.deg)\n",
    "        theta = coord_l.separation(coord_s).to(u.rad).value\n",
    "\n",
    "    else:                     \n",
    "        theta =  np.sqrt(dx**2 + dy**2)\n",
    "\n",
    "    return theta, phi\n"
   ]
  },
  {
   "cell_type": "code",
   "execution_count": null,
   "metadata": {},
   "outputs": [],
   "source": [
    "def compute_g_t(g1,g2,phi):\n",
    "\n",
    "    \"\"\" Computes the tangential shear for each source in the galaxy catalog\n",
    "\n",
    "    \n",
    "    Parameters\n",
    "    ----------\n",
    "    g1,g2: float vectors\n",
    "        ellipticity or shear for each source in the galaxy catalog\n",
    "    phi: float vector\n",
    "        as defined in comput_theta_phi\n",
    "\n",
    "    Returns\n",
    "    -------\n",
    "    g_t: float vector\n",
    "        tangential shear (need not be reduced shear)\n",
    "    Notes\n",
    "    -----\n",
    "    g_t = - (g_1 * \\cos(2\\phi) + g_2 * \\sin(2\\phi)) [cf. eqs. 7-8 of Schrabback et al. 2018, arXiv:1611.03866]\n",
    "    \n",
    "    \"\"\" \n",
    " \n",
    "    g_t = - (g1 * np.cos(2*phi) + g2 * np.sin(2*phi))\n",
    " \n",
    "    return g_t\n"
   ]
  },
  {
   "cell_type": "code",
   "execution_count": null,
   "metadata": {},
   "outputs": [],
   "source": [
    "def compute_g_x(g1,g2,phi):\n",
    "    \n",
    "     \"\"\" computes cross shear for each source in galaxy catalog\n",
    "    \n",
    "    Parameters\n",
    "    ----------\n",
    "    g1, g2,: float vectors\n",
    "        ra and dec of the lens (l) and source (s)  in decimal degrees\n",
    "    phi: float vector\n",
    "        as defined in comput_theta_phi\n",
    "    Returns\n",
    "    -------\n",
    "    gx: float vector\n",
    "        cross shear\n",
    "    Notes\n",
    "    -----\n",
    "    Computes the cross shear for each source in the catalog as:\n",
    "    g_x = - g_1 * \\sin(2\\phi) + g_2 * \\cos(2\\phi)    [cf. eqs. 7-8 of Schrabback et al. 2018, arXiv:1611.03866]\n",
    "    \n",
    "    \"\"\" \n",
    " \n",
    "    g_x = - g1 * np.sin(2*phi) + g2 *np.cos(2*phi)\n",
    "\n",
    "    return g_x"
   ]
  },
  {
   "cell_type": "code",
   "execution_count": null,
   "metadata": {},
   "outputs": [],
   "source": [
    "def compute_shear(ra_l,dec_l,ra_s, dec_s, g1, g2, sky = \"flat\"):\n",
    "     \"\"\" wrapper that returns tangential and cross shear along \n",
    "         with radius in radians\n",
    "    \n",
    "    Parameters\n",
    "    ----------\n",
    "    ra_l, dec_l: float \n",
    "        ra and dec of lens in decimal degrees\n",
    "    ra_s, dec_s: float vector \n",
    "        ra and dec of source in decimal degrees\n",
    "    g1, g2: float\n",
    "        shears or ellipticities from galaxy table\n",
    "    sky: str\n",
    "        'flat' uses the flat sky approximation (default) and 'curved' uses exact angles\n",
    "    Returns\n",
    "    -------\n",
    "    gt: float vector\n",
    "        tangential shear\n",
    "    gx: float vector\n",
    "        cross shear\n",
    "    theta: float vector\n",
    "        radius in radians\n",
    "    Notes\n",
    "    -----\n",
    "    Computes the cross shear for each source in the galaxy catalog as:\n",
    "    g_x = - g_1 * \\sin(2\\phi) + g_2 * \\cos(2\\phi)\n",
    "    g_t = - (g_1 * \\cos(2\\phi) + g_2 * \\sin(2\\phi)) [cf. eqs. 7-8 of Schrabback et al. 2018, arXiv:1611.03866]\n",
    "    \"\"\" \n",
    "    \n",
    "  \n",
    "    theta, phi = compute_theta_phi(ra_l, dec_l, ra_s, dec_s, sky = sky)\n",
    "    g_t = compute_g_t(g1,g2,phi)\n",
    "    g_x = compute_g_x(g1,g2,phi)\n",
    "\n",
    "    return theta, g_t, g_x\n"
   ]
  },
  {
   "cell_type": "code",
   "execution_count": null,
   "metadata": {},
   "outputs": [],
   "source": [
    "#HERE CONVERT FUNCTION\n",
    "#\n",
    "#\n",
    "#\n",
    "#\n",
    "#"
   ]
  },
  {
   "cell_type": "code",
   "execution_count": null,
   "metadata": {},
   "outputs": [],
   "source": [
    "def make_bins(rmin, rmax, n_bins=10, log_bins=False):\n",
    "    \"\"\" \n",
    "    define equal sized bins with an array of n_bins+1 bin edges\n",
    "    \n",
    "    Parameters\n",
    "    ----------\n",
    "    rmin, rmax,: float\n",
    "        minimum and and maximum range of data (any units)\n",
    "    n_bins: float\n",
    "        number of bins you want to create\n",
    "    log_bins: bool\n",
    "        set to 'True' equal sized bins in log space\n",
    "    Returns\n",
    "    -------\n",
    "    binedges: float array\n",
    "        n_bins+1 dimensional array that defines bin edges\n",
    "    \n",
    "    \"\"\" \n",
    "    \n",
    "    if (log_bins==True):\n",
    "        rmin = np.log(rmin)\n",
    "        rmax = np.log(rmax)\n",
    "        logbinedges = np.linspace(rmin, rmax, n_bins+1, endpoint=True)\n",
    "        binedges = np.exp(logbinedges)\n",
    "    else:\n",
    "        binedges = np.linspace(rmin, rmax, n_bins+1, endpoint=True)\n",
    "            \n",
    "    return binedges\n"
   ]
  },
  {
   "cell_type": "code",
   "execution_count": null,
   "metadata": {},
   "outputs": [],
   "source": [
    "def make_shear_profile(radius, g, bins = None):\n",
    "    \n",
    "    \"\"\" returns astropy table containing shear profile of either tangential or cross shear\n",
    "\n",
    "       Parameters\n",
    "    ----------\n",
    "    radius: float vector\n",
    "        distance (physical or angular) between source galaxy to cluster center\n",
    "    g: float vector\n",
    "        either tangential or cross shear (g_t or g_x)\n",
    "    bins: float array\n",
    "        user defined n_bins + 1 dimensional array of bins, if 'None', the default is 10 equally spaced radial bins\n",
    "    Returns\n",
    "    -------\n",
    "    r_profile: float array\n",
    "        centers of radial bins\n",
    "    g_profile: float array\n",
    "        average shears per bin\n",
    "    gerr_profile: float array\n",
    "        standard deviation of shear per bin\n",
    "    \n",
    "    \"\"\"  \n",
    "    if bins == None:\n",
    "        nbins = 10\n",
    "        bins = np.linspace(np.min(radius),np.max(radius), nbins)\n",
    "\n",
    "    g_profile = np.zeros(len(bins) - 1)\n",
    "    gerr_profile = np.zeros(len(bins) - 1)\n",
    "    r_profile =  np.zeros(len(bins) - 1)\n",
    "\n",
    "    for i in range(len(bins)-1):\n",
    "        cond = (radius>= bins[i]) & (radius < bins[i+1])\n",
    "        index = np.where(cond)[0]\n",
    "        r_profile[i] = np.average(radius[index])\n",
    "        g_profile[i] = np.average(g[index])\n",
    "        if len(index) != 0:\n",
    "            gerr_profile[i] = np.std(g[index]) / np.sqrt(float(len(index)))\n",
    "        else:\n",
    "            gerr_profile[i] = np.nan\n",
    "\n",
    "    return r_profile, g_profile, gerr_profile\n"
   ]
  },
  {
   "cell_type": "code",
   "execution_count": null,
   "metadata": {},
   "outputs": [],
   "source": [
    "def plot_profiles(r, gt, gterr, gx=None, gxerr=None, r_units = \"\" ):\n",
    "    \n",
    "    \"\"\" plot shear profiles for validation\n",
    "    Parameters\n",
    "    ----------\n",
    "    r: float vector\n",
    "        radius \n",
    "    gt: float vector\n",
    "        tangential shear\n",
    "    gterr:float vector   \n",
    "        error on tangential shear\n",
    "    gx: float vector     \n",
    "        cross shear\n",
    "    gxerr: float vector    \n",
    "        error on cross shear \n",
    "    Returns\n",
    "    -------\n",
    "        a \n",
    "    \"\"\"\n",
    "    \n",
    "    plt.plot(r,gt,'bo-', label = \"tangential shear\")\n",
    "    plt.errorbar(r,gt,gterr)\n",
    "    \n",
    "    if type(gx) is np.ndarray:\n",
    "        plt.plot(r,gx,'ro-', label = \"cross shear\")\n",
    "        plt.errorbar(r,gx,gxerr)\n",
    "\n",
    "    plt.legend()\n",
    "    plt.xlabel(\"r [\"+ r_units +\"]\")\n",
    "    plt.ylabel('$\\\\gamma$')\n",
    "    figure = \n",
    "    axis = \n",
    "    return(figure, axis);"
   ]
  },
  {
   "cell_type": "code",
   "execution_count": null,
   "metadata": {},
   "outputs": [],
   "source": [
    "theta, g_t , g_x = compute_shear(ra_cl, dec_cl, dat['ra'], dat['dec'], g1, g2, sky = \"curved\")\n",
    "\n",
    "#CONVERT FUNCTION\n",
    "rMpc = theta * cosmo.angular_diameter_distance(z_cl).value\n",
    "\n",
    "\n",
    "r, gt, gterr = make_shear_profile(rMpc, g_t)\n",
    "r, gx, gxerr = make_shear_profile(rMpc, g_x)\n",
    "plot_profiles(r, gt,gterr,gx,gxerr, \"Mpc\")"
   ]
  },
  {
   "cell_type": "code",
   "execution_count": null,
   "metadata": {},
   "outputs": [],
   "source": [
    "make_bins(1,10,9,False)"
   ]
  },
  {
   "cell_type": "code",
   "execution_count": null,
   "metadata": {},
   "outputs": [],
   "source": []
  }
 ],
 "metadata": {
  "kernelspec": {
   "display_name": "Python 3",
   "language": "python3",
   "name": "python3"
  },
  "language_info": {
   "codemirror_mode": {
    "name": "ipython",
    "version": 3
   },
   "file_extension": ".py",
   "mimetype": "text/x-python",
   "name": "python",
   "nbconvert_exporter": "python",
   "pygments_lexer": "ipython3",
   "version": "3.6.8"
  }
 },
 "nbformat": 4,
 "nbformat_minor": 2
}
