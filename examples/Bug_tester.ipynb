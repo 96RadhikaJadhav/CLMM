{
 "cells": [
  {
   "cell_type": "markdown",
   "metadata": {},
   "source": [
    "This notebook aims at illustrating the bugs discussed in https://github.com/LSSTDESC/CLMM/issues/267\n",
    "It is based on `CLMM/examples/demo_modeling_functionality.ipynb`"
   ]
  },
  {
   "cell_type": "code",
   "execution_count": 1,
   "metadata": {},
   "outputs": [],
   "source": [
    "import numpy as np\n",
    "import matplotlib.pyplot as plt\n",
    "import clmm.modeling as mod\n",
    "from astropy.cosmology import FlatLambdaCDM"
   ]
  },
  {
   "cell_type": "code",
   "execution_count": 5,
   "metadata": {},
   "outputs": [],
   "source": [
    "astropy_cosmology_object = FlatLambdaCDM(H0=70, Om0=0.27, Ob0=0.045)\n",
    "cosmo_ccl = mod.cclify_astropy_cosmo(astropy_cosmology_object)"
   ]
  },
  {
   "cell_type": "code",
   "execution_count": 4,
   "metadata": {},
   "outputs": [],
   "source": [
    "def plot_profile(r, profile_vals, profile_label='rho', label=None):\n",
    "    plt.loglog(r, profile_vals, label=label)\n",
    "    plt.xlabel('r [Mpc]', fontsize='xx-large')\n",
    "    plt.ylabel(profile_label, fontsize='xx-large')"
   ]
  },
  {
   "cell_type": "code",
   "execution_count": 3,
   "metadata": {},
   "outputs": [],
   "source": [
    "density_profile_parametrization = 'nfw'\n",
    "mass_Delta = 200\n",
    "cluster_mass = 1.5e14\n",
    "cluster_concentration = 4\n",
    "z_cl = 0.2\n",
    "z_source = 2\n",
    "ngals = 1000"
   ]
  },
  {
   "cell_type": "markdown",
   "metadata": {},
   "source": [
    "## Testing different radius types"
   ]
  },
  {
   "cell_type": "code",
   "execution_count": 31,
   "metadata": {},
   "outputs": [],
   "source": [
    "r1 = 1.\n",
    "r2 = 1\n",
    "r3 = np.logspace(-2, 2, 100)\n",
    "r4 = np.loadtxt(\"../tests/data/numcosmo/radial_profiles.txt\", usecols = 0)\n",
    "r5 = np.loadtxt(\"../tests/data/numcosmo/radial_profiles.txt\")[:,0]"
   ]
  },
  {
   "cell_type": "code",
   "execution_count": 32,
   "metadata": {},
   "outputs": [
    {
     "name": "stdout",
     "output_type": "stream",
     "text": [
      "r1 : <class 'float'>\n",
      "r2 : <class 'int'>\n",
      "r3 : <class 'numpy.ndarray'> r3[0]: <class 'numpy.float64'>\n",
      "r4 : <class 'numpy.ndarray'> r4[0]: <class 'numpy.float64'>\n",
      "r5 : <class 'numpy.ndarray'> r5[0]: <class 'numpy.float64'>\n"
     ]
    }
   ],
   "source": [
    "print (\"r1 :\", type(r1))\n",
    "print (\"r2 :\", type(r2))\n",
    "print (\"r3 :\", type(r3), \"r3[0]:\", type(r3[0]))\n",
    "print (\"r4 :\", type(r4), \"r4[0]:\", type(r4[0]))\n",
    "print (\"r5 :\", type(r5), \"r5[0]:\", type(r5[0]))"
   ]
  },
  {
   "cell_type": "markdown",
   "metadata": {},
   "source": [
    "## Testing impact of different radius types on the `get_3d_density` modeling function"
   ]
  },
  {
   "cell_type": "markdown",
   "metadata": {},
   "source": [
    "### Comparison between `int` and `float`"
   ]
  },
  {
   "cell_type": "code",
   "execution_count": 40,
   "metadata": {},
   "outputs": [],
   "source": [
    "rho1 = mod.get_3d_density(r1, mdelta=cluster_mass, cdelta=cluster_concentration, \n",
    "                       z_cl=z_cl, cosmo=cosmo_ccl)"
   ]
  },
  {
   "cell_type": "code",
   "execution_count": 41,
   "metadata": {},
   "outputs": [
    {
     "name": "stdout",
     "output_type": "stream",
     "text": [
      "9021304102705.854\n"
     ]
    }
   ],
   "source": [
    "print (rho1)"
   ]
  },
  {
   "cell_type": "code",
   "execution_count": 42,
   "metadata": {},
   "outputs": [],
   "source": [
    "rho2 = mod.get_3d_density(r2, mdelta=cluster_mass, cdelta=cluster_concentration, \n",
    "                       z_cl=z_cl, cosmo=cosmo_ccl)"
   ]
  },
  {
   "cell_type": "code",
   "execution_count": 43,
   "metadata": {},
   "outputs": [
    {
     "name": "stdout",
     "output_type": "stream",
     "text": [
      "9218868437227405312\n"
     ]
    }
   ],
   "source": [
    "print (rho2)"
   ]
  },
  {
   "cell_type": "markdown",
   "metadata": {},
   "source": [
    "###  => There is no warning but when the radius type is `int` instead of `float` the result is completely wrong."
   ]
  },
  {
   "cell_type": "markdown",
   "metadata": {},
   "source": [
    "### Comparison between different `'numpy.ndarray'`"
   ]
  },
  {
   "cell_type": "code",
   "execution_count": 47,
   "metadata": {},
   "outputs": [
    {
     "data": {
      "image/png": "[encoded data removed]",
      "text/plain": [
       "<Figure size 432x288 with 1 Axes>"
      ]
     },
     "metadata": {
      "needs_background": "light"
     },
     "output_type": "display_data"
    }
   ],
   "source": [
    "plt.plot(r3, r4, 'bx')\n",
    "plt.plot(r3, r5, 'r.')\n",
    "plt.grid()"
   ]
  },
  {
   "cell_type": "code",
   "execution_count": 48,
   "metadata": {},
   "outputs": [
    {
     "data": {
      "image/png": "[encoded data removed]",
      "text/plain": [
       "<Figure size 432x288 with 1 Axes>"
      ]
     },
     "metadata": {
      "needs_background": "light"
     },
     "output_type": "display_data"
    }
   ],
   "source": [
    "plt.plot(r3 - r5, r3 - r4, 'bx')\n",
    "plt.grid()"
   ]
  },
  {
   "cell_type": "markdown",
   "metadata": {},
   "source": [
    "###  => A priori, there is no differences betwen r3, r4 and r5"
   ]
  },
  {
   "cell_type": "code",
   "execution_count": 52,
   "metadata": {},
   "outputs": [],
   "source": [
    "rho3 = mod.get_3d_density(r3, mdelta=cluster_mass, cdelta=cluster_concentration, \n",
    "                       z_cl=z_cl, cosmo=cosmo_ccl)"
   ]
  },
  {
   "cell_type": "code",
   "execution_count": 53,
   "metadata": {},
   "outputs": [],
   "source": [
    "rho4 = mod.get_3d_density(r4, mdelta=cluster_mass, cdelta=cluster_concentration, \n",
    "                       z_cl=z_cl, cosmo=cosmo_ccl)"
   ]
  },
  {
   "cell_type": "code",
   "execution_count": 54,
   "metadata": {},
   "outputs": [],
   "source": [
    "rho5 = mod.get_3d_density(r5, mdelta=cluster_mass, cdelta=cluster_concentration, \n",
    "                       z_cl=z_cl, cosmo=cosmo_ccl)"
   ]
  },
  {
   "cell_type": "code",
   "execution_count": 58,
   "metadata": {},
   "outputs": [
    {
     "data": {
      "text/plain": [
       "<matplotlib.legend.Legend at 0x7fa29f03b7d0>"
      ]
     },
     "execution_count": 58,
     "metadata": {},
     "output_type": "execute_result"
    },
    {
     "data": {
      "image/png": "[encoded data removed]",
      "text/plain": [
       "<Figure size 432x288 with 1 Axes>"
      ]
     },
     "metadata": {
      "needs_background": "light"
     },
     "output_type": "display_data"
    }
   ],
   "source": [
    "plot_profile(r3, rho3, '$\\\\rho$', \"rho3\")\n",
    "plot_profile(r4, rho4, '$\\\\rho$', \"rho4\")\n",
    "plot_profile(r5, rho5, '$\\\\rho$', \"rho5\")\n",
    "plt.legend()"
   ]
  },
  {
   "cell_type": "markdown",
   "metadata": {},
   "source": [
    "###  => There is no warning but with the definition of r5 the result is completely wrong."
   ]
  },
  {
   "cell_type": "markdown",
   "metadata": {},
   "source": [
    "## Testing impact of different radius types on the `predict_excess_surface_density` modeling function"
   ]
  },
  {
   "cell_type": "code",
   "execution_count": 61,
   "metadata": {},
   "outputs": [
    {
     "data": {
      "text/plain": [
       "array(36.52775256)"
      ]
     },
     "execution_count": 61,
     "metadata": {},
     "output_type": "execute_result"
    }
   ],
   "source": [
    "mod.predict_excess_surface_density(r1, cluster_mass, cluster_concentration, z_cl, cosmo=cosmo_ccl, \n",
    "                                              delta_mdef=mass_Delta, \n",
    "                                              halo_profile_model=density_profile_parametrization)"
   ]
  },
  {
   "cell_type": "code",
   "execution_count": 65,
   "metadata": {},
   "outputs": [],
   "source": [
    "#uncoment to test that the kernel silently crashes\n",
    "#mod.predict_excess_surface_density(r2, cluster_mass, cluster_concentration, z_cl, cosmo=cosmo_ccl, \n",
    "#                                              delta_mdef=mass_Delta, \n",
    "#                                              halo_profile_model=density_profile_parametrization)"
   ]
  },
  {
   "cell_type": "code",
   "execution_count": 62,
   "metadata": {},
   "outputs": [
    {
     "data": {
      "text/plain": [
       "array([1.88992497e+02, 1.88811953e+02, 1.88602705e+02, 1.88360524e+02,\n",
       "       1.88080640e+02, 1.87757685e+02, 1.87385648e+02, 1.86957822e+02,\n",
       "       1.86466760e+02, 1.85904232e+02, 1.85261196e+02, 1.84527775e+02,\n",
       "       1.83693256e+02, 1.82746102e+02, 1.81673994e+02, 1.80463902e+02,\n",
       "       1.79102191e+02, 1.77574761e+02, 1.75867244e+02, 1.73965233e+02,\n",
       "       1.71854574e+02, 1.69521698e+02, 1.66954002e+02, 1.64140273e+02,\n",
       "       1.61071141e+02, 1.57739546e+02, 1.54141208e+02, 1.50275079e+02,\n",
       "       1.46143749e+02, 1.41753781e+02, 1.37115958e+02, 1.32245407e+02,\n",
       "       1.27161601e+02, 1.21888196e+02, 1.16452727e+02, 1.10886148e+02,\n",
       "       1.05222233e+02, 9.94968648e+01, 9.37472249e+01, 8.80109417e+01,\n",
       "       8.23252160e+01, 7.67259744e+01, 7.12470826e+01, 6.59196539e+01,\n",
       "       6.07714767e+01, 5.58265792e+01, 5.11049400e+01, 4.66223453e+01,\n",
       "       4.23903841e+01, 3.84165687e+01, 3.47045615e+01, 3.12544863e+01,\n",
       "       2.80633026e+01, 2.51252198e+01, 2.24321305e+01, 1.99740463e+01,\n",
       "       1.77395185e+01, 1.57160343e+01, 1.38903779e+01, 1.22489520e+01,\n",
       "       1.07780564e+01, 9.46412298e+00, 8.29390819e+00, 7.25464529e+00,\n",
       "       6.33416010e+00, 5.52095388e+00, 4.80425769e+00, 4.17406241e+00,\n",
       "       3.62112863e+00, 3.13698018e+00, 2.71388482e+00, 2.34482517e+00,\n",
       "       2.02346262e+00, 1.74409645e+00, 1.50162008e+00, 1.29147599e+00,\n",
       "       1.10961058e+00, 9.52429844e-01, 8.16756612e-01, 6.99789914e-01,\n",
       "       5.99066719e-01, 5.12426324e-01, 4.37977462e-01, 3.74068153e-01,\n",
       "       3.19258252e-01, 2.72294583e-01, 2.32088547e-01, 1.97696039e-01,\n",
       "       1.68299520e-01, 1.43192068e-01, 1.21763239e-01, 1.03486580e-01,\n",
       "       8.79086214e-02, 7.46392070e-02, 6.33430203e-02, 5.37321735e-02,\n",
       "       4.55597405e-02, 3.86141261e-02, 3.27141708e-02, 2.77049036e-02])"
      ]
     },
     "execution_count": 62,
     "metadata": {},
     "output_type": "execute_result"
    }
   ],
   "source": [
    "mod.predict_excess_surface_density(r3, cluster_mass, cluster_concentration, z_cl, cosmo=cosmo_ccl, \n",
    "                                              delta_mdef=mass_Delta, \n",
    "                                              halo_profile_model=density_profile_parametrization)"
   ]
  },
  {
   "cell_type": "code",
   "execution_count": 63,
   "metadata": {},
   "outputs": [
    {
     "data": {
      "text/plain": [
       "array([1.88992497e+02, 1.88811953e+02, 1.88602705e+02, 1.88360524e+02,\n",
       "       1.88080640e+02, 1.87757685e+02, 1.87385648e+02, 1.86957822e+02,\n",
       "       1.86466760e+02, 1.85904232e+02, 1.85261196e+02, 1.84527775e+02,\n",
       "       1.83693256e+02, 1.82746102e+02, 1.81673994e+02, 1.80463902e+02,\n",
       "       1.79102191e+02, 1.77574761e+02, 1.75867244e+02, 1.73965233e+02,\n",
       "       1.71854574e+02, 1.69521698e+02, 1.66954002e+02, 1.64140273e+02,\n",
       "       1.61071141e+02, 1.57739546e+02, 1.54141208e+02, 1.50275079e+02,\n",
       "       1.46143749e+02, 1.41753781e+02, 1.37115958e+02, 1.32245407e+02,\n",
       "       1.27161601e+02, 1.21888196e+02, 1.16452727e+02, 1.10886148e+02,\n",
       "       1.05222233e+02, 9.94968648e+01, 9.37472249e+01, 8.80109417e+01,\n",
       "       8.23252160e+01, 7.67259744e+01, 7.12470826e+01, 6.59196539e+01,\n",
       "       6.07714767e+01, 5.58265792e+01, 5.11049400e+01, 4.66223453e+01,\n",
       "       4.23903841e+01, 3.84165687e+01, 3.47045615e+01, 3.12544863e+01,\n",
       "       2.80633026e+01, 2.51252198e+01, 2.24321305e+01, 1.99740463e+01,\n",
       "       1.77395185e+01, 1.57160343e+01, 1.38903779e+01, 1.22489520e+01,\n",
       "       1.07780564e+01, 9.46412298e+00, 8.29390819e+00, 7.25464529e+00,\n",
       "       6.33416010e+00, 5.52095388e+00, 4.80425769e+00, 4.17406241e+00,\n",
       "       3.62112863e+00, 3.13698018e+00, 2.71388482e+00, 2.34482517e+00,\n",
       "       2.02346262e+00, 1.74409645e+00, 1.50162008e+00, 1.29147599e+00,\n",
       "       1.10961058e+00, 9.52429844e-01, 8.16756612e-01, 6.99789914e-01,\n",
       "       5.99066719e-01, 5.12426324e-01, 4.37977462e-01, 3.74068153e-01,\n",
       "       3.19258252e-01, 2.72294583e-01, 2.32088547e-01, 1.97696039e-01,\n",
       "       1.68299520e-01, 1.43192068e-01, 1.21763239e-01, 1.03486580e-01,\n",
       "       8.79086214e-02, 7.46392070e-02, 6.33430203e-02, 5.37321735e-02,\n",
       "       4.55597405e-02, 3.86141261e-02, 3.27141708e-02, 2.77049036e-02])"
      ]
     },
     "execution_count": 63,
     "metadata": {},
     "output_type": "execute_result"
    }
   ],
   "source": [
    "mod.predict_excess_surface_density(r4, cluster_mass, cluster_concentration, z_cl, cosmo=cosmo_ccl, \n",
    "                                              delta_mdef=mass_Delta, \n",
    "                                              halo_profile_model=density_profile_parametrization)"
   ]
  },
  {
   "cell_type": "code",
   "execution_count": 64,
   "metadata": {},
   "outputs": [],
   "source": [
    "#uncoment to test that the kernel silently crashes\n",
    "#mod.predict_excess_surface_density(r5, cluster_mass, cluster_concentration, z_cl, cosmo=cosmo_ccl, \n",
    "#                                              delta_mdef=mass_Delta, \n",
    "#                                              halo_profile_model=density_profile_parametrization)"
   ]
  },
  {
   "cell_type": "markdown",
   "metadata": {},
   "source": [
    "###  => There is no warning but with `int` or with the definition of r5, the function `predict_excess_surface_density` runs forever or silently crashes."
   ]
  }
 ],
 "metadata": {
  "kernelspec": {
   "display_name": "Python 3",
   "language": "python",
   "name": "python3"
  },
  "language_info": {
   "codemirror_mode": {
    "name": "ipython",
    "version": 3
   },
   "file_extension": ".py",
   "mimetype": "text/x-python",
   "name": "python",
   "nbconvert_exporter": "python",
   "pygments_lexer": "ipython3",
   "version": "3.7.6"
  }
 },
 "nbformat": 4,
 "nbformat_minor": 4
}
