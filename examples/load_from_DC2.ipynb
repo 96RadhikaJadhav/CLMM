{
 "cells": [
  {
   "cell_type": "code",
   "execution_count": null,
   "metadata": {},
   "outputs": [],
   "source": [
    "import os\n",
    "import clmm"
   ]
  },
  {
   "cell_type": "code",
   "execution_count": null,
   "metadata": {},
   "outputs": [],
   "source": [
    "# load 5 random clusters from the cosmoDC2_v1.1.4_small catalog\n",
    "# save these into the save_dir output folder\n",
    "\n",
    "catalog = 'cosmoDC2_v1.1.4_small'\n",
    "save_dir = '/global/homes/m/mho1/scratch/clmm_scratch/cl_from_gcr'\n",
    "\n",
    "clmm.lsst.load_from_dc2(5, catalog, save_dir, verbose=True)"
   ]
  },
  {
   "cell_type": "code",
   "execution_count": null,
   "metadata": {},
   "outputs": [],
   "source": [
    "# now reload these clusters into memory from file\n",
    "\n",
    "cl = []\n",
    "for cl_file in os.listdir(save_dir):\n",
    "    cl.append(clmm.load_cluster(os.path.join(save_dir, cl_file)))"
   ]
  },
  {
   "cell_type": "code",
   "execution_count": null,
   "metadata": {},
   "outputs": [],
   "source": [
    "# example cluster datafields and galaxy catalog\n",
    "\n",
    "print('ra: %s\\ndec: %s'%(cl[0].ra, cl[0].dec))\n",
    "\n",
    "cl[0].galcat"
   ]
  },
  {
   "cell_type": "code",
   "execution_count": null,
   "metadata": {},
   "outputs": [],
   "source": []
  },
  {
   "cell_type": "code",
   "execution_count": null,
   "metadata": {},
   "outputs": [],
   "source": []
  }
 ],
 "metadata": {
  "kernelspec": {
   "display_name": "Python 3",
   "language": "python",
   "name": "python3"
  },
  "language_info": {
   "codemirror_mode": {
    "name": "ipython",
    "version": 3
   },
   "file_extension": ".py",
   "mimetype": "text/x-python",
   "name": "python",
   "nbconvert_exporter": "python",
   "pygments_lexer": "ipython3",
   "version": "3.6.8"
  }
 },
 "nbformat": 4,
 "nbformat_minor": 2
}
