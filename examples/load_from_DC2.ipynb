{
 "cells": [
  {
   "cell_type": "markdown",
   "metadata": {},
   "source": [
    "## In this example, we load random clusters from the cosmoDC2_v1.1.4_small catalog and save them into an output folder\n",
    "Note, this notebook will only run on a system with access to the appropriate GCRCatalogs, such as NERSC Cori.\n",
    " - GCRCatalogs (including information for getting started at NERSC): https://github.com/LSSTDESC/gcr-catalogs\n",
    " - DC2 Data Products: https://confluence.slac.stanford.edu/display/LSSTDESC/DC2+Data+Product+Overview"
   ]
  },
  {
   "cell_type": "code",
   "execution_count": null,
   "metadata": {},
   "outputs": [],
   "source": [
    "import os\n",
    "import clmm"
   ]
  },
  {
   "cell_type": "markdown",
   "metadata": {},
   "source": [
    "Make sure we know which version we're using"
   ]
  },
  {
   "cell_type": "code",
   "execution_count": null,
   "metadata": {},
   "outputs": [],
   "source": [
    "clmm.__version__"
   ]
  },
  {
   "cell_type": "markdown",
   "metadata": {},
   "source": [
    "### Load 5 random GalaxyCluster objects from catalog and saves them into save_dir. \n",
    "Galaxies are selected in a rectangular projected region centered on their true cluster centers. The rectangular region is parameterized via the ra_range, dec_range, and z_range parameters of load_from_dc2_rect."
   ]
  },
  {
   "cell_type": "code",
   "execution_count": null,
   "metadata": {},
   "outputs": [],
   "source": [
    "catalog = 'cosmoDC2_v1.1.4_small'\n",
    "# save_dir = '/global/homes/m/mho1/scratch/clmm_scratch/cl_from_gcr'\n",
    "save_dir = 'cl_from_gcr'\n",
    "\n",
    "clmm.lsst.load_from_dc2(5, catalog, save_dir, ra_range=(-0.3, 0.3), dec_range=(-0.3, 0.3),\n",
    "                        z_range=(0.1, 1.5), verbose=True)"
   ]
  },
  {
   "cell_type": "markdown",
   "metadata": {},
   "source": [
    "### Now, reload these clusters into memory from file"
   ]
  },
  {
   "cell_type": "code",
   "execution_count": null,
   "metadata": {},
   "outputs": [],
   "source": [
    "cl = []\n",
    "for cl_file in os.listdir(save_dir):\n",
    "    cl.append(clmm.GalaxyCluster.load(os.path.join(save_dir, cl_file)))"
   ]
  },
  {
   "cell_type": "markdown",
   "metadata": {},
   "source": [
    "### And display an example cluster's datafields and galaxy catalog"
   ]
  },
  {
   "cell_type": "code",
   "execution_count": null,
   "metadata": {},
   "outputs": [],
   "source": [
    "print('ra: %s\\ndec: %s'%(cl[0].ra, cl[0].dec))\n",
    "\n",
    "cl[0].galcat"
   ]
  },
  {
   "cell_type": "markdown",
   "metadata": {},
   "source": [
    "# "
   ]
  }
 ],
 "metadata": {
  "kernelspec": {
   "display_name": "desc-clmassmod",
   "language": "python",
   "name": "desc-clmassmod"
  },
  "language_info": {
   "codemirror_mode": {
    "name": "ipython",
    "version": 3
   },
   "file_extension": ".py",
   "mimetype": "text/x-python",
   "name": "python",
   "nbconvert_exporter": "python",
   "pygments_lexer": "ipython3",
   "version": "3.7.6"
  }
 },
 "nbformat": 4,
 "nbformat_minor": 4
}
