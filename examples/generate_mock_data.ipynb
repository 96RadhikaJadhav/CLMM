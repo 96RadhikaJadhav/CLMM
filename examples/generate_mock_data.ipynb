{
 "cells": [
  {
   "cell_type": "markdown",
   "metadata": {},
   "source": [
    "## This example jupyer notebook uses clmm code to generate mock data with a set of configuration parameters, producing a catalog of ideal and noisy example data."
   ]
  },
  {
   "cell_type": "code",
   "execution_count": 1,
   "metadata": {
    "collapsed": true
   },
   "outputs": [],
   "source": [
    "import matplotlib.pyplot as plt\n",
    "%matplotlib inline"
   ]
  },
  {
   "cell_type": "markdown",
   "metadata": {},
   "source": [
    "### Import mock data module and setup the configuration "
   ]
  },
  {
   "cell_type": "code",
   "execution_count": 2,
   "metadata": {},
   "outputs": [],
   "source": [
    "import sys\n",
    "sys.path.append('./support')\n",
    "sys.path.append('../clmm')"
   ]
  },
  {
   "cell_type": "code",
   "execution_count": 4,
   "metadata": {},
   "outputs": [],
   "source": []
  },
  {
   "cell_type": "markdown",
   "metadata": {},
   "source": [
    "### Mock data generation requires a config dictionary"
   ]
  },
  {
   "cell_type": "code",
   "execution_count": 5,
   "metadata": {},
   "outputs": [],
   "source": [
    "config={}\n",
    "config['cluster_m'] = 1.e15\n",
    "config['cluster_z'] = 0.3\n",
    "config['src_z'] = 0.8\n",
    "config['concentration'] = 4\n",
    "config['cosmo'] = ccl.Cosmology(Omega_c=0.27, Omega_b=0.045, h=0.67, A_s=2.1e-9, n_s=0.96)\n",
    "config['ngals'] = 10000\n",
    "config['Delta'] = 200\n",
    "\n",
    "ideal_data = mock.MockData(config=config)\n",
    "noisy_data = mock.MockData(config=config)\n",
    "noisy_data_z = mock.MockData(config=config)"
   ]
  },
  {
   "cell_type": "markdown",
   "metadata": {},
   "source": [
    "### Generate the mock catalog from the configuration. Consider 3 examples of increasing complexity:\n",
    "* Ideal data, no noise, all galaxies at the same redshift\n",
    "* Noisy data, including shape noise and redshift error, all galaxies at the same redshift\n",
    "* Noisy data, galaxies following redshift distribution, redshift error, shape noise"
   ]
  },
  {
   "cell_type": "code",
   "execution_count": 6,
   "metadata": {},
   "outputs": [],
   "source": [
    "ideal_data.generate()\n",
    "noisy_data.generate(is_shapenoise=True, shapenoise=0.005, is_zerr=True)\n",
    "noisy_data_z.generate(is_shapenoise=True, is_zdistribution=True, is_zerr=True)\n"
   ]
  },
  {
   "cell_type": "markdown",
   "metadata": {},
   "source": [
    "#### Ideal catalog first entries: no noise on the shape measurement, all galaxies at z=0.3"
   ]
  },
  {
   "cell_type": "code",
   "execution_count": 7,
   "metadata": {},
   "outputs": [
    {
     "data": {
      "text/html": [
       "&lt;Table length=5&gt;\n",
       "<table id=\"table4362056368\" class=\"table-striped table-bordered table-condensed\">\n",
       "<thead><tr><th>id</th><th>ra</th><th>dec</th><th>gamma1</th><th>gamma2</th><th>z</th></tr></thead>\n",
       "<thead><tr><th>int64</th><th>float64</th><th>float64</th><th>float64</th><th>float64</th><th>float64</th></tr></thead>\n",
       "<tr><td>0</td><td>0.06180357817449348</td><td>-0.07149171345998104</td><td>nan</td><td>nan</td><td>0.8</td></tr>\n",
       "<tr><td>1</td><td>-0.16314399277766736</td><td>-0.12234892285503698</td><td>nan</td><td>nan</td><td>0.8</td></tr>\n",
       "<tr><td>2</td><td>-0.012466232022558739</td><td>-0.006762222267294864</td><td>nan</td><td>nan</td><td>0.8</td></tr>\n",
       "<tr><td>3</td><td>0.053413307287887846</td><td>-0.165421535611701</td><td>nan</td><td>nan</td><td>0.8</td></tr>\n",
       "<tr><td>4</td><td>-0.16174542529609748</td><td>-0.18277404724477536</td><td>nan</td><td>nan</td><td>0.8</td></tr>\n",
       "</table>"
      ],
      "text/plain": [
       "<Table length=5>\n",
       "  id            ra                   dec           gamma1  gamma2    z   \n",
       "int64        float64               float64        float64 float64 float64\n",
       "----- --------------------- --------------------- ------- ------- -------\n",
       "    0   0.06180357817449348  -0.07149171345998104     nan     nan     0.8\n",
       "    1  -0.16314399277766736  -0.12234892285503698     nan     nan     0.8\n",
       "    2 -0.012466232022558739 -0.006762222267294864     nan     nan     0.8\n",
       "    3  0.053413307287887846    -0.165421535611701     nan     nan     0.8\n",
       "    4  -0.16174542529609748  -0.18277404724477536     nan     nan     0.8"
      ]
     },
     "execution_count": 7,
     "metadata": {},
     "output_type": "execute_result"
    }
   ],
   "source": [
    "ideal_data.catalog[0:5]"
   ]
  },
  {
   "cell_type": "markdown",
   "metadata": {},
   "source": [
    "#### More realistic catalog: noise has been added on the shape measurement, galaxies follow some photoz distribution, gaussian pdf for each photoz is also provided (along with corresponding bins)"
   ]
  },
  {
   "cell_type": "code",
   "execution_count": 8,
   "metadata": {},
   "outputs": [
    {
     "data": {
      "text/html": [
       "&lt;Table length=2&gt;\n",
       "<table id=\"table4435143424\" class=\"table-striped table-bordered table-condensed\">\n",
       "<thead><tr><th>id</th><th>ra</th><th>dec</th><th>gamma1</th><th>gamma2</th><th>z</th><th>z_pdf [34]</th><th>z_bins [34]</th></tr></thead>\n",
       "<thead><tr><th>int64</th><th>float64</th><th>float64</th><th>float64</th><th>float64</th><th>float64</th><th>float64</th><th>float64</th></tr></thead>\n",
       "<tr><td>0</td><td>-0.10269182863823027</td><td>-0.15089614701510412</td><td>nan</td><td>nan</td><td>3.4257405399356307</td><td>0.14038957513075603 .. 0.15532314731896543</td><td>2.9257405399356307 .. 3.915740539935624</td></tr>\n",
       "<tr><td>1</td><td>0.03806735893706967</td><td>0.1595540785887389</td><td>nan</td><td>nan</td><td>2.005123915234354</td><td>0.010460472347750776 .. 0.013024784319431949</td><td>1.5051239152343538 .. 2.4951239152343545</td></tr>\n",
       "</table>"
      ],
      "text/plain": [
       "<Table length=2>\n",
       "  id           ra          ...               z_bins [34]               \n",
       "int64       float64        ...                 float64                 \n",
       "----- -------------------- ... ----------------------------------------\n",
       "    0 -0.10269182863823027 ...  2.9257405399356307 .. 3.915740539935624\n",
       "    1  0.03806735893706967 ... 1.5051239152343538 .. 2.4951239152343545"
      ]
     },
     "execution_count": 8,
     "metadata": {},
     "output_type": "execute_result"
    }
   ],
   "source": [
    "noisy_data_z.catalog[0:2]"
   ]
  },
  {
   "cell_type": "code",
   "execution_count": 9,
   "metadata": {},
   "outputs": [
    {
     "data": {
      "image/png": "[encoded data removed]",
      "text/plain": [
       "<matplotlib.figure.Figure at 0x1085aee10>"
      ]
     },
     "metadata": {},
     "output_type": "display_data"
    }
   ],
   "source": [
    "# Histogram of the redshift distribution of bkg galaxies (starting at z_cluster + 0.1)\n",
    "hist = plt.hist(noisy_data_z.catalog['z'], bins=50)"
   ]
  },
  {
   "cell_type": "code",
   "execution_count": 10,
   "metadata": {},
   "outputs": [
    {
     "data": {
      "text/plain": [
       "[<matplotlib.lines.Line2D at 0x108628e80>]"
      ]
     },
     "execution_count": 10,
     "metadata": {},
     "output_type": "execute_result"
    },
    {
     "data": {
      "image/png": "[encoded data removed]",
      "text/plain": [
       "<matplotlib.figure.Figure at 0x1085ae4a8>"
      ]
     },
     "metadata": {},
     "output_type": "display_data"
    }
   ],
   "source": [
    "# pdz for the first galaxy in the catalog\n",
    "plt.plot(noisy_data_z.catalog['z_bins'][0],noisy_data_z.catalog['z_pdf'][0])"
   ]
  },
  {
   "cell_type": "markdown",
   "metadata": {},
   "source": [
    "### Compute and plot shear profile"
   ]
  },
  {
   "cell_type": "code",
   "execution_count": null,
   "metadata": {
    "collapsed": true
   },
   "outputs": [],
   "source": [
    "from clmm import ShearAzimuthalAverager"
   ]
  },
  {
   "cell_type": "code",
   "execution_count": null,
   "metadata": {
    "collapsed": true
   },
   "outputs": [],
   "source": [
    "cl_dict = {'z':config['cluster_z'], 'ra':0.0, 'dec': 0.0}\n",
    "\n",
    "saa_ideal = ShearAzimuthalAverager(cl_dict,ideal_data.catalog)\n",
    "saa_noisy = ShearAzimuthalAverager(cl_dict,noisy_data.catalog)\n",
    "saa_noisy_z = ShearAzimuthalAverager(cl_dict,noisy_data_z.catalog)\n",
    "\n",
    "\n",
    "saa_ideal.compute_shear()\n",
    "saa_noisy.compute_shear()\n",
    "saa_noisy_z.compute_shear()\n",
    "\n",
    "saa_ideal.make_shear_profile()\n",
    "saa_noisy.make_shear_profile()\n",
    "saa_noisy_z.make_shear_profile()"
   ]
  },
  {
   "cell_type": "code",
   "execution_count": null,
   "metadata": {
    "collapsed": true
   },
   "outputs": [],
   "source": [
    "# Ideal data\n",
    "saa_ideal.plot_profile()"
   ]
  },
  {
   "cell_type": "code",
   "execution_count": null,
   "metadata": {
    "collapsed": true
   },
   "outputs": [],
   "source": [
    "# Noisy data, all galaxies at the same redshift\n",
    "saa_noisy.plot_profile()"
   ]
  },
  {
   "cell_type": "code",
   "execution_count": null,
   "metadata": {
    "collapsed": true
   },
   "outputs": [],
   "source": [
    "# Noisy data, galaxies following redshift distribution\n",
    "saa_noisy_z.plot_profile()"
   ]
  },
  {
   "cell_type": "code",
   "execution_count": null,
   "metadata": {
    "collapsed": true
   },
   "outputs": [],
   "source": []
  }
 ],
 "metadata": {
  "anaconda-cloud": {},
  "kernelspec": {
   "display_name": "Python 3",
   "language": "python",
   "name": "python3"
  },
  "language_info": {
   "codemirror_mode": {
    "name": "ipython",
    "version": 3
   },
   "file_extension": ".py",
   "mimetype": "text/x-python",
   "name": "python",
   "nbconvert_exporter": "python",
   "pygments_lexer": "ipython3",
   "version": "3.6.3"
  }
 },
 "nbformat": 4,
 "nbformat_minor": 2
}
