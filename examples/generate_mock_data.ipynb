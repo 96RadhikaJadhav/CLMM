{
 "cells": [
  {
   "cell_type": "markdown",
   "metadata": {},
   "source": [
    "## In this example we generate mock data with a variety of systematic effects including photometric redshifts, source galaxy distributions, and shape noise"
   ]
  },
  {
   "cell_type": "code",
   "execution_count": null,
   "metadata": {
    "collapsed": true
   },
   "outputs": [],
   "source": [
    "import numpy as np\n",
    "import cluster_toolkit as ct\n",
    "import matplotlib.pyplot as plt\n",
    "%matplotlib inline"
   ]
  },
  {
   "cell_type": "markdown",
   "metadata": {},
   "source": [
    "### Import mock data module and setup the configuration "
   ]
  },
  {
   "cell_type": "code",
   "execution_count": null,
   "metadata": {
    "collapsed": true
   },
   "outputs": [],
   "source": [
    "import sys\n",
    "sys.path.append('./support')\n",
    "sys.path.append('../clmm')\n",
    "import modeling as pp\n",
    "import mock_data as mock"
   ]
  },
  {
   "cell_type": "markdown",
   "metadata": {},
   "source": [
    "### Mock data generation requires some cluster information"
   ]
  },
  {
   "cell_type": "code",
   "execution_count": null,
   "metadata": {
    "collapsed": true
   },
   "outputs": [],
   "source": [
    "# Using a dictionary\n",
    "Omega_M = 0.27\n",
    "Omega_b = 0.045\n",
    "H0 = 70.\n",
    "cosmo = {'Omega_c': Omega_M-Omega_b,\n",
    "         'Omega_b': Omega_b,\n",
    "         'H0': H0}\n",
    "\n",
    "# Using AstroPy\n",
    "#from astropy.cosmology import FlatLambdaCDM\n",
    "#astropy_cosmology_object = FlatLambdaCDM(H0=70, Om0=0.27, Ob0=0.045)\n",
    "#cosmo = pp.cclify_astropy_cosmo(astropy_cosmology_object)\n",
    "\n",
    "# If CCL is installed\n",
    "# import pyccl as ccl\n",
    "# config['cosmo'] = ccl.Cosmology(Omega_c=0.27, Omega_b=0.045, h=0.67, A_s=2.1e-9, n_s=0.96)"
   ]
  },
  {
   "cell_type": "code",
   "execution_count": null,
   "metadata": {
    "collapsed": true
   },
   "outputs": [],
   "source": [
    "config = {\n",
    "    'cluster_m': 1.e15,\n",
    "    'cluster_z': 0.3,\n",
    "    'src_z': 0.8,\n",
    "    'concentration': 4,\n",
    "    'cosmo': cosmo,\n",
    "    'ngals': 10000,\n",
    "    'Delta': 200\n",
    "}"
   ]
  },
  {
   "cell_type": "markdown",
   "metadata": {},
   "source": [
    "### Generate the mock catalog with different options"
   ]
  },
  {
   "cell_type": "markdown",
   "metadata": {},
   "source": [
    "Clean data: no noise, all galaxies at the same redshift"
   ]
  },
  {
   "cell_type": "code",
   "execution_count": null,
   "metadata": {},
   "outputs": [],
   "source": [
    "idealdata  = mock.generate_galaxy_catalog(config['cluster_m'], config['cluster_z'], config['concentration'],\n",
    "                                          config['cosmo'], config['ngals'], config['Delta'], config['src_z'])"
   ]
  },
  {
   "cell_type": "markdown",
   "metadata": {},
   "source": [
    "Noisy data: shape noise, all galaxies at the same redshift"
   ]
  },
  {
   "cell_type": "code",
   "execution_count": null,
   "metadata": {
    "collapsed": true
   },
   "outputs": [],
   "source": [
    "withshapenoise = mock.generate_galaxy_catalog(config['cluster_m'], config['cluster_z'], config['concentration'],\n",
    "                                       config['cosmo'], config['ngals'], config['Delta'], config['src_z'],\n",
    "                                       shapenoise=0.005)"
   ]
  },
  {
   "cell_type": "markdown",
   "metadata": {},
   "source": [
    "Noisy data: photo-z errors (and pdfs!), all galaxies at the same redshift"
   ]
  },
  {
   "cell_type": "code",
   "execution_count": null,
   "metadata": {
    "collapsed": true
   },
   "outputs": [],
   "source": [
    "withphotozs = mock.generate_galaxy_catalog(config['cluster_m'], config['cluster_z'], config['concentration'],\n",
    "                                       config['cosmo'], config['ngals'], config['Delta'], config['src_z'],\n",
    "                                       photoz_sigma_unscaled=0.05)"
   ]
  },
  {
   "cell_type": "markdown",
   "metadata": {},
   "source": [
    "Clean data: source galaxy redshifts drawn from Chang et al. 2013"
   ]
  },
  {
   "cell_type": "code",
   "execution_count": null,
   "metadata": {
    "collapsed": true
   },
   "outputs": [],
   "source": [
    "withsourcedist = mock.generate_galaxy_catalog(config['cluster_m'], config['cluster_z'], config['concentration'],\n",
    "                                       config['cosmo'], config['ngals'], config['Delta'], 'chang13',\n",
    "                                       zsrc_max=7.0)"
   ]
  },
  {
   "cell_type": "markdown",
   "metadata": {},
   "source": [
    "Noisy data: galaxies following redshift distribution, redshift error, shape noise"
   ]
  },
  {
   "cell_type": "code",
   "execution_count": null,
   "metadata": {
    "collapsed": true
   },
   "outputs": [],
   "source": [
    "allsystematics = mock.generate_galaxy_catalog(config['cluster_m'], config['cluster_z'], config['concentration'],\n",
    "                                              config['cosmo'], config['ngals'], config['Delta'], 'chang13',\n",
    "                                              shapenoise=0.005, photoz_sigma_unscaled=0.05, zsrc_max=7.0)"
   ]
  },
  {
   "cell_type": "markdown",
   "metadata": {},
   "source": [
    "# Inspect the catalog data"
   ]
  },
  {
   "cell_type": "markdown",
   "metadata": {},
   "source": [
    "#### Ideal catalog first entries: no noise on the shape measurement, all galaxies at z=0.8"
   ]
  },
  {
   "cell_type": "code",
   "execution_count": null,
   "metadata": {},
   "outputs": [],
   "source": [
    "idealdata[0:3]"
   ]
  },
  {
   "cell_type": "markdown",
   "metadata": {},
   "source": [
    "#### With photo-z errors"
   ]
  },
  {
   "cell_type": "code",
   "execution_count": null,
   "metadata": {
    "collapsed": true
   },
   "outputs": [],
   "source": [
    "withphotozs[0:3]"
   ]
  },
  {
   "cell_type": "code",
   "execution_count": null,
   "metadata": {
    "collapsed": true
   },
   "outputs": [],
   "source": [
    "# Histogram of the redshift distribution of bkg galaxies (starting at z_cluster + 0.1)\n",
    "hist = plt.hist(allsystematics['z'], bins=50)\n",
    "plt.xlabel('Source Redshift')"
   ]
  },
  {
   "cell_type": "code",
   "execution_count": null,
   "metadata": {
    "collapsed": true
   },
   "outputs": [],
   "source": [
    "# pdz for the first galaxy in the catalog\n",
    "plt.plot(allsystematics['pzbins'][0], allsystematics['pzpdf'][0])\n",
    "plt.xlabel('Redshift')\n",
    "plt.ylabel('Photo-z Probability Distribution')"
   ]
  },
  {
   "cell_type": "markdown",
   "metadata": {},
   "source": [
    "### Compute and plot shear profile\n",
    "\n",
    "This needs to be adapted to the new data profile making module"
   ]
  },
  {
   "cell_type": "code",
   "execution_count": null,
   "metadata": {
    "collapsed": true
   },
   "outputs": [],
   "source": [
    "# from clmm import ShearAzimuthalAverager"
   ]
  },
  {
   "cell_type": "code",
   "execution_count": null,
   "metadata": {
    "collapsed": true
   },
   "outputs": [],
   "source": [
    "# cl_dict = {'z':config['cluster_z'], 'ra':0.0, 'dec': 0.0}\n",
    "\n",
    "# saa_ideal = ShearAzimuthalAverager(cl_dict,ideal_data.catalog)\n",
    "# saa_noisy = ShearAzimuthalAverager(cl_dict,noisy_data.catalog)\n",
    "# saa_noisy_z = ShearAzimuthalAverager(cl_dict,noisy_data_z.catalog)\n",
    "\n",
    "\n",
    "# saa_ideal.compute_shear()\n",
    "# saa_noisy.compute_shear()\n",
    "# saa_noisy_z.compute_shear()\n",
    "\n",
    "# saa_ideal.make_shear_profile()\n",
    "# saa_noisy.make_shear_profile()\n",
    "# saa_noisy_z.make_shear_profile()"
   ]
  },
  {
   "cell_type": "code",
   "execution_count": null,
   "metadata": {
    "collapsed": true
   },
   "outputs": [],
   "source": [
    "# Ideal data\n",
    "# saa_ideal.plot_profile()"
   ]
  },
  {
   "cell_type": "code",
   "execution_count": null,
   "metadata": {
    "collapsed": true
   },
   "outputs": [],
   "source": [
    "# Noisy data, all galaxies at the same redshift\n",
    "# saa_noisy.plot_profile()"
   ]
  },
  {
   "cell_type": "code",
   "execution_count": null,
   "metadata": {
    "collapsed": true
   },
   "outputs": [],
   "source": [
    "# Noisy data, galaxies following redshift distribution\n",
    "# saa_noisy_z.plot_profile()"
   ]
  }
 ],
 "metadata": {
  "anaconda-cloud": {},
  "kernelspec": {
   "display_name": "Python 3",
   "language": "python",
   "name": "python3"
  },
  "language_info": {
   "codemirror_mode": {
    "name": "ipython",
    "version": 3
   },
   "file_extension": ".py",
   "mimetype": "text/x-python",
   "name": "python",
   "nbconvert_exporter": "python",
   "pygments_lexer": "ipython3",
   "version": "3.6.3"
  }
 },
 "nbformat": 4,
 "nbformat_minor": 2
}
