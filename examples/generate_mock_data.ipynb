{
 "cells": [
  {
   "cell_type": "markdown",
   "metadata": {},
   "source": [
    "## This example jupyer notebook uses clmm code to generate mock data with a set of configuration parameters, producing a catalog of ideal and noisy example data."
   ]
  },
  {
   "cell_type": "code",
   "execution_count": 18,
   "metadata": {
    "collapsed": true
   },
   "outputs": [],
   "source": [
    "import matplotlib.pyplot as plt\n",
    "%matplotlib inline"
   ]
  },
  {
   "cell_type": "markdown",
   "metadata": {},
   "source": [
    "### Import mock data module and setup the configuration "
   ]
  },
  {
   "cell_type": "code",
   "execution_count": 19,
   "metadata": {
    "collapsed": true
   },
   "outputs": [],
   "source": [
    "import sys\n",
    "sys.path.append('./support')\n",
    "sys.path.append('../clmm')"
   ]
  },
  {
   "cell_type": "code",
   "execution_count": 20,
   "metadata": {},
   "outputs": [
    {
     "name": "stdout",
     "output_type": "stream",
     "text": [
      "The autoreload extension is already loaded. To reload it, use:\n",
      "  %reload_ext autoreload\n"
     ]
    }
   ],
   "source": [
    "import pyccl as ccl\n",
    "import mock_data as mock\n",
    "%load_ext autoreload\n",
    "%autoreload 2"
   ]
  },
  {
   "cell_type": "markdown",
   "metadata": {},
   "source": [
    "### Mock data generation requires a config dictionary"
   ]
  },
  {
   "cell_type": "code",
   "execution_count": 21,
   "metadata": {},
   "outputs": [],
   "source": [
    "config={}\n",
    "config['cluster_m'] = 1.e15\n",
    "config['cluster_z'] = 0.3\n",
    "config['src_z'] = 0.8\n",
    "config['concentration'] = 4\n",
    "config['cosmo'] = ccl.Cosmology(Omega_c=0.27, Omega_b=0.045, h=0.67, A_s=2.1e-9, n_s=0.96)\n",
    "config['ngals'] = 10000\n",
    "config['Delta'] = 200\n",
    "\n",
    "ideal_data = mock.MockData(config=config)\n",
    "noisy_data = mock.MockData(config=config)\n",
    "noisy_data_z = mock.MockData(config=config)"
   ]
  },
  {
   "cell_type": "markdown",
   "metadata": {},
   "source": [
    "### Generate the mock catalog from the configuration. Consider 3 examples of increasing complexity:\n",
    "* Ideal data, no noise, all galaxies at the same redshift\n",
    "* Noisy data, including shape noise and redshift error, all galaxies at the same redshift\n",
    "* Noisy data, galaxies following redshift distribution, redshift error, shape noise"
   ]
  },
  {
   "cell_type": "code",
   "execution_count": 22,
   "metadata": {},
   "outputs": [],
   "source": [
    "ideal_data.generate()\n",
    "noisy_data.generate(is_shapenoise=True, shapenoise=0.005, is_zerr=True)\n",
    "noisy_data_z.generate(is_shapenoise=True, is_zdistribution=True, is_zerr=True)\n"
   ]
  },
  {
   "cell_type": "markdown",
   "metadata": {},
   "source": [
    "#### Ideal catalog first entries: no noise on the shape measurement, all galaxies at z=0.3"
   ]
  },
  {
   "cell_type": "code",
   "execution_count": 23,
   "metadata": {},
   "outputs": [
    {
     "data": {
      "text/html": [
       "&lt;Table length=10&gt;\n",
       "<table id=\"table4627663952\" class=\"table-striped table-bordered table-condensed\">\n",
       "<thead><tr><th>id</th><th>ra</th><th>dec</th><th>gamma1</th><th>gamma2</th><th>z</th></tr></thead>\n",
       "<thead><tr><th>int64</th><th>float64</th><th>float64</th><th>float64</th><th>float64</th><th>float64</th></tr></thead>\n",
       "<tr><td>0</td><td>0.2269807890605919</td><td>-0.2239751397523126</td><td>-3.584272438431787e-05</td><td>-0.002688732013719334</td><td>0.8</td></tr>\n",
       "<tr><td>1</td><td>0.013786083281548135</td><td>-0.15775304172270155</td><td>0.00645536054724799</td><td>-0.0011369545890725149</td><td>0.8</td></tr>\n",
       "<tr><td>2</td><td>-0.19273669055404413</td><td>0.008070039479127732</td><td>-0.005156450737443439</td><td>-0.0004325678003452333</td><td>0.8</td></tr>\n",
       "<tr><td>3</td><td>0.14288285276373064</td><td>0.04556029986956461</td><td>-0.005691794492800653</td><td>0.004040657497651568</td><td>0.8</td></tr>\n",
       "<tr><td>4</td><td>-0.04826181090754961</td><td>-0.07633904838532349</td><td>0.005111208074606686</td><td>0.010765358571287648</td><td>0.8</td></tr>\n",
       "<tr><td>5</td><td>-0.2170471606224419</td><td>-0.19648288454861174</td><td>-0.00029962285524168583</td><td>0.0030051300666743253</td><td>0.8</td></tr>\n",
       "<tr><td>6</td><td>0.03654090012631307</td><td>0.17862928094352654</td><td>0.005098001064085022</td><td>0.0021768131793842454</td><td>0.8</td></tr>\n",
       "<tr><td>7</td><td>0.0345161026246047</td><td>-0.131854524734967</td><td>0.006779333885287209</td><td>-0.003810420038342519</td><td>0.8</td></tr>\n",
       "<tr><td>8</td><td>-0.19014815828927442</td><td>-0.06902686792343762</td><td>-0.0037430537967946763</td><td>0.003130060383387683</td><td>0.8</td></tr>\n",
       "<tr><td>9</td><td>-0.1423911728191877</td><td>0.04028059972378766</td><td>-0.006037514657413245</td><td>-0.0037130007101513172</td><td>0.8</td></tr>\n",
       "</table>"
      ],
      "text/plain": [
       "<Table length=10>\n",
       "  id           ra          ...         gamma2            z   \n",
       "int64       float64        ...        float64         float64\n",
       "----- -------------------- ... ---------------------- -------\n",
       "    0   0.2269807890605919 ...  -0.002688732013719334     0.8\n",
       "    1 0.013786083281548135 ... -0.0011369545890725149     0.8\n",
       "    2 -0.19273669055404413 ... -0.0004325678003452333     0.8\n",
       "    3  0.14288285276373064 ...   0.004040657497651568     0.8\n",
       "    4 -0.04826181090754961 ...   0.010765358571287648     0.8\n",
       "    5  -0.2170471606224419 ...  0.0030051300666743253     0.8\n",
       "    6  0.03654090012631307 ...  0.0021768131793842454     0.8\n",
       "    7   0.0345161026246047 ...  -0.003810420038342519     0.8\n",
       "    8 -0.19014815828927442 ...   0.003130060383387683     0.8\n",
       "    9  -0.1423911728191877 ... -0.0037130007101513172     0.8"
      ]
     },
     "execution_count": 23,
     "metadata": {},
     "output_type": "execute_result"
    }
   ],
   "source": [
    "ideal_data.catalog[0:10]"
   ]
  },
  {
   "cell_type": "markdown",
   "metadata": {},
   "source": [
    "#### More realistic catalog: noise has been added on the shape measurement, galaxies follow some photoz distribution, gaussian pdf for each photoz is also provided (along with corresponding bins)"
   ]
  },
  {
   "cell_type": "code",
   "execution_count": 24,
   "metadata": {},
   "outputs": [
    {
     "data": {
      "text/html": [
       "&lt;Table length=2&gt;\n",
       "<table id=\"table4627814608\" class=\"table-striped table-bordered table-condensed\">\n",
       "<thead><tr><th>id</th><th>ra</th><th>dec</th><th>gamma1</th><th>gamma2</th><th>z</th><th>z_pdf [34]</th><th>z_bins [34]</th></tr></thead>\n",
       "<thead><tr><th>int64</th><th>float64</th><th>float64</th><th>float64</th><th>float64</th><th>float64</th><th>float64</th><th>float64</th></tr></thead>\n",
       "<tr><td>0</td><td>-0.19199817206440348</td><td>0.2034069401358791</td><td>-1.8186550172480224e-05</td><td>0.0003148923789720752</td><td>0.8</td><td>8.80221998747802e-07 .. 1.6217891916506561e-06</td><td>0.30000000000000004 .. 1.290000000000001</td></tr>\n",
       "<tr><td>1</td><td>0.11367461670448151</td><td>-0.0816704495360721</td><td>-0.002291783461734378</td><td>-0.006806487389498723</td><td>0.8</td><td>8.80221998747802e-07 .. 1.6217891916506561e-06</td><td>0.30000000000000004 .. 1.290000000000001</td></tr>\n",
       "</table>"
      ],
      "text/plain": [
       "<Table length=2>\n",
       "  id           ra          ...               z_bins [34]               \n",
       "int64       float64        ...                 float64                 \n",
       "----- -------------------- ... ----------------------------------------\n",
       "    0 -0.19199817206440348 ... 0.30000000000000004 .. 1.290000000000001\n",
       "    1  0.11367461670448151 ... 0.30000000000000004 .. 1.290000000000001"
      ]
     },
     "execution_count": 24,
     "metadata": {},
     "output_type": "execute_result"
    }
   ],
   "source": [
    "noisy_data.catalog[0:2]"
   ]
  },
  {
   "cell_type": "code",
   "execution_count": 15,
   "metadata": {},
   "outputs": [
    {
     "data": {
      "text/html": [
       "&lt;Table length=2&gt;\n",
       "<table id=\"table4626786512\" class=\"table-striped table-bordered table-condensed\">\n",
       "<thead><tr><th>id</th><th>ra</th><th>dec</th><th>gamma1</th><th>gamma2</th><th>z</th><th>z_pdf [34]</th><th>z_bins [34]</th></tr></thead>\n",
       "<thead><tr><th>int64</th><th>float64</th><th>float64</th><th>float64</th><th>float64</th><th>float64</th><th>float64</th><th>float64</th></tr></thead>\n",
       "<tr><td>0</td><td>0.23835016723420904</td><td>-0.06335902990930695</td><td>0.00619454849384011</td><td>0.003543716983582927</td><td>2.156515302067909</td><td>0.016723388489610858 .. 0.020399937218747183</td><td>1.656515302067909 .. 2.64651530206791</td></tr>\n",
       "<tr><td>1</td><td>-0.14430028653554777</td><td>0.17081220305922337</td><td>0.00106824869087619</td><td>-0.00630349934271347</td><td>1.1784312850926948</td><td>9.727493031469643e-05 .. 0.00014763945078423522</td><td>0.6784312850926948 .. 1.6684312850926957</td></tr>\n",
       "</table>"
      ],
      "text/plain": [
       "<Table length=2>\n",
       "  id           ra          ...               z_bins [34]               \n",
       "int64       float64        ...                 float64                 \n",
       "----- -------------------- ... ----------------------------------------\n",
       "    0  0.23835016723420904 ...    1.656515302067909 .. 2.64651530206791\n",
       "    1 -0.14430028653554777 ... 0.6784312850926948 .. 1.6684312850926957"
      ]
     },
     "execution_count": 15,
     "metadata": {},
     "output_type": "execute_result"
    }
   ],
   "source": [
    "noisy_data_z.catalog[0:2]"
   ]
  },
  {
   "cell_type": "code",
   "execution_count": 16,
   "metadata": {},
   "outputs": [
    {
     "data": {
      "image/png": "[encoded data removed]",
      "text/plain": [
       "<matplotlib.figure.Figure at 0x113c7c6d8>"
      ]
     },
     "metadata": {},
     "output_type": "display_data"
    }
   ],
   "source": [
    "# Histogram of the redshift distribution of bkg galaxies (starting at z_cluster + 0.1)\n",
    "hist = plt.hist(noisy_data_z.catalog['z'], bins=50)"
   ]
  },
  {
   "cell_type": "code",
   "execution_count": 17,
   "metadata": {},
   "outputs": [
    {
     "data": {
      "text/plain": [
       "[<matplotlib.lines.Line2D at 0x113d6d1d0>]"
      ]
     },
     "execution_count": 17,
     "metadata": {},
     "output_type": "execute_result"
    },
    {
     "data": {
      "image/png": "[encoded data removed]",
      "text/plain": [
       "<matplotlib.figure.Figure at 0x113e08a90>"
      ]
     },
     "metadata": {},
     "output_type": "display_data"
    }
   ],
   "source": [
    "# pdz for the first galaxy in the catalog\n",
    "plt.plot(noisy_data_z.catalog['z_bins'][0],noisy_data_z.catalog['z_pdf'][0])"
   ]
  },
  {
   "cell_type": "markdown",
   "metadata": {},
   "source": [
    "### Compute and plot shear profile"
   ]
  },
  {
   "cell_type": "code",
   "execution_count": 13,
   "metadata": {},
   "outputs": [
    {
     "ename": "ImportError",
     "evalue": "cannot import name 'ShearAzimuthalAverager'",
     "output_type": "error",
     "traceback": [
      "\u001b[0;31m---------------------------------------------------------------------------\u001b[0m",
      "\u001b[0;31mImportError\u001b[0m                               Traceback (most recent call last)",
      "\u001b[0;32m<ipython-input-13-2663bc0f00a2>\u001b[0m in \u001b[0;36m<module>\u001b[0;34m()\u001b[0m\n\u001b[0;32m----> 1\u001b[0;31m \u001b[0;32mfrom\u001b[0m \u001b[0mclmm\u001b[0m \u001b[0;32mimport\u001b[0m \u001b[0mShearAzimuthalAverager\u001b[0m\u001b[0;34m\u001b[0m\u001b[0m\n\u001b[0m",
      "\u001b[0;31mImportError\u001b[0m: cannot import name 'ShearAzimuthalAverager'"
     ]
    }
   ],
   "source": [
    "from clmm import ShearAzimuthalAverager"
   ]
  },
  {
   "cell_type": "code",
   "execution_count": null,
   "metadata": {
    "collapsed": true
   },
   "outputs": [],
   "source": [
    "cl_dict = {'z':config['cluster_z'], 'ra':0.0, 'dec': 0.0}\n",
    "\n",
    "saa_ideal = ShearAzimuthalAverager(cl_dict,ideal_data.catalog)\n",
    "saa_noisy = ShearAzimuthalAverager(cl_dict,noisy_data.catalog)\n",
    "saa_noisy_z = ShearAzimuthalAverager(cl_dict,noisy_data_z.catalog)\n",
    "\n",
    "\n",
    "saa_ideal.compute_shear()\n",
    "saa_noisy.compute_shear()\n",
    "saa_noisy_z.compute_shear()\n",
    "\n",
    "saa_ideal.make_shear_profile()\n",
    "saa_noisy.make_shear_profile()\n",
    "saa_noisy_z.make_shear_profile()"
   ]
  },
  {
   "cell_type": "code",
   "execution_count": null,
   "metadata": {
    "collapsed": true
   },
   "outputs": [],
   "source": [
    "# Ideal data\n",
    "saa_ideal.plot_profile()"
   ]
  },
  {
   "cell_type": "code",
   "execution_count": null,
   "metadata": {
    "collapsed": true
   },
   "outputs": [],
   "source": [
    "# Noisy data, all galaxies at the same redshift\n",
    "saa_noisy.plot_profile()"
   ]
  },
  {
   "cell_type": "code",
   "execution_count": null,
   "metadata": {
    "collapsed": true
   },
   "outputs": [],
   "source": [
    "# Noisy data, galaxies following redshift distribution\n",
    "saa_noisy_z.plot_profile()"
   ]
  },
  {
   "cell_type": "code",
   "execution_count": null,
   "metadata": {
    "collapsed": true
   },
   "outputs": [],
   "source": []
  }
 ],
 "metadata": {
  "anaconda-cloud": {},
  "kernelspec": {
   "display_name": "Python 3",
   "language": "python",
   "name": "python3"
  },
  "language_info": {
   "codemirror_mode": {
    "name": "ipython",
    "version": 3
   },
   "file_extension": ".py",
   "mimetype": "text/x-python",
   "name": "python",
   "nbconvert_exporter": "python",
   "pygments_lexer": "ipython3",
   "version": "3.6.3"
  }
 },
 "nbformat": 4,
 "nbformat_minor": 2
}
