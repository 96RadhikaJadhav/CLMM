{
 "cells": [
  {
   "cell_type": "markdown",
   "metadata": {},
   "source": [
    "# Application of a function unto the `GalaxyCluster` object\n",
    "\n",
    "Author: **Michel Aguena**\n",
    "\n",
    "### CLMM\n",
    "* **repo**: https://github.com/LSSTDESC/CLMM\n",
    "\n",
    "Example of how a generic function can be applyed to the `GalaxyCluster` object. It shows how things will work under the hood, i. e. how the `Manager` interacts with `GalaxyCluster` and `GCData`. The actual user will not have to make these explicit operations. "
   ]
  },
  {
   "cell_type": "markdown",
   "metadata": {},
   "source": [
    "### Steps\n",
    "import packages"
   ]
  },
  {
   "cell_type": "code",
   "execution_count": null,
   "metadata": {},
   "outputs": [],
   "source": [
    "import clmm\n",
    "from clmm import galaxycluster\n",
    "from clmm import core"
   ]
  },
  {
   "cell_type": "markdown",
   "metadata": {},
   "source": [
    "Create different `GCData` data to be added to `GalaxyCluster` object"
   ]
  },
  {
   "cell_type": "code",
   "execution_count": null,
   "metadata": {},
   "outputs": [],
   "source": [
    "# these data should be in a astropytabel format\n",
    "datas = [core.datatypes.GCData('native', {'type':'mass'}, 1e15),\\\n",
    "        core.datatypes.GCData('native', {'type':'redshift'}, 0.7),\\\n",
    "        core.datatypes.GCData('native', {'type':'concentration'}, 4),]"
   ]
  },
  {
   "cell_type": "markdown",
   "metadata": {},
   "source": [
    "Create a `GalaxyCluster` object (argument must be its name) and add the `GCData`"
   ]
  },
  {
   "cell_type": "code",
   "execution_count": null,
   "metadata": {},
   "outputs": [],
   "source": [
    "cl1 = galaxycluster.GalaxyCluster('testcl1')\n",
    "for d in datas:\n",
    "    cl1.add_data(d)"
   ]
  },
  {
   "cell_type": "markdown",
   "metadata": {},
   "source": [
    "Check what is inside `GalaxyCluster`"
   ]
  },
  {
   "cell_type": "code",
   "execution_count": null,
   "metadata": {},
   "outputs": [],
   "source": [
    "print(cl1)"
   ]
  },
  {
   "cell_type": "markdown",
   "metadata": {},
   "source": [
    "Import Manager"
   ]
  },
  {
   "cell_type": "code",
   "execution_count": null,
   "metadata": {},
   "outputs": [],
   "source": [
    "from clmm.core import manager\n",
    "manager = manager.Manager()"
   ]
  },
  {
   "cell_type": "markdown",
   "metadata": {},
   "source": [
    "Function to be appyed"
   ]
  },
  {
   "cell_type": "code",
   "execution_count": null,
   "metadata": {},
   "outputs": [],
   "source": [
    "def dummy_function(x, y=1):\n",
    "    return x+y"
   ]
  },
  {
   "cell_type": "markdown",
   "metadata": {},
   "source": [
    "*<<This a currently hack to have any external function inside the manager options.\n",
    "Ideally, the `Manager` would know what is the creator of the input data any function requires.>>*"
   ]
  },
  {
   "cell_type": "code",
   "execution_count": null,
   "metadata": {},
   "outputs": [],
   "source": [
    "manager.input_creators['dummy_function'] = 'native'"
   ]
  },
  {
   "cell_type": "markdown",
   "metadata": {},
   "source": [
    "Apply function and print `GalaxyCluster`"
   ]
  },
  {
   "cell_type": "code",
   "execution_count": null,
   "metadata": {},
   "outputs": [],
   "source": [
    "manager.apply(cl1, dummy_function, {'y':2}, {'type':'mass'})"
   ]
  },
  {
   "cell_type": "markdown",
   "metadata": {},
   "source": [
    "Check that `GalaxyCluster` now contains the result of the applyed function "
   ]
  },
  {
   "cell_type": "code",
   "execution_count": null,
   "metadata": {},
   "outputs": [],
   "source": [
    "print(cl1)"
   ]
  }
 ],
 "metadata": {
  "kernelspec": {
   "display_name": "desc-clmassmod",
   "language": "python",
   "name": "desc-clmassmod"
  },
  "language_info": {
   "codemirror_mode": {
    "name": "ipython",
    "version": 3
   },
   "file_extension": ".py",
   "mimetype": "text/x-python",
   "name": "python",
   "nbconvert_exporter": "python",
   "pygments_lexer": "ipython3",
   "version": "3.6.6"
  }
 },
 "nbformat": 4,
 "nbformat_minor": 2
}
