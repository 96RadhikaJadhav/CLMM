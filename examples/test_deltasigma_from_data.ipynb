{
 "cells": [
  {
   "cell_type": "code",
   "execution_count": 1,
   "metadata": {},
   "outputs": [],
   "source": [
    "import matplotlib.pyplot as plt\n",
    "import clmm\n",
    "from clmm.polaraveraging import compute_shear, compute_deltasigma, make_shear_profile, make_bins\n",
    "from clmm.plotting import plot_profiles\n",
    "from clmm.galaxycluster import GalaxyCluster\n",
    "import clmm.utils as u\n",
    "import sys\n",
    "sys.path.append('./support')\n",
    "import mock_data as mock"
   ]
  },
  {
   "cell_type": "code",
   "execution_count": 2,
   "metadata": {},
   "outputs": [],
   "source": [
    "from astropy.cosmology import FlatLambdaCDM\n",
    "mock_cosmo = FlatLambdaCDM(H0=70., Om0=0.3, Ob0=0.025)\n",
    "#clmm.modeling.cclify_astropy_cosmo(cosmoin)"
   ]
  },
  {
   "cell_type": "code",
   "execution_count": 51,
   "metadata": {},
   "outputs": [],
   "source": [
    "cosmo = mock_cosmo\n",
    "cluster_id = \"Awesome_cluster\"\n",
    "cluster_m = 1.e15\n",
    "cluster_z = 0.3\n",
    "concentration = 4\n",
    "ngals = 10000\n",
    "Delta = 200\n",
    "\n",
    "zsrc_min = cluster_z + 0.1 # we only want to draw background galaxies\n",
    "\n",
    "noisy_data_z = mock.generate_galaxy_catalog(cluster_m,\n",
    "                                            cluster_z,\n",
    "                                            concentration,\n",
    "                                            cosmo,\n",
    "                                            ngals,\n",
    "                                            Delta,\n",
    "                                            'chang13',\n",
    "                                            zsrc_min = zsrc_min,\n",
    "                                            shapenoise=0.05,\n",
    "                                            photoz_sigma_unscaled=0.05)"
   ]
  },
  {
   "cell_type": "code",
   "execution_count": 52,
   "metadata": {},
   "outputs": [],
   "source": [
    "cluster_ra = 0.0\n",
    "cluster_dec = 0.0\n",
    "cl = GalaxyCluster(cluster_id, cluster_ra, cluster_dec, \n",
    "                               cluster_z, noisy_data_z)"
   ]
  },
  {
   "cell_type": "code",
   "execution_count": 53,
   "metadata": {},
   "outputs": [],
   "source": [
    "cl.compute_deltasigma(cosmo=mock_cosmo,add_to_cluster=True);"
   ]
  },
  {
   "cell_type": "code",
   "execution_count": 54,
   "metadata": {},
   "outputs": [
    {
     "data": {
      "text/html": [
       "<i>Table length=10</i>\n",
       "<table id=\"table139895587527888\" class=\"table-striped table-bordered table-condensed\">\n",
       "<thead><tr><th>radius_min</th><th>radius</th><th>radius_max</th><th>DeltaSigmat</th><th>DeltaSigmat_err</th><th>DeltaSigmax</th><th>DeltaSigmax_err</th><th>z</th><th>z_err</th><th>n_src</th></tr></thead>\n",
       "<thead><tr><th>float64</th><th>float64</th><th>float64</th><th>float64</th><th>float64</th><th>float64</th><th>float64</th><th>float64</th><th>float64</th><th>int64</th></tr></thead>\n",
       "<tr><td>0.20000000000000004</td><td>0.24046646079906517</td><td>0.2698565695347127</td><td>412.1684993370479</td><td>67.91876154341595</td><td>-43.87636780875715</td><td>61.18058229991102</td><td>0.9650857538361001</td><td>0.09656704636564488</td><td>12</td></tr>\n",
       "<tr><td>0.2698565695347127</td><td>0.32517282495379385</td><td>0.3641128406052161</td><td>239.49150130811037</td><td>108.68503119613472</td><td>-33.57874084774002</td><td>80.59036052113643</td><td>1.0260780692849096</td><td>0.17287288169196285</td><td>12</td></tr>\n",
       "<tr><td>0.3641128406052161</td><td>0.4335505192396927</td><td>0.4912912104463162</td><td>379.75946138724726</td><td>39.89828430043639</td><td>42.83227190470784</td><td>38.575128474301536</td><td>1.1545209942391734</td><td>0.10041909497946819</td><td>22</td></tr>\n",
       "<tr><td>0.4912912104463162</td><td>0.5642870356685512</td><td>0.6628908034679974</td><td>327.8620672314407</td><td>30.671497076465183</td><td>8.405770995267973</td><td>28.950109306880805</td><td>1.3092167121578782</td><td>0.08719401820637561</td><td>55</td></tr>\n",
       "<tr><td>0.6628908034679974</td><td>0.7841901530516421</td><td>0.8944271909999161</td><td>262.23016587250135</td><td>23.224861956323593</td><td>7.708616510284347</td><td>19.983811410805828</td><td>1.2722905079163633</td><td>0.06029159668388987</td><td>101</td></tr>\n",
       "<tr><td>0.8944271909999161</td><td>1.064102135659806</td><td>1.2068352673090326</td><td>195.21422678887396</td><td>20.627157398391212</td><td>14.319865957322886</td><td>19.751650591344525</td><td>1.211892936102485</td><td>0.04841878170353615</td><td>158</td></tr>\n",
       "<tr><td>1.2068352673090326</td><td>1.44298808171266</td><td>1.6283621261476176</td><td>162.2521843774446</td><td>11.708514967982602</td><td>6.387223756854299</td><td>12.941605015755062</td><td>1.3035950419134272</td><td>0.04093685103901434</td><td>314</td></tr>\n",
       "<tr><td>1.6283621261476176</td><td>1.9182703151141745</td><td>2.1971210866122357</td><td>103.94437790040999</td><td>10.523012725073276</td><td>-0.4933681322842851</td><td>10.432608928499246</td><td>1.2664382522637136</td><td>0.030620525707392987</td><td>478</td></tr>\n",
       "<tr><td>2.1971210866122357</td><td>2.5993012464930363</td><td>2.964537796427791</td><td>103.354610568142</td><td>7.845482775899138</td><td>6.621666398694955</td><td>7.626137033333925</td><td>1.2776311068807293</td><td>0.023549169837938737</td><td>915</td></tr>\n",
       "<tr><td>2.964537796427791</td><td>3.4868828314287765</td><td>4.0</td><td>52.135661725566536</td><td>5.4689902658327325</td><td>-9.49714070427185</td><td>5.520426460037645</td><td>1.2931791792567262</td><td>0.017529278188944463</td><td>1731</td></tr>\n",
       "</table>"
      ],
      "text/plain": [
       "<Table length=10>\n",
       "     radius_min            radius       ...        z_err         n_src\n",
       "      float64             float64       ...       float64        int64\n",
       "------------------- ------------------- ... -------------------- -----\n",
       "0.20000000000000004 0.24046646079906517 ...  0.09656704636564488    12\n",
       " 0.2698565695347127 0.32517282495379385 ...  0.17287288169196285    12\n",
       " 0.3641128406052161  0.4335505192396927 ...  0.10041909497946819    22\n",
       " 0.4912912104463162  0.5642870356685512 ...  0.08719401820637561    55\n",
       " 0.6628908034679974  0.7841901530516421 ...  0.06029159668388987   101\n",
       " 0.8944271909999161   1.064102135659806 ...  0.04841878170353615   158\n",
       " 1.2068352673090326    1.44298808171266 ...  0.04093685103901434   314\n",
       " 1.6283621261476176  1.9182703151141745 ... 0.030620525707392987   478\n",
       " 2.1971210866122357  2.5993012464930363 ... 0.023549169837938737   915\n",
       "  2.964537796427791  3.4868828314287765 ... 0.017529278188944463  1731"
      ]
     },
     "execution_count": 54,
     "metadata": {},
     "output_type": "execute_result"
    }
   ],
   "source": [
    "bins = make_bins(0.2, 4, nbins=10, method='evenlog10width')\n",
    "cl.make_deltasigma_profile(\"radians\", \"Mpc\", bins=bins, cosmo=mock_cosmo)"
   ]
  },
  {
   "cell_type": "code",
   "execution_count": 55,
   "metadata": {},
   "outputs": [
    {
     "data": {
      "image/png": "[encoded data removed]",
      "text/plain": [
       "<Figure size 432x288 with 1 Axes>"
      ]
     },
     "metadata": {
      "needs_background": "light"
     },
     "output_type": "display_data"
    }
   ],
   "source": [
    "plt.errorbar(cl.DSprofile['radius'], cl.DSprofile['DeltaSigmat'],cl.DSprofile['DeltaSigmat_err'])\n",
    "plt.xscale('log')\n",
    "plt.yscale('log')"
   ]
  },
  {
   "cell_type": "code",
   "execution_count": null,
   "metadata": {},
   "outputs": [],
   "source": []
  },
  {
   "cell_type": "code",
   "execution_count": null,
   "metadata": {},
   "outputs": [],
   "source": []
  }
 ],
 "metadata": {
  "kernelspec": {
   "display_name": "desc-clmm",
   "language": "python",
   "name": "desc-clmm"
  },
  "language_info": {
   "codemirror_mode": {
    "name": "ipython",
    "version": 3
   },
   "file_extension": ".py",
   "mimetype": "text/x-python",
   "name": "python",
   "nbconvert_exporter": "python",
   "pygments_lexer": "ipython3",
   "version": "3.7.6"
  }
 },
 "nbformat": 4,
 "nbformat_minor": 4
}
