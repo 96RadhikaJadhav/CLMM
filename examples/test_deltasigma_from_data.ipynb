{
 "cells": [
  {
   "cell_type": "code",
   "execution_count": 65,
   "metadata": {},
   "outputs": [],
   "source": [
    "import matplotlib.pyplot as plt\n",
    "import clmm\n",
    "from clmm.polaraveraging import compute_shear, compute_deltasigma, make_shear_profile, make_bins\n",
    "from clmm.plotting import plot_profiles\n",
    "from clmm.galaxycluster import GalaxyCluster\n",
    "import clmm.utils as u\n",
    "import sys\n",
    "sys.path.append('./support')\n",
    "import mock_data as mock"
   ]
  },
  {
   "cell_type": "code",
   "execution_count": 66,
   "metadata": {},
   "outputs": [],
   "source": [
    "from astropy.cosmology import FlatLambdaCDM\n",
    "mock_cosmo = FlatLambdaCDM(H0=70., Om0=0.3, Ob0=0.025)"
   ]
  },
  {
   "cell_type": "code",
   "execution_count": 67,
   "metadata": {},
   "outputs": [],
   "source": [
    "cosmo = mock_cosmo\n",
    "cluster_id = \"Awesome_cluster\"\n",
    "cluster_m = 1.e15\n",
    "cluster_z = 0.3\n",
    "concentration = 4\n",
    "ngals = 10000\n",
    "Delta = 200\n",
    "\n",
    "zsrc_min = cluster_z + 0.1 # we only want to draw background galaxies\n",
    "\n",
    "noisy_data_z = mock.generate_galaxy_catalog(cluster_m,\n",
    "                                            cluster_z,\n",
    "                                            concentration,\n",
    "                                            cosmo,\n",
    "                                            ngals,\n",
    "                                            Delta,\n",
    "                                            'chang13',\n",
    "                                            zsrc_min = zsrc_min,\n",
    "                                            shapenoise=0.05,\n",
    "                                            photoz_sigma_unscaled=0.05)"
   ]
  },
  {
   "cell_type": "code",
   "execution_count": 68,
   "metadata": {},
   "outputs": [],
   "source": [
    "cluster_ra = 0.0\n",
    "cluster_dec = 0.0\n",
    "cl = GalaxyCluster(cluster_id, cluster_ra, cluster_dec, \n",
    "                               cluster_z, noisy_data_z)"
   ]
  },
  {
   "cell_type": "code",
   "execution_count": 69,
   "metadata": {},
   "outputs": [
    {
     "data": {
      "text/plain": [
       "['ra',\n",
       " 'dec',\n",
       " 'e1',\n",
       " 'e2',\n",
       " 'z',\n",
       " 'pzbins',\n",
       " 'pzpdf',\n",
       " 'id',\n",
       " 'theta',\n",
       " 'gt',\n",
       " 'gx',\n",
       " 'DeltaSigmat',\n",
       " 'DeltaSigmax',\n",
       " 'Sigmac']"
      ]
     },
     "execution_count": 69,
     "metadata": {},
     "output_type": "execute_result"
    }
   ],
   "source": [
    "cl.compute_deltasigma(cosmo=mock_cosmo,add_to_cluster=True);\n",
    "# Now there are 3 new columns: DeltaSigmat, DeltaSigmax, Sigmac\n",
    "# Units of DeltaSigma and Sigma_crit are h M_sun/pc2\n",
    "cl.galcat.keys()"
   ]
  },
  {
   "cell_type": "code",
   "execution_count": 70,
   "metadata": {},
   "outputs": [
    {
     "data": {
      "text/html": [
       "<i>Table length=10</i>\n",
       "<table id=\"table139895591416080\" class=\"table-striped table-bordered table-condensed\">\n",
       "<thead><tr><th>radius_min</th><th>radius</th><th>radius_max</th><th>DeltaSigmat</th><th>DeltaSigmat_err</th><th>DeltaSigmax</th><th>DeltaSigmax_err</th><th>z</th><th>z_err</th><th>n_src</th></tr></thead>\n",
       "<thead><tr><th>float64</th><th>float64</th><th>float64</th><th>float64</th><th>float64</th><th>float64</th><th>float64</th><th>float64</th><th>float64</th><th>int64</th></tr></thead>\n",
       "<tr><td>0.20000000000000004</td><td>0.2374249615670447</td><td>0.2698565695347127</td><td>520.8051868268678</td><td>89.28357366689545</td><td>-50.739110184579005</td><td>25.441202790330056</td><td>1.171027226030278</td><td>0.16230967874145816</td><td>4</td></tr>\n",
       "<tr><td>0.2698565695347127</td><td>0.310076702111927</td><td>0.3641128406052161</td><td>537.5985563007254</td><td>34.39866208938274</td><td>-23.947960743403094</td><td>64.86069358090457</td><td>1.7166368013995337</td><td>0.2282701174752844</td><td>13</td></tr>\n",
       "<tr><td>0.3641128406052161</td><td>0.43298369800842434</td><td>0.4912912104463162</td><td>387.49326512520804</td><td>41.199033069430904</td><td>-21.16559770198597</td><td>45.61943113094648</td><td>1.538487761108502</td><td>0.13525799635550922</td><td>23</td></tr>\n",
       "<tr><td>0.4912912104463162</td><td>0.5652324608591356</td><td>0.6628908034679974</td><td>287.7818551784952</td><td>28.35061707880647</td><td>2.8311923966465113</td><td>29.543658022376167</td><td>1.3139705014770682</td><td>0.09748488223907147</td><td>45</td></tr>\n",
       "<tr><td>0.6628908034679974</td><td>0.7847899661578838</td><td>0.8944271909999161</td><td>257.99551110588806</td><td>19.672001350961594</td><td>48.68442613807696</td><td>20.84029892756253</td><td>1.2785541115098145</td><td>0.07596201096953552</td><td>91</td></tr>\n",
       "<tr><td>0.8944271909999161</td><td>1.0551033948149198</td><td>1.2068352673090326</td><td>184.32373731851655</td><td>15.451084702290212</td><td>15.17647514829972</td><td>16.70514220229905</td><td>1.2178194256080164</td><td>0.059726264097044596</td><td>177</td></tr>\n",
       "<tr><td>1.2068352673090326</td><td>1.4296456774888664</td><td>1.6283621261476176</td><td>139.68660078659914</td><td>12.854759425978157</td><td>8.806173201740114</td><td>13.490579592369594</td><td>1.311913588169992</td><td>0.043857598518001056</td><td>268</td></tr>\n",
       "<tr><td>1.6283621261476176</td><td>1.921184763634533</td><td>2.1971210866122357</td><td>88.47356098856783</td><td>10.148071863707772</td><td>-8.78051647206458</td><td>10.757205111445389</td><td>1.2461338633446553</td><td>0.03074538223910361</td><td>497</td></tr>\n",
       "<tr><td>2.1971210866122357</td><td>2.589844724293986</td><td>2.964537796427791</td><td>77.32668721745755</td><td>7.775331801588771</td><td>-8.276873107551122</td><td>7.475061202819783</td><td>1.282163907039736</td><td>0.02321627429805366</td><td>940</td></tr>\n",
       "<tr><td>2.964537796427791</td><td>3.4989723006770412</td><td>4.0</td><td>45.237529407742095</td><td>5.5254573350508585</td><td>-4.817679986662438</td><td>5.448309474926073</td><td>1.2793367809383946</td><td>0.01737648615162355</td><td>1773</td></tr>\n",
       "</table>"
      ],
      "text/plain": [
       "<Table length=10>\n",
       "     radius_min            radius       ...        z_err         n_src\n",
       "      float64             float64       ...       float64        int64\n",
       "------------------- ------------------- ... -------------------- -----\n",
       "0.20000000000000004  0.2374249615670447 ...  0.16230967874145816     4\n",
       " 0.2698565695347127   0.310076702111927 ...   0.2282701174752844    13\n",
       " 0.3641128406052161 0.43298369800842434 ...  0.13525799635550922    23\n",
       " 0.4912912104463162  0.5652324608591356 ...  0.09748488223907147    45\n",
       " 0.6628908034679974  0.7847899661578838 ...  0.07596201096953552    91\n",
       " 0.8944271909999161  1.0551033948149198 ... 0.059726264097044596   177\n",
       " 1.2068352673090326  1.4296456774888664 ... 0.043857598518001056   268\n",
       " 1.6283621261476176   1.921184763634533 ...  0.03074538223910361   497\n",
       " 2.1971210866122357   2.589844724293986 ...  0.02321627429805366   940\n",
       "  2.964537796427791  3.4989723006770412 ...  0.01737648615162355  1773"
      ]
     },
     "execution_count": 70,
     "metadata": {},
     "output_type": "execute_result"
    }
   ],
   "source": [
    "bins = make_bins(0.2, 4, nbins=10, method='evenlog10width')\n",
    "cl.make_deltasigma_profile(\"radians\", \"Mpc\", bins=bins, cosmo=mock_cosmo);\n",
    "\n",
    "# the deltasigma binned profile is stored in a table called DSprofile\n",
    "cl.DSprofile"
   ]
  },
  {
   "cell_type": "code",
   "execution_count": 71,
   "metadata": {},
   "outputs": [
    {
     "data": {
      "text/plain": [
       "Text(0, 0.5, '$\\\\Delta\\\\Sigma$ $[h\\\\ M_\\\\odot\\\\ pc^{-2}]$ ')"
      ]
     },
     "execution_count": 71,
     "metadata": {},
     "output_type": "execute_result"
    },
    {
     "data": {
      "image/png": "[encoded data removed]",
      "text/plain": [
       "<Figure size 432x288 with 1 Axes>"
      ]
     },
     "metadata": {
      "needs_background": "light"
     },
     "output_type": "display_data"
    }
   ],
   "source": [
    "plt.errorbar(cl.DSprofile['radius'], cl.DSprofile['DeltaSigmat'],cl.DSprofile['DeltaSigmat_err'])\n",
    "plt.xscale('log')\n",
    "plt.yscale('log')\n",
    "plt.xlabel('R(Mpc)')\n",
    "plt.ylabel(r'$\\Delta\\Sigma$ $[h\\ M_\\odot\\ pc^{-2}]$ ')"
   ]
  },
  {
   "cell_type": "code",
   "execution_count": null,
   "metadata": {},
   "outputs": [],
   "source": []
  },
  {
   "cell_type": "code",
   "execution_count": null,
   "metadata": {},
   "outputs": [],
   "source": []
  }
 ],
 "metadata": {
  "kernelspec": {
   "display_name": "desc-clmm",
   "language": "python",
   "name": "desc-clmm"
  },
  "language_info": {
   "codemirror_mode": {
    "name": "ipython",
    "version": 3
   },
   "file_extension": ".py",
   "mimetype": "text/x-python",
   "name": "python",
   "nbconvert_exporter": "python",
   "pygments_lexer": "ipython3",
   "version": "3.7.6"
  }
 },
 "nbformat": 4,
 "nbformat_minor": 4
}
