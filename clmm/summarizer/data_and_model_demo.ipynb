{
 "cells": [
  {
   "cell_type": "code",
   "execution_count": 17,
   "metadata": {},
   "outputs": [],
   "source": [
    "import numpy as np\n",
    "import matplotlib.pyplot as plt\n",
    "from astropy.coordinates import SkyCoord\n",
    "from astropy.cosmology import FlatLambdaCDM\n",
    "from astropy.table import Table\n",
    "import GCRCatalogs\n",
    "from shear_azimuthal_averager import ShearAzimuthalAverager"
   ]
  },
  {
   "cell_type": "markdown",
   "metadata": {},
   "source": [
    "### Read in the extragalactic catalog\n",
    "- identify the most massive halo\n",
    "- create a cluster dictionary (ra, dec, z)"
   ]
  },
  {
   "cell_type": "code",
   "execution_count": 18,
   "metadata": {},
   "outputs": [
    {
     "name": "stdout",
     "output_type": "stream",
     "text": [
      "5.95589e+14 1.15419 2.20399 0.354081722946\n"
     ]
    },
    {
     "name": "stderr",
     "output_type": "stream",
     "text": [
      "/global/common/software/lsst/common/miniconda/py3-4.3.21-env/envs/clmassmod-nostack/lib/python3.6/site-packages/GCRCatalogs/alphaq.py:105: UserWarning: No md5 sum specified in the config file\n",
      "  warnings.warn('No md5 sum specified in the config file')\n"
     ]
    }
   ],
   "source": [
    "extragalactic_cat = GCRCatalogs.load_catalog('proto-dc2_v2.1.2_test')\n",
    "\n",
    "# get a massive halo!\n",
    "massive_halos = extragalactic_cat.get_quantities(['halo_mass', 'redshift','ra', 'dec'],\\\n",
    "                                                 filters=['halo_mass > 1e14','is_central==True'])\n",
    "\n",
    "m = massive_halos['halo_mass']\n",
    "select = (m == np.max(m))\n",
    "ra_cl = massive_halos['ra'][select][0]\n",
    "dec_cl = massive_halos['dec'][select][0]\n",
    "z_cl = massive_halos['redshift'][select][0]\n",
    "m_cl = m[select][0]\n",
    "print(m_cl, ra_cl, dec_cl, z_cl)\n",
    "\n",
    "# make a dictionary for cluster\n",
    "cl_dict = {'z':z_cl, 'ra':ra_cl, 'dec': dec_cl}\n"
   ]
  },
  {
   "cell_type": "markdown",
   "metadata": {},
   "source": [
    "### Apply coordinates and redshift cuts to select backgroud galaxies around the cluster"
   ]
  },
  {
   "cell_type": "code",
   "execution_count": 19,
   "metadata": {},
   "outputs": [],
   "source": [
    "# get galaxies around it\n",
    "ra_min, ra_max = ra_cl-0.3, ra_cl+0.3\n",
    "dec_min, dec_max = dec_cl-0.3, dec_cl+0.3\n",
    "z_min = z_cl + 0.1\n",
    "z_max = 1.5\n",
    "\n",
    "coord_filters = [\n",
    "    'ra >= {}'.format(ra_min),\n",
    "    'ra < {}'.format(ra_max),\n",
    "    'dec >= {}'.format(dec_min),\n",
    "    'dec < {}'.format(dec_max),\n",
    "]\n",
    "z_filters = ['redshift >= {}'.format(z_min),'redshift < {}'.format(z_max)]\n",
    "\n",
    "gal_cat = extragalactic_cat.get_quantities(['galaxy_id', 'ra', 'dec', 'shear_1', 'shear_2', 'shear_2_phosim', 'shear_2_treecorr',\\\n",
    "                                            'redshift', 'convergence'], filters=(coord_filters + z_filters))\n",
    "\n",
    "# store the results into an astropy table\n",
    "t = Table([gal_cat['galaxy_id'],gal_cat['ra'],gal_cat['dec'],gal_cat['shear_1'],\\\n",
    "          gal_cat['shear_2'],gal_cat['redshift'],gal_cat['convergence']], \\\n",
    "          names=('id','ra','dec', 'gamma1', 'gamma2', 'z', 'kappa'))\n"
   ]
  },
  {
   "cell_type": "markdown",
   "metadata": {},
   "source": [
    "### Computes the tangential and cross shear profiles"
   ]
  },
  {
   "cell_type": "markdown",
   "metadata": {},
   "source": [
    "#### Default binning"
   ]
  },
  {
   "cell_type": "code",
   "execution_count": 20,
   "metadata": {},
   "outputs": [
    {
     "data": {
      "image/png": "[encoded data removed]",
      "text/plain": [
       "<matplotlib.figure.Figure at 0x2afaf3caa978>"
      ]
     },
     "metadata": {},
     "output_type": "display_data"
    }
   ],
   "source": [
    "# create an object, given cluster dictionary and galaxy astropy table\n",
    "saa = ShearAzimuthalAverager(cl_dict,t)\n",
    "\n",
    "# compute tangential and cross shear for each galaxy\n",
    "saa.compute_shear()\n",
    "\n",
    "# make the binned profile\n",
    "binned_profile = saa.make_shear_profile()\n",
    "\n",
    "saa.plot_profile()   "
   ]
  },
  {
   "cell_type": "markdown",
   "metadata": {},
   "source": [
    "### Set up a model, using the Dallas group tools"
   ]
  },
  {
   "cell_type": "code",
   "execution_count": 21,
   "metadata": {},
   "outputs": [],
   "source": [
    "import sys\n",
    "sys.path.append('../models/')\n",
    "import CLMM_densityModels_beforeConvertFromPerH as clmm\n",
    "import numpy as np\n",
    "import colossus.cosmology.cosmology as Cosmology\n",
    "import matplotlib.pyplot as plt\n",
    "import time\n",
    "\n",
    "zL = z_cl\n",
    "chooseCosmology = 'WMAP7-ML' #Choose cosmology used\n",
    "cosmo = Cosmology.setCosmology(chooseCosmology)\n",
    "\n",
    "mdef = '200c'\n",
    "M = m_cl*cosmo.h\n",
    "c = 4.\n",
    "r = np.linspace(0.5, 3., 100) #Mpc\n",
    "r = r*cosmo.h #Mpc/h\n",
    "\n",
    "testProf= clmm.nfwProfile(M = M, c = c, zL = zL, mdef = mdef, \\\n",
    "                        chooseCosmology = chooseCosmology, esp = None)\n"
   ]
  },
  {
   "cell_type": "code",
   "execution_count": 22,
   "metadata": {},
   "outputs": [],
   "source": [
    "z_infty = 300\n",
    "zL_arr = np.zeros(len(t['z'])) + zL"
   ]
  },
  {
   "cell_type": "code",
   "execution_count": 23,
   "metadata": {},
   "outputs": [],
   "source": [
    "D_LS = (cosmo.comovingDistance(z_min=0.,z_max=t['z']) - cosmo.comovingDistance(z_min=0.,z_max=zL))/(1.+t['z'])\n",
    "D_Linfty = (cosmo.comovingDistance(z_min=0., z_max=z_infty) - cosmo.comovingDistance(z_min=0., z_max=zL))/(1.+z_infty)\n",
    "beta = D_LS * cosmo.angularDiameterDistance(z_infty)/cosmo.angularDiameterDistance(t['z'])/D_Linfty"
   ]
  },
  {
   "cell_type": "code",
   "execution_count": 24,
   "metadata": {},
   "outputs": [],
   "source": [
    "r_phys = binned_profile['radius']\n",
    "gt_mod = np.zeros(len(r_phys))\n",
    "\n",
    "for ir, r in enumerate(r_phys):\n",
    "    gamtest_infty= testProf.deltaSigma(np.array([r])*0.7)/testProf.Sc(z_infty)\n",
    "    kappa_infty =  testProf.Sigma(np.array([r])*0.7)/testProf.Sc(z_infty)\n",
    "    gt_mod[ir] = np.mean(beta * gamtest_infty/(1-beta*kappa_infty))"
   ]
  },
  {
   "cell_type": "code",
   "execution_count": 25,
   "metadata": {},
   "outputs": [
    {
     "data": {
      "text/plain": [
       "<Container object of 3 artists>"
      ]
     },
     "execution_count": 25,
     "metadata": {},
     "output_type": "execute_result"
    },
    {
     "data": {
      "image/png": "[encoded data removed]",
      "text/plain": [
       "<matplotlib.figure.Figure at 0x2afafb8b4eb8>"
      ]
     },
     "metadata": {},
     "output_type": "display_data"
    }
   ],
   "source": [
    "plt.plot(r_phys, gt_mod)\n",
    "plt.errorbar(r_phys, binned_profile['g_t'], yerr=binned_profile['g_t_err'])\n"
   ]
  },
  {
   "cell_type": "code",
   "execution_count": null,
   "metadata": {},
   "outputs": [],
   "source": []
  }
 ],
 "metadata": {
  "kernelspec": {
   "display_name": "desc-clmassmod",
   "language": "python",
   "name": "desc-clmassmod"
  },
  "language_info": {
   "codemirror_mode": {
    "name": "ipython",
    "version": 3
   },
   "file_extension": ".py",
   "mimetype": "text/x-python",
   "name": "python",
   "nbconvert_exporter": "python",
   "pygments_lexer": "ipython3",
   "version": "3.6.2"
  }
 },
 "nbformat": 4,
 "nbformat_minor": 2
}
