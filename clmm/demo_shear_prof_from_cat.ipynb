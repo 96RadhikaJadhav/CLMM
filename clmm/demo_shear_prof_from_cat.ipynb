{
 "cells": [
  {
   "cell_type": "code",
   "execution_count": 72,
   "metadata": {},
   "outputs": [],
   "source": [
    "import numpy as np\n",
    "import matplotlib.pyplot as plt\n",
    "from astropy.coordinates import SkyCoord\n",
    "from astropy.cosmology import FlatLambdaCDM\n",
    "import FoFCatalogMatching\n",
    "import GCRCatalogs"
   ]
  },
  {
   "cell_type": "code",
   "execution_count": 253,
   "metadata": {},
   "outputs": [
    {
     "name": "stderr",
     "output_type": "stream",
     "text": [
      "/global/common/software/lsst/common/miniconda/py3-4.3.21-env/envs/clmassmod-nostack/lib/python3.6/site-packages/GCRCatalogs/alphaq.py:105: UserWarning: No md5 sum specified in the config file\n",
      "  warnings.warn('No md5 sum specified in the config file')\n"
     ]
    },
    {
     "name": "stdout",
     "output_type": "stream",
     "text": [
      "[  5.95588752e+14] 1.15419 2.20399 0.354081722946\n"
     ]
    }
   ],
   "source": [
    "# Getting the most massive halo from the catalog\n",
    "extragalactic_cat = GCRCatalogs.load_catalog('proto-dc2_v2.1.2_test')\n",
    "massive_halos = extragalactic_cat.get_quantities(['halo_mass', 'redshift','ra', 'dec'], filters=['halo_mass > 1e14','is_central==True'])\n",
    "\n",
    "m = massive_halos['halo_mass']\n",
    "select = (m == np.max(m))\n",
    "ra_cl = massive_halos['ra'][select][0]\n",
    "dec_cl = massive_halos['dec'][select][0]\n",
    "z_cl = massive_halos['redshift'][select][0]\n",
    "print(m[select], ra_cl, dec_cl, z_cl)"
   ]
  },
  {
   "cell_type": "code",
   "execution_count": 254,
   "metadata": {},
   "outputs": [],
   "source": [
    "ra_min, ra_max = ra_cl-0.1, ra_cl+0.1\n",
    "dec_min, dec_max = dec_cl-0.1, dec_cl+0.1\n",
    "z_min = z_cl + 0.1\n",
    "z_max = 1.5\n",
    "\n",
    "coord_filters = [\n",
    "    'ra >= {}'.format(ra_min),\n",
    "    'ra < {}'.format(ra_max),\n",
    "    'dec >= {}'.format(dec_min),\n",
    "    'dec < {}'.format(dec_max),\n",
    "]\n",
    "z_filters = ['redshift >= {}'.format(z_min),'redshift < {}'.format(z_max)]\n",
    "gal_cat = extragalactic_cat.get_quantities(['ra', 'dec', 'shear_1', 'shear_2', 'shear_2_phosim', 'shear_2_treecorr','redshift'], filters=(coord_filters + z_filters))\n",
    "\n"
   ]
  },
  {
   "cell_type": "code",
   "execution_count": 255,
   "metadata": {},
   "outputs": [],
   "source": [
    "#coadd_cat = GCRCatalogs.load_catalog('dc2_coadd_run1.1p')\n",
    "#coadd_gal_cat = extragalactic_cat.get_quantities(['ra', 'dec', '', 'shear2', 'redshift'], filters=coord_filters)\n"
   ]
  },
  {
   "cell_type": "code",
   "execution_count": null,
   "metadata": {},
   "outputs": [],
   "source": []
  },
  {
   "cell_type": "code",
   "execution_count": 256,
   "metadata": {},
   "outputs": [
    {
     "data": {
      "image/png": "[encoded data removed]",
      "text/plain": [
       "<matplotlib.figure.Figure at 0x2b9a1fdc59e8>"
      ]
     },
     "metadata": {},
     "output_type": "display_data"
    }
   ],
   "source": [
    "ra = gal_cat['ra']\n",
    "dec = gal_cat['dec']\n",
    "shear1 = gal_cat['shear_1']\n",
    "shear2 = gal_cat['shear_2']\n",
    "z = gal_cat['redshift']\n",
    "tmp = plt.hist(shear1, bins=50)\n",
    "\n"
   ]
  },
  {
   "cell_type": "code",
   "execution_count": 257,
   "metadata": {},
   "outputs": [
    {
     "data": {
      "text/plain": [
       "<matplotlib.collections.PathCollection at 0x2b9a179bdc18>"
      ]
     },
     "execution_count": 257,
     "metadata": {},
     "output_type": "execute_result"
    },
    {
     "data": {
      "image/png": "[encoded data removed]",
      "text/plain": [
       "<matplotlib.figure.Figure at 0x2b9a207866d8>"
      ]
     },
     "metadata": {},
     "output_type": "display_data"
    }
   ],
   "source": [
    "plt.scatter(shear1, shear2, marker='+')"
   ]
  },
  {
   "cell_type": "code",
   "execution_count": 258,
   "metadata": {},
   "outputs": [
    {
     "name": "stdout",
     "output_type": "stream",
     "text": [
      "18253 18253\n",
      "[ 85.19184875  65.32835388  85.04910278 ...,  54.02383423  62.08194351\n",
      "  29.24395561]\n"
     ]
    }
   ],
   "source": [
    "phi = np.arctan2(dec-dec_cl, ra-ra_cl)\n",
    "print(len(phi), len(shear1))\n",
    "gamt = - (shear1 * np.cos(2.0 * phi) - shear2 * np.sin(2.0 * phi))\n",
    "gamc = - shear1 * np.sin(2.0 * phi) + shear2 * np.cos(2.0 * phi)\n",
    "print(phi*180./np.pi)"
   ]
  },
  {
   "cell_type": "code",
   "execution_count": 259,
   "metadata": {},
   "outputs": [],
   "source": [
    "theta = np.sqrt((ra-ra_cl)**2+(dec-dec_cl)**2)*np.pi/180.\n",
    "cosmo = FlatLambdaCDM(H0=70, Om0=0.3)\n",
    "phys_dist = theta * cosmo.angular_diameter_distance(z).value\n"
   ]
  },
  {
   "cell_type": "code",
   "execution_count": 260,
   "metadata": {},
   "outputs": [
    {
     "data": {
      "text/plain": [
       "(array([   4.,   17.,   47.,   50.,   41.,   55.,   86.,  103.,  127.,\n",
       "         175.,  181.,  238.,  281.,  381.,  415.,  432.,  451.,  529.,\n",
       "         479.,  536.,  566.,  563.,  500.,  594.,  659.,  746.,  782.,\n",
       "         795.,  816.,  743.,  684.,  663.,  659.,  662.,  650.,  547.,\n",
       "         516.,  525.,  434.,  372.,  343.,  274.,  156.,  144.,   93.,\n",
       "          52.,   29.,   31.,   13.,   14.]),\n",
       " array([ 0.01611452,  0.09366621,  0.17121791,  0.2487696 ,  0.32632129,\n",
       "         0.40387298,  0.48142468,  0.55897637,  0.63652806,  0.71407976,\n",
       "         0.79163145,  0.86918314,  0.94673483,  1.02428653,  1.10183822,\n",
       "         1.17938991,  1.25694161,  1.3344933 ,  1.41204499,  1.48959669,\n",
       "         1.56714838,  1.64470007,  1.72225176,  1.79980346,  1.87735515,\n",
       "         1.95490684,  2.03245854,  2.11001023,  2.18756192,  2.26511361,\n",
       "         2.34266531,  2.420217  ,  2.49776869,  2.57532039,  2.65287208,\n",
       "         2.73042377,  2.80797546,  2.88552716,  2.96307885,  3.04063054,\n",
       "         3.11818224,  3.19573393,  3.27328562,  3.35083731,  3.42838901,\n",
       "         3.5059407 ,  3.58349239,  3.66104409,  3.73859578,  3.81614747,\n",
       "         3.89369917]),\n",
       " <a list of 50 Patch objects>)"
      ]
     },
     "execution_count": 260,
     "metadata": {},
     "output_type": "execute_result"
    },
    {
     "data": {
      "image/png": "[encoded data removed]",
      "text/plain": [
       "<matplotlib.figure.Figure at 0x2b9a15055160>"
      ]
     },
     "metadata": {},
     "output_type": "display_data"
    }
   ],
   "source": [
    "plt.hist(phys_dist, bins=50)"
   ]
  },
  {
   "cell_type": "code",
   "execution_count": null,
   "metadata": {},
   "outputs": [],
   "source": []
  },
  {
   "cell_type": "raw",
   "metadata": {},
   "source": [
    "plt.hist(z)"
   ]
  },
  {
   "cell_type": "code",
   "execution_count": 261,
   "metadata": {},
   "outputs": [
    {
     "name": "stdout",
     "output_type": "stream",
     "text": [
      "0.0413462 695\n",
      "0.0373569 1286\n",
      "0.0344281 1571\n",
      "0.0313234 1780\n",
      "0.0221509 1983\n",
      "0.0183948 2583\n",
      "0.0172684 2249\n",
      "0.0143182 2111\n",
      "0.0124074 1654\n"
     ]
    }
   ],
   "source": [
    "#lnr_arr = np.linspace(np.log(0.5), np.log(3), 10)\n",
    "r_arr = np.linspace(0.75,3,10)#np.exp(lnr_arr)\n",
    "nr = len(r_arr)-1\n",
    "rmean_arr = np.zeros(nr)\n",
    "gamt_arr = np.zeros(nr)\n",
    "gamt_err_arr = np.zeros(nr)\n",
    "gamc_arr = np.zeros(nr)\n",
    "for ir in range(nr):\n",
    "    r_min = r_arr[ir]\n",
    "    r_max = r_arr[ir+1]\n",
    "    select = (phys_dist >= r_min) & (phys_dist < r_max)\n",
    "    rmean_arr[ir] = np.mean(phys_dist[select])\n",
    "    print(np.mean(gamt[select]), len(gamt[select]))\n",
    "    gamt_arr[ir] = np.mean(gamt[select])\n",
    "    gamt_err_arr[ir] = np.std(gamt[select])\n",
    "    gamc_arr[ir] = np.mean(gamc[select])"
   ]
  },
  {
   "cell_type": "code",
   "execution_count": 262,
   "metadata": {},
   "outputs": [
    {
     "data": {
      "text/plain": [
       "<Container object of 3 artists>"
      ]
     },
     "execution_count": 262,
     "metadata": {},
     "output_type": "execute_result"
    },
    {
     "data": {
      "image/png": "[encoded data removed]",
      "text/plain": [
       "<matplotlib.figure.Figure at 0x2b9a1e7815c0>"
      ]
     },
     "metadata": {},
     "output_type": "display_data"
    }
   ],
   "source": [
    "plt.errorbar(rmean_arr, gamt_arr, yerr=gamt_err_arr)\n",
    "plt.errorbar(rmean_arr, gamc_arr, yerr=gamt_err_arr)\n",
    "#plt.xscale('log')\n",
    "#plt.yscale('log')"
   ]
  },
  {
   "cell_type": "code",
   "execution_count": 243,
   "metadata": {},
   "outputs": [
    {
     "data": {
      "text/plain": [
       "(array([   4.,    7.,   17.,   24.,   42.,   81.,  144.,  194.,  187.,\n",
       "         170.,   58.,   45.,   38.,   38.,   78.,  124.,  101.,   66.,\n",
       "         104.,   88.,   60.,   58.,   59.,   63.,   57.,   62.,   77.,\n",
       "          51.,   30.,   15.]),\n",
       " array([ -3.09488960e-02,  -2.90142272e-02,  -2.70795585e-02,\n",
       "         -2.51448898e-02,  -2.32102210e-02,  -2.12755523e-02,\n",
       "         -1.93408836e-02,  -1.74062148e-02,  -1.54715461e-02,\n",
       "         -1.35368774e-02,  -1.16022086e-02,  -9.66753991e-03,\n",
       "         -7.73287117e-03,  -5.79820244e-03,  -3.86353371e-03,\n",
       "         -1.92886498e-03,   5.80375393e-06,   1.94047249e-03,\n",
       "          3.87514122e-03,   5.80980995e-03,   7.74447868e-03,\n",
       "          9.67914741e-03,   1.16138161e-02,   1.35484849e-02,\n",
       "          1.54831536e-02,   1.74178223e-02,   1.93524911e-02,\n",
       "          2.12871598e-02,   2.32218285e-02,   2.51564973e-02,\n",
       "          2.70911660e-02]),\n",
       " <a list of 30 Patch objects>)"
      ]
     },
     "execution_count": 243,
     "metadata": {},
     "output_type": "execute_result"
    },
    {
     "data": {
      "image/png": "[encoded data removed]",
      "text/plain": [
       "<matplotlib.figure.Figure at 0x2b9a0dda6588>"
      ]
     },
     "metadata": {},
     "output_type": "display_data"
    }
   ],
   "source": [
    "plt.hist(gamt[select], bins=30)                          "
   ]
  },
  {
   "cell_type": "code",
   "execution_count": null,
   "metadata": {},
   "outputs": [],
   "source": []
  }
 ],
 "metadata": {
  "kernelspec": {
   "display_name": "desc-clmassmod",
   "language": "python",
   "name": "desc-clmassmod"
  },
  "language_info": {
   "codemirror_mode": {
    "name": "ipython",
    "version": 3
   },
   "file_extension": ".py",
   "mimetype": "text/x-python",
   "name": "python",
   "nbconvert_exporter": "python",
   "pygments_lexer": "ipython3",
   "version": "3.6.2"
  }
 },
 "nbformat": 4,
 "nbformat_minor": 2
}
